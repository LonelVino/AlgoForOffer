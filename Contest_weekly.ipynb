{
 "cells": [
  {
   "cell_type": "markdown",
   "id": "herbal-circulation",
   "metadata": {},
   "source": [
    "## 229 周赛\n",
    "\n",
    "### 1768. 交替合并字符串\n",
    "\n",
    "给你两个字符串 word1 和 word2 。请你从 word1 开始，通过交替添加字母来合并字符串。如果一个字符串比另一个字符串长，就将多出来的字母追加到合并后字符串的末尾。\n",
    "\n",
    "返回 合并后的字符串 \n",
    "\n",
    "示例 1：\n",
    "```\n",
    "输入：word1 = \"abc\", word2 = \"pqr\"\n",
    "输出：\"apbqcr\"\n",
    "解释：字符串合并情况如下所示：\n",
    "word1：  a   b   c\n",
    "word2：    p   q   r\n",
    "合并后：  a p b q c r\n",
    "\n",
    "```\n",
    "\n",
    "示例 2：\n",
    "```\n",
    "输入：word1 = \"ab\", word2 = \"pqrs\"\n",
    "输出：\"apbqrs\"\n",
    "解释：注意，word2 比 word1 长，\"rs\" 需要追加到合并后字符串的末尾。\n",
    "word1：  a   b \n",
    "word2：    p   q   r   s\n",
    "合并后：  a p b q   r   s\n",
    "```\n",
    "\n",
    "示例 3：\n",
    "```\n",
    "输入：word1 = \"abcd\", word2 = \"pq\"\n",
    "输出：\"apbqcd\"\n",
    "解释：注意，word1 比 word2 长，\"cd\" 需要追加到合并后字符串的末尾。\n",
    "word1：  a   b   c   d\n",
    "word2：    p   q \n",
    "合并后：  a p b q c   d\n",
    "```"
   ]
  },
  {
   "cell_type": "code",
   "execution_count": 1,
   "id": "faced-width",
   "metadata": {},
   "outputs": [],
   "source": [
    "class Solution:\n",
    "    def mergeAlternately(self, word1: str, word2: str) -> str:\n",
    "        min_len = min(len(word1), len(word2))\n",
    "        res = ''\n",
    "        for i in range(min_len):\n",
    "            res += (word1[i] + word2[i])\n",
    "        res += word1[min_len:len(word1)] if len(word1)>len(word2) else word2[min_len:len(word2)]\n",
    "        return res"
   ]
  },
  {
   "cell_type": "code",
   "execution_count": 4,
   "id": "driven-lawrence",
   "metadata": {},
   "outputs": [
    {
     "name": "stdout",
     "output_type": "stream",
     "text": [
      "apbqrs\n"
     ]
    }
   ],
   "source": [
    "# word1 = \"abc\"\n",
    "# word2 = \"pqr\"  # \"apbqcr\"\n",
    "\n",
    "word1 = \"ab\"\n",
    "word2 = \"pqrs\"   # \"apbqrs\"\n",
    "ss = Solution()\n",
    "o = ss.mergeAlternately(word1, word2)\n",
    "print(o)"
   ]
  },
  {
   "cell_type": "markdown",
   "id": "graduate-police",
   "metadata": {},
   "source": [
    "### 1769. 移动所有球到每个盒子所需的最小操作数\n",
    "\n",
    "有 `n` 个盒子。给你一个长度为 `n `的二进制字符串 `boxes` ，其中 `boxes[i]` 的值为 '0' 表示第 `i` 个盒子是 空 的，而 boxes[i] 的值为 '1' 表示盒子里有 一个 小球。\n",
    "\n",
    "在一步操作中，你可以将 一个 小球从某个盒子移动到一个与之相邻的盒子中。第 `i` 个盒子和第 `j` 个盒子相邻需满足 `abs(i - j) == 1` 。注意，操作执行后，某些盒子中可能会存在不止一个小球。\n",
    "\n",
    "返回一个长度为 `n ` 的数组 `answer` ，其中 `answer[i]` 是将所有小球移动到第 `i` 个盒子所需的 最小 操作数。\n",
    "\n",
    "每个 `answer[i]` 都需要根据盒子的 初始状态 进行计算。"
   ]
  },
  {
   "cell_type": "markdown",
   "id": "outdoor-strand",
   "metadata": {},
   "source": [
    "示例 1：\n",
    "```\n",
    "输入：boxes = \"110\"\n",
    "输出：[1,1,3]\n",
    "解释：每个盒子对应的最小操作数如下：\n",
    "1) 第 1 个盒子：将一个小球从第 2 个盒子移动到第 1 个盒子，需要 1 步操作。\n",
    "2) 第 2 个盒子：将一个小球从第 1 个盒子移动到第 2 个盒子，需要 1 步操作。\n",
    "3) 第 3 个盒子：将一个小球从第 1 个盒子移动到第 3 个盒子，需要 2 步操作。将一个小球从第 2 个盒子移动到第 3 个盒子，需要 1 步操作。共计 3 步操作。\n",
    "```\n",
    "示例 2：\n",
    "```\n",
    "输入：boxes = \"001011\"\n",
    "输出：[11,8,5,4,3,4]\n",
    " ```\n",
    "\n",
    "提示：\n",
    "\n",
    "- n == boxes.length\n",
    "- 1 <= n <= 2000\n",
    "- boxes[i] 为 '0' 或 '1'"
   ]
  },
  {
   "cell_type": "markdown",
   "id": "junior-costs",
   "metadata": {},
   "source": [
    "#### 动态规划\n",
    "`dp[i]` 代表第 i 个盒子的 minOperations\n",
    "\n",
    "- 先求第 0 个盒子，同时记录当前及其右边的 1 的数量\n",
    "- 然后依次求boxes[1] 到 boxes[n]，所需要的minOperations\n",
    "- **重点：每次向右移动的时候，`dp[j]` 会比 `dp[j-1]` 的 minOperations 减少 `right` 个， 增加`left`个**\n",
    "- 在从`boxes[i-1]` 移动到`boxes[i]`的时候，`left+= 1`, `right` -= 1\n",
    "- 最终：`dp[j] = dp[j-1] - right + left`\n",
    "\n",
    "比如 boxes = '1011'，\n",
    "\n",
    "在 index = 0 处，dp[0] = 5, right = 3（包括当前 index = 0 处的 1）\n",
    "\n",
    "在 index = 1 处，left = 1, right = 2, dp[1] = dp[0] - right + left = 4"
   ]
  },
  {
   "cell_type": "code",
   "execution_count": 11,
   "id": "retired-tribute",
   "metadata": {},
   "outputs": [],
   "source": [
    "from typing import List \n",
    "\n",
    "class Solution:\n",
    "    def minOperations(self, boxes: str) -> List[int]:\n",
    "        res = [0] * len(boxes)\n",
    "        \n",
    "        right = 0\n",
    "        for i in range(len(boxes)):\n",
    "            if boxes[i] == '1':\n",
    "                right += 1\n",
    "                res[0] += i\n",
    "        \n",
    "        left = 0\n",
    "        for i in range(1, len(boxes)):\n",
    "            if boxes[i-1] == '1':\n",
    "                left += 1\n",
    "                right -= 1\n",
    "            res[i] = res[i-1] - right + left\n",
    "            \n",
    "        return res"
   ]
  },
  {
   "cell_type": "code",
   "execution_count": 12,
   "id": "sealed-poker",
   "metadata": {},
   "outputs": [
    {
     "name": "stdout",
     "output_type": "stream",
     "text": [
      "[11, 8, 5, 4, 3, 4]\n"
     ]
    }
   ],
   "source": [
    "ss = Solution()\n",
    "# boxes = \"110\"   # [1,1,3]\n",
    "boxes = \"001011\"    # [11,8,5,4,3,4]\n",
    "o = ss.minOperations(boxes)\n",
    "print(o)"
   ]
  },
  {
   "cell_type": "markdown",
   "id": "periodic-sphere",
   "metadata": {},
   "source": [
    "### 1770. 执行乘法运算的最大分数\n",
    "给你两个长度分别 `n` 和 `m` 的整数数组 `nums` 和 `multipliers` ，其中 `n >= m` ，数组下标 从 1 开始 计数。\n",
    "\n",
    "初始时，你的分数为 0 。你需要执行恰好 `m`步操作。在第 `i` 步操作（从 1 开始 计数）中，需要：\n",
    "\n",
    "选择数组 `nums` 开头处或者末尾处 的整数 `x` 。\n",
    "你获得 `multipliers[i] * x` 分，并累加到你的分数中。\n",
    "将 `x` 从数组 `nums` 中移除。\n",
    "在执行 `m` 步操作后，返回 最大 分数。\n"
   ]
  },
  {
   "cell_type": "markdown",
   "id": "random-killer",
   "metadata": {},
   "source": [
    "示例 1：\n",
    "```\n",
    "输入：nums = [1,2,3], multipliers = [3,2,1]\n",
    "输出：14\n",
    "解释：一种最优解决方案如下：\n",
    "- 选择末尾处的整数 3 ，[1,2,3] ，得 3 * 3 = 9 分，累加到分数中。\n",
    "- 选择末尾处的整数 2 ，[1,2] ，得 2 * 2 = 4 分，累加到分数中。\n",
    "- 选择末尾处的整数 1 ，[1] ，得 1 * 1 = 1 分，累加到分数中。\n",
    "总分数为 9 + 4 + 1 = 14 。\n",
    "```\n",
    "示例 2：\n",
    "```\n",
    "输入：nums = [-5,-3,-3,-2,7,1], multipliers = [-10,-5,3,4,6]\n",
    "输出：102\n",
    "解释：一种最优解决方案如下：\n",
    "- 选择开头处的整数 -5 ，[-5,-3,-3,-2,7,1] ，得 -5 * -10 = 50 分，累加到分数中。\n",
    "- 选择开头处的整数 -3 ，[-3,-3,-2,7,1] ，得 -3 * -5 = 15 分，累加到分数中。\n",
    "- 选择开头处的整数 -3 ，[-3,-2,7,1] ，得 -3 * 3 = -9 分，累加到分数中。\n",
    "- 选择末尾处的整数 1 ，[-2,7,1] ，得 1 * 4 = 4 分，累加到分数中。\n",
    "- 选择末尾处的整数 7 ，[-2,7] ，得 7 * 6 = 42 分，累加到分数中。\n",
    "总分数为 50 + 15 - 9 + 4 + 42 = 102 。\n",
    " ```\n",
    "\n",
    "提示：\n",
    "\n",
    "- n == nums.length\n",
    "- m == multipliers.length\n",
    "- 1 <= m <= 103\n",
    "- m <= n <= 105\n",
    "- -1000 <= nums[i], multipliers[i] <= 1000"
   ]
  },
  {
   "cell_type": "markdown",
   "id": "eleven-settlement",
   "metadata": {},
   "source": [
    "### 5689. 统计匹配检索规则的物品数量\n",
    "\n",
    "给你一个数组 items ，其中 items[i] = [typei, colori, namei] ，描述第 i 件物品的类型、颜色以及名称。\n",
    "\n",
    "另给你一条由两个字符串 ruleKey 和 ruleValue 表示的检索规则\n",
    "\n",
    "如果第 i 件物品能满足下述条件之一，则认为该物品与给定的检索规则 匹配 ：\n",
    "\n",
    " - ruleKey == \"type\" 且 ruleValue == typei 。\n",
    " - ruleKey == \"color\" 且 ruleValue == colori 。\n",
    " - ruleKey == \"name\" 且 ruleValue == namei 。\n",
    " \n",
    "统计并返回 匹配检索规则的物品数量 。\n",
    "\n",
    "\n"
   ]
  },
  {
   "cell_type": "markdown",
   "id": "typical-electric",
   "metadata": {},
   "source": [
    "示例 1：\n",
    "```\n",
    "输入：items = [[\"phone\",\"blue\",\"pixel\"],[\"computer\",\"silver\",\"lenovo\"],[\"phone\",\"gold\",\"iphone\"]], ruleKey = \"color\", ruleValue = \"silver\"\n",
    "输出：1\n",
    "解释：只有一件物品匹配检索规则，这件物品是 [\"computer\",\"silver\",\"lenovo\"] 。\n",
    "```\n",
    "示例 2：\n",
    "```\n",
    "输入：items = [[\"phone\",\"blue\",\"pixel\"],[\"computer\",\"silver\",\"phone\"],[\"phone\",\"gold\",\"iphone\"]], ruleKey = \"type\", ruleValue = \"phone\"\n",
    "输出：2\n",
    "解释：只有两件物品匹配检索规则，这两件物品分别是 [\"phone\",\"blue\",\"pixel\"] 和 [\"phone\",\"gold\",\"iphone\"] 。注意，[\"computer\",\"silver\",\"phone\"] 未匹配检索规则。\n",
    "```\n",
    "\n",
    "提示：\n",
    "\n",
    "- 1 <= items.length <= 104\n",
    "- 1 <= typei.length, colori.length, namei.length, ruleValue.length <= 10\n",
    "- ruleKey 等于 \"type\"、\"color\" 或 \"name\"\n",
    "- 所有字符串仅由小写字母组成"
   ]
  },
  {
   "cell_type": "code",
   "execution_count": null,
   "id": "logical-consultation",
   "metadata": {},
   "outputs": [],
   "source": [
    "from typing import List \n",
    "\n",
    "class Solution:\n",
    "    def countMatches(self, items: List[List[str]], ruleKey: str, ruleValue: str) -> int\n",
    "        res = 0\n",
    "        flg = 0\n",
    "        if ruleKey == 'color':\n",
    "            flg = 1\n",
    "        elif ruleKey == 'name':\n",
    "            flg = 2\n",
    "        for i in items:\n",
    "            if i[flg] == ruleValue:\n",
    "                res += 1\n",
    "        return res"
   ]
  },
  {
   "cell_type": "markdown",
   "id": "elegant-contrast",
   "metadata": {},
   "source": [
    "### 5690. 最接近目标价格的甜点成本\n",
    "你打算做甜点，现在需要购买配料。目前共有 `n` 种冰激凌基料和 `m` 种配料可供选购。而制作甜点需要遵循以下几条规则：\n",
    "\n",
    "- 必须选择 一种 冰激凌基料。\n",
    "- 可以添加 一种或多种 配料，也可以不添加任何配料。\n",
    "- 每种类型的配料 最多两份 。\n",
    "\n",
    "给你以下三个输入：\n",
    "\n",
    "- baseCosts ，一个长度为 n 的整数数组，其中每个 baseCosts[i] 表示第 i 种冰激凌基料的价格。\n",
    "- toppingCosts，一个长度为 m 的整数数组，其中每个 toppingCosts[i] 表示 一份 第 i 种冰激凌配料的价格。\n",
    "- target ，一个整数，表示你制作甜点的目标价格。\n",
    "\n",
    "你希望自己做的甜点总成本尽可能接近目标价格 target 。\n",
    "\n",
    "返回最接近 target 的甜点成本。如果有多种方案，返回 成本相对较低 的一种。"
   ]
  },
  {
   "cell_type": "markdown",
   "id": "technological-attitude",
   "metadata": {},
   "source": [
    "示例 1：\n",
    "```\n",
    "输入：baseCosts = [1,7], toppingCosts = [3,4], target = 10\n",
    "输出：10\n",
    "解释：考虑下面的方案组合（所有下标均从 0 开始）：\n",
    "- 选择 1 号基料：成本 7\n",
    "- 选择 1 份 0 号配料：成本 1 x 3 = 3\n",
    "- 选择 0 份 1 号配料：成本 0 x 4 = 0\n",
    "总成本：7 + 3 + 0 = 10 。\n",
    "```\n",
    "示例 2：\n",
    "```\n",
    "输入：baseCosts = [2,3], toppingCosts = [4,5,100], target = 18\n",
    "输出：17\n",
    "解释：考虑下面的方案组合（所有下标均从 0 开始）：\n",
    "- 选择 1 号基料：成本 3\n",
    "- 选择 1 份 0 号配料：成本 1 x 4 = 4\n",
    "- 选择 2 份 1 号配料：成本 2 x 5 = 10\n",
    "- 选择 0 份 2 号配料：成本 0 x 100 = 0\n",
    "总成本：3 + 4 + 10 + 0 = 17 。不存在总成本为 18 的甜点制作方案。\n",
    "```\n",
    "示例 3：\n",
    "```\n",
    "输入：baseCosts = [3,10], toppingCosts = [2,5], target = 9\n",
    "输出：8\n",
    "解释：可以制作总成本为 8 和 10 的甜点。返回 8 ，因为这是成本更低的方案。\n",
    "```\n",
    "示例 4：\n",
    "```\n",
    "输入：baseCosts = [10], toppingCosts = [1], target = 1\n",
    "输出：10\n",
    "解释：注意，你可以选择不添加任何配料，但你必须选择一种基料。\n",
    " ```\n",
    "\n",
    "提示：\n",
    "\n",
    "- n == baseCosts.length\n",
    "- m == toppingCosts.length\n",
    "- 1 <= n, m <= 10\n",
    "- 1 <= baseCosts[i], toppingCosts[i] <= 10^4\n",
    "- 1 <= target <= 10^4\n"
   ]
  },
  {
   "cell_type": "markdown",
   "id": "needed-killer",
   "metadata": {},
   "source": [
    "把问题转化为背包问题，可以将时间复杂度降低到多项式级别。\n",
    "\n",
    "因为每种辅料最多可以用两次，所以直接把每种辅料变成两个。\n",
    "基料必须且只能选一种，可以首先处理好。\n",
    "之后就按照0-1背包问题的一般做法，依次枚举辅料即可。\n",
    "\n",
    "时间复杂度$\\mathcal{O}(N + M\\cdot MAXC)$。其中$MAXC$为背包的最大容量。\n",
    "\n",
    "本题中$MAXC=20000$，因为答案不可能超过$20000$。\n",
    "空间复杂度$\\mathcal{O}(MAXC)$。\n"
   ]
  },
  {
   "cell_type": "code",
   "execution_count": 50,
   "id": "velvet-mayor",
   "metadata": {},
   "outputs": [],
   "source": [
    "from typing import List\n",
    "\n",
    "class Solution:\n",
    "    def closestCost(self, baseCosts: List[int], toppingCosts: List[int], target: int) -> int:\n",
    "        ans = baseCosts[0] # 初始化一个方案（不添加任何配料）\n",
    "        # 枚举，将所有可能的方案加入li，共len(baseCosts)*3^len(toppingCosts)种\n",
    "        li = baseCosts\n",
    "        for cost in toppingCosts:\n",
    "            for c in li.copy():\n",
    "                li.append(c + cost)\n",
    "                li.append(c + 2 * cost)\n",
    "        # 遍历一遍所有方案，找到最接近target且成本相对较低的方案\n",
    "        for a in li:\n",
    "            if abs(a - target) < abs(ans - target) or abs(a - target) == abs(ans - target) and a < ans:\n",
    "                ans = a\n",
    "        return ans"
   ]
  },
  {
   "cell_type": "code",
   "execution_count": 51,
   "id": "connected-variety",
   "metadata": {},
   "outputs": [
    {
     "name": "stdout",
     "output_type": "stream",
     "text": [
      "10\n"
     ]
    }
   ],
   "source": [
    "ss = Solution()\n",
    "baseCosts = [1,7]\n",
    "toppingCosts = [3,4]\n",
    "target = 10  # 10\n",
    "\n",
    "# baseCosts = [2,3]\n",
    "# toppingCosts = [4,5,100]\n",
    "# target = 18  # 17\n",
    "\n",
    "# baseCosts =[4]\n",
    "# toppingCosts = [9]\n",
    "# target = 9  # 4\n",
    "\n",
    "o = ss.closestCost(baseCosts, toppingCosts, target)\n",
    "print(o)"
   ]
  }
 ],
 "metadata": {
  "kernelspec": {
   "display_name": "Python 3",
   "language": "python",
   "name": "python3"
  },
  "language_info": {
   "codemirror_mode": {
    "name": "ipython",
    "version": 3
   },
   "file_extension": ".py",
   "mimetype": "text/x-python",
   "name": "python",
   "nbconvert_exporter": "python",
   "pygments_lexer": "ipython3",
   "version": "3.8.5"
  }
 },
 "nbformat": 4,
 "nbformat_minor": 5
}
