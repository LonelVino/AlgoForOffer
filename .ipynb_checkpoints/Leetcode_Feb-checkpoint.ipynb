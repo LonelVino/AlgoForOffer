{
 "cells": [
  {
   "cell_type": "markdown",
   "id": "metropolitan-opposition",
   "metadata": {},
   "source": [
    "## 697. 数组的度\n",
    "\n",
    "给定一个非空且只包含非负数的整数数组 nums，数组的度的定义是指数组里任一元素出现频数的最大值。\n",
    "\n",
    "你的任务是在 nums 中找到与 nums 拥有相同大小的度的最短连续子数组，返回其长度。\n",
    "\n",
    "示例 1：\n",
    "```\n",
    "输入：[1, 2, 2, 3, 1]\n",
    "输出：2\n",
    "解释：\n",
    "输入数组的度是2，因为元素1和2的出现频数最大，均为2.\n",
    "连续子数组里面拥有相同度的有如下所示:\n",
    "[1, 2, 2, 3, 1], [1, 2, 2, 3], [2, 2, 3, 1], [1, 2, 2], [2, 2, 3], [2, 2]\n",
    "最短连续子数组[2, 2]的长度为2，所以返回2.\n",
    "```\n",
    "\n",
    "示例 2：\n",
    "```\n",
    "输入：[1,2,2,3,1,4,2]\n",
    "输出：6\n",
    "```\n",
    "\n",
    "\n",
    "提示：\n",
    "\n",
    "- nums.length 在1到 50,000 区间范围内。\n",
    "- nums[i] 是一个在 0 到 49,999 范围内的整数。"
   ]
  },
  {
   "cell_type": "markdown",
   "id": "revolutionary-technique",
   "metadata": {},
   "source": [
    "### My own solution"
   ]
  },
  {
   "cell_type": "code",
   "execution_count": 55,
   "id": "empty-negotiation",
   "metadata": {},
   "outputs": [],
   "source": [
    "from typing import List\n",
    "\n",
    "class Solution:\n",
    "    def findShortestSubArray(self, nums: List[int]) -> int:\n",
    "        num_dict = {}\n",
    "        for num in nums:\n",
    "            if num not in num_dict:\n",
    "                num_dict[num] = 1\n",
    "            else:\n",
    "                num_dict[num] += 1\n",
    "        num_list = sorted(num_dict.items(), key=lambda x:x[1], reverse=True)\n",
    "        max_list = []\n",
    "        max_value = num_list[0][1]\n",
    "        for enum in num_list:\n",
    "            if enum[1] < max_value:\n",
    "                break\n",
    "            else:\n",
    "                max_list.append(enum)\n",
    "        lengths = []\n",
    "        for enum in max_list:\n",
    "            num = enum[0]\n",
    "            idx = self.get_index1(nums, num)\n",
    "            length = idx[-1] - idx[0] + 1\n",
    "            lengths.append(length)\n",
    "        min_len = sorted(lengths)[0]\n",
    "        return min_len\n",
    "\n",
    "    def get_index1(self, lst=None, item='') -> List:\n",
    "        return [index for (index,value) in enumerate(lst) if value == item]\n",
    "    \n",
    "    "
   ]
  },
  {
   "cell_type": "code",
   "execution_count": 56,
   "id": "smoking-victorian",
   "metadata": {},
   "outputs": [
    {
     "name": "stdout",
     "output_type": "stream",
     "text": [
      "2\n"
     ]
    }
   ],
   "source": [
    "if __name__ == \"__main__\":\n",
    "    ss = Solution()\n",
    "    nums1 = [1,2,2,3,1]\n",
    "    nums2 = [1,2,2,3,1,4,2]\n",
    "    nums3 = [1,3,2,2,3,1]\n",
    "    # length1 = ss.findShortestSubArray(nums1)\n",
    "    # length2 = ss.findShortestSubArray(nums2)\n",
    "    length = ss.findShortestSubArray(nums3)\n",
    "    print(length)"
   ]
  },
  {
   "cell_type": "markdown",
   "id": "compact-folder",
   "metadata": {},
   "source": [
    "### Best Solution\n",
    "\n",
    "<b>解题思路</b>\n",
    "\n",
    "本题可以按照两部分求解：\n",
    "\n",
    "- 先求原数组的度；\n",
    "- 再求与原数组相同度的最短子数组。\n",
    "\n",
    "<b>求原数组的度</b>\n",
    "\n",
    "求数组的度--各个元素的出现次数，用 <b>字典（哈希表）计数, key 是元素，value 是次数。 value 的最大值就是数组的度</b> $degree$。\n",
    "\n",
    "<b>求与原数组相同度的最短子数组</b>\n",
    "\n",
    "长度 = 出现次数最多的元素 第一次和最后一次出现的位置（最短，因为可能不止一个）\n",
    "\n",
    "- 使用 `left` 和 `right` 分别保存了每个元素在数组中第一次出现的位置和最后一次出现的位置；使用 `counter` 保存每个元素出现的次数\n",
    "- 数组的度 $degree$ 等于 `counter.values()` 的最大值\n",
    "- 对counter再次遍历：\n",
    "  - 如果元素 k 出现的次数等于 degree，则找出元素 k 最后一次出现的位置 和 第一次出现的位置，计算两者之差+1，即为子数组长度。\n",
    "  - 对所有出现次数等于 degree 的子数组的最短长度，取 min\n",
    " \n"
   ]
  },
  {
   "cell_type": "code",
   "execution_count": null,
   "id": "blank-saudi",
   "metadata": {},
   "outputs": [],
   "source": [
    "class Solution:\n",
    "    def findShortestSubArray(self, nums: List[int]) -> int:\n",
    "        left, right = dict(), dict()\n",
    "        counter = collections.Counter()\n",
    "        for i, num in enumerate(nums):\n",
    "            if num not in left:\n",
    "                left[num] = i\n",
    "            right[num] = i\n",
    "            counter[num] += 1\n",
    "        degree = max(counter.values())\n",
    "        res = len(nums)\n",
    "        for k, v in counter.items():\n",
    "            if v == degree:\n",
    "                res = min(res, right[k] - left[k] + 1)\n",
    "        return res"
   ]
  },
  {
   "attachments": {
    "image.png": {
     "image/png": "[encoded data removed]"
    }
   },
   "cell_type": "markdown",
   "id": "theoretical-prompt",
   "metadata": {},
   "source": [
    "## 766. 托普利茨矩阵\n",
    "给你一个 m x n 的矩阵 matrix 。如果这个矩阵是托普利茨矩阵，返回 true ；否则，返回 false 。\n",
    "\n",
    "如果矩阵上**每一条**由左上到右下的对角线上的元素都相同 （注意是每一条，而不仅仅是主对角线），那么这个矩阵是 托普利茨矩阵 。\n",
    "\n",
    "\n",
    "示例 1：\n",
    "\n",
    "![image.png](attachment:image.png)\n",
    "```\n",
    "输入：matrix = [[1,2,3,4],[5,1,2,3],[9,5,1,2]]\n",
    "输出：true\n",
    "解释：\n",
    "在上述矩阵中, 其对角线为: \n",
    "\"[9]\", \"[5, 5]\", \"[1, 1, 1]\", \"[2, 2, 2]\", \"[3, 3]\", \"[4]\"。 \n",
    "各条对角线上的所有元素均相同, 因此答案是 True 。\n",
    "```\n",
    "\n",
    "提示：\n",
    "```\n",
    "m == matrix.length\n",
    "n == matrix[i].length\n",
    "1 <= m, n <= 20\n",
    "0 <= matrix[i][j] <= 99\n",
    " ```\n",
    "\n",
    "进阶：\n",
    "\n",
    "如果矩阵存储在磁盘上，并且内存有限，以至于一次最多只能将矩阵的一行加载到内存中，该怎么办？\n",
    "如果矩阵太大，以至于一次只能将不完整的一行加载到内存中，该怎么办？\n"
   ]
  },
  {
   "cell_type": "code",
   "execution_count": 47,
   "id": "humanitarian-european",
   "metadata": {},
   "outputs": [],
   "source": [
    "from typing import List\n",
    "\n",
    "class Solution:\n",
    "    def isToeplitzMatrix(self, m: List[List[int]]) -> bool:\n",
    "        return all(r1[:-1] == r2[1:] for r1, r2 in zip(m[:-1], m[1:]))\n"
   ]
  },
  {
   "cell_type": "code",
   "execution_count": 48,
   "id": "crucial-accuracy",
   "metadata": {},
   "outputs": [
    {
     "name": "stdout",
     "output_type": "stream",
     "text": [
      "[[11, 74, 0, 93], [40, 11, 74, 7]] False\n",
      "[[11, 74, 7, 93], [40, 11, 74, 7]] True\n",
      "[[36, 59, 71, 15, 26, 82, 87], [56, 36, 59, 71, 15, 26, 82], [15, 0, 36, 59, 71, 15, 26]] False\n"
     ]
    }
   ],
   "source": [
    "ss = Solution()\n",
    "matrix1 = [[1,2,3,4],[5,1,2,3],[9,5,1,2]]\n",
    "matrix2 = [[1,2],[2,2]]\n",
    "matrix3 = [[11,74,0,93],[40,11,74,7]]\n",
    "matrix4 = [[65,98,57]]\n",
    "matrix5 = [[11,74,7,93],[40,11,74,7]]\n",
    "matrix6 = [[36,59,71,15,26,82,87],[56,36,59,71,15,26,82],[15,0,36,59,71,15,26]]\n",
    "\n",
    "def test(matrix):\n",
    "    print(matrix, ss.isToeplitzMatrix(matrix))\n",
    "\"\"\"\n",
    "test(matrix1)\n",
    "test(matrix2)\n",
    "test(matrix4)\n",
    "\"\"\"\n",
    "test(matrix3)\n",
    "test(matrix5)\n",
    "test(matrix6)"
   ]
  },
  {
   "cell_type": "markdown",
   "id": "harmful-thanks",
   "metadata": {},
   "source": [
    "## 1052. 爱生气的书店老板\n",
    "今天，书店老板有一家店打算试营业 `customers.length` 分钟。每分钟都有一些顾客（`customers[i]`）会进入书店，所有这些顾客都会在那**一分钟结束**后离开。\n",
    "\n",
    "在某些时候，书店老板会生气。 如果书店老板在第 `i` 分钟生气，那么 `grumpy[i] = 1`，否则 `grumpy[i] = 0`。 当书店老板生气时，那**一分钟的顾客就会不满意，不生气则他们是满意的**。\n",
    "\n",
    "书店老板知道一个秘密技巧，能抑制自己的情绪，可以让自己连续 `X ` 分钟不生气，但却只能使用一次。\n",
    "\n",
    "请你返回这一天营业下来，**最多**有多少客户能够感到满意的数量。\n",
    " \n",
    " **示例：**\n",
    " ```\n",
    " 输入：customers = [1,0,1,2,1,1,7,5], grumpy = [0,1,0,1,0,1,0,1], X = 3\n",
    "输出：16\n",
    "解释：\n",
    "书店老板在最后 3 分钟保持冷静。\n",
    "感到满意的最大客户数量 = 1 + 1 + 1 + 1 + 7 + 5 = 16.\n",
    "```\n",
    "\n",
    "提示：\n",
    "\n",
    "- `1 <= X <= customers.length == grumpy.length <= 20000`\n",
    "- `0 <= customers[i] <= 1000`\n",
    "- `0 <= grumpy[i] <= 1`\n"
   ]
  },
  {
   "cell_type": "markdown",
   "id": "applied-alpha",
   "metadata": {},
   "source": [
    "增加的满意顾客的数量是 $increase_i$ , 有：\n",
    "\n",
    "$$\n",
    " increase_i = \\sum_{j=i-X+1}^i customers[j]\\times grumpy[j]\n",
    "$$\n",
    "\n",
    "为了让满意的顾客数量最大化，应该找到满足 $X-1 \\le i<n$ 的下标 $i$，使得 $increase_i$ 最大\n",
    "\n",
    "注意到当 $i>X-1$ 时，将 $i$ 替换成 $i-1$，可以得到 ${increase}_{i-1}$:\n",
    "$$\n",
    " increase_{i-1} = \\sum_{j=i-X}^{i-1} customers[j]\\times grumpy[j]\n",
    "$$\n",
    "\n",
    "将 $increase_i$ 和 ${increase}_{i-1}$ 相减：\n",
    "$$\n",
    "incearse_i - increase_{i-1} = customers[i]\\times grumpy[i] - customers[i-X]\\times grumpy[i-X]\n",
    "$$\n",
    "\n",
    "上述过程可以看成维护一个长度为 $X$ 的滑动窗口。当滑动窗口从下标范围 $[i-X,i-1]$ 移动到下标范围 $[i-X+1,i]$ 时，下标 $i-X$ 从窗口中移出，下标 $i$ 进入到窗口内。\n",
    "\n",
    "利用这种关系，可以在 $O(1)$ 的时间内通过 ${increase}_{i-1}$得到$increase_i$"
   ]
  },
  {
   "cell_type": "markdown",
   "id": "portuguese-illustration",
   "metadata": {},
   "source": [
    "从 $\\textit{increase}_X$到 $\\textit{increase}_{n-1}$i的值则可利用上述关系快速计算得到。只需要遍历数组 $\\textit{customers}$ 和 $grumpy$ 各一次即可得到 $X≤i<n$ 的每个 ${increase}_i$的值，时间复杂度是 $O(n)$。\n",
    "\n",
    "只需要一开始算出 $increase_{X-1}$的值，之后迭代就可以得出所有 $increase$"
   ]
  },
  {
   "cell_type": "markdown",
   "id": "catholic-certificate",
   "metadata": {},
   "source": [
    "又由于计算初始的 $\\textit{total}$的值需要遍历数组 $\\textit{customers}$ 和 $\\textit{grumpy}$ 各一次，因此整个过程只需要遍历数组 $\\textit{customers}$ 和 $\\textit{grumpy}$各两次，时间复杂度是 $O(n)$。\n",
    "\n",
    "$$\n",
    "total = s\\sum_{i=0}^{n-1}customers[i]\\times I(grumpy[i]=0)\n",
    "$$\n",
    "\n",
    "在上述过程中维护增加的满意顾客的最大数量，记为 $\\textit{maxIncrease}$，则满意顾客的最大总数是 $\\textit{total}+\\textit{maxIncrease}$。\n"
   ]
  },
  {
   "cell_type": "code",
   "execution_count": null,
   "id": "excellent-blues",
   "metadata": {},
   "outputs": [],
   "source": [
    "class Solution:\n",
    "    def maxSatisfied(self, customers: List[int], grumpy: List[int], X: int) -> int:\n",
    "        n = len(customers)\n",
    "        total = sum(c for c, g in zip(customers, grumpy) if g == 0)\n",
    "        maxIncrease = increase = sum(c * g for c, g in zip(customers[:X], grumpy[:X]))\n",
    "        for i in range(X, n):\n",
    "            increase += customers[i] * grumpy[i] - customers[i - X] * grumpy[i - X]\n",
    "            maxIncrease = max(maxIncrease, increase)\n",
    "        return total + maxIncrease"
   ]
  },
  {
   "cell_type": "code",
   "execution_count": 9,
   "id": "chronic-favorite",
   "metadata": {},
   "outputs": [
    {
     "name": "stdout",
     "output_type": "stream",
     "text": [
      "18\n"
     ]
    }
   ],
   "source": [
    "ss = Solution()\n",
    "customers = [10,1,7]\n",
    "grumpy = [0,0,0]\n",
    "X = 2\n",
    "max_num = ss.maxSatisfied(customers, grumpy, X)\n",
    "print(max_num)"
   ]
  },
  {
   "cell_type": "markdown",
   "id": "measured-substitute",
   "metadata": {},
   "source": [
    "## 832. 翻转图像\n",
    "\n",
    "给定一个二进制矩阵 A，我们想先水平翻转图像，然后反转图像并返回结果。\n",
    "\n",
    "水平翻转图片就是将图片的每一行都进行翻转，即逆序。例如，水平翻转 [1, 1, 0] 的结果是 [0, 1, 1]。\n",
    "\n",
    "反转图片的意思是图片中的 0 全部被 1 替换， 1 全部被 0 替换。例如，反转 [0, 1, 1] 的结果是 [1, 0, 0]。\n",
    "\n",
    "示例 1：\n",
    "\n",
    "```\n",
    "输入：[[1,1,0],[1,0,1],[0,0,0]]\n",
    "输出：[[1,0,0],[0,1,0],[1,1,1]]\n",
    "解释：首先翻转每一行: [[0,1,1],[1,0,1],[0,0,0]]；\n",
    "     然后反转图片: [[1,0,0],[0,1,0],[1,1,1]]\n",
    "```\n",
    "\n",
    "示例 2：\n",
    "\n",
    "```\n",
    "输入：[[1,1,0,0],[1,0,0,1],[0,1,1,1],[1,0,1,0]]\n",
    "输出：[[1,1,0,0],[0,1,1,0],[0,0,0,1],[1,0,1,0]]\n",
    "解释：首先翻转每一行: [[0,0,1,1],[1,0,0,1],[1,1,1,0],[0,1,0,1]]；\n",
    "```\n",
    "\n",
    "提示：\n",
    "```\n",
    "1 <= A.length = A[0].length <= 20\n",
    "0 <= A[i][j] <= 1\n",
    "```"
   ]
  },
  {
   "cell_type": "code",
   "execution_count": 60,
   "id": "hawaiian-scout",
   "metadata": {},
   "outputs": [],
   "source": [
    "from typing import List\n",
    "import numpy as np\n",
    "import math\n",
    "\n",
    "class Solution:\n",
    "    def flipAndInvertImage(self, A: List[List[int]]) -> List[List[int]]:\n",
    "        row_num, col_num = np.shape(A)[0], np.shape(A)[1]\n",
    "        for i in range(row_num):\n",
    "            for j in range(math.ceil(col_num/2)):\n",
    "                if j != col_num - j -1:\n",
    "                    tmp = A[i][j]\n",
    "                    A[i][j] = A[i][col_num - j - 1]\n",
    "                    A[i][col_num-j-1] = tmp\n",
    "                    A[i][j] = int(not A[i][j])\n",
    "                    A[i][col_num-j-1] = int(not A[i][col_num-j-1])\n",
    "                else:\n",
    "                    A[i][col_num-j-1] = int(not A[i][col_num-j-1])\n",
    "                    pass               \n",
    "        return A"
   ]
  },
  {
   "cell_type": "code",
   "execution_count": 61,
   "id": "furnished-glory",
   "metadata": {},
   "outputs": [
    {
     "name": "stdout",
     "output_type": "stream",
     "text": [
      "[[1, 0, 0], [0, 1, 0], [1, 1, 1]]\n",
      "[[1, 1, 0, 0], [0, 1, 1, 0], [0, 0, 0, 1], [1, 0, 1, 0]]\n"
     ]
    }
   ],
   "source": [
    "ss = Solution()\n",
    "A1 = [[1,1,0],[1,0,1],[0,0,0]]  \n",
    "A2 = [[1,1,0,0],[1,0,0,1],[0,1,1,1],[1,0,1,0]]\n",
    "O1 = ss.flipAndInvertImage(A1)   #[[1,0,0],[0,1,0],[1,1,1]]\n",
    "O2 = ss.flipAndInvertImage(A2)   # [[1,1,0,0],[0,1,1,0],[0,0,0,1],[1,0,1,0]]\n",
    "print(O1)\n",
    "print(O2)"
   ]
  },
  {
   "cell_type": "markdown",
   "id": "handmade-demographic",
   "metadata": {},
   "source": [
    "### 方法一：照本宣科法"
   ]
  },
  {
   "cell_type": "code",
   "execution_count": 65,
   "id": "liable-holiday",
   "metadata": {},
   "outputs": [],
   "source": [
    "from typing import List\n",
    "\n",
    "class Solution:\n",
    "    def flipAndInvertImage(self, A: List[List[int]]) -> List[List[int]]:\n",
    "        for row in A:\n",
    "            for k, _ in enumerate(row): row[k] = 1 - row[k]\n",
    "            i, j = 0, len(row)-1\n",
    "            while i < j:\n",
    "                row[i], row[j] = row[j], row[i]\n",
    "                i += 1\n",
    "                j -= 1\n",
    "        return A"
   ]
  },
  {
   "cell_type": "code",
   "execution_count": 66,
   "id": "fresh-foundation",
   "metadata": {},
   "outputs": [
    {
     "name": "stdout",
     "output_type": "stream",
     "text": [
      "[[1, 0, 0], [0, 1, 0], [1, 1, 1]]\n",
      "[[1, 1, 0, 0], [0, 1, 1, 0], [0, 0, 0, 1], [1, 0, 1, 0]]\n"
     ]
    }
   ],
   "source": [
    "ss = Solution()\n",
    "A1 = [[1,1,0],[1,0,1],[0,0,0]]  \n",
    "A2 = [[1,1,0,0],[1,0,0,1],[0,1,1,1],[1,0,1,0]]\n",
    "O1 = ss.flipAndInvertImage(A1)   #[[1,0,0],[0,1,0],[1,1,1]]\n",
    "O2 = ss.flipAndInvertImage(A2)   # [[1,1,0,0],[0,1,1,0],[0,0,0,1],[1,0,1,0]]\n",
    "print(O1)\n",
    "print(O2)"
   ]
  },
  {
   "cell_type": "markdown",
   "id": "sublime-cycle",
   "metadata": {},
   "source": [
    "复杂度:\n",
    "\n",
    "时间复杂度 $O(N)$，做了两次遍历，而 $O(2N) = O(N)$\n",
    "\n",
    "空间复杂度 $O(1)$，只用了常量空间，没有用额外的空间"
   ]
  },
  {
   "cell_type": "markdown",
   "id": "outside-color",
   "metadata": {},
   "source": [
    "### 方法二：见缝插针法\n",
    "\n",
    "首先我们一行的第一个数，找到它对应的数，也就是这一行最后一个\n",
    "\n",
    "如果这两个数是不同的，比如说一个是 1，一个是 0，那么先 10 反转，则一个是 0，一个是 1，再左右翻转，又变回一个是 1，一个是 0\n",
    "\n",
    "这说明当两个数是不同的时候，不用做任何事情\n",
    "\n",
    "当两个数相同的时候，要同时异或或被 1 减，即 10 反转\n",
    "\n",
    "注意，循环的范围应该是 range(len(row) + 1) // 2)，不能忘了加一。因为，如果列数为奇数，那么中间的数虽然不要左右交换，但是10还是要反转的，因此要多一次循环，相同于中间的数与自己是相同的，要反转。"
   ]
  },
  {
   "cell_type": "code",
   "execution_count": 81,
   "id": "micro-virgin",
   "metadata": {},
   "outputs": [],
   "source": [
    "from typing import List\n",
    "\n",
    "class Solution:\n",
    "    def flipAndInvertImage(self, A: List[List[int]]) -> List[List[int]]:\n",
    "        for row in A:\n",
    "            for j in range((len(row)+1) // 2):\n",
    "                if row[j] == row[len(row) - j - 1]:\n",
    "                    row[j] = row[len(row) - j - 1] = 1 - row[j]\n",
    "        return A"
   ]
  },
  {
   "cell_type": "code",
   "execution_count": 82,
   "id": "drawn-accreditation",
   "metadata": {},
   "outputs": [
    {
     "name": "stdout",
     "output_type": "stream",
     "text": [
      "[[1, 0, 0], [0, 1, 0], [1, 1, 1]]\n",
      "[[1, 1, 0, 0], [0, 1, 1, 0], [0, 0, 0, 1], [1, 0, 1, 0]]\n"
     ]
    }
   ],
   "source": [
    "ss = Solution()\n",
    "A1 = [[1,1,0],[1,0,1],[0,0,0]]  \n",
    "A2 = [[1,1,0,0],[1,0,0,1],[0,1,1,1],[1,0,1,0]]\n",
    "O1 = ss.flipAndInvertImage(A1)   #[[1,0,0],[0,1,0],[1,1,1]]\n",
    "O2 = ss.flipAndInvertImage(A2)   # [[1,1,0,0],[0,1,1,0],[0,0,0,1],[1,0,1,0]]\n",
    "print(O1)\n",
    "print(O2)"
   ]
  },
  {
   "cell_type": "markdown",
   "id": "congressional-jacob",
   "metadata": {},
   "source": [
    "## 867. 转置矩阵\n",
    "给你一个二维整数数组 matrix， 返回 matrix 的 转置矩阵 。\n",
    "\n",
    "矩阵的 转置 是指将矩阵的主对角线翻转，交换矩阵的行索引与列索引。\n",
    "\n",
    "示例 1：\n",
    "```\n",
    "输入：matrix = [[1,2,3],[4,5,6],[7,8,9]]\n",
    "输出：[[1,4,7],[2,5,8],[3,6,9]\n",
    "```\n",
    "\n",
    "示例 2：\n",
    "```\n",
    "输入：matrix = [[1,2,3],[4,5,6]]\n",
    "输出：[[1,4],[2,5],[3,6]]\n",
    "```\n",
    "\n",
    "提示：\n",
    "```\n",
    "m == matrix.length\n",
    "n == matrix[i].length\n",
    "1 <= m, n <= 1000\n",
    "1 <= m * n <= 105\n",
    "-10^9 <= matrix[i][j] <= 10^9\n",
    "```\n"
   ]
  },
  {
   "cell_type": "code",
   "execution_count": 70,
   "id": "accessible-quick",
   "metadata": {},
   "outputs": [],
   "source": [
    "class Solution:\n",
    "    def transpose(self, matrix: List[List[int]]) -> List[List[int]]:\n",
    "        import numpy as np\n",
    "       \n",
    "        matrix = np.array(matrix)\n",
    "        \n",
    "        new_mat = []\n",
    "        for i in range(len(matrix[0])):\n",
    "            row = matrix[:, i]\n",
    "            row = row.tolist()\n",
    "            new_mat.append(row)\n",
    "        matrix = new_mat\n",
    "        \n",
    "        return matrix"
   ]
  },
  {
   "cell_type": "code",
   "execution_count": 71,
   "id": "accomplished-wales",
   "metadata": {},
   "outputs": [
    {
     "name": "stdout",
     "output_type": "stream",
     "text": [
      "[[1, 4, 7], [2, 5, 8], [3, 6, 9]]\n",
      "[[1, 4], [2, 5], [3, 6]]\n"
     ]
    }
   ],
   "source": [
    "matrix1 = [[1,2,3],[4,5,6],[7,8,9]]\n",
    "matrix2 = [[1,2,3],[4,5,6]]  # [[1,4],[2,5],[3,6]]\n",
    "ss = Solution()\n",
    "O1 = ss.transpose(matrix1)\n",
    "O2 = ss.transpose(matrix2)\n",
    "print(O1)\n",
    "print(O2)"
   ]
  },
  {
   "cell_type": "markdown",
   "id": "excessive-asian",
   "metadata": {},
   "source": [
    "Python 可以使用 numpy 的 transpose 函数，直接对矩阵转置。"
   ]
  },
  {
   "cell_type": "code",
   "execution_count": null,
   "id": "unavailable-projector",
   "metadata": {},
   "outputs": [],
   "source": [
    "def transpose(self, matrix: List[List[int]]) -> List[List[int]]:\n",
    "        import numpy as np\n",
    "        return np.transpose(matrix).tolist()\n"
   ]
  },
  {
   "cell_type": "markdown",
   "id": "exact-helen",
   "metadata": {},
   "source": [
    "常规方法"
   ]
  },
  {
   "cell_type": "code",
   "execution_count": null,
   "id": "wrong-renaissance",
   "metadata": {},
   "outputs": [],
   "source": [
    "class Solution:\n",
    "    def transpose(self, matrix: List[List[int]]) -> List[List[int]]:\n",
    "        M, N = len(matrix), len(matrix[0])\n",
    "        res = [[0] * M for i in range(N)]\n",
    "        for i in range(M):\n",
    "            for j in range(N):\n",
    "                res[j][i] = matrix[i][j]\n",
    "        return res"
   ]
  },
  {
   "cell_type": "markdown",
   "id": "interesting-constitution",
   "metadata": {},
   "source": [
    "## 1178. 猜字谜\n",
    "字谜的迷面 puzzle 按字符串形式给出，如果一个单词 word 符合下面两个条件，那么它就可以算作谜底：\n",
    "\n",
    "单词 word 中包含谜面 puzzle 的第一个字母。\n",
    "单词 word 中的每一个字母都可以在谜面 puzzle 中找到。\n",
    "例如，如果字谜的谜面是 \"abcdefg\"，那么可以作为谜底的单词有 \"faced\", \"cabbage\", 和 \"baggage\"；而 \"beefed\"（不含字母 \"a\"）以及 \"based\"（其中的 \"s\" 没有出现在谜面中）都不能作为谜底。\n",
    "返回一个答案数组 answer，数组中的每个元素 answer[i] 是在给出的单词列表 words 中可以作为字谜迷面 puzzles[i] 所对应的谜底的单词数目。\n",
    "\n",
    "示例：\n",
    "```\n",
    "输入：\n",
    "words = [\"aaaa\",\"asas\",\"able\",\"ability\",\"actt\",\"actor\",\"access\"], \n",
    "puzzles = [\"aboveyz\",\"abrodyz\",\"abslute\",\"absoryz\",\"actresz\",\"gaswxyz\"]\n",
    "输出：[1,1,3,2,4,0]\n",
    "解释：\n",
    "1 个单词可以作为 \"aboveyz\" 的谜底 : \"aaaa\" \n",
    "1 个单词可以作为 \"abrodyz\" 的谜底 : \"aaaa\"\n",
    "3 个单词可以作为 \"abslute\" 的谜底 : \"aaaa\", \"asas\", \"able\"\n",
    "2 个单词可以作为 \"absoryz\" 的谜底 : \"aaaa\", \"asas\"\n",
    "4 个单词可以作为 \"actresz\" 的谜底 : \"aaaa\", \"asas\", \"actt\", \"access\"\n",
    "没有单词可以作为 \"gaswxyz\" 的谜底，因为列表中的单词都不含字母 'g'。\n",
    " ```\n",
    "\n",
    "提示：\n",
    "\n",
    "- 1 <= `words.length` <= 10^5\n",
    "- 4 <= `words[i].length` <= 50\n",
    "- 1 <= `puzzles.length` <= 10^4\n",
    "- `puzzles[i].length` == 7\n",
    "- `words[i][j], puzzles[i][j]` 都是小写英文字母。\n",
    "- 每个 puzzles[i] 所包含的字符都不重复。\n",
    "\n"
   ]
  },
  {
   "cell_type": "code",
   "execution_count": 57,
   "id": "biblical-testing",
   "metadata": {},
   "outputs": [],
   "source": [
    "from typing import List\n",
    "\n",
    "class Solution:\n",
    "    def findNumOfValidWords(self, words: List[str], puzzles: List[str]) -> List[int]:\n",
    "        len_pzl, len_wd = len(puzzles), len(words)\n",
    "        res = []\n",
    "        for i in range(len_pzl):\n",
    "            pzl = puzzles[i]\n",
    "            count= 0\n",
    "            for j in range(len_wd):\n",
    "                valid = 1\n",
    "                if words[j].find(pzl[0]) == -1:\n",
    "                    # print(words[j], pzl[0])\n",
    "                    continue\n",
    "                for k in words[j]:\n",
    "                    if pzl.find(k) == -1:\n",
    "                        # print(\"Can't find\", k, 'from', words[j], 'in', pzl, end='  ')\n",
    "                        valid = 0\n",
    "                        break\n",
    "                count += 1 if valid==1 else 0\n",
    "                # print('word', words[j], 'works, count= ', count)\n",
    "            res.append(count)\n",
    "            # print('\\n')\n",
    "        return res"
   ]
  },
  {
   "cell_type": "code",
   "execution_count": 58,
   "id": "improved-deadline",
   "metadata": {},
   "outputs": [
    {
     "name": "stdout",
     "output_type": "stream",
     "text": [
      "[1, 1, 3, 2, 4, 0]\n"
     ]
    }
   ],
   "source": [
    "ss = Solution()\n",
    "words = [\"aaaa\",\"asas\",\"able\",\"ability\",\"actt\",\"actor\",\"access\"]\n",
    "puzzles = [\"aboveyz\",\"abrodyz\",\"abslute\",\"absoryz\",\"actresz\",\"gaswxyz\"]\n",
    "res = ss.findNumOfValidWords(words, puzzles)\n",
    "print(res)"
   ]
  },
  {
   "attachments": {
    "image.png": {
     "image/png": "[encoded data removed]"
    }
   },
   "cell_type": "markdown",
   "id": "adjusted-target",
   "metadata": {},
   "source": [
    "My way in this question will exceed the limited time.\n",
    "### 解题思路\n",
    "两个条件：\n",
    "\n",
    " - 单词 word 中包含谜面 puzzle 的第一个字母。\n",
    " - 单词 word 中的每一个字母都可以在谜面 puzzle 中找到。\n",
    "\n",
    "- 把每个字符串用二进制数字表示（状态压缩）\n",
    "- 寻找所有子集（subset）\n",
    "\n",
    "首先让所有 words 和 puzzle 两两匹配肯定是不行的，时间复杂度到了 $O(M * N) = 10 ^ 9$，会超时。\n",
    "\n",
    "一个简单的思路是，对于每个 `puzzle` 没有必要遍历所有 `words`，只用找符合条件的 `words` 出现了多少次就行了 ---- 状态压缩。\n",
    "\n",
    "#### 第一步：状态压缩\n",
    "第二个条件只要求能找到（出现一次即可），对出现次数没要求。\n",
    "\n",
    "为了解决这个问题，我们可以使用二进制数字来表每个 `word` 和 `puzzle`\n",
    "\n",
    "这道题只包含 26 个小写字母，可以压缩到一个 `int` 中, `int` 中的每一位取0和1表示字符是否出现过\n",
    "\n",
    "比如 \"aabb\" 可以用 11 表示，\"accc\" 可以用 101 表示。\n",
    "\n",
    "这样一来，不同的单词可能映射成同一个数字，比如 \"aabbb\" 和 \"ab\" 都映射成了 11。这就是状态压缩。\n",
    "\n",
    "![image.png](attachment:image.png)\n",
    "\n",
    "把每个 word 都做状态压缩，并用 hashmap 保存每个二进制数字出现的次数。\n",
    "\n",
    "#### 第二步：匹配\n",
    "简化之后，问题变成了： \n",
    "\n",
    "**word 状态压缩后的数字 和 puzzle[0] + subset(puzzle[1:N - 1]) 状态压缩后的数字相等。**\n",
    "\n",
    "难点：二进制下如何求 subset 可以参照「78. 子集」\n",
    "\n",
    "暴力求出puzzle[1:N - 1]的所有子集，然后计算 puzzle[0] + subset(puzzle[1:N - 1]) 对应的状态\n",
    "\n",
    "题目说了 puzzle 的长度为 7 位，subset(puzzle[1:N - 1]) 的是时间复杂度为 $O(2 ^ N) = 2 ^ 6 = 64$次计算, 相对较快。\n",
    "\n",
    "求出puzzle[0] + subset(puzzle[1:N - 1]) 对应的二进制数字之后，累加 hashmap 中该二进制数字出现的次数，就是该 puzzle 对应的 word 有多少\n"
   ]
  },
  {
   "cell_type": "code",
   "execution_count": 62,
   "id": "public-width",
   "metadata": {},
   "outputs": [],
   "source": [
    "class Solution:\n",
    "    def findNumOfValidWords(self, words: List[str], puzzles: List[str]) -> List[int]:\n",
    "        ### 创建words哈希表\n",
    "        freq = collections.Counter()\n",
    "        for word in words:\n",
    "            mask = 0\n",
    "            for c in word:\n",
    "                mask |= 1 << (ord(c) - ord('a'))\n",
    "            freq[mask] += 1\n",
    "        res = []\n",
    "        ### 每个puzzle的子集进行匹配\n",
    "        for puzzle in puzzles:\n",
    "            total = 0\n",
    "            for perm in self.subsets(puzzle[1:]):\n",
    "                mask = 1 << (ord(puzzle[0]) - ord('a'))\n",
    "                for c in perm:\n",
    "                    mask |= 1 << (ord(c) - ord('a'))\n",
    "                total += freq[mask]\n",
    "            res.append(total)\n",
    "        return res\n",
    "\n",
    "    \n",
    "    def subsets(self, nums):\n",
    "        subset = []\n",
    "        n  = len(nums)\n",
    "        \n",
    "        def helper(i, tmp):\n",
    "            subset.append(tmp)\n",
    "            for j in range(i, n):\n",
    "                helper(j+1, tmp + [nums[j]])\n",
    "        helper(0, [])\n",
    "        return subset\n",
    "            "
   ]
  },
  {
   "attachments": {
    "image.png": {
     "image/png": "[encoded data removed]"
    }
   },
   "cell_type": "markdown",
   "id": "together-settlement",
   "metadata": {},
   "source": [
    "- 时间复杂度：$O(M + N)$。\n",
    "- 空间复杂度：$O(M)$。\n",
    "![image.png](attachment:image.png)"
   ]
  },
  {
   "cell_type": "markdown",
   "id": "differential-venezuela",
   "metadata": {},
   "source": [
    "## 78. 子集\n",
    "给你一个整数数组 nums ，数组中的元素 互不相同 。返回该数组所有可能的子集（幂集）。\n",
    "\n",
    "解集 不能 包含重复的子集。你可以按 任意顺序 返回解集。\n",
    "\n",
    "\n",
    "示例 1：\n",
    "```\n",
    "输入：nums = [1,2,3]\n",
    "输出：[[],[1],[2],[1,2],[3],[1,3],[2,3],[1,2,3]]\n",
    "```\n",
    "\n",
    "示例 2：\n",
    "```\n",
    "输入：nums = [0]\n",
    "输出：[[],[0]]\n",
    "```\n",
    "\n",
    "提示：\n",
    "\n",
    "- 1 <= nums.length <= 10\n",
    "- -10 <= nums[i] <= 10\n",
    "- nums 中的所有元素 互不相同\n"
   ]
  },
  {
   "attachments": {
    "image.png": {
     "image/png": "[encoded data removed]"
    }
   },
   "cell_type": "markdown",
   "id": "refined-religion",
   "metadata": {},
   "source": [
    "### 回溯算法\n",
    "\n",
    "#### 思路一:库函数\n",
    "![image.png](attachment:image.png)"
   ]
  },
  {
   "cell_type": "code",
   "execution_count": 60,
   "id": "periodic-teens",
   "metadata": {},
   "outputs": [],
   "source": [
    "class Solution:\n",
    "    def subsets(self, nums: List[int]) -> List[List[int]]:\n",
    "        subsets = []\n",
    "        import itertools\n",
    "        for i in range(len(nums)+1):\n",
    "            for tmp in itertools.combinations(nums, i):\n",
    "                subsets.append(tmp)\n",
    "        return subsets"
   ]
  },
  {
   "attachments": {
    "image.png": {
     "image/png": "[encoded data removed]"
    }
   },
   "cell_type": "markdown",
   "id": "involved-forwarding",
   "metadata": {},
   "source": [
    "#### 思路二:迭代\n",
    "![image.png](attachment:image.png)"
   ]
  },
  {
   "cell_type": "code",
   "execution_count": null,
   "id": "successful-sacramento",
   "metadata": {},
   "outputs": [],
   "source": [
    "class Solution:\n",
    "    def subsets(self, nums: List[int]) -> List[List[int]]:\n",
    "        res = [[]]\n",
    "        for i in nums:\n",
    "            res =  res + [[i] + num for num in res]\n",
    "        return res"
   ]
  },
  {
   "attachments": {
    "image.png": {
     "image/png": "[encoded data removed]"
    }
   },
   "cell_type": "markdown",
   "id": "respected-speaking",
   "metadata": {},
   "source": [
    "#### 思路三：回溯(递归)\n",
    "![image.png](attachment:image.png)"
   ]
  },
  {
   "cell_type": "code",
   "execution_count": null,
   "id": "preliminary-machinery",
   "metadata": {},
   "outputs": [],
   "source": [
    "class Solution:\n",
    "    def subsets(self, nums: List[int]) -> List[List[int]]:\n",
    "        res = []\n",
    "        n = len(nums)\n",
    "        \n",
    "        def helper(i, tmp):\n",
    "            res.append(tmp)\n",
    "            for j in range(i, n):\n",
    "                helper(j+1, tmp+[nums[j]])\n",
    "        helper(0, [])\n",
    "        return res\n",
    "            "
   ]
  },
  {
   "cell_type": "markdown",
   "id": "municipal-eclipse",
   "metadata": {},
   "source": [
    "## 395. 至少有 K 个重复字符的最长子串\n",
    "\n",
    "给你一个字符串 s 和一个整数 k ，请你找出 s 中的最长子串， 要求该子串中的每一字符出现次数都不少于 k 。返回这一子串的长度。\n",
    "\n",
    " \n",
    "\n",
    "示例 1：\n",
    "```\n",
    "输入：s = \"aaabb\", k = 3\n",
    "输出：3\n",
    "解释：最长子串为 \"aaa\" ，其中 'a' 重复了 3 次。\n",
    "```\n",
    "\n",
    "示例 2：\n",
    "```\n",
    "输入：s = \"ababbc\", k = 2\n",
    "输出：5\n",
    "解释：最长子串为 \"ababb\" ，其中 'a' 重复了 2 次， 'b' 重复了 3 次。\n",
    " ```\n",
    "\n",
    "提示：\n",
    "\n",
    "- 1 <= s.length <= 104\n",
    "- s 仅由小写英文字母组成\n",
    "- 1 <= k <= 105"
   ]
  },
  {
   "cell_type": "markdown",
   "id": "norman-summary",
   "metadata": {},
   "source": [
    "### 解题思路\n",
    "\n",
    "#### 递归\n",
    "**重点：我们在调用递归函数的时候，把递归函数当做普通函数（黑箱）来调用，即明白该函数的输入输出是什么，而不用管此函数内部在做什么。**\n",
    "\n",
    "1. 递归最基本的是**记住递归函数的含义**：本题的 `longestSubstring(s, k)` 函数表示的就是题意\n",
    "  - 函数入参 $s$ 是表示源字符串；$k$ 是子字符串中每个字符最少出现的次数；\n",
    "  - 函数返回结果是满足题意的最长子字符串长度。\n",
    "\n",
    "2. 递归的**终止条件**（能直接写出的最简单 case）：如果字符串 $s$ 的长度少于 $k$，那么一定不存在满足题意的子字符串，返回 0；\n",
    "\n",
    "3. **调用递归（重点）**：如果一个字符 $c$ 在 $s$ 中出现的次数少于 $k$ 次，那么 $s$ 中所有的包含 $c$ 的子字符串都不能满足题意。\n",
    "\n",
    " - 首先，应该在 $s$ 的所有不包含 $c$ 的子字符串中继续寻找结果：把 $s$ 按照 $c$ 分割（分割后每个子串都不包含 $c$），得到很多子字符串 $t$；\n",
    " - 下一步，$t$ 作为源字符串的时候，我们把大问题分割为了小问题($s$ → $t$)。此时我们发现，恰好已经定义了函数 `longestSubstring(s, k)` ; 所以直接调用 `longestSubstring(s, k)`，形成递归。\n",
    "\n",
    "4. 未进入递归时的返回结果：如果 $s$ 中的每个字符出现的次数都大于 $k$ 次，那么 $s$ 就是我们要求的字符串，直接返回该字符串的长度。\n"
   ]
  },
  {
   "cell_type": "code",
   "execution_count": 3,
   "id": "reserved-agriculture",
   "metadata": {},
   "outputs": [],
   "source": [
    "from typing import List\n",
    "\n",
    "class Solution:\n",
    "    def longestSubstring(self, s: str, k: int) -> int:\n",
    "        if len(s) < k:\n",
    "            return 0\n",
    "        for c in set(s):\n",
    "            if s.count(c) < k:\n",
    "                return max(self.longestSubstring(t, k) for t in s.split(c))\n",
    "        return len(s)"
   ]
  },
  {
   "cell_type": "code",
   "execution_count": null,
   "id": "stock-northern",
   "metadata": {},
   "outputs": [],
   "source": [
    "s1, s2 = \"aaabb\", \"ababbc\"\n",
    "k1, k2 = 3, 2\n",
    "ss = Solution()\n",
    "o1 = ss.longestSubstring(s1, k1)\n",
    "o2 = ss.longestSubstring(s2, k2)\n",
    "print(o1)\n",
    "print(o2)"
   ]
  },
  {
   "cell_type": "markdown",
   "id": "unauthorized-chicago",
   "metadata": {},
   "source": [
    "## 896. 单调数列\n",
    "如果数组是单调递增或单调递减的，那么它是单调的。\n",
    "\n",
    "如果对于所有 i <= j，A[i] <= A[j]，那么数组 A 是单调递增的。 如果对于所有 i <= j，A[i]> = A[j]，那么数组 A 是单调递减的。\n",
    "\n",
    "当给定的数组 A 是单调数组时返回 true，否则返回 false。\n",
    "\n",
    "\n",
    "示例 1：\n",
    "```\n",
    "输入：[1,2,2,3]\n",
    "输出：true\n",
    "```\n",
    "示例 2：\n",
    "```\n",
    "输入：[6,5,4,4]\n",
    "输出：true\n",
    "```\n",
    "示例 3：\n",
    "```\n",
    "输入：[1,3,2]\n",
    "输出：false\n",
    "```\n",
    "示例 4：\n",
    "```\n",
    "输入：[1,2,4,5]\n",
    "输出：true\n",
    "```"
   ]
  },
  {
   "cell_type": "markdown",
   "id": "eleven-allocation",
   "metadata": {},
   "source": [
    "示例 5：\n",
    "```\n",
    "输入：[1,1,1]\n",
    "输出：true\n",
    "```\n",
    "\n",
    "提示：\n",
    "\n",
    "- 1 <= A.length <= 50000\n",
    "- -100000 <= A[i] <= 100000\n"
   ]
  },
  {
   "cell_type": "code",
   "execution_count": 2,
   "id": "extensive-treasurer",
   "metadata": {},
   "outputs": [],
   "source": [
    "from typing import List\n",
    "\n",
    "class Solution:\n",
    "    def isMonotonic(self, A: List[int]) -> bool:\\\n",
    "        if len(A) == 1:\n",
    "            return True\n",
    "        if A[-1] - A[1] > 0:\n",
    "            print('Ascending...')\n",
    "            for i in range(len(A)-1):\n",
    "                if A[i+1] - A[i] < 0:\n",
    "                    return False\n",
    "            return True\n",
    "        elif  A[-1] - A[1] < 0:\n",
    "            for i in range(len(A)-1):\n",
    "                if A[i+1] - A[i] > 0:\n",
    "                    return False\n",
    "            return True\n",
    "        elif  A[-1] - A[1] == 0:\n",
    "            for i in range(len(A)-1):\n",
    "                if A[i+1] - A[i] != 0:\n",
    "                    return False\n",
    "            return True\n",
    "        "
   ]
  },
  {
   "cell_type": "code",
   "execution_count": 3,
   "id": "curious-finland",
   "metadata": {},
   "outputs": [
    {
     "name": "stdout",
     "output_type": "stream",
     "text": [
      "False\n"
     ]
    }
   ],
   "source": [
    "ss = Solution()\n",
    "A = [1,3]\n",
    "o = ss.isMonotonic(A)\n",
    "print(o)"
   ]
  }
 ],
 "metadata": {
  "kernelspec": {
   "display_name": "Python 3",
   "language": "python",
   "name": "python3"
  },
  "language_info": {
   "codemirror_mode": {
    "name": "ipython",
    "version": 3
   },
   "file_extension": ".py",
   "mimetype": "text/x-python",
   "name": "python",
   "nbconvert_exporter": "python",
   "pygments_lexer": "ipython3",
   "version": "3.8.5"
  }
 },
 "nbformat": 4,
 "nbformat_minor": 5
}
