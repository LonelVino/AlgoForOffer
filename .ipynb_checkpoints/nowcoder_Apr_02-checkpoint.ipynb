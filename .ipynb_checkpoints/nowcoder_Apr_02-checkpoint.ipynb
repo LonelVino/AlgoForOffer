{
 "cells": [
  {
   "cell_type": "markdown",
   "id": "accurate-friendship",
   "metadata": {},
   "source": [
    "## 最小的K个数\n",
    "题目描述\n",
    "\n",
    "给定一个数组，找出其中最小的K个数。例如数组元素是4,5,1,6,2,7,3,8这8个数字，则最小的4个数字是1,2,3,4。\n",
    "\n",
    "如果K>数组的长度，那么返回一个空的数组\n",
    "\n",
    "示例：\n",
    "```\n",
    "输入： [4,5,1,6,2,7,3,8],4 \n",
    "return: [1,2,3,4]\n",
    "```"
   ]
  },
  {
   "cell_type": "code",
   "execution_count": 9,
   "id": "paperback-latest",
   "metadata": {},
   "outputs": [],
   "source": [
    "# -*- coding:utf-8 -*-\n",
    "class Solution:\n",
    "    def GetLeastNumbers_Solution(self, tinput, k):\n",
    "        # write code here\n",
    "        \n",
    "        if K>len(tinput):\n",
    "            return []\n",
    "        for j in range(0, len(tinput)-1):\n",
    "            min_idx = j\n",
    "            for i in range(j+1, len(tinput)):\n",
    "                if tinput[i] < tinput[min_idx]:\n",
    "                    min_idx = i\n",
    "            if j != min_idx:\n",
    "                tinput[j], tinput[min_idx] = tinput[min_idx], tinput[j]\n",
    "        return tinput[:k]"
   ]
  },
  {
   "cell_type": "code",
   "execution_count": 10,
   "id": "threatened-characteristic",
   "metadata": {},
   "outputs": [
    {
     "data": {
      "text/plain": [
       "[1, 2, 3, 4]"
      ]
     },
     "execution_count": 10,
     "metadata": {},
     "output_type": "execute_result"
    }
   ],
   "source": [
    "ss = Solution()\n",
    "nums = [4,5,1,6,2,7,3,8]\n",
    "K = 4\n",
    "ss.GetLeastNumbers_Solution(nums, K)"
   ]
  }
 ],
 "metadata": {
  "kernelspec": {
   "display_name": "Python 3",
   "language": "python",
   "name": "python3"
  },
  "language_info": {
   "codemirror_mode": {
    "name": "ipython",
    "version": 3
   },
   "file_extension": ".py",
   "mimetype": "text/x-python",
   "name": "python",
   "nbconvert_exporter": "python",
   "pygments_lexer": "ipython3",
   "version": "3.8.5"
  }
 },
 "nbformat": 4,
 "nbformat_minor": 5
}
