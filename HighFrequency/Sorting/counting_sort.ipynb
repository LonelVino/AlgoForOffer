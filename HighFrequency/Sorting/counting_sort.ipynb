{
 "cells": [
  {
   "attachments": {},
   "cell_type": "markdown",
   "metadata": {},
   "source": [
    "## Counting Sort"
   ]
  },
  {
   "attachments": {},
   "cell_type": "markdown",
   "metadata": {},
   "source": [
    "### Overview"
   ]
  },
  {
   "attachments": {},
   "cell_type": "markdown",
   "metadata": {},
   "source": [
    "Counting sort is a kind of sorting suitable for the difference between the maximum value and the minimum value is not not too large.\n",
    "\n",
    "**Principle idea**: \n",
    "1. **use the array element as the subscript (or key value)** of the array, and then use a temporary array to **count the number of occurrences** of the element;<br/>\n",
    " for example, `temp[i] = m`, indicating that the element  `i`  appears  `m`  times in total. \n",
    "2. Finally, the data of the temporary array statistics are aggregated from small to large. At this time, the data is in order. \n",
    "\n",
    "<img src=\"https://pic.leetcode-cn.com/1630914539-FlXlzd-file_1630914537577\" width = 60% height = 60%>\n",
    "\n",
    "\n",
    "> In applications such as in radix sort, a bound on the maximum key value $k$ will be known in advance, and can be assumed to be part of the input to the algorithm. However, if the value of $k$ is not already known then it may be computed, as a first step, by an additional loop over the data to determine the maximum key value. \n",
    ">\n",
    "\n",
    "**Pseudo code**:<br/>\n",
    "```c\n",
    "function CountingSort(input, k)\n",
    "    \n",
    "    count ← array of k + 1 zeros\n",
    "    output ← array of same length as input\n",
    "    \n",
    "    for i = 0 to length(input) - 1 do\n",
    "        j = key(input[i])\n",
    "        count[j] = count[j] + 1\n",
    "\n",
    "    for i = 1 to k do\n",
    "        count[i] = count[i] + count[i - 1]\n",
    "\n",
    "    for i = length(input) - 1 down to 0 do\n",
    "        j = key(input[i])\n",
    "        count[j] = count[j] - 1\n",
    "        output[count[j]] = input[i]\n",
    "\n",
    "    return output\n",
    "```"
   ]
  },
  {
   "cell_type": "markdown",
   "metadata": {},
   "source": [
    "### Implementation"
   ]
  },
  {
   "cell_type": "code",
   "execution_count": 13,
   "metadata": {},
   "outputs": [],
   "source": [
    "from typing import List\n",
    "\n",
    "def counting_sort(arr: List[int]) -> List[int]:\n",
    "    if len(arr) < 2: return arr\n",
    "    res = [\"\" for _ in range(len(arr))]\n",
    "    k = max(arr)\n",
    "    count = [0] * (k + 1)\n",
    "    # count the occurrences of element arr[i] \n",
    "    for i in range(len(arr)):\n",
    "        count[arr[i]] += 1\n",
    "    # get the actual positions in the ordered array\n",
    "    for i in range(1, len(count)):\n",
    "        count[i] += count[i - 1]\n",
    "    # Put the sorted elements back to the original array (stable version)\n",
    "    for i in range(len(arr) - 1, -1, -1):\n",
    "        count[arr[i]] -= 1\n",
    "        res[count[arr[i]]] = arr[i]\n",
    "    return res"
   ]
  },
  {
   "cell_type": "code",
   "execution_count": 16,
   "metadata": {},
   "outputs": [
    {
     "data": {
      "text/plain": [
       "[0, 0, 2, 6, 7, 7, 8]"
      ]
     },
     "execution_count": 16,
     "metadata": {},
     "output_type": "execute_result"
    }
   ],
   "source": [
    "arr = [ 6, 0, 7, 8, 7, 2, 0]\n",
    "sorted_arr_LSD = counting_sort(arr)\n",
    "sorted_arr_LSD"
   ]
  },
  {
   "attachments": {},
   "cell_type": "markdown",
   "metadata": {},
   "source": [
    "### Analysis"
   ]
  },
  {
   "attachments": {},
   "cell_type": "markdown",
   "metadata": {},
   "source": [
    "#### Complexity Analysis"
   ]
  },
  {
   "attachments": {},
   "cell_type": "markdown",
   "metadata": {},
   "source": [
    "The computational complexity depends on the algorithm used to sort each bucket, the number of buckets to use, and whether the input is uniformly distributed.  \n",
    "\n",
    "- **Time complexity**:\n",
    "  - the second for loop which performs a prefix sum on the count array, each iterate at most k + 1 times and therefore take $O(k)$ time. The other two for loops, and the initialization of the output array, each take $O(n)$ time.<br/> \n",
    "    Therefore, the time for the whole algorithm is the sum of the times for these steps, $O(n + k)$ \n",
    "  - Worst-case performance: $O(n+k)$, where k is the range of the non-negative key values.<br/>\n",
    "    The worst conditions occur when the value of the largest element drastically exceeds the number of elements of the array (As $k$ approaches $n^2$, the time complexity get closer to $O(n^2)$)\n",
    "- **Space complexity**:\n",
    "  - Because it uses arrays of length $k + 1$ and $n$, the total space usage of the algorithm is also $O(n + k)$.<br/> \n",
    "    For problem instances in which the maximum key value is significantly smaller than the number of items, counting sort can be highly space-efficient.\n",
    "  - Worst-case space complexity:\t$O(n+k)$"
   ]
  },
  {
   "attachments": {},
   "cell_type": "markdown",
   "metadata": {},
   "source": [
    "#### Characteristics\n"
   ]
  },
  {
   "attachments": {},
   "cell_type": "markdown",
   "metadata": {},
   "source": [
    "\n",
    "**not a comparison sort**: counting sort uses <u>key values</u> as indexes into an array, and the $O(n \\log n)$ lower bound for comparison sort will not apply.\n",
    "\n",
    "**Relationship with bucket sort**:  Bucket sort may be used in lieu of counting sort, and entails a similar time analysis. <br/>\n",
    "However, compared to counting sort, bucket sort requires <u>linked lists, dynamic arrays, or a large amount of pre-allocated memory</u> to hold the sets of items within each bucket, whereas **counting sort stores a single number (the count of items) per bucket**.\n",
    "\n",
    "**Stable**: Counting sort is not a stable algorithm. But it can be made stable with some code changes. \n",
    "> Because of its application to radix sorting, counting sort must be a stable sort; that is, if two elements share the same key, their relative order in the output array and their relative order in the input array should match\n",
    "\n",
    " **Usage Scenario**:\n",
    " -  Its running time is linear in the number of items and the difference between the maximum key value and the minimum key value, so it is only suitable for direct use in situations where the **variation in keys is not significantly greater than the number of items**. \n",
    " -  It is often used as a subroutine in **radix sort**, which can handle larger keys more efficiently."
   ]
  },
  {
   "cell_type": "markdown",
   "metadata": {},
   "source": [
    "## Applications of Counting Sort"
   ]
  },
  {
   "attachments": {},
   "cell_type": "markdown",
   "metadata": {},
   "source": [
    "### Characters"
   ]
  },
  {
   "cell_type": "code",
   "execution_count": 28,
   "metadata": {},
   "outputs": [],
   "source": [
    "def counting_sort_char(arr: List[str]) -> List[str]:\n",
    "    if len(arr) < 2: return arr\n",
    "    res = [\"\" for _ in range(len(arr))]\n",
    "    count = [0] * 256\n",
    "    for i in arr:\n",
    "        count[ord(i)] += 1\n",
    "    for i in range(1, len(count)):\n",
    "        count[i] += count[i - 1]\n",
    "    for i in range(len(arr) - 1, -1, -1):\n",
    "        count[ord(arr[i])] -= 1\n",
    "        res[count[ord(arr[i])]] = arr[i]\n",
    "    return \"\".join(res)"
   ]
  },
  {
   "cell_type": "code",
   "execution_count": 29,
   "metadata": {},
   "outputs": [
    {
     "data": {
      "text/plain": [
       "'eeeefggkkorss'"
      ]
     },
     "execution_count": 29,
     "metadata": {},
     "output_type": "execute_result"
    }
   ],
   "source": [
    "arr = \"geeksforgeeks\"\n",
    "sorted_arr_LSD = counting_sort_char(arr)\n",
    "sorted_arr_LSD"
   ]
  },
  {
   "cell_type": "markdown",
   "metadata": {},
   "source": [
    "### With negative elements"
   ]
  },
  {
   "attachments": {},
   "cell_type": "markdown",
   "metadata": {},
   "source": [
    "The problem with the previous counting sort was that we could not sort the elements if we have negative numbers in them. Because there are no negative array indices. \n",
    "\n",
    "So what we do is, find the minimum element and we will store the count of that minimum element at the zero index"
   ]
  },
  {
   "cell_type": "code",
   "execution_count": 35,
   "metadata": {},
   "outputs": [],
   "source": [
    "from typing import List\n",
    "\n",
    "def counting_sort_neg(arr: List[int]) -> List[int]:\n",
    "    if len(arr) < 2: return arr\n",
    "    res = [\"\" for _ in range(len(arr))]\n",
    "    max_val = max(arr)\n",
    "    min_val = min(arr)\n",
    "    count = [0] * ((max_val - min_val) + 1)\n",
    "    # count the occurrences of element arr[i] \n",
    "    for i in range(len(arr)):\n",
    "        count[arr[i] - min_val] += 1\n",
    "    # get the actual positions in the ordered array\n",
    "    for i in range(1, len(count)):\n",
    "        count[i] += count[i - 1]\n",
    "    # Put the sorted elements back to the original array\n",
    "    for i in range(len(arr) - 1, -1, -1):\n",
    "        count[arr[i] - min_val] -= 1\n",
    "        res[count[arr[i] - min_val]] = arr[i]\n",
    "    return res"
   ]
  },
  {
   "cell_type": "code",
   "execution_count": 36,
   "metadata": {},
   "outputs": [
    {
     "name": "stdout",
     "output_type": "stream",
     "text": [
      "[-10, -5, -3, -1, 0, 5, 8, 10]\n"
     ]
    }
   ],
   "source": [
    "arr = [-5, -10, 0, -3, 8, 5, -1, 10]\n",
    "ans = counting_sort_neg(arr)\n",
    "print(str(ans))"
   ]
  }
 ],
 "metadata": {
  "kernelspec": {
   "display_name": "Python 3",
   "language": "python",
   "name": "python3"
  },
  "language_info": {
   "codemirror_mode": {
    "name": "ipython",
    "version": 3
   },
   "file_extension": ".py",
   "mimetype": "text/x-python",
   "name": "python",
   "nbconvert_exporter": "python",
   "pygments_lexer": "ipython3",
   "version": "3.8.10"
  },
  "orig_nbformat": 4,
  "vscode": {
   "interpreter": {
    "hash": "5b3ded1ccb95c1d9bd405e7b823d9e85424cde40fbb5985eb47e999ef50e15b4"
   }
  }
 },
 "nbformat": 4,
 "nbformat_minor": 2
}
