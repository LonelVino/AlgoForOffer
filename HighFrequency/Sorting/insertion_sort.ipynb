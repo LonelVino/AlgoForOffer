{
 "cells": [
  {
   "cell_type": "code",
   "execution_count": 44,
   "metadata": {},
   "outputs": [],
   "source": [
    "from typing import List\n",
    "import random"
   ]
  },
  {
   "attachments": {},
   "cell_type": "markdown",
   "metadata": {},
   "source": [
    "## Insertion Sort"
   ]
  },
  {
   "attachments": {},
   "cell_type": "markdown",
   "metadata": {},
   "source": [
    "**Principle idea**: insert elements into the appropriate position in the already sorted elements.\n",
    "\n",
    "All elements to the left of the current index are sorted, but their final positions are uncertain and may be shifted to make room for smaller elements. But when the index reaches the right end of the array, the array sort is complete. \n",
    "\n",
    "![](https://upload.wikimedia.org/wikipedia/commons/3/32/Insertionsort-before.png)\n",
    "becomes\n",
    "![](https://upload.wikimedia.org/wikipedia/commons/d/d9/Insertionsort-after.png)\n",
    "\n",
    "<img width=50% height=50% src=\"https://pic.leetcode-cn.com/8c201983df79e89cf2318627071cfbd4bbec67753b00c6e51039a8a3d325692a-%E6%8F%92%E5%85%A5%E6%8E%92%E5%BA%8F.gif\"></img>\n",
    "\n",
    "**pseudo code**:\n",
    "```c\n",
    "i ← 1\n",
    "while i < length(A)\n",
    "    j ← i\n",
    "    while j > 0 and A[j-1] > A[j]\n",
    "        swap A[j] and A[j-1]\n",
    "        j ← j - 1\n",
    "    end while\n",
    "    i ← i + 1\n",
    "end while\n",
    "```"
   ]
  },
  {
   "cell_type": "code",
   "execution_count": 5,
   "metadata": {},
   "outputs": [],
   "source": [
    "def insertion_sort(arr: List[int]) -> List[int]:\n",
    "    for i in range(1, len(arr)): # run over all the elements except the first one\n",
    "        j = i\n",
    "        while j > 0 and arr[j] < arr[j - 1]:  # NB:  the and-operator must use **short-circuit evaluation**, otherwise the test might result in an array bounds error,\n",
    "            arr[j], arr[j - 1] = arr[j - 1], arr[j]\n",
    "            j -= 1\n",
    "    return arr"
   ]
  },
  {
   "cell_type": "code",
   "execution_count": 6,
   "metadata": {},
   "outputs": [
    {
     "data": {
      "text/plain": [
       "[17, 20, 26, 31, 44, 46, 54, 55, 67, 77, 93, 97]"
      ]
     },
     "execution_count": 6,
     "metadata": {},
     "output_type": "execute_result"
    }
   ],
   "source": [
    "arr = [54, 26, 93, 17, 77, 31, 44, 55, 20, 97, 67, 46]\n",
    "sorted_arr = insertion_sort(arr)\n",
    "sorted_arr"
   ]
  },
  {
   "attachments": {},
   "cell_type": "markdown",
   "metadata": {},
   "source": [
    "### Variants"
   ]
  },
  {
   "cell_type": "markdown",
   "metadata": {},
   "source": [
    "#### Improvement"
   ]
  },
  {
   "attachments": {},
   "cell_type": "markdown",
   "metadata": {},
   "source": [
    "After expanding the `swap` operation in-place as `x ← A[j]; A[j] ← A[j-1]; A[j-1] ← x` (where x is a temporary variable), a slightly faster version can be produced that **moves A[i] to its position in one go** and only performs one assignment in the inner loop body.\n",
    "\n",
    "(store `A[i]` in a temporary variable, and move the array directly, instead of swapping one by one)\n",
    "```c\n",
    "i ← 1\n",
    "while i < length(A)\n",
    "    x ← A[i]\n",
    "    j ← i - 1\n",
    "    while j >= 0 and A[j] > x\n",
    "        A[j+1] ← A[j]\n",
    "        j ← j - 1\n",
    "    end while\n",
    "    A[j+1] ← x\n",
    "    i ← i + 1\n",
    "end while\n",
    "```"
   ]
  },
  {
   "cell_type": "code",
   "execution_count": 16,
   "metadata": {},
   "outputs": [],
   "source": [
    "def insertion_sort_opt_1(arr: List[int]) -> List[int]:\n",
    "    for i in range(1, len(arr)):\n",
    "        tmp= arr[i]\n",
    "        j = i - 1\n",
    "        while j >= 0 and arr[j] > tmp:\n",
    "            arr[j + 1] = arr[j]\n",
    "            j -= 1\n",
    "        arr[j + 1] = tmp\n",
    "    return arr"
   ]
  },
  {
   "cell_type": "code",
   "execution_count": 17,
   "metadata": {},
   "outputs": [
    {
     "data": {
      "text/plain": [
       "[17, 20, 26, 31, 44, 46, 54, 55, 67, 77, 93, 97]"
      ]
     },
     "execution_count": 17,
     "metadata": {},
     "output_type": "execute_result"
    }
   ],
   "source": [
    "arr = [54, 26, 93, 17, 77, 31, 44, 55, 20, 97, 67, 46]\n",
    "sorted_arr = insertion_sort_opt_1(arr)\n",
    "sorted_arr"
   ]
  },
  {
   "attachments": {},
   "cell_type": "markdown",
   "metadata": {},
   "source": [
    "#### Recursive Version"
   ]
  },
  {
   "cell_type": "code",
   "execution_count": 18,
   "metadata": {},
   "outputs": [],
   "source": [
    "def insertion_sort_rec(arr: List[int], start: int) -> List[int]:\n",
    "    if start < 1: return arr\n",
    "    insertion_sort_rec(arr, start - 1)\n",
    "    tmp = arr[start]\n",
    "    j = start - 1\n",
    "    while j >= 0 and arr[j] > tmp:\n",
    "        arr[j + 1] = arr[j]\n",
    "        j -= 1\n",
    "    arr[j + 1] = tmp\n",
    "    return arr"
   ]
  },
  {
   "cell_type": "code",
   "execution_count": 20,
   "metadata": {},
   "outputs": [
    {
     "data": {
      "text/plain": [
       "[17, 20, 26, 31, 44, 46, 54, 55, 67, 77, 93, 97]"
      ]
     },
     "execution_count": 20,
     "metadata": {},
     "output_type": "execute_result"
    }
   ],
   "source": [
    "arr = [54, 26, 93, 17, 77, 31, 44, 55, 20, 97, 67, 46]\n",
    "sorted_arr = insertion_sort_rec(arr, len(arr) - 1)\n",
    "sorted_arr"
   ]
  },
  {
   "attachments": {},
   "cell_type": "markdown",
   "metadata": {},
   "source": [
    "### Characteristic"
   ]
  },
  {
   "cell_type": "markdown",
   "metadata": {},
   "source": [
    "#### Complexity Analysis"
   ]
  },
  {
   "attachments": {},
   "cell_type": "markdown",
   "metadata": {},
   "source": [
    "- **Time complexity**: \n",
    "  - On average, insertion sort takes about $(N^2)/4$ comparison and $(N^2)/4$ exchanges. \n",
    "  - Worst case (completely reversed) need $(N^2)/2$ comparison and $(N^2)/2$ exchanges. \n",
    "  - Best case (completely sorted) needs $N-1$ comparison and $0$ exchanges. \n",
    "\n",
    "- Space complexity: The space complexity is the memory space occupied by the temporary variable when exchanging elements, it has nothing to do with the data size, the space complexity is $O\\left( 1 \\right)$;\n",
    "- The running time is relative to the input. For example, sorting an array whose elements are already in order is much faster than sorting an array whose elements are in reverse order.\n",
    "\n",
    "> In practice, insertion sort works well for non-random arrays. For example, as mentioned earlier, when sorting an ordered array with insertion sort, insertion sort can immediately find that each element is already in the appropriate position, and its running time is also linear (while the running time of selection sort time at the square level). \n"
   ]
  },
  {
   "attachments": {},
   "cell_type": "markdown",
   "metadata": {},
   "source": [
    "#### Advantages"
   ]
  },
  {
   "attachments": {},
   "cell_type": "markdown",
   "metadata": {},
   "source": [
    "\n",
    "- Simple implementation: Jon Bentley shows a three-line C/C++ version that is five lines when optimized.[1]\n",
    "- Efficient for (quite) small data sets, much like other quadratic (i.e., $O(n^2)$) sorting algorithms\n",
    "- More efficient in practice than most other simple quadratic algorithms such as selection sort or bubble sort\n",
    "- Adaptive, i.e., efficient for data sets that are already substantially sorted: the time complexity is $O(kn)$ when each element in the input is no more than $k$ places away from its sorted position\n",
    "- Stable; i.e., does not change the relative order of elements with equal keys\n",
    "- In-place; i.e., only requires a constant amount $O(1)$ of additional memory space\n",
    "- Online; i.e., can sort a list as it receives it\n",
    "\n",
    "---"
   ]
  },
  {
   "cell_type": "markdown",
   "metadata": {},
   "source": [
    "\n",
    "## Hill Sort -- Variant of Insertion Sort"
   ]
  },
  {
   "cell_type": "markdown",
   "metadata": {},
   "source": [
    "### Overview"
   ]
  },
  {
   "attachments": {},
   "cell_type": "markdown",
   "metadata": {},
   "source": [
    "In order to solve the problem of low efficiency of insertion sorting for disordered arrays, a variant of insertion sorting is generated. This method is Hill sorting.\n",
    "\n",
    "Because insertion sorting is more efficient for <u>near-ordered arrays and small arrays</u>, the core idea of ​​Hill sorting is to **divide the large array into several small arrays for sorting, so that the large array gradually becomes orderly, and finally use insertion sorting to sort Large arrays are sorted.**\n",
    "\n",
    "Hill sorting divides the elements with an interval of $h$ into a small array, so that the <u>moving distance</u> of the elements changes from 1 in insertion sorting to $h$. \n",
    "\n",
    "<img width=50% height=50% src=\"https://pic.leetcode-cn.com/99e4e548402f02aa699f4bed94a319be3413fe6f86f6ad3d2be08b64a51cca9a.gif\">"
   ]
  },
  {
   "cell_type": "code",
   "execution_count": 48,
   "metadata": {},
   "outputs": [],
   "source": [
    "def hill_sort(arr: List[int]) -> List[int]:\n",
    "    step = 0\n",
    "    while step < (len(arr) // 3):  step = step * 3 + 1\n",
    "    while step >= 1:\n",
    "        for i in range(step, len(arr)):\n",
    "            j = i\n",
    "            while j > 0 and arr[j] < arr[j - step]:\n",
    "                arr[j], arr[j - step] = arr[j - step], arr[j]\n",
    "                j -= step\n",
    "        step //= 3\n",
    "    return arr"
   ]
  },
  {
   "cell_type": "code",
   "execution_count": 50,
   "metadata": {},
   "outputs": [
    {
     "name": "stdout",
     "output_type": "stream",
     "text": [
      "Original: [579, 947, 673, 818, 639, 563, 31, 667, 613, 999, 467, 52, 781, 376, 553, 495, 205, 786, 630, 453, 349, 636, 492, 596, 875, 821, 387, 315, 666, 38, 95, 140, 621, 357, 589, 638, 452, 961, 450, 307, 954, 188, 927, 966, 758, 784, 482, 12, 887, 640, 277, 30, 211]\n",
      "Sorted: [12, 30, 31, 38, 52, 95, 140, 188, 205, 211, 277, 307, 315, 349, 357, 376, 387, 450, 452, 453, 467, 482, 492, 495, 553, 563, 579, 589, 596, 613, 621, 630, 636, 638, 639, 640, 666, 667, 673, 758, 781, 784, 786, 818, 821, 875, 887, 927, 947, 954, 961, 966, 999]\n"
     ]
    }
   ],
   "source": [
    "arr = random.sample(range(10,1000), 53)\n",
    "print(f\"Original: {arr}\")\n",
    "sorted_arr = hill_sort(arr)\n",
    "print(f\"Sorted: {sorted_arr}\")"
   ]
  }
 ],
 "metadata": {
  "kernelspec": {
   "display_name": "Python 3",
   "language": "python",
   "name": "python3"
  },
  "language_info": {
   "codemirror_mode": {
    "name": "ipython",
    "version": 3
   },
   "file_extension": ".py",
   "mimetype": "text/x-python",
   "name": "python",
   "nbconvert_exporter": "python",
   "pygments_lexer": "ipython3",
   "version": "3.8.10"
  },
  "orig_nbformat": 4,
  "vscode": {
   "interpreter": {
    "hash": "5b3ded1ccb95c1d9bd405e7b823d9e85424cde40fbb5985eb47e999ef50e15b4"
   }
  }
 },
 "nbformat": 4,
 "nbformat_minor": 2
}
