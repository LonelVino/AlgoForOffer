{
 "cells": [
  {
   "attachments": {},
   "cell_type": "markdown",
   "metadata": {},
   "source": [
    "## Selection Sort"
   ]
  },
  {
   "attachments": {},
   "cell_type": "markdown",
   "metadata": {},
   "source": [
    "**Principle idea**: Continuously select the smallest of the remaining elements:\n",
    "1. find the smallest element in the array and exchange its position with the first element\n",
    "2. find the smallest element among the **remaining elements** and exchange its position with the second element. And so on, until the entire array is sorted. \n",
    "\n",
    "**Stp by step example**:\n",
    "```\n",
    "arr[] = 64 25 12 22 11\n",
    "\n",
    "// Find the minimum element in arr[0...4]\n",
    "// and place it at beginning\n",
    "11 25 12 22 64\n",
    "\n",
    "// Find the minimum element in arr[1...4]\n",
    "// and place it at beginning of arr[1...4]\n",
    "11 12 25 22 64\n",
    "\n",
    "// Find the minimum element in arr[2...4]\n",
    "// and place it at beginning of arr[2...4]\n",
    "11 12 22 25 64\n",
    "\n",
    "// Find the minimum element in arr[3...4]\n",
    "// and place it at beginning of arr[3...4]\n",
    "11 12 22 25 64 \n",
    "```\n",
    "![gif of selection sort](https://upload.wikimedia.org/wikipedia/commons/9/94/Selection-Sort-Animation.gif)"
   ]
  },
  {
   "cell_type": "code",
   "execution_count": 9,
   "metadata": {},
   "outputs": [],
   "source": [
    "from typing import List\n",
    "\n",
    "def selection_sort(arr: List[int]) -> List[int]:\n",
    "    for i in range(len(arr) - 1):\n",
    "        min = i\n",
    "        for j in range(i, len(arr)):\n",
    "            if arr[j] < arr[min]:\n",
    "                min = j\n",
    "        arr[i], arr[min] = arr[min], arr[i]\n",
    "    return arr"
   ]
  },
  {
   "cell_type": "code",
   "execution_count": 10,
   "metadata": {},
   "outputs": [
    {
     "data": {
      "text/plain": [
       "[17, 20, 26, 31, 44, 54, 55, 77, 93]"
      ]
     },
     "execution_count": 10,
     "metadata": {},
     "output_type": "execute_result"
    }
   ],
   "source": [
    "arr = [54, 26, 93, 17, 77, 31, 44, 55, 20]\n",
    "sorted_arr = selection_sort(arr)\n",
    "sorted_arr"
   ]
  },
  {
   "attachments": {},
   "cell_type": "markdown",
   "metadata": {},
   "source": [
    "### Complexity Analysis"
   ]
  },
  {
   "attachments": {},
   "cell_type": "markdown",
   "metadata": {},
   "source": [
    "Selection sort is not difficult to analyze compared to other sorting algorithms, since none of the loops depend on the data in the array. Selecting the minimum requires scanning n n elements (taking $n-1$ comparisons) and then swapping it into the first position. Finding the next lowest element requires scanning the remaining $n − 2$ elements and so on. Therefore, the total number of comparisons is :\n",
    "\n",
    "$$\n",
    "{\\displaystyle (n-1)+(n-2)+...+1=\\sum _{i=1}^{n-1}i} \\\\\n",
    "{\\displaystyle \\sum _{i=1}^{n-1}i={\\frac {(n-1)+1}{2}}(n-1)={\\frac {1}{2}}n(n-1)={\\frac {1}{2}}(n^{2}-n)}\n",
    "$$\n",
    "\n",
    "which is of complexity $O(n^{2})$ in terms of number of comparisons. The worst condition is that each of these scans requires one swap for $n-1$ elements (the final element is already in place). \n",
    "\n"
   ]
  },
  {
   "attachments": {},
   "cell_type": "markdown",
   "metadata": {},
   "source": [
    "#### Comparison to other sorting algorithms\n",
    "\n",
    "Characteristic of selection sort:\n",
    "- **The runtime is independent of the input**. The time required is the same regardless of the ordering of the elements in the array due to the fixed number of comparisons: ${\\frac{1}{2}}(n^{2}-n)$.\n",
    "- **The least number of moves**. Selection sort only using $N-1$ swap (worst condition) is a feature that other sorting algorithms do not have. \n",
    "\n",
    "1. selection sort almost always outperforms bubble sort and gnome sort\n",
    "2. Insertion sort is very similar in that after the kth iteration, the first $k$ elements in the array are in sorted order. <br/>\n",
    "   Insertion sort's advantage is that it only scans as many elements as it needs in order to place the $k+1 st$  element, while selection sort must scan all remaining elements to find the $k+1st$  element. \n",
    "3. While selection sort is preferable to insertion sort in terms of number of writes $n-1$ swaps versus up to $n(n-1)/2$ swaps, with each swap being two writes)\n",
    "4. Finally, selection sort is greatly outperformed on larger arrays by $\\Theta (n\\log n)$ divide-and-conquer algorithms such as merge sort. However, insertion sort or selection sort are both typically faster for small arrays (i.e. fewer than 10–20 elements)."
   ]
  }
 ],
 "metadata": {
  "kernelspec": {
   "display_name": "Python 3",
   "language": "python",
   "name": "python3"
  },
  "language_info": {
   "codemirror_mode": {
    "name": "ipython",
    "version": 3
   },
   "file_extension": ".py",
   "mimetype": "text/x-python",
   "name": "python",
   "nbconvert_exporter": "python",
   "pygments_lexer": "ipython3",
   "version": "3.8.10"
  },
  "orig_nbformat": 4,
  "vscode": {
   "interpreter": {
    "hash": "5b3ded1ccb95c1d9bd405e7b823d9e85424cde40fbb5985eb47e999ef50e15b4"
   }
  }
 },
 "nbformat": 4,
 "nbformat_minor": 2
}
