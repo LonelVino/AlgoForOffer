{
 "cells": [
  {
   "cell_type": "markdown",
   "id": "honest-permission",
   "metadata": {},
   "source": [
    "## Sorting\n",
    "\n",
    "### 1.Quick Sort \n",
    "`sentry division`, `recursive`\n",
    "\n",
    "Divide and conquer: filter the original array into 2 sub-arrays, in which the data of the first array should be smaller than the data of the latter one, and then recursively sort the 2 sub-arrays. Specifically: \n",
    "1. find a random element $x_b$ as the base, which should be kept still and will only be exchanged until 2 sentries meet each other.\n",
    "   1. set 2 sentries(pointers) at the start and the end, denoted as $p_s$ and $p_e$, respectively; \n",
    "      - $p_s$ goes from left to right, aiming to find an element $x_l$ larger than the base;\n",
    "      - $p_e$ goes from right to left, aiming to find an element $x_s$ smaller than the base;\n",
    "   2. exchange $x_s$ and $x_l$;\n",
    "   3. continue to move these 2 sentries, repeat the process above;\n",
    "2. until $p_s$ and $p_e$ meet each other, exchange $x_b$ and $arr[p_s]$ (*i.e.*, $arr[p_e]$).  \n",
    "3. recursively call the function to quick sort the 2 sub-array, and at last we will get a entirely ordered array."
   ]
  },
  {
   "cell_type": "code",
   "execution_count": 1,
   "id": "chemical-requirement",
   "metadata": {},
   "outputs": [],
   "source": [
    "import random\n",
    "class Solution:\n",
    "    def MySort(self , arr ):\n",
    "        self.randomQuicksort(arr, 0, len(arr)-1)\n",
    "        return arr\n",
    "    \n",
    "    def randomPartition(self, arr, l, r):\n",
    "        pivot = random.randint(l, r)\n",
    "        arr[pivot], arr[r] = arr[r], arr[pivot]\n",
    "        i = l - 1\n",
    "        for j in range(l, r):\n",
    "            if arr[j] < arr[r]:\n",
    "                i += 1\n",
    "                arr[j], arr[i] = arr[i], arr[j]\n",
    "        i += 1\n",
    "        arr[i], arr[r] = arr[r], arr[i]\n",
    "        return i\n",
    "    \n",
    "    def randomQuicksort(self, arr, l, r):\n",
    "        if l >= r:\n",
    "            return\n",
    "        mid = self.randomPartition(arr, l, r)\n",
    "        self.randomQuicksort(arr, l, mid-1)\n",
    "        self.randomQuicksort(arr, mid+1, r)"
   ]
  },
  {
   "cell_type": "code",
   "execution_count": 10,
   "id": "super-plaintiff",
   "metadata": {},
   "outputs": [
    {
     "name": "stdout",
     "output_type": "stream",
     "text": [
      "[1, 2, 3, 6, 12, 15, 20, 24, 54]\n"
     ]
    }
   ],
   "source": [
    "ss = Solution()\n",
    "nums = [20,24,15,12,1,2,3,54,6]\n",
    "ss.MySort(nums)\n",
    "print(nums)"
   ]
  },
  {
   "attachments": {},
   "cell_type": "markdown",
   "id": "southern-compiler",
   "metadata": {},
   "source": [
    "### 2.Merging Sort\n",
    "\n",
    "归并排序是把待排序序列分为若干个子序列，每个子序列是有序的。然后再把有序子序列合并为整体有序序列\n",
    "![](https://www.coderarticles.com/wp-content/uploads/2019/01/merge_sort_algorithm.png)"
   ]
  },
  {
   "cell_type": "code",
   "execution_count": 1,
   "id": "ruled-curve",
   "metadata": {},
   "outputs": [],
   "source": [
    "class Solution:\n",
    "    def MySort(self , arr ):\n",
    "        if len(arr) <= 1:\n",
    "            return arr\n",
    "        mid = len(arr) // 2\n",
    "        return self.merge(self.MySort(arr[:mid]), self.MySort(arr[mid:]))\n",
    "    \n",
    "    def merge(self, left, right):\n",
    "        result = []\n",
    "        while len(left) >0 and len(right) > 0:\n",
    "            if left[0] <= right[0]:\n",
    "                result.append(left.pop(0))\n",
    "            else:\n",
    "                result.append(right.pop(0))\n",
    "        result += left\n",
    "        result += right\n",
    "        return result"
   ]
  },
  {
   "cell_type": "code",
   "execution_count": 38,
   "id": "physical-premises",
   "metadata": {},
   "outputs": [
    {
     "name": "stdout",
     "output_type": "stream",
     "text": [
      "[1, 2, 3, 6, 12, 15, 20, 24, 54]\n"
     ]
    }
   ],
   "source": [
    "ss = Solution()\n",
    "nums = [20,24,15,12,1,2,3,54,6]\n",
    "nums = ss.MySort(nums)\n",
    "print(nums)"
   ]
  },
  {
   "attachments": {},
   "cell_type": "markdown",
   "id": "confidential-graham",
   "metadata": {},
   "source": [
    "Python has a module that specifically provides a merge sort method called the `heapq` module, so we only need to import the decomposed results into this method"
   ]
  },
  {
   "cell_type": "code",
   "execution_count": 40,
   "id": "optimum-consumer",
   "metadata": {},
   "outputs": [],
   "source": [
    "from heapq import merge\n",
    "\n",
    "def merge_sort(arr):\n",
    "    if len(arr) <= 1:\n",
    "        return arr\n",
    "    mid = len(arr) // 2\n",
    "    return list(merge(arr[:mid], arr[mid:]))"
   ]
  },
  {
   "attachments": {},
   "cell_type": "markdown",
   "id": "english-adams",
   "metadata": {},
   "source": [
    "#### Complexity Analysis\n",
    "\n",
    "- Time Complexity: $O(N \\log N)$;\n",
    "- Space Complexity: with a temporary array, $O(N)$; w/o a temporary array, $O(1)$;\n",
    "- Stable: the relative order of the elements doesn't change during sorting, thus heap sort is a stable sort method."
   ]
  },
  {
   "attachments": {},
   "cell_type": "markdown",
   "id": "metric-sussex",
   "metadata": {},
   "source": [
    "### 3. Heap sort\n",
    "(1) The heap tree is a complete binary tree;\n",
    "\n",
    "(2) The value of a node in the heap tree is always not greater than or not less than the value of its child nodes;\n",
    "\n",
    "(3) The subtree of each node in the heap tree is a heap tree.\n",
    "\n",
    "Max-heap: The maximum value in the heap is always at the root node (min-heap is used in the priority queue: the minimum value in the heap is at the root node)"
   ]
  },
  {
   "cell_type": "code",
   "execution_count": null,
   "id": "determined-member",
   "metadata": {},
   "outputs": [],
   "source": [
    "from typing import List\n",
    "def build(arr:List[int], root, end):\n",
    "    while True:\n",
    "        child = 2 * root + 1 # 左子节点的位置\n",
    "        if child > end: # 若左子节点超过了最后一个节点，则终止循环\n",
    "            break\n",
    "        if (child + 1 <= end) and (arr[child + 1] > arr[child]): # 若右子节点在最后一个节点之前，并且右子节点比左子节点大，则我们的孩子指针移到右子节点上\n",
    "            child += 1\n",
    "        if arr[child] > arr[root]: # 若最大的孩子节点大于根节点，则交换两者顺序，并且将根节点指针，移到这个孩子节点上\n",
    "            arr[child], arr[root] = arr[root], arr[child]\n",
    "            root = child\n",
    "        else:\n",
    "            break\n",
    "\n",
    "def heap_sort(arr:List[int]):\n",
    "    n = len(arr)\n",
    "    first_root = n // 2 - 1 # 确认最深最后的那个根节点的位置\n",
    "    for root in range(first_root, -1, -1): # 由后向前遍历所有的根节点，建堆并进行调整\n",
    "        build(arr, root, n - 1)\n",
    "    print(\"Heap Array: \", arr)\n",
    "        \n",
    "    for end in range(n - 1, 0, -1): # 调整完成后，将堆顶的根节点与堆内最后一个元素调换位置，此时为数组中最大的元素，然后重新调整堆，将最大的元素冒到堆顶。依次重复上述操作\n",
    "        arr[0], arr[end] = arr[end], arr[0]\n",
    "        build(arr, 0, end - 1)\n",
    "        \n",
    "if __name__ == \"__main__\":\n",
    "    import random\n",
    "    random.seed(54)\n",
    "    arr = [random.randint(0,100) for _ in range(10)]\n",
    "    print(\"Original Array: \", arr)\n",
    "    heap_sort(arr)\n",
    "    print(\"Sorted Array: \", arr)"
   ]
  },
  {
   "attachments": {},
   "cell_type": "markdown",
   "id": "offensive-disposition",
   "metadata": {},
   "source": [
    "### 4. Insertion Sort\n",
    "For unsorted data, scan from back to front in the sorted sequence, find the corresponding position and insert\n",
    "#### Implementation steps\n",
    "- starting from the first element, the element can be considered sorted;\n",
    "- Take out the new element, and scan from the back to the front in the sorted element sequence (the sequence before the new element);\n",
    "- If the element in the sorted sequence is greater than the new element, move the sorted element back;\n",
    "- Repeat step 3 until you find the position where the sorted element is less than or equal to the new element;\n",
    "- Insert the new element one position after the position;\n",
    "- Repeat steps 2~5."
   ]
  },
  {
   "cell_type": "code",
   "execution_count": 56,
   "id": "atmospheric-hayes",
   "metadata": {},
   "outputs": [],
   "source": [
    "from typing import List\n",
    "\n",
    "def insertion_sort(arr: List[int]):\n",
    "    length = len(arr)\n",
    "    if length <= 1:\n",
    "        return\n",
    "    \n",
    "    for i in range(1, length):\n",
    "        value = arr[i]\n",
    "        j = i - 1\n",
    "        while j >= 0 and arr[j] > value:\n",
    "            arr[j + 1] = arr[j]\n",
    "            j -= 1\n",
    "        arr[j + 1] = value"
   ]
  },
  {
   "attachments": {},
   "cell_type": "markdown",
   "id": "informal-temperature",
   "metadata": {},
   "source": [
    "![gif](https://image-static.segmentfault.com/961/819/961819017-5ec37259eaa75_fix732)\n",
    "\n",
    "\n",
    "- **Time complexity**: \n",
    "  - On average, insertion sort takes about $(N^2)/4$ comparison and $(N^2)/4$ exchanges. \n",
    "  - Worst case (completely reversed) need $(N^2)/2$ comparison and $(N^2)/2$ exchanges. \n",
    "  - Best case (completely sorted) needs $N-1$ comparison and $0$ exchanges. \n",
    "\n",
    "- space complexity\n",
    "\n",
    "The space complexity is the memory space occupied by the temporary variable when exchanging elements, it has nothing to do with the data size, the space complexity is $O\\left( 1 \\right)$\n",
    "\n",
    "- Stability\n",
    "\n",
    "During the sorting process, the relative positions of the same elements remain unchanged, so the insertion sort is a stable sort."
   ]
  },
  {
   "attachments": {},
   "cell_type": "markdown",
   "id": "municipal-hormone",
   "metadata": {},
   "source": [
    "### 5.Bubble Sort\n"
   ]
  },
  {
   "cell_type": "code",
   "execution_count": 2,
   "id": "framed-cancer",
   "metadata": {},
   "outputs": [],
   "source": [
    "from typing import List\n",
    "\n",
    "def bubbleSort(arr: List[int]) -> List[int]:\n",
    "    if len(arr) <= 1:\n",
    "        return \n",
    "    for i in range(len(arr)):\n",
    "        is_made_swap = False\n",
    "        for j in range(len(arr)-i-1):\n",
    "            if arr[j] > arr[j+1]:\n",
    "                arr[j], arr[j+1] = arr[j+1], arr[j]\n",
    "                is_made_swap = True\n",
    "        if not is_made_swap:\n",
    "            break"
   ]
  },
  {
   "attachments": {},
   "cell_type": "markdown",
   "id": "proper-webcam",
   "metadata": {},
   "source": [
    "### 6. Selection sort\n",
    "First find the smallest (largest) element in the unsorted sequence, store it at the beginning of the sorted sequence, then continue to find the smallest (largest) element from the remaining unsorted elements, and then put it at the end of the sorted sequence.\n",
    "\n",
    "The main advantage of selection sort is related to data movement.\n",
    "- If an element is in the correct final position, it will not be moved.\n",
    "- Selection sort swaps a pair of elements each time, at least one of them will be moved to its final position, so sorting a list of n elements performs at most n-1 swaps in total.\n",
    "- Among all sorting methods that rely entirely on swapping to move elements, selection sort is a very good one."
   ]
  },
  {
   "cell_type": "code",
   "execution_count": 8,
   "id": "binding-algorithm",
   "metadata": {},
   "outputs": [],
   "source": [
    "def selectSort(arr):\n",
    "    for j in range(0, len(arr)-1):\n",
    "        min_idx = j\n",
    "        for i in range(j+1, len(arr)):\n",
    "            if arr[i] < arr[min_idx]:\n",
    "                min_idx = i\n",
    "        if j != min_idx:\n",
    "            arr[min_idx], arr[j] = arr[j], arr[min_idx] "
   ]
  },
  {
   "cell_type": "code",
   "execution_count": null,
   "id": "continued-metropolitan",
   "metadata": {},
   "outputs": [],
   "source": [
    "if __name__ == '__main__':\n",
    "    alist = [54, 26, 93, 17, 77, 31, 44, 55, 20]\n",
    "    print(\"Original Array：%s\" % alist)\n",
    "    selectSort(alist)\n",
    "    print(\"Sorted Array：%s\" % alist)"
   ]
  },
  {
   "attachments": {
    "image.png": {
     "image/png": "[encoded data removed]"
    }
   },
   "cell_type": "markdown",
   "id": "fitting-makeup",
   "metadata": {},
   "source": [
    "![image.png](attachment:image.png)"
   ]
  },
  {
   "attachments": {},
   "cell_type": "markdown",
   "id": "previous-refund",
   "metadata": {},
   "source": [
    "### 7. Counting sort\n",
    "Counting Sort is not a sorting algorithm based on comparison. Its core is to convert the input data value into a key and store it in the additional array space\n",
    "\n",
    "A linear time complexity sorting that requires input data to be integers with a certain range\n",
    "\n",
    "The basic idea is: given each element x in the input sequence, determine the number of elements whose value is less than or equal to x in the sequence, and then store x directly in the correct position of the final sorted sequence.\n",
    "\n",
    "#### Algorithm Implementation Steps\n",
    "- Apply for additional space according to the difference range between the largest element and the smallest element in the collection to be sorted;\n",
    "- Traverse the collection to be sorted, and record the number of occurrences of each element in the extra space corresponding to the element value;\n",
    "- Calculate the data in the extra space to get the correct position of each element;\n",
    "- Move each element of the collection to be sorted to the calculated correct position"
   ]
  },
  {
   "cell_type": "code",
   "execution_count": null,
   "id": "present-chance",
   "metadata": {},
   "outputs": [],
   "source": [
    "from typing import List\n",
    "    \n",
    "def counting_sort(arr:List[int]):\n",
    "    ma=mi=0\n",
    "    mi = min(arr)\n",
    "    ma = max(arr)\n",
    "    count = [0] * (ma-mi+1)\n",
    "    for index in arr:\n",
    "        count[index-mi] += 1\n",
    "    idx = 0\n",
    "    for i in range(ma-mi+1):\n",
    "        for j in range(count[i]):\n",
    "            arr[idx] = i+mi\n",
    "            idx += 1\n",
    "    \n",
    "if __name__ == '__main__':\n",
    "    import random\n",
    "    random.seed(54)\n",
    "    arr = [random.randint(0,100) for _ in range(10)]\n",
    "    print(\"Original Array: \", arr)\n",
    "    counting_sort(arr)\n",
    "    print(\"Sorted Array: \", arr)"
   ]
  },
  {
   "attachments": {},
   "cell_type": "markdown",
   "id": "satellite-score",
   "metadata": {},
   "source": [
    "### 8. Bucket Sort\n",
    "\n",
    "Store the elements in the same value range in the collection to be sorted into the same bucket, which is in an ordered state from the value range.\n",
    "\n",
    "**Sort the elements in each bucket, then the set of elements in all buckets is sorted**\n",
    "\n",
    "Bucket sorting is an extended version of counting sort. Counting sorting can be seen as storing only the same elements in each bucket, while bucket sorting stores a certain range of elements in each bucket.\n",
    "\n",
    "#### Implementation steps\n",
    "- Determine the number of buckets to apply for according to the difference range and mapping rules between the largest element and the smallest element in the set to be sorted;\n",
    "- Traverse the sorted sequence and put each element into the corresponding bucket;\n",
    "- Sort buckets that are not empty;\n",
    "- Access the buckets in order, and put the elements in the bucket back to the corresponding positions in the original sequence to complete the sorting."
   ]
  },
  {
   "cell_type": "markdown",
   "id": "equal-shield",
   "metadata": {},
   "source": [
    "## 88. 合并两个有序数组\n",
    "给你两个有序整数数组 nums1 和 nums2，请你将 nums2 合并到 nums1 中，使 nums1 成为一个有序数组。\n",
    "\n",
    "初始化 nums1 和 nums2 的元素数量分别为 m 和 n 。你可以假设 nums1 的空间大小等于 m + n，这样它就有足够的空间保存来自 nums2 的元素。\n",
    "\n",
    "示例 1：\n",
    "```\n",
    "输入：nums1 = [1,2,3,0,0,0], m = 3, nums2 = [2,5,6], n = 3\n",
    "输出：[1,2,2,3,5,6]\n",
    "```\n",
    "示例 2：\n",
    "```\n",
    "输入：nums1 = [1], m = 1, nums2 = [], n = 0\n",
    "输出：[1]\n",
    " ```\n",
    "\n",
    "提示：\n",
    "```\n",
    "nums1.length == m + n\n",
    "nums2.length == n\n",
    "0 <= m, n <= 200\n",
    "1 <= m + n <= 200\n",
    "-109 <= nums1[i], nums2[i] <= 109\n",
    "```\n"
   ]
  },
  {
   "cell_type": "code",
   "execution_count": 12,
   "id": "searching-gospel",
   "metadata": {},
   "outputs": [
    {
     "name": "stdout",
     "output_type": "stream",
     "text": [
      "原始数据： [17, 56, 71, 38, 61, 62, 48, 28, 57, 42]\n",
      "[[17], [], [28], [38], [42], [48], [], [56, 57], [61, 62], [71], []]\n",
      "桶排序结果： [17, 28, 38, 42, 48, 56, 57, 61, 62, 71]\n"
     ]
    }
   ],
   "source": [
    "from typing import List\n",
    "\n",
    "def bucket_sort(arr:List[int]):\n",
    "    ma, mi = max(arr), min(arr)\n",
    "    bucket_range = (ma-mi)/len(arr)\n",
    "    count_list = [[] for i in range(len(arr)+1)]\n",
    "    for i in arr:\n",
    "        count_list[int((i-mi)//(bucket_range))].append(i)\n",
    "    arr.clear()\n",
    "    for i in count_list:\n",
    "        for j in sorted(i):\n",
    "            arr.append(j)\n",
    "\n",
    "if __name__ == '__main__':\n",
    "    import random\n",
    "    random.seed(54)\n",
    "    arr = [random.randint(0,100) for _ in range(10)]\n",
    "    print(\"原始数据：\", arr)\n",
    "    bucket_sort(arr)\n",
    "    print(\"桶排序结果：\", arr)"
   ]
  },
  {
   "cell_type": "markdown",
   "id": "narrative-alexander",
   "metadata": {},
   "source": [
    "## 8.基数排序(Radix Sort)\n",
    "\n",
    "将所有待比较数值统一为同样的数位长度，数位较短的数前面补零。按照低位先排序，分别放入10个队列中"
   ]
  },
  {
   "cell_type": "markdown",
   "id": "stock-consultancy",
   "metadata": {},
   "source": [
    " ### 方法一：快速排序\n",
    "\n",
    "**主要思想**：\n",
    "\n",
    "通过划分将待排序的序列分成前后两部分，其中前一部分的数据都比后一部分的数据要小\n",
    "然后再递归调用函数对两部分的序列分别进行快速排序，以此使整个序列达到有序\n",
    "\n",
    "**基本思路：**\n",
    "\n",
    "我们定义函数` randomized_quicksort(nums, l, r)` 为对 `nums `数组里 `[l,r]` 的部分进行排序\n",
    "每次先调用 `randomized_partition` 划分函数对 `nums `数组里 `[l,r]` 的部分进行划分，并返回**分界值的下标** `pos`\n",
    "然后按上述将的递归调用`randomized_quicksort(nums, l, pos - 1) `和 `randomized_quicksort(nums, pos + 1, r)` 即可。\n",
    "\n",
    "**核心：划分函数的实现**\n",
    "\n",
    "划分函数一开始需要确定一个分界值（主元 `pivot)`，然后再进行划分。\n",
    "主元的选取有很多种方式，这里我们采用随机的方式，对当前划分区间 `[l,r]` 里的数**等概率随机**一个作为我们的主元，再将主元放到区间末尾，进行划分。\n",
    "\n",
    "整个划分函数 `partition `主要涉及两个指针 `i` 和 `j`，一开始` i = l - 1，j = l`。\n",
    "我们需要实时维护两个指针使得任意时候，对于任意数组下标 `k`，我们有如下条件成立：\n",
    "![image.png](attachment:image.png)\n",
    "我们每次移动指针 `j`，如果 ${nums}[j]> pivot$，我们只需要继续移动指针 `j` ，即能使上述三个条件成立\n",
    "否则我们需要将指针 `i` 加一，然后交换$ {nums}[i]$ 和 ${nums}[j]$，再移动指针 `j` 才能使得三个条件成立。\n",
    "\n",
    "当 `j` 移动到 `r-1` 时结束循环，此时我们可以由上述三个条件知道 `[l,i]` 的数都小于等于主元 `pivot`，``[i+1,r-1]` 的数都大于主元 `pivot`\n",
    "那么我们只要交换 ${nums}[i+1]$和  $ {nums}[r]$ ，即能使得 `[l,i+1]` 区间的数都小于 `[i+2,r]` 区间的数，完成一次划分，且分界值下标为` i+1`，返回即可。\n",
    "\n",
    "**复杂度分析**\n",
    "\n",
    "时间复杂度：基于随机选取主元的快速排序时间复杂度为期望$ O((m+n)\\log (m+n))$\n",
    "\n",
    "空间复杂度：$O(h)$,  其中 $h$  为快速排序递归调用的层数,  最坏情况下需 $O((m+n))$ 的空间,   最优情况下每次都平衡,  空间复杂度为 $O(\\log (m+n))$。"
   ]
  },
  {
   "cell_type": "code",
   "execution_count": 1,
   "id": "judicial-vampire",
   "metadata": {},
   "outputs": [],
   "source": [
    "from typing import List\n",
    "\n",
    "class Solution:\n",
    "    def merge(self, nums1: List[int], m: int, nums2: List[int], n: int) -> None:\n",
    "        \"\"\"\n",
    "        Do not return anything, modify nums1 in-place instead.\n",
    "        \"\"\"\n",
    "        nums1 = nums1[:m] + nums2\n",
    "        self.randomized_quicksort(nums1, 0, len(nums1)-1)\n",
    "        return nums1\n",
    "    \n",
    "    def randomized_partition(self, nums: List[int], l:int, r:int):\n",
    "        import random as rd\n",
    "        pivot = rd.randint(l,r)\n",
    "        nums[pivot], nums[r] = nums[r], nums[pivot]\n",
    "        i = l - 1\n",
    "        for j in range(l, r):\n",
    "            if nums[j] < nums[r]:\n",
    "                i += 1\n",
    "                nums[j], nums[i] = nums[i], nums[j]\n",
    "        i += 1\n",
    "        nums[i], nums[r] = nums[r], nums[i]\n",
    "        return i\n",
    "    def randomized_quicksort(self, nums: List[int], l: int, r: int):\n",
    "        if l >= r:\n",
    "            return\n",
    "        mid = self.randomized_partition(nums, l, r)\n",
    "        self.randomized_quicksort(nums, l, mid-1)\n",
    "        self.randomized_quicksort(nums, mid+1, r)"
   ]
  },
  {
   "cell_type": "markdown",
   "id": "southern-numbers",
   "metadata": {},
   "source": [
    "#### 直接合并后排序\n",
    "复杂度同快速排序\n",
    "```python\n",
    "nums1[m:] = nums2\n",
    "nums1.sort()\n",
    "```"
   ]
  },
  {
   "cell_type": "markdown",
   "id": "concerned-newton",
   "metadata": {},
   "source": [
    "### 双指针\n",
    "\n",
    "**复杂度分析**\n",
    "\n",
    "时间复杂度：$O(m+n)$\n",
    "指针移动单调递增，最多移动 $m+n$ 次，因此时间复杂度为 $O(m+n)$。\n",
    "\n",
    "空间复杂度：$O(m+n)$\n",
    "需要建立长度为 $m+n$ 的中间数组 $\\textit{sorted}$。\n"
   ]
  },
  {
   "cell_type": "code",
   "execution_count": null,
   "id": "convertible-latex",
   "metadata": {},
   "outputs": [],
   "source": [
    "from typing import List\n",
    "\n",
    "class Solution:\n",
    "    def merge(self, nums1: List[int], m: int, nums2: List[int], n: int) -> None:\n",
    "        \"\"\"\n",
    "        Do not return anything, modify nums1 in-place instead.\n",
    "        \"\"\"\n",
    "        sorted = []\n",
    "        p1, p2 = 0, 0\n",
    "        while p1 < m or p2 < n:\n",
    "            if p1 == m:\n",
    "                sorted.append(nums2[p2])\n",
    "                p2 += 1\n",
    "            elif p2 == n:\n",
    "                sorted.append(nums1[p1])\n",
    "                p1 += 1\n",
    "            elif nums1[p1] < nums2[p2]:\n",
    "                sorted.append(nums1[p1])\n",
    "                p1 += 1\n",
    "            else:\n",
    "                sorted.append(nums2[p2])\n",
    "                p2 += 1\n",
    "        nums1[:] = sorted  "
   ]
  },
  {
   "cell_type": "markdown",
   "id": "enclosed-contest",
   "metadata": {},
   "source": [
    "### 逆向双指针\n",
    "算法\n",
    "\n",
    "方法二中，之所以要使用临时变量，是因为如果直接合并到数组 $\\textit{nums}_1$中，$\\textit{nums}_1$中的元素可能会在取出之前被覆盖。那么如何直接避免覆盖 $\\textit{nums}_1$中的元素呢？观察可知，$\\textit{nums}_1$的后半部分是空的，可以直接覆盖而不会影响结果。因此可以指针设置为从后向前遍历，每次取两者之中的较大者放进 $\\textit{nums}_1$的最后面。\n",
    "\n",
    "**复杂度分析**\n",
    "\n",
    "时间复杂度：$O(m+n)$\n",
    "指针移动单调递增，最多移动 $m+n$ 次，因此时间复杂度为 $O(m+n)$。\n",
    "\n",
    "空间复杂度：$O(1)$"
   ]
  },
  {
   "cell_type": "code",
   "execution_count": null,
   "id": "varying-johnston",
   "metadata": {},
   "outputs": [],
   "source": [
    "from typing import List\n",
    "\n",
    "class Solution:\n",
    "    def merge(self, nums1: List[int], m: int, nums2: List[int], n: int) -> None:\n",
    "        \"\"\"\n",
    "        Do not return anything, modify nums1 in-place instead.\n",
    "        \"\"\"\n",
    "        p1, p2 = m-1, n-1\n",
    "        tail = m + n -1\n",
    "        while p1 > -1 or p2 > -1:\n",
    "            if p1 == -1:\n",
    "                nums1[tail] = nums2[p2]\n",
    "                p2 -= 1\n",
    "            elif p2 == -1:\n",
    "                nums1[tail] = nums1[p1]\n",
    "                p1 -= 1\n",
    "            elif nums1[p1] > nums2[p2]:\n",
    "                nums1[tail] = nums1[p1]\n",
    "                p1 -= 1\n",
    "            elif nums2[p2] >= nums1[p1]:\n",
    "                nums1[tail] = nums2[p2]\n",
    "                p2 -= 1\n",
    "            tail -= 1"
   ]
  },
  {
   "cell_type": "code",
   "execution_count": 3,
   "id": "productive-lloyd",
   "metadata": {},
   "outputs": [
    {
     "name": "stdout",
     "output_type": "stream",
     "text": [
      "[1, 2, 3, 0, 0, 0]\n"
     ]
    }
   ],
   "source": [
    "ss = Solution()\n",
    "nums1 = [1,2,3,0,0,0]\n",
    "m = 3\n",
    "nums2 = [2,5,6]\n",
    "n = 3\n",
    "ss.merge(nums1, m, nums2, n)\n",
    "print(nums1)"
   ]
  },
  {
   "cell_type": "markdown",
   "id": "disabled-potter",
   "metadata": {},
   "source": [
    "## 最小的K个数\n",
    "题目描述\n",
    "\n",
    "给定一个数组，找出其中最小的K个数。例如数组元素是4,5,1,6,2,7,3,8这8个数字，则最小的4个数字是1,2,3,4。\n",
    "\n",
    "如果K>数组的长度，那么返回一个空的数组\n",
    "\n",
    "示例：\n",
    "```\n",
    "输入： [4,5,1,6,2,7,3,8],4 \n",
    "return: [1,2,3,4]\n",
    "```"
   ]
  },
  {
   "cell_type": "code",
   "execution_count": null,
   "id": "neither-earth",
   "metadata": {},
   "outputs": [],
   "source": [
    "# -*- coding:utf-8 -*-\n",
    "class Solution:\n",
    "    def GetLeastNumbers_Solution(self, tinput, k):\n",
    "        # write code here\n",
    "        \n",
    "        if K>len(tinput):\n",
    "            return []\n",
    "        for j in range(0, len(tinput)-1):\n",
    "            min_idx = j\n",
    "            for i in range(j+1, len(tinput)):\n",
    "                if tinput[i] < tinput[min_idx]:\n",
    "                    min_idx = i\n",
    "            if j != min_idx:\n",
    "                tinput[j], tinput[min_idx] = tinput[min_idx], tinput[j]\n",
    "        return tinput[:k]"
   ]
  },
  {
   "cell_type": "code",
   "execution_count": null,
   "id": "headed-breast",
   "metadata": {},
   "outputs": [],
   "source": [
    "ss = Solution()\n",
    "nums = [4,5,1,6,2,7,3,8]\n",
    "K = 4\n",
    "ss.GetLeastNumbers_Solution(nums, K)"
   ]
  }
 ],
 "metadata": {
  "kernelspec": {
   "display_name": "base",
   "language": "python",
   "name": "python3"
  },
  "language_info": {
   "codemirror_mode": {
    "name": "ipython",
    "version": 3
   },
   "file_extension": ".py",
   "mimetype": "text/x-python",
   "name": "python",
   "nbconvert_exporter": "python",
   "pygments_lexer": "ipython3",
   "version": "3.9.13"
  },
  "vscode": {
   "interpreter": {
    "hash": "7a6421eabbced0eef48736441bf7ab46ed0c805d83230024a0e157c6d233d8b9"
   }
  }
 },
 "nbformat": 4,
 "nbformat_minor": 5
}
