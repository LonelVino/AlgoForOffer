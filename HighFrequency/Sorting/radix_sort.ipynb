{
 "cells": [
  {
   "cell_type": "code",
   "execution_count": 9,
   "metadata": {},
   "outputs": [],
   "source": [
    "from typing import List"
   ]
  },
  {
   "attachments": {},
   "cell_type": "markdown",
   "metadata": {},
   "source": [
    "## Radix Sort"
   ]
  },
  {
   "attachments": {},
   "cell_type": "markdown",
   "metadata": {},
   "source": [
    "### Overview"
   ]
  },
  {
   "attachments": {},
   "cell_type": "markdown",
   "metadata": {},
   "source": [
    "> The idea of the Radix Sort is to upgrade Counting Sort so that it **maintains the linear time complexity even if the range of elements' values drastically exceeds** the number of elements.\n",
    ">\n",
    "> In fact, Radix Sort inherently uses Counting Sort as the main subroutine\n",
    "\n",
    "**Principle idea**: \n",
    " \n",
    " Radix sort avoids comparison by creating and distributing elements into buckets **according to their radix**. \n",
    " \n",
    " For elements with more than one significant digit, this bucketing process is repeated for each digit, **while preserving the ordering of the prior step**, until all digits have been considered.\n"
   ]
  },
  {
   "attachments": {},
   "cell_type": "markdown",
   "metadata": {},
   "source": [
    "#### Digit Order"
   ]
  },
  {
   "attachments": {},
   "cell_type": "markdown",
   "metadata": {},
   "source": [
    "Radix sorts can be implemented to start at either the most significant digit (MSD) or least significant digit (LSD). For example, with 1234, one could start with 1 (MSD) or 4 (LSD).\n",
    "\n",
    "LSD radix sorts typically use the following sorting order: short keys come before longer keys, and then keys of the same length are sorted lexicographically. **This coincides with the normal order of integer representations**, like the sequence **[1, 2, 3, 4, 5, 6, 7, 8, 9, 10, 11]**.<br/>\n",
    "(LSD sorts are generally <u>stable sorts</u>)\n",
    "\n",
    "MSD radix sorts are most suitable for **sorting strings or fixed-length integer representations**. A sequence like **[b, c, e, d, f, g, ba]** would be sorted as **[b, ba, c, d, e, f, g]**. If lexicographic ordering is used to sort variable-length integers in base 10, then numbers from 1 to 10 would be output as **[1, 10, 2, 3, 4, 5, 6, 7, 8, 9]**, as if the shorter keys were left-justified and padded on the right with blank characters to make the shorter keys as long as the longest key. <br/>\n",
    "(MSD sorts are not necessarily stable if the original ordering of duplicate keys must always be maintained)\n",
    "\n",
    "Other than the traversal order, MSD and LSD sorts differ in their handling of variable length input:\n",
    "- LSD sorts can group by length, radix sort each group, then concatenate the groups in size order. \n",
    "- MSD sorts must effectively 'extend' all shorter keys to the size of the largest key and sort them accordingly, which can be more complicated than the grouping required by LSD.\n",
    "\n",
    "However, **MSD sorts are more amenable to subdivision and recursion**. Each bucket created by an MSD step can itself be radix sorted using the next most significant digit, without reference to any other buckets created in the previous step. Once the last digit is reached, concatenating the buckets is all that is required to complete the sort. "
   ]
  },
  {
   "attachments": {},
   "cell_type": "markdown",
   "metadata": {},
   "source": [
    "### Examples"
   ]
  },
  {
   "attachments": {},
   "cell_type": "markdown",
   "metadata": {},
   "source": [
    "#### Least significant digit\n"
   ]
  },
  {
   "attachments": {},
   "cell_type": "markdown",
   "metadata": {},
   "source": [
    "\n",
    "Input list:\n",
    "\n",
    "**[170, 45, 75, 90, 2, 802, 2, 66]**\n",
    "\n",
    "Starting from the rightmost (last) digit, sort the numbers based on that digit:\n",
    "\n",
    "**[{17<u>0</u>, 9<u>0</u>}, {<u>2</u>, 80<u>2</u>, <u>2</u>}, {4<u>5</u>, 7<u>5</u>}, {6<u>6</u>}]**\n",
    "\n",
    "Sorting by the next left digit:\n",
    "\n",
    "**[{02, 802, 02}, {45}, {66}, {170, 75}, {90}]**\n",
    "\n",
    ">    Notice that an implicit digit 0 is prepended for the two 2s so that 802 maintains its position between them.\n",
    "\n",
    "And finally by the leftmost digit:\n",
    "\n",
    "**[{002, 002, 045, 066, 075, 090}, {170}, {802}]**\n",
    "\n",
    ">    Notice that a 0 is prepended to all of the 1- or 2-digit numbers.\n",
    ">\n",
    "Each step requires just a single pass over the data, since each item can be placed in its bucket without comparison with any other element. \n"
   ]
  },
  {
   "attachments": {},
   "cell_type": "markdown",
   "metadata": {},
   "source": [
    "#### Most significant digit"
   ]
  },
  {
   "attachments": {},
   "cell_type": "markdown",
   "metadata": {},
   "source": [
    "Input list, fixed width numeric strings with leading zeros:\n",
    "\n",
    "**[170, 045, 075, 025, 002, 024, 802, 066]**\n",
    "\n",
    "First digit, with brackets indicating buckets:\n",
    "\n",
    "**[{<u>0</u>45, <u>0</u>75, <u>0</u>25, <u>0</u>02, <u>0</u>24, <u>0</u>66}, {<u>1</u>70}, {<u>8</u>02}]**\n",
    "\n",
    " > Notice that 170 and 802 are already complete <font color=orange>because they are all that remain in their buckets</font>, so no further recursion is needed\n",
    "\n",
    "Next digit:\n",
    "\n",
    "**[{ {002}, {025, 024}, {045}, {066}, {075} }, 170, 802]**\n",
    "\n",
    "Final digit:\n",
    "\n",
    "**[ 002, { {024}, {025} }, 045, 066, 075 , 170, 802]**\n",
    "\n",
    "All that remains is concatenation:\n",
    "\n",
    "**[002, 024, 025, 045, 066, 075, 170, 802]**"
   ]
  },
  {
   "cell_type": "markdown",
   "metadata": {},
   "source": [
    "### Implementation"
   ]
  },
  {
   "cell_type": "code",
   "execution_count": 7,
   "metadata": {},
   "outputs": [],
   "source": [
    "def intlen(x: int) -> int: return len(str(x))\n",
    "\n",
    "# A utility function to get the digit at index d in a integer\n",
    "def digit_at(x, d):\n",
    "    return int(x / (10**(d-1))) % 10\n",
    "\n",
    "def getRadix(x, pos: int) -> int:\n",
    "    if pos > intlen(x):\n",
    "        return 0\n",
    "    return int(str(x)[-pos])"
   ]
  },
  {
   "attachments": {},
   "cell_type": "markdown",
   "metadata": {},
   "source": [
    "#### LSD"
   ]
  },
  {
   "cell_type": "code",
   "execution_count": 23,
   "metadata": {},
   "outputs": [],
   "source": [
    "def radix_sort_LSD(arr: List[int]) -> List[int]:\n",
    "    max_digits = intlen(max(arr))\n",
    "    for pos in range(1, max_digits + 1):\n",
    "        buckets = [[] for _ in range(10)]\n",
    "        for i in range(len(arr)):\n",
    "            radix = getRadix(arr[i], pos)\n",
    "            buckets[radix].append(arr[i])\n",
    "        arr = [item for sublist in buckets for item in sublist]\n",
    "    return arr"
   ]
  },
  {
   "cell_type": "code",
   "execution_count": 26,
   "metadata": {},
   "outputs": [
    {
     "data": {
      "text/plain": [
       "[2, 2, 6, 45, 66, 75, 90, 95, 170, 718, 741, 790, 802, 5710, 8586, 8977, 9807]"
      ]
     },
     "execution_count": 26,
     "metadata": {},
     "output_type": "execute_result"
    }
   ],
   "source": [
    "arr = [741, 8586, 5710, 170, 45, 75, 90, 2, 718, 8977, 6, 802, 2, 66, 790, 95, 9807]\n",
    "sorted_arr_LSD = radix_sort_LSD(arr)\n",
    "sorted_arr_LSD"
   ]
  },
  {
   "cell_type": "markdown",
   "metadata": {},
   "source": [
    "#### MSD"
   ]
  },
  {
   "attachments": {},
   "cell_type": "markdown",
   "metadata": {},
   "source": [
    "##### Using Linked List"
   ]
  },
  {
   "cell_type": "code",
   "execution_count": null,
   "metadata": {},
   "outputs": [],
   "source": [
    "import math\n",
    "\n"
   ]
  },
  {
   "attachments": {},
   "cell_type": "markdown",
   "metadata": {},
   "source": [
    "##### Using Counting Sort"
   ]
  },
  {
   "cell_type": "code",
   "execution_count": 19,
   "metadata": {},
   "outputs": [],
   "source": [
    "def radix_sort_MSD(arr: List[int], lo: int, hi: int, d: int) -> List[int]:\n",
    "    '''\n",
    "    Most significant digits radix sort\n",
    "    \n",
    "    Args:\n",
    "        arr (list[int]): the array to be sorted\n",
    "        lo (int): the starting index, which is 0 at first and then the starting index of a bucket during recursion\n",
    "        hi (int): the ending index, which is len(arr) - 1 at first and then the ending index of a bucket during recursion\n",
    "        d (int): the position of the radix, between 1 and the length of maximum value in the array  \n",
    "    '''\n",
    "    # if the counting bucket is empty or contains only one element \n",
    "    # end this recursion (move to the next digit and remove this only element out of buckets if there's an element)\n",
    "    if lo >= (hi - 1): return\n",
    "    count = [0] * 10\n",
    "    # temp is used to easily swap the elements in the original arr, instead of swap directly in the original arr, which will disrupt the origin order  \n",
    "    tmp = [0 for _ in range(len(arr))]\n",
    "    # Store the occurrences of radixes\n",
    "    for i in range(lo, hi):\n",
    "        count[digit_at(arr[i], d)] += 1\n",
    "    # Change count[] so that count[] contains the actual positions of the radixes\n",
    "    for i in range(1, len(count)):\n",
    "        count[i] += count[i - 1]\n",
    "    # build the temp, which contains the relatively ordered elements\n",
    "    for i in range(hi - 1, lo - 1, -1):\n",
    "        radix = digit_at(arr[i], d)\n",
    "        count[radix] -= 1\n",
    "        tmp[count[radix]] = arr[i]\n",
    "    # Put ordered elements back to the array, so that the arr now contains partially ordered elements\n",
    "    for i in range(lo, hi):\n",
    "        arr[i] = tmp[i - lo] # !important, minus `lo`, because the left removed elements are not counted any more\n",
    "    # Recursively MSD_sort() on each partially sorted buckets to sort them by their next digit\n",
    "    for r in range(len(count) - 1):\n",
    "        radix_sort_MSD(arr, lo + count[r], lo + count[r + 1], d - 1)\n",
    "    return arr\n",
    "    "
   ]
  },
  {
   "cell_type": "code",
   "execution_count": 27,
   "metadata": {},
   "outputs": [
    {
     "data": {
      "text/plain": [
       "[2, 2, 6, 45, 66, 75, 90, 95, 170, 718, 741, 790, 802, 5710, 8586, 8977, 9807]"
      ]
     },
     "execution_count": 27,
     "metadata": {},
     "output_type": "execute_result"
    }
   ],
   "source": [
    "arr = [741, 8586, 5710, 170, 45, 75, 90, 2, 718, 8977, 6, 802, 2, 66, 790, 95, 9807]\n",
    "sorted_arr_MSD = radix_sort_MSD(arr, 0, len(arr), intlen(max(arr)))\n",
    "sorted_arr_MSD"
   ]
  },
  {
   "attachments": {},
   "cell_type": "markdown",
   "metadata": {},
   "source": [
    "### Analysis"
   ]
  },
  {
   "attachments": {},
   "cell_type": "markdown",
   "metadata": {},
   "source": [
    "#### Complexity Analysis"
   ]
  },
  {
   "attachments": {},
   "cell_type": "markdown",
   "metadata": {},
   "source": [
    "- Time Complexity:\n",
    "    - LSD Radix sort: Best and Worst-Case time complexity is $O(N*M)$ where $M$ = length of the longest string.\n",
    "    - MSD Radix sort: Best Case time complexity is $O(N)$ and the Worst-Case time complexity is $O(N*M)$ where $M$ = the average length of strings.\n",
    "- Auxiliary Space:\n",
    "    - LSD Radix sort: $O(N + B)$\n",
    "    - MSD Radix sort: $O(N + MB)$, where M = length of the longest string and $B$ = size of radix ($B=10$ possible numbers or $B=256$ characters or $B=2$ for Binary).\n",
    "\n",
    "MSD uses recursion, so it requires more space than LSD. This means that MSD is much slower than LSD when working with a few inputs."
   ]
  },
  {
   "attachments": {},
   "cell_type": "markdown",
   "metadata": {},
   "source": [
    "#### Characteristics\n",
    "\n",
    " **non-comparative** sorting algorithm:  rather uses the inherent nature of the data its sorting to sort faster - it sorts data based on their radix.\n",
    " > Comparative sorting algorithms have the best case time complexity of $O(nlogn)$, which is comparatively worse to linear execution time $(O(n+k))$ of non-comparative algorithms."
   ]
  }
 ],
 "metadata": {
  "kernelspec": {
   "display_name": "Python 3",
   "language": "python",
   "name": "python3"
  },
  "language_info": {
   "codemirror_mode": {
    "name": "ipython",
    "version": 3
   },
   "file_extension": ".py",
   "mimetype": "text/x-python",
   "name": "python",
   "nbconvert_exporter": "python",
   "pygments_lexer": "ipython3",
   "version": "3.8.10"
  },
  "orig_nbformat": 4,
  "vscode": {
   "interpreter": {
    "hash": "5b3ded1ccb95c1d9bd405e7b823d9e85424cde40fbb5985eb47e999ef50e15b4"
   }
  }
 },
 "nbformat": 4,
 "nbformat_minor": 2
}
