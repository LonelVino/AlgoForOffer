{
 "cells": [
  {
   "cell_type": "code",
   "execution_count": 1,
   "metadata": {},
   "outputs": [],
   "source": [
    "from typing import List"
   ]
  },
  {
   "attachments": {},
   "cell_type": "markdown",
   "metadata": {},
   "source": [
    "## Radix Sort"
   ]
  },
  {
   "attachments": {},
   "cell_type": "markdown",
   "metadata": {},
   "source": [
    "### Overview"
   ]
  },
  {
   "attachments": {},
   "cell_type": "markdown",
   "metadata": {},
   "source": [
    "**Principle idea**: \n",
    " \n",
    " Radix sort avoids comparison by creating and distributing elements into buckets **according to their radix**. \n",
    " \n",
    " For elements with more than one significant digit, this bucketing process is repeated for each digit, **while preserving the ordering of the prior step**, until all digits have been considered.\n"
   ]
  },
  {
   "attachments": {},
   "cell_type": "markdown",
   "metadata": {},
   "source": [
    "#### Digit Order"
   ]
  },
  {
   "attachments": {},
   "cell_type": "markdown",
   "metadata": {},
   "source": [
    "Radix sorts can be implemented to start at either the most significant digit (MSD) or least significant digit (LSD). For example, with 1234, one could start with 1 (MSD) or 4 (LSD).\n",
    "\n",
    "LSD radix sorts typically use the following sorting order: short keys come before longer keys, and then keys of the same length are sorted lexicographically. **This coincides with the normal order of integer representations**, like the sequence **[1, 2, 3, 4, 5, 6, 7, 8, 9, 10, 11]**.<br/>\n",
    "(LSD sorts are generally <u>stable sorts</u>)\n",
    "\n",
    "MSD radix sorts are most suitable for **sorting strings or fixed-length integer representations**. A sequence like **[b, c, e, d, f, g, ba]** would be sorted as **[b, ba, c, d, e, f, g]**. If lexicographic ordering is used to sort variable-length integers in base 10, then numbers from 1 to 10 would be output as **[1, 10, 2, 3, 4, 5, 6, 7, 8, 9]**, as if the shorter keys were left-justified and padded on the right with blank characters to make the shorter keys as long as the longest key. <br/>\n",
    "(MSD sorts are not necessarily stable if the original ordering of duplicate keys must always be maintained)\n",
    "\n",
    "Other than the traversal order, MSD and LSD sorts differ in their handling of variable length input:\n",
    "- LSD sorts can group by length, radix sort each group, then concatenate the groups in size order. \n",
    "- MSD sorts must effectively 'extend' all shorter keys to the size of the largest key and sort them accordingly, which can be more complicated than the grouping required by LSD.\n",
    "\n",
    "However, **MSD sorts are more amenable to subdivision and recursion**. Each bucket created by an MSD step can itself be radix sorted using the next most significant digit, without reference to any other buckets created in the previous step. Once the last digit is reached, concatenating the buckets is all that is required to complete the sort. "
   ]
  },
  {
   "attachments": {},
   "cell_type": "markdown",
   "metadata": {},
   "source": [
    "### Examples"
   ]
  },
  {
   "attachments": {},
   "cell_type": "markdown",
   "metadata": {},
   "source": [
    "#### Least significant digit\n"
   ]
  },
  {
   "attachments": {},
   "cell_type": "markdown",
   "metadata": {},
   "source": [
    "\n",
    "Input list:\n",
    "\n",
    "**[170, 45, 75, 90, 2, 802, 2, 66]**\n",
    "\n",
    "Starting from the rightmost (last) digit, sort the numbers based on that digit:\n",
    "\n",
    "**[{17<u>0</u>, 9<u>0</u>}, {<u>2</u>, 80<u>2</u>, <u>2</u>}, {4<u>5</u>, 7<u>5</u>}, {6<u>6</u>}]**\n",
    "\n",
    "Sorting by the next left digit:\n",
    "\n",
    "**[{02, 802, 02}, {45}, {66}, {170, 75}, {90}]**\n",
    "\n",
    ">    Notice that an implicit digit 0 is prepended for the two 2s so that 802 maintains its position between them.\n",
    "\n",
    "And finally by the leftmost digit:\n",
    "\n",
    "**[{002, 002, 045, 066, 075, 090}, {170}, {802}]**\n",
    "\n",
    ">    Notice that a 0 is prepended to all of the 1- or 2-digit numbers.\n",
    ">\n",
    "Each step requires just a single pass over the data, since each item can be placed in its bucket without comparison with any other element. \n"
   ]
  },
  {
   "attachments": {},
   "cell_type": "markdown",
   "metadata": {},
   "source": [
    "#### Most significant digit"
   ]
  },
  {
   "attachments": {},
   "cell_type": "markdown",
   "metadata": {},
   "source": [
    "Input list, fixed width numeric strings with leading zeros:\n",
    "\n",
    "**[170, 045, 075, 025, 002, 024, 802, 066]**\n",
    "\n",
    "First digit, with brackets indicating buckets:\n",
    "\n",
    "**[{<u>0</u>45, <u>0</u>75, <u>0</u>25, <u>0</u>02, <u>0</u>24, <u>0</u>66}, {<u>1</u>70}, {<u>8</u>02}]**\n",
    "\n",
    " > Notice that 170 and 802 are already complete <font color=orange>because they are all that remain in their buckets</font>, so no further recursion is needed\n",
    "\n",
    "Next digit:\n",
    "\n",
    "**[{ {002}, {025, 024}, {045}, {066}, {075} }, 170, 802]**\n",
    "\n",
    "Final digit:\n",
    "\n",
    "**[ 002, { {024}, {025} }, 045, 066, 075 , 170, 802]**\n",
    "\n",
    "All that remains is concatenation:\n",
    "\n",
    "**[002, 024, 025, 045, 066, 075, 170, 802]**"
   ]
  },
  {
   "cell_type": "markdown",
   "metadata": {},
   "source": [
    "### Implementation"
   ]
  },
  {
   "cell_type": "code",
   "execution_count": 43,
   "metadata": {},
   "outputs": [],
   "source": [
    "def intlen(x: int) -> int: return len(str(x))\n",
    "\n",
    "# A utility function to get the digit at index d in a integer\n",
    "def digit_at(x, d):\n",
    "    return int(x / (10**(d-1))) % 10\n",
    "\n",
    "def getRadix(x, pos: int) -> int:\n",
    "    if pos > intlen(x):\n",
    "        return 0\n",
    "    return int(str(x)[-pos])"
   ]
  },
  {
   "attachments": {},
   "cell_type": "markdown",
   "metadata": {},
   "source": [
    "#### LSD"
   ]
  },
  {
   "cell_type": "code",
   "execution_count": 39,
   "metadata": {},
   "outputs": [],
   "source": [
    "def radix_sort_LSD(arr: List[int]) -> List[int]:\n",
    "    max_digits = intlen(max(arr))\n",
    "    for pos in range(1, max_digits + 1):\n",
    "        buckets = [[] for _ in range(10)]\n",
    "        for i in range(len(arr)):\n",
    "            radix = getRadix(arr[i], pos)\n",
    "            buckets[radix].append(arr[i])\n",
    "        arr = [item for sublist in buckets for item in sublist]\n",
    "    return arr"
   ]
  },
  {
   "cell_type": "code",
   "execution_count": 33,
   "metadata": {},
   "outputs": [
    {
     "data": {
      "text/plain": [
       "[2, 2, 45, 66, 75, 90, 170, 802]"
      ]
     },
     "execution_count": 33,
     "metadata": {},
     "output_type": "execute_result"
    }
   ],
   "source": [
    "arr = [170, 45, 75, 90, 2, 802, 2, 66]\n",
    "sorted_arr_LSD = radix_sort_LSD(arr)\n",
    "sorted_arr_LSD"
   ]
  },
  {
   "cell_type": "markdown",
   "metadata": {},
   "source": [
    "#### MSD"
   ]
  },
  {
   "attachments": {},
   "cell_type": "markdown",
   "metadata": {},
   "source": [
    "##### Using Linked List"
   ]
  },
  {
   "cell_type": "code",
   "execution_count": null,
   "metadata": {},
   "outputs": [],
   "source": [
    "import math\n",
    "\n"
   ]
  },
  {
   "attachments": {},
   "cell_type": "markdown",
   "metadata": {},
   "source": [
    "##### Using Counting Sort"
   ]
  },
  {
   "cell_type": "code",
   "execution_count": null,
   "metadata": {},
   "outputs": [],
   "source": []
  },
  {
   "cell_type": "code",
   "execution_count": 40,
   "metadata": {},
   "outputs": [
    {
     "name": "stdout",
     "output_type": "stream",
     "text": [
      "[[45, 75, 90, 2, 2, 66], [170], [], [], [], [], [], [], [802], []]\n",
      "[[2, 2, 802], [], [], [], [45], [], [66], [75, 170], [], [90]]\n",
      "[[170, 90], [], [2, 2, 802], [], [], [45, 75], [66], [], [], []]\n"
     ]
    },
    {
     "data": {
      "text/plain": [
       "[170, 90, 2, 2, 802, 45, 75, 66]"
      ]
     },
     "execution_count": 40,
     "metadata": {},
     "output_type": "execute_result"
    }
   ],
   "source": [
    "arr = [170, 45, 75, 90, 2, 802, 2, 66]\n",
    "sorted_arr_MSD = radix_sort_MSD(arr)\n",
    "sorted_arr_MSD"
   ]
  },
  {
   "attachments": {},
   "cell_type": "markdown",
   "metadata": {},
   "source": [
    "### Analysis"
   ]
  },
  {
   "attachments": {},
   "cell_type": "markdown",
   "metadata": {},
   "source": [
    "#### Complexity Analysis"
   ]
  },
  {
   "attachments": {},
   "cell_type": "markdown",
   "metadata": {},
   "source": [
    "- Time Complexity:\n",
    "    - LSD Radix sort: Best and Worst-Case time complexity is $O(N*M)$ where $M$ = length of the longest string.\n",
    "    - MSD Radix sort: Best Case time complexity is $O(N)$ and the Worst-Case time complexity is $O(N*M)$ where $M$ = the average length of strings.\n",
    "- Auxiliary Space:\n",
    "    - LSD Radix sort: $O(N + B)$\n",
    "    - MSD Radix sort: $O(N + MB)$, where M = length of the longest string and $B$ = size of radix ($B=10$ possible numbers or $B=256$ characters or $B=2$ for Binary).\n",
    "\n",
    "MSD uses recursion, so it requires more space than LSD. This means that MSD is much slower than LSD when working with a few inputs."
   ]
  },
  {
   "attachments": {},
   "cell_type": "markdown",
   "metadata": {},
   "source": [
    "#### Characteristics\n",
    "\n",
    " **non-comparative** sorting algorithm"
   ]
  }
 ],
 "metadata": {
  "kernelspec": {
   "display_name": "Python 3",
   "language": "python",
   "name": "python3"
  },
  "language_info": {
   "codemirror_mode": {
    "name": "ipython",
    "version": 3
   },
   "file_extension": ".py",
   "mimetype": "text/x-python",
   "name": "python",
   "nbconvert_exporter": "python",
   "pygments_lexer": "ipython3",
   "version": "3.8.10"
  },
  "orig_nbformat": 4,
  "vscode": {
   "interpreter": {
    "hash": "5b3ded1ccb95c1d9bd405e7b823d9e85424cde40fbb5985eb47e999ef50e15b4"
   }
  }
 },
 "nbformat": 4,
 "nbformat_minor": 2
}
