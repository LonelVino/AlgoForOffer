{
 "cells": [
  {
   "cell_type": "code",
   "execution_count": 2,
   "metadata": {},
   "outputs": [],
   "source": [
    "from typing import List"
   ]
  },
  {
   "cell_type": "markdown",
   "metadata": {},
   "source": [
    "## Bucket Sort"
   ]
  },
  {
   "attachments": {},
   "cell_type": "markdown",
   "metadata": {},
   "source": [
    "### Overview"
   ]
  },
  {
   "attachments": {},
   "cell_type": "markdown",
   "metadata": {},
   "source": [
    "**Principle idea**: \n",
    "1. Set up an array of initially empty \"buckets\".\n",
    "2. **Scatter**: Go over the original array, putting each object in its bucket.\n",
    "3. Sort each non-empty bucket.\n",
    "4. **Gather**: Visit the buckets in order and put all elements back into the original array.\n",
    "\n",
    "**Pseudo code**:\n",
    "```c\n",
    "function bucketSort(array, k) is\n",
    "    buckets ← new array of k empty lists\n",
    "    M ← 1 + the maximum key value in the array\n",
    "    for i = 0 to length(array) do\n",
    "        insert array[i] into buckets[floor(k × array[i] / M)]\n",
    "    for i = 0 to k do \n",
    "        nextSort(buckets[i])\n",
    "    return the concatenation of buckets[0], ...., buckets[k]\n",
    "```\n",
    "\n",
    "<font color=orange>The key is how to determine how many buckets to create and how to determine the range of buckets, and then how to put the elements into the corresponding bucket.</font> \n",
    "\n",
    "**Implementation steps:**\n",
    "\n",
    "There are many different ways, and we introduce one method as an example. <br/>\n",
    "(for more methods, see [part 2. Applications of Bucket Sort](##Applications-of-Bucket-Sort))\n",
    "\n",
    "- **The number of buckets is equal to the number of the elements**. \n",
    "- **Except that the last bucket only contains the maximum element** in the original array, the interval range of buckets is determined by the proportion:<br/>\n",
    "   `interval span (size) = (max - min) / (number of buckets - 1)`\n",
    "- Find the corresponding bucket, except for the maximum elements.<br/>\n",
    "  `bucket index = floor((number of buckets - 1) * [(array[i] - min) / (max - min)]) `<br/>\n",
    "               `= floor((array[i] - min) / interval span)`\n",
    "\n",
    "   ![bucket sort](https://mmbiz.qpic.cn/mmbiz_png/NtO5sialJZGoiafQsC1MKJHKiaePwNGlaCkeicz5VeTtIU1f94IHoavoJiaUcJzibEzHlENiaRvGNb3Nm9XWj7Vs6ab5g/640?wx_fmt=png&wxfrom=5&wx_lazy=1&wx_co=1)\n",
    "   "
   ]
  },
  {
   "cell_type": "markdown",
   "metadata": {},
   "source": [
    "### Implementation"
   ]
  },
  {
   "cell_type": "code",
   "execution_count": 32,
   "metadata": {},
   "outputs": [],
   "source": [
    "def insertion_sort(arr: List[int]) -> List[int]:\n",
    "    for i in range(len(arr)):\n",
    "        tmp = arr[i]\n",
    "        j = i - 1\n",
    "        while j >= 0 and arr[j] > tmp:\n",
    "            arr[j + 1] = arr[j]\n",
    "            j -= 1\n",
    "        arr[j + 1] = tmp\n",
    "    return arr\n",
    "\n",
    "def shell_sort(arr: List[int]) -> List[int]:\n",
    "    step = 0\n",
    "    while step <= (len(arr) // 3): step = step * 3 + 1\n",
    "    while step >= 1:\n",
    "        for i in range(step, len(arr)):\n",
    "            j = i\n",
    "            while j > 0 and arr[j- step] > arr[j]:\n",
    "                arr[j - step], arr[j] = arr[j], arr[j - step]\n",
    "                j -= step\n",
    "        step //= 3\n",
    "    return arr\n",
    "\n",
    "def bucket_sort(arr: List[int]) -> List[int]:\n",
    "    # Create buckets\n",
    "    num_b = len(arr)\n",
    "    buckets = [[] for _ in range(num_b)]\n",
    "    interval = (max(arr) - min(arr)) / (num_b - 1)\n",
    "    # put elements into buckets in turn\n",
    "    for i in range(len(arr)):\n",
    "        if arr[i] == max(arr):\n",
    "            buckets[-1].append(arr[i])\n",
    "            continue\n",
    "        idx_b = int((arr[i] - min(arr)) / interval)  # rounding down\n",
    "        buckets[idx_b].append(arr[i])\n",
    "    # Sort non-empty buckets\n",
    "    for i in range(num_b):\n",
    "        buckets[i] = shell_sort(buckets[i])\n",
    "    # Gather all elements together\n",
    "    return [item for bucket in buckets for item in bucket]"
   ]
  },
  {
   "cell_type": "code",
   "execution_count": 33,
   "metadata": {},
   "outputs": [
    {
     "data": {
      "text/plain": [
       "[17, 20, 26, 31, 44, 54, 55, 77, 93]"
      ]
     },
     "execution_count": 33,
     "metadata": {},
     "output_type": "execute_result"
    }
   ],
   "source": [
    "arr = [54, 26, 93, 17, 77, 31, 44, 55, 20]\n",
    "sorted_arr = bucket_sort(arr)\n",
    "sorted_arr"
   ]
  },
  {
   "attachments": {},
   "cell_type": "markdown",
   "metadata": {},
   "source": [
    "### Analysis"
   ]
  },
  {
   "attachments": {},
   "cell_type": "markdown",
   "metadata": {},
   "source": [
    "#### Complexity Analysis"
   ]
  },
  {
   "attachments": {},
   "cell_type": "markdown",
   "metadata": {},
   "source": [
    "The computational complexity depends on the algorithm used to sort each bucket, the number of buckets to use, and whether the input is uniformly distributed.  \n",
    "\n",
    "- **Time complexity**:\n",
    "  - Worst case: all elements are placed in a single bucket. The overall performance will be dominated by the sorting algorithm, $O(N^2)$ for insertion sort and $O(N \\log N0$ for comparison sort.\n",
    "  - Average case:<br/>\n",
    "    Consider the case that the input is uniformly distributed. \n",
    "    1. The first step, which is initialize the buckets and find the maximum key value in the array, can be done in $O(N)$ time. \n",
    "    2. If division and multiplication can be done in constant time, then scattering each element to its bucket also costs O(N). \n",
    "    3. Assume insertion sort is used to sort each bucket, then the third step costs $O ( \\sum_{i}^k = {n_i}^2 )$ , where $n_{i}$ is the length of the bucket indexed $i$. Since we are concerning the average time, the expectation ${\\displaystyle E(n_{i}^{2})}$ has to be evaluated instead. Let $X_{ij}$ be the random variable that is $1$ if element $j$ is placed in bucket $i$, and $0$ otherwise. We have ${\\displaystyle n_{i}=\\sum _{j=1}^{n}X_{ij}}$. Therefore, \n",
    "    $$\n",
    "    {\\displaystyle {\\begin{aligned}E(n_{i}^{2})&=E\\left(\\sum _{j=1}^{n}X_{ij}\\sum _{k=1}^{n}X_{ik}\\right)\\\\&=E\\left(\\sum _{j=1}^{n}\\sum _{k=1}^{n}X_{ij}X_{ik}\\right)\\\\&=E\\left(\\sum _{j=1}^{n}X_{ij}^{2}\\right)+E\\left(\\sum _{1\\leq j,k\\leq n}\\sum _{j\\neq k}X_{ij}X_{ik}\\right)\\end{aligned}}}\n",
    "    $$\n",
    "    $$\n",
    "    {\\displaystyle E(X_{ij}^{2})=1^{2}\\cdot \\left({\\frac {1}{k}}\\right)+0^{2}\\cdot \\left(1-{\\frac {1}{k}}\\right)={\\frac {1}{k}}}\n",
    "    \\\\\n",
    "    {\\displaystyle E(X_{ij}X_{ik})=1\\cdot \\left({\\frac {1}{k}}\\right)\\left({\\frac {1}{k}}\\right)={\\frac {1}{k^{2}}}}\n",
    "    $$\n",
    "    $$\n",
    "    {\\displaystyle E\\left(\\sum _{j=1}^{n}X_{ij}^{2}\\right)+E\\left(\\sum _{1\\leq j,k\\leq n}\\sum _{j\\neq k}X_{ij}X_{ik}\\right)=n\\cdot {\\frac {1}{k}}+n(n-1)\\cdot {\\frac {1}{k^{2}}}={\\frac {n^{2}+nk-n}{k^{2}}}}\n",
    "    $$\n",
    "    $$\n",
    "    {\\displaystyle O\\left(\\sum _{i=1}^{k}E(n_{i}^{2})\\right)=O\\left(\\sum _{i=1}^{k}{\\frac {n^{2}+nk-n}{k^{2}}}\\right)=O\\left({\\frac {n^{2}}{k}}+n\\right)}\n",
    "    $$\n",
    "\n",
    "    The last step of bucket sort, which is concatenating all the sorted objects in each buckets, requires $O(k)$ time. Therefore, the total complexity is ${\\displaystyle O\\left(n+{\\frac {n^{2}}{k}}+k\\right)}$.\n",
    "    \n",
    "    Note that if k is chosen to be ${\\displaystyle k=\\Theta (n)}$, then bucket sort runs in $O(n)$ average time, given a uniformly distributed input\n",
    "- **Space complexity**:<br/>\n",
    "  Worst case: The Auxiliary Space of bucket sort is $O(n + k)$. This is because we need to create a new array of size $k$ to store the buckets and another array of size $n$ to store the sorted elements."
   ]
  },
  {
   "attachments": {},
   "cell_type": "markdown",
   "metadata": {},
   "source": [
    "#### Characteristics"
   ]
  },
  {
   "attachments": {},
   "cell_type": "markdown",
   "metadata": {},
   "source": [
    "\n",
    "**distribution sort & comparison sort**: bucket sort can be implemented with comparisons and therefore can also be considered a comparison sort algorithm. \n"
   ]
  },
  {
   "attachments": {},
   "cell_type": "markdown",
   "metadata": {},
   "source": [
    "#### Optimization"
   ]
  },
  {
   "cell_type": "markdown",
   "metadata": {},
   "source": [
    "\n",
    " common optimization is to put the unsorted elements of the buckets back in the original array first, then run <u>insertion sort over the complete array</u>; **because insertion sort's runtime is based on how far each element is from its final position, the number of comparisons remains relatively small,** and the memory hierarchy is better exploited by storing the list contiguously in memory.\n",
    "\n",
    "If the input distribution is known or can be estimated, buckets can often be chosen which contain **constant density** (rather than merely having constant size). This allows $O(n)$ average time complexity **even without uniformly distributed input**. \n",
    "\n",
    "---"
   ]
  },
  {
   "attachments": {},
   "cell_type": "markdown",
   "metadata": {},
   "source": [
    "## Variants of Bucket Sort"
   ]
  },
  {
   "attachments": {},
   "cell_type": "markdown",
   "metadata": {},
   "source": [
    "### Predefine the number of buckets\n",
    "\n",
    "**Implementation steps:**\n",
    "\n",
    "- **Predefine the number of buckets $k$, randomly or according to the input**. \n",
    "- Set the interval range of buckets is determined by the proportion:<br/>\n",
    "   `interval span (size) = ((max + 1) - min)) / k`<br/>\n",
    "   If $\\max - \\min$ is used instead of $\\max + 1$, the range of the last bucket is $[\\max - \\text{range}, \\max)$, *i.e.*, the maximum element cannot be taken into the last bucket during scattering. \n",
    "\n",
    "- Find the corresponding bucket, except for the maximum elements.<br/>\n",
    "  `bucket index = floor(k * [(array[i] - min) / (max + 1 - min)]) `<br/>\n",
    "               `= floor((array[i] - min) / interval span)`\n",
    "\n",
    "   ![bucket sort](https://upload.wikimedia.org/wikipedia/commons/thumb/6/61/Bucket_sort_1.svg/311px-Bucket_sort_1.svg.png) becomes ![](https://upload.wikimedia.org/wikipedia/commons/thumb/e/e3/Bucket_sort_2.svg/311px-Bucket_sort_2.svg.png)"
   ]
  },
  {
   "cell_type": "code",
   "execution_count": 47,
   "metadata": {},
   "outputs": [],
   "source": [
    "import random\n",
    "from math import ceil\n",
    "\n",
    "def bucket_sort_general(arr: List[int]) -> List[int]:\n",
    "    # Create buckets\n",
    "    num_b = random.randint(3, len(arr))\n",
    "    buckets = [[] for _ in range(num_b)]\n",
    "    interval = ceil((max(arr) + 1 - min(arr)) / num_b)\n",
    "    # put elements into buckets in turn\n",
    "    for i in range(len(arr)):\n",
    "        idx_b = int((arr[i] - min(arr)) / interval)  # rounding down\n",
    "        buckets[idx_b].append(arr[i])\n",
    "    # Sort non-empty buckets\n",
    "    for i in range(num_b):\n",
    "        buckets[i] = shell_sort(buckets[i])\n",
    "    # Gather all elements together\n",
    "    return [item for bucket in buckets for item in bucket]"
   ]
  },
  {
   "cell_type": "code",
   "execution_count": 48,
   "metadata": {},
   "outputs": [
    {
     "data": {
      "text/plain": [
       "[17, 20, 26, 31, 44, 54, 55, 77, 93]"
      ]
     },
     "execution_count": 48,
     "metadata": {},
     "output_type": "execute_result"
    }
   ],
   "source": [
    "arr = [54, 26, 93, 17, 77, 31, 44, 55, 20]\n",
    "sorted_arr = bucket_sort_general(arr)\n",
    "sorted_arr"
   ]
  }
 ],
 "metadata": {
  "kernelspec": {
   "display_name": "Python 3",
   "language": "python",
   "name": "python3"
  },
  "language_info": {
   "codemirror_mode": {
    "name": "ipython",
    "version": 3
   },
   "file_extension": ".py",
   "mimetype": "text/x-python",
   "name": "python",
   "nbconvert_exporter": "python",
   "pygments_lexer": "ipython3",
   "version": "3.8.10"
  },
  "orig_nbformat": 4,
  "vscode": {
   "interpreter": {
    "hash": "5b3ded1ccb95c1d9bd405e7b823d9e85424cde40fbb5985eb47e999ef50e15b4"
   }
  }
 },
 "nbformat": 4,
 "nbformat_minor": 2
}
