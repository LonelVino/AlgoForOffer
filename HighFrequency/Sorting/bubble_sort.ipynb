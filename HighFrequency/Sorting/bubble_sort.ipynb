{
 "cells": [
  {
   "attachments": {},
   "cell_type": "markdown",
   "metadata": {},
   "source": [
    "## Bubble Sort"
   ]
  },
  {
   "attachments": {},
   "cell_type": "markdown",
   "metadata": {},
   "source": [
    "### Basic Bubble Sort\n",
    "\n",
    "**Principle idea**:\n",
    "- Inner loop: use adjacent double pointers `j` , `j + 1`. Traverse from left to right, compare the value of adjacent elements in turn, and exchange them if the left element is greater than the right element; when the traversal is complete, the largest element will be exchanged to the **rightmost** of the array .\n",
    "- Outer loop: The \"inner loop\" is repeated continuously, and each round swaps the current largest element to the rightmost of the **remaining unsorted arrays** until all elements are swapped to the correct position. \n",
    "\n",
    "**Step by step example**:\n",
    "Step-by-step example\n",
    "\n",
    "> - First Pass:<br/>\n",
    "    ( **5 1** 4 2 8 ) → ( **1 5** 4 2 8 ), Here, algorithm compares the first two elements, and swaps since 5 > 1.<br/>\n",
    "    ( 1 **5 4** 2 8 ) → ( 1 **4 5** 2 8 ), Swap since 5 > 4<br/>\n",
    "    ( 1 4 **5 2** 8 ) → ( 1 4 **2 5** 8 ), Swap since 5 > 2<br/>\n",
    "    ( 1 4 **2 5** 8 ) → ( 1 4 **2 5** 8 ), Now, since these elements are already in order (8 > 5), algorithm does not swap them.<br/>\n",
    "> - Second Pass<br/>\n",
    "    ( **1 4** 2 5 8 ) → ( **1 4** 2 5 8 )<br/>\n",
    "    ( 1 4 2 5 8 ) → ( 1 **2 4** 5 8 ), Swap since 4 > 2<br/>\n",
    "    ( 1 2 4 5 8 ) → ( 1 2 **4 5** 8 )<br/>\n",
    "    ( 1 2 4 5 8 ) → ( 1 2 4 **5 8** )<br/>\n",
    "Now, the array is already sorted, but the algorithm does not know if it is completed. The algorithm needs one additional whole pass without any swap to know it is sorted.<br/>\n",
    "> - Third Pass<br/>\n",
    "    ( 1 2 4 5 8 ) → ( **1 2** 4 5 8 )<br/>\n",
    "    ( 1 2 4 5 8 ) → ( 1 **2 4** 5 8 )<br/>\n",
    "    ( 1 2 4 5 8 ) → ( 1 2 **4 5** 8 )<br/>\n",
    "    ( 1 2 4 5 8 ) → ( 1 2 4 **5 8** )<br/>\n",
    "\n",
    "\n",
    "**Pseudo code**:\n",
    "```c\n",
    "procedure bubbleSort(A : list of sortable items)\n",
    "    n := length(A)\n",
    "    repeat\n",
    "        swapped := false\n",
    "        for i := 1 to n-1 inclusive do\n",
    "            { if this pair is out of order }\n",
    "            if A[i-1] > A[i] then\n",
    "                { swap them and remember something changed }\n",
    "                swap(A[i-1], A[i])\n",
    "                swapped := true\n",
    "            end if\n",
    "        end for\n",
    "    until not swapped\n",
    "end procedure\n",
    "```\n"
   ]
  },
  {
   "cell_type": "code",
   "execution_count": 27,
   "metadata": {},
   "outputs": [],
   "source": [
    "from typing import List"
   ]
  },
  {
   "cell_type": "code",
   "execution_count": 21,
   "metadata": {},
   "outputs": [],
   "source": [
    "def bubble_sort(arr: List[int]) -> List[int]:\n",
    "    for i in range(len(arr) - 1):\n",
    "        swap = False\n",
    "        for j in range(len(arr) - 1):\n",
    "            if arr[j] > arr[j + 1]:\n",
    "                arr[j], arr[j + 1] = arr[j + 1], arr[j]\n",
    "                swap = True\n",
    "        if not swap:\n",
    "            break\n",
    "    return arr"
   ]
  },
  {
   "cell_type": "code",
   "execution_count": 23,
   "metadata": {},
   "outputs": [
    {
     "data": {
      "text/plain": [
       "[17, 20, 26, 31, 44, 46, 54, 55, 67, 77, 93, 97]"
      ]
     },
     "execution_count": 23,
     "metadata": {},
     "output_type": "execute_result"
    }
   ],
   "source": [
    "arr = [54, 26, 93, 17, 77, 31, 44, 55, 20, 97, 67, 46]\n",
    "sorted_arr = bubble_sort(arr)\n",
    "sorted_arr"
   ]
  },
  {
   "attachments": {},
   "cell_type": "markdown",
   "metadata": {},
   "source": [
    "### Optimized Bubble Sort\n",
    "\n",
    "1. The bubble sort algorithm can be optimized by observing that the n-th pass finds the n-th largest element and puts it into its final place. So, the inner loop can **avoid looking at the last n − 1 items** when running for the n-th time: \n",
    "   \n",
    "   **pseudo code**:\n",
    "   ```c\n",
    "   procedure bubbleSort(A : list of sortable items)\n",
    "       n := length(A)\n",
    "       repeat\n",
    "           swapped := false\n",
    "           for i := 1 to n - 1 inclusive do\n",
    "               if A[i - 1] > A[i] then\n",
    "                   swap(A[i - 1], A[i])\n",
    "                   swapped := true\n",
    "               end if\n",
    "           end for\n",
    "           n := n - 1\n",
    "       until not swapped\n",
    "   end procedure\n",
    "   ```\n"
   ]
  },
  {
   "cell_type": "code",
   "execution_count": 25,
   "metadata": {},
   "outputs": [],
   "source": [
    "def bubble_sort_opt_1(arr: List[int]) -> List[int]:\n",
    "    for i in range(len(arr) - 1):\n",
    "        swap = False\n",
    "        for j in range(len(arr) - i - 1):\n",
    "            if arr[j] > arr[j + 1]:\n",
    "                arr[j], arr[j + 1] = arr[j + 1], arr[j]\n",
    "                swap = True\n",
    "        if not swap:\n",
    "            break\n",
    "    return arr"
   ]
  },
  {
   "cell_type": "code",
   "execution_count": 26,
   "metadata": {},
   "outputs": [
    {
     "data": {
      "text/plain": [
       "[17, 20, 26, 31, 44, 46, 54, 55, 67, 77, 93, 97]"
      ]
     },
     "execution_count": 26,
     "metadata": {},
     "output_type": "execute_result"
    }
   ],
   "source": [
    "arr = [54, 26, 93, 17, 77, 31, 44, 55, 20, 97, 67, 46]\n",
    "sorted_arr = bubble_sort(arr)\n",
    "sorted_arr"
   ]
  },
  {
   "attachments": {},
   "cell_type": "markdown",
   "metadata": {},
   "source": [
    "2. More generally, it can happen that **more than one element** is placed in their final position on a single pass. In particular, after every pass, **all elements after the last swap are sorted, and do not need to be checked again**. This allows to skip over many elements, resulting in about a worst case 50% improvement in comparison count (though no improvement in swap counts), and adds very little complexity because the new code subsumes the \"swapped\" variable: \n",
    "\n",
    "   **pseudo code**:\n",
    "   ```c\n",
    "   procedure bubbleSort(A : list of sortable items)\n",
    "       n := length(A)\n",
    "       repeat\n",
    "           newn := 0\n",
    "           for i := 1 to n - 1 inclusive do\n",
    "               if A[i - 1] > A[i] then\n",
    "                   swap(A[i - 1], A[i])\n",
    "                   newn := i\n",
    "               end if\n",
    "           end for\n",
    "           n := newn\n",
    "       until n ≤ 1\n",
    "   end procedure\n",
    "   ```"
   ]
  },
  {
   "cell_type": "code",
   "execution_count": 28,
   "metadata": {},
   "outputs": [],
   "source": [
    "def bubble_sort_opt_1(arr: List[int]) -> List[int]:\n",
    "    n = len(arr)\n",
    "    for i in range(len(arr) - 1):\n",
    "        newn = 0\n",
    "        for j in range(n - 1):\n",
    "            if arr[j] > arr[j + 1]:\n",
    "                arr[j], arr[j + 1] = arr[j + 1], arr[j]\n",
    "                newn = j + 1\n",
    "        n = newn\n",
    "    return arr"
   ]
  },
  {
   "cell_type": "code",
   "execution_count": 29,
   "metadata": {},
   "outputs": [
    {
     "data": {
      "text/plain": [
       "[17, 20, 26, 31, 44, 46, 54, 55, 67, 77, 93, 97]"
      ]
     },
     "execution_count": 29,
     "metadata": {},
     "output_type": "execute_result"
    }
   ],
   "source": [
    "arr = [54, 26, 93, 17, 77, 31, 44, 55, 20, 97, 67, 46]\n",
    "sorted_arr = bubble_sort(arr)\n",
    "sorted_arr"
   ]
  },
  {
   "attachments": {},
   "cell_type": "markdown",
   "metadata": {},
   "source": [
    "### Complexity Analysis\n",
    "\n",
    "- time complexity $O(N^2)$:\n",
    "\n",
    "    optimal $\\Omega(N)$ : The time complexity of ordinary bubble sorting is always $O(N^2)$, for approximately sorted arrays, early return can be achieved by adding flag bits (see below for details).\n",
    "\n",
    "    average and worst $O(N^2)$: Total For $N − 1$ rounds, use $O(N)$ time; each round of \"inner loop\" traverses separately $N-1, N-2, ..., 2, 1$ time, average $\\frac{N}{2}$ times, use $ O ( \\frac{N}{2} ) = O ( N )$ time; thus, the overall time complexity is $O(N^2)$.\n",
    "\n",
    "- space complexity $O(1)$: Just swap elements in place, using constant sized extra space.\n",
    "\n",
    " > Bubble sorting implements sorting by constantly exchanging elements (exchanging 2 elements requires 3 assignment operations), so the speed is relatively slow;\n",
    "\n",
    "- In-place: Pointer variables use only a constant amount of extra space, with a space complexity of $O(1)$；\n",
    "\n",
    "- Stable: The element values ​​are not exchanged when they are the same, so the relative position of the same elements will not be changed;\n",
    "\n",
    "- Adaptive: by adding a flag bit flag, if the inner loop of a certain round does not perform any exchange operations, it means that the sorting has been completed, so return directly. This optimization makes the optimal time complexity of bubble sort reach $O(N)$ (when input array is sorted); "
   ]
  }
 ],
 "metadata": {
  "kernelspec": {
   "display_name": "Python 3",
   "language": "python",
   "name": "python3"
  },
  "language_info": {
   "codemirror_mode": {
    "name": "ipython",
    "version": 3
   },
   "file_extension": ".py",
   "mimetype": "text/x-python",
   "name": "python",
   "nbconvert_exporter": "python",
   "pygments_lexer": "ipython3",
   "version": "3.8.10"
  },
  "orig_nbformat": 4,
  "vscode": {
   "interpreter": {
    "hash": "5b3ded1ccb95c1d9bd405e7b823d9e85424cde40fbb5985eb47e999ef50e15b4"
   }
  }
 },
 "nbformat": 4,
 "nbformat_minor": 2
}
