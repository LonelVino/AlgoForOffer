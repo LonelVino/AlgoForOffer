{
 "cells": [
  {
   "attachments": {},
   "cell_type": "markdown",
   "metadata": {},
   "source": [
    "## 1. Heap Sort"
   ]
  },
  {
   "attachments": {},
   "cell_type": "markdown",
   "metadata": {},
   "source": [
    "**Importance of tree**: The reason why *tree* is the most important data structure in CS, is that as long as the <u>storage order</u> or the branches of the nodes are adjusted, the type of problem solving can be completely different.\n",
    "\n",
    "**From *BST* to Heap**: heap is a type of BST, while it only changes the <u>storage rules</u> of nodes, which is also called as *\"priority queue\"*."
   ]
  },
  {
   "attachments": {},
   "cell_type": "markdown",
   "metadata": {},
   "source": [
    "### 1.1 Priority Queue"
   ]
  },
  {
   "attachments": {},
   "cell_type": "markdown",
   "metadata": {},
   "source": [
    "**Usage Scenario**: ordinary queues follow the FIFO rule, *i.e.*, <u>dequeue from the beginning and enqueue from the tail</u>. <br/>\n",
    "However, considering the scenario where we need to dequeue the highest priority element from the queue, the complexity becomes $O(N^2)$ <br/> \n",
    "((1) traverse the entire queue to find the highest priority, $O(N)$; (2) deque the most prior element, $O(N)$).\n",
    "\n",
    "The heap is specifically designed to tackle with this scenario, which can **maintain the time complexity of $O(\\log N)$** while dequeueing the highest priority element. Even though the best time complexity of ordinary queues is $O(1)$, considering the average time complexity of heap and queue, the gap between performance is $O(\\log N)$ and $O(N^2)$!\n",
    "\n",
    "![performance gap between heap and queue](https://pic.leetcode-cn.com/1608021277-ZIMDFh-0.png)"
   ]
  },
  {
   "attachments": {},
   "cell_type": "markdown",
   "metadata": {},
   "source": [
    "### 1.2 Heap\n",
    "\n",
    "Given an array, `[37, 22, 26, 12, 11, 25, 7, 3, 8, 10]`, after it is heapified, the heap will look like:\n",
    "\n",
    "![heap example](https://pic.leetcode-cn.com/1608021348-jIZjqH-1.png)\n"
   ]
  },
  {
   "attachments": {},
   "cell_type": "markdown",
   "metadata": {},
   "source": [
    "\n",
    "#### 1.2.1 Characteristics of Heap\n",
    "\n",
    "1. **(max heap) The priority of the parent node is higher than or equal to its child node**, and the value of the root node is the largest.\n",
    "2. **Complete Binary Tree**. <br/>\n",
    "   The heap is a kind of complete tree, and it is also a full binary tree except the bottom leaf nodes. And all the leaf nodes are placed towards the leaf side, *i.e.*, nodes are always added from the left to the right, which makes the heap more compact than normal trees.<br/>\n",
    "   (The full binary tree is the best structure to storage data)\n",
    "3. **Dynamic**.<br/>\n",
    "   Similar to BST, in order to not destroy the characteristics of the heap, the heap has its own set of operations (*sift up*, *sift down*, *replace*, etc.)\n",
    "4. **Certain relationship between parents and children**.\n",
    "   - From parent to children: to find the child nodes of any given parent, we can use **$2i + 1$** to find the **left child** and **$2i + 2$** to find the **right child**.\n",
    "   - From child to parent: to find the parent node of any given child, we can use **$(i-1)/2 | 0$** to find the **parent** (rounding down).<img width=\"50%\" height=\"50%\" src =https://i.ytimg.com/vi/IjPZc9zpn7Y/maxresdefault.jpg></img>"
   ]
  },
  {
   "attachments": {},
   "cell_type": "markdown",
   "metadata": {},
   "source": [
    "#### 1.2.2 Operations of Heap\n",
    "\n",
    "##### Basic Operations: Sift Up and Sift Down\n",
    "\n",
    "**(1) Sift Up**:\n",
    "1. *Push*: push the new element $x_{\\text{new}}$ to the end of the array, *i.e.*, the bottom of the heap.\n",
    "2. *Move up*: compare $x_{new}$ with the value of its parent, if $x_{\\text{new}} > x_{\\text{parent}}$, exchange the positions of $x_{\\text{new}}$ and $x_{\\text{parent}}$\n",
    "3. Continue to compare $x_{\\text{new}}$ with the value its new parent, until $x_{\\text{new}} \\le x_{\\text{parent}}$ or $x_{\\text{new}}$ reaches the root node.\n",
    "   \n",
    "<font color=red>**(2) Sift Down**</font>\n",
    "> AM: The most important reason why we use heap is that we want to dequeue the highest priority element efficiently.\n",
    "\n",
    "Because it's required to maintain the nature of th heap during dequeue, the root node cannot be dequeued directly. So:\n",
    "1. **after the root node is dequeued, we put the last element $x_{\\text{end}}$ of the heap array into the top of the heap.**\n",
    "2. then compare $x_{\\text{end}}$ with the value of its left and right children, and exchange positions with the child with the <u>largest value</u>.\n",
    "3. continue sift down $x_{\\text{end}}$ until it is greater than two child nodes or reaches the leaf node.\n",
    "\n",
    "\n",
    "##### Auxiliary Operations\n",
    "\n",
    "**(3) Replace**<br/>\n",
    "Now there's a need to replace the root node. We can implement `SiftUp` to the root node and `SiftDown` to the new element in order, however, it requires 2 $O(\\log N)$ operations. We can define a function `replace()` to encapsule this process and reduce it to $O(\\log N)$ \n",
    "\n",
    "\n",
    "**(4) Heapify**<br/>\n",
    "How to quickly convert an array to a heap? It is indeed possible to directly add each item of the array to the heap, but this process is not the fastest. <br/>\n",
    "Here we can take advantage of the characteristics of a complete binary tree, <u>start from the parent node of the last leaf node, and perform the `SiftDown` operation on all nodes between the starting node and the root node</u>.<br/>\n",
    "In this case, the operation of half of the nodes can be saved on average, the time complexity is reduced from $O(N \\log N)$ to $O(N)$.\n",
    "<img src=\"https://pic.leetcode-cn.com/1608021426-PVtenH-5.png\"></img>\n",
    "\n"
   ]
  },
  {
   "attachments": {},
   "cell_type": "markdown",
   "metadata": {},
   "source": [
    "### 1.3 Implement a Max Heap from Scratch"
   ]
  },
  {
   "cell_type": "code",
   "execution_count": 47,
   "metadata": {},
   "outputs": [],
   "source": [
    "from typing import List\n",
    "from math import floor\n",
    "import big_o\n",
    "from binarytree import build"
   ]
  },
  {
   "cell_type": "code",
   "execution_count": 92,
   "metadata": {},
   "outputs": [],
   "source": [
    "class MaxHeap:\n",
    "    def __init__(self, arr: List[int]):\n",
    "        if len(arr) == 0: \n",
    "            self.arr = []  \n",
    "        else:\n",
    "            self.heapify(arr)\n",
    "    \n",
    "    def getParent(self, i: int) -> int:\n",
    "        if i == 0: return 0\n",
    "        return int(floor((i - 1) / 2))\n",
    "    \n",
    "    def getLeftChild(self, i: int) -> int:\n",
    "        return 2 * i + 1\n",
    "    \n",
    "    def getRightChild(self, i: int) -> int:\n",
    "        return 2 * i + 2\n",
    "    \n",
    "    def swap(self, i, j):\n",
    "        self.arr[i], self.arr[j] = self.arr[j], self.arr[i] \n",
    "    \n",
    "    def push(self, new: int):\n",
    "        self.arr.append(new)\n",
    "        \n",
    "    def siftUp(self, i: int):\n",
    "        parent = self.getParent(i)\n",
    "        if self.arr[parent] < self.arr[i]:\n",
    "            self.swap(parent, i)\n",
    "            self.siftUp(parent)\n",
    "            \n",
    "    def sift(self) -> int:\n",
    "        if len(self.arr) == 0: return\n",
    "        self.swap(0, -1)\n",
    "        max = self.arr.pop()\n",
    "        self.siftDown(0)\n",
    "        return max\n",
    "    \n",
    "    def siftDown(self, i: int):\n",
    "        max = self.getLeftChild(i)\n",
    "        if max >= len(self.arr): return\n",
    "        if max + 1 < len(self.arr):\n",
    "            if self.arr[max + 1] >= self.arr[max]:\n",
    "                max += 1\n",
    "        if self.arr[max] > self.arr[i]:\n",
    "            self.swap(max, i)\n",
    "            self.siftDown(max)\n",
    "            \n",
    "    def replace(self, new: int):\n",
    "        if len(self.arr) == 0: return \n",
    "        max = self.arr[0]\n",
    "        self.arr[0] = new\n",
    "        self.sift(0)\n",
    "        return max\n",
    "    \n",
    "    def heapify(self, arr: List[int]) -> List[int]:\n",
    "        self.arr = arr\n",
    "        start = self.getParent(len(self.arr) - 1)\n",
    "        while start >= 0:\n",
    "            self.siftDown(start)\n",
    "            start -= 1"
   ]
  },
  {
   "cell_type": "code",
   "execution_count": 114,
   "metadata": {},
   "outputs": [
    {
     "name": "stdout",
     "output_type": "stream",
     "text": [
      "\n",
      "           _______37__\n",
      "          /           \\\n",
      "     ____26___         8\n",
      "    /         \\       / \\\n",
      "  _25         _22    3   7\n",
      " /   \\       /\n",
      "11    12    10\n",
      "\n"
     ]
    }
   ],
   "source": [
    "arr = [11, 25, 7, 37, 22, 3, 8, 26, 12, 10]  # [37, 22, 26, 12, 11, 25, 7, 3, 8, 10]\n",
    "MH = MaxHeap(arr)\n",
    "root = build(MH.arr)\n",
    "print(root)"
   ]
  },
  {
   "attachments": {},
   "cell_type": "markdown",
   "metadata": {},
   "source": [
    "### 1.4 Naive Heap Sort\n",
    "\n",
    "<font color=yellow>Since the root node is the largest in the max heap, the sorted array can be obtained by dequeueing the elements of the heap one by one.</font>"
   ]
  },
  {
   "cell_type": "code",
   "execution_count": 118,
   "metadata": {},
   "outputs": [
    {
     "data": {
      "text/plain": [
       "[3, 7, 8, 10, 11, 12, 22, 25, 26, 37]"
      ]
     },
     "execution_count": 118,
     "metadata": {},
     "output_type": "execute_result"
    }
   ],
   "source": [
    "arr = [11, 25, 7, 37, 22, 3, 8, 26, 12, 10]\n",
    "MH = MaxHeap(arr)\n",
    "res = []\n",
    "while len(MH.arr) > 0:\n",
    "    res.insert(0, MH.sift())\n",
    "res"
   ]
  },
  {
   "attachments": {},
   "cell_type": "markdown",
   "metadata": {},
   "source": [
    "#### 1.4.1 Heap Sort (use an extra array)"
   ]
  },
  {
   "cell_type": "code",
   "execution_count": 260,
   "metadata": {},
   "outputs": [],
   "source": [
    "class heapSort:\n",
    "    def Sort(self, arr: List[int]) -> List[int]:\n",
    "        if len(arr) == 0: return []\n",
    "        self.heap = arr\n",
    "        self.heapify()\n",
    "        res = []\n",
    "        while len(self.heap) > 0:\n",
    "            res.insert(0, self.sift())\n",
    "        return res\n",
    "    \n",
    "    def heapify(self) -> List[int]:\n",
    "        start = floor((len(self.heap) - 1) / 2)\n",
    "        while start >= 0:\n",
    "            self.siftDown(start)\n",
    "            start -= 1\n",
    "    \n",
    "    def sift(self):\n",
    "        self.heap[0], self.heap[-1] = self.heap[-1], self.heap[0]\n",
    "        max = self.heap.pop()\n",
    "        self.siftDown(0)\n",
    "        return max\n",
    "    \n",
    "    def siftDown(self, i):\n",
    "        switch = 2 * i + 1  # left child node of given parent node\n",
    "        if switch > len(self.heap) - 1: return\n",
    "        if switch + 1 < len(self.heap):\n",
    "            if self.heap[switch + 1] > self.heap[switch]: \n",
    "                switch += 1\n",
    "        if self.heap[i] < self.heap[switch]:\n",
    "            self.heap[i], self.heap[switch] = self.heap[switch], self.heap[i]\n",
    "            self.siftDown(switch)"
   ]
  },
  {
   "cell_type": "code",
   "execution_count": 261,
   "metadata": {},
   "outputs": [
    {
     "data": {
      "text/plain": [
       "[3, 7, 8, 10, 11, 12, 22, 25, 26, 37]"
      ]
     },
     "execution_count": 261,
     "metadata": {},
     "output_type": "execute_result"
    }
   ],
   "source": [
    "arr = [11, 25, 7, 37, 22, 3, 8, 26, 12, 10]\n",
    "HS = heapSort()\n",
    "sorted_arr = HS.Sort(arr)\n",
    "sorted_arr"
   ]
  },
  {
   "attachments": {},
   "cell_type": "markdown",
   "metadata": {},
   "source": [
    "\n",
    "#### 1.4.2 Heap Sort (without extra arrays)\n",
    "\n",
    "Sort directly on the original array without resorting to extra space.\n",
    "\n",
    "Principle idea: after the top element of the heap is exchanged with the end, the **right boundary is reduced**.\n",
    "\n",
    "![reduce_boundary](https://pic.leetcode-cn.com/1608021436-UlGGVX-6.png)"
   ]
  },
  {
   "cell_type": "code",
   "execution_count": 255,
   "metadata": {},
   "outputs": [],
   "source": [
    "class heapSort:\n",
    "    def Sort(self, arr: List[int]) -> List[int]:\n",
    "        if len(arr) == 0: return []\n",
    "        self.heap = arr\n",
    "        self.heapify()\n",
    "        end = len(self.heap) - 1\n",
    "        while end > 0:\n",
    "            self.sift(end)\n",
    "            end -= 1\n",
    "        return self.heap\n",
    "    \n",
    "    def heapify(self) -> List[int]:\n",
    "        start = floor((len(self.heap) - 1) / 2)\n",
    "        while start >= 0:\n",
    "            self.siftDown(start, len(self.heap))\n",
    "            start -= 1\n",
    "    \n",
    "    def sift(self, end):\n",
    "        self.heap[0], self.heap[end] = self.heap[end], self.heap[0]\n",
    "        self.siftDown(0, end)\n",
    "        return max\n",
    "    \n",
    "    def siftDown(self, i, end):\n",
    "        switch = 2 * i + 1  # left child node of given parent node\n",
    "        if switch > end - 1: return\n",
    "        if switch + 1 < end:\n",
    "            if self.heap[switch + 1] > self.heap[switch]: \n",
    "                switch += 1\n",
    "        if self.heap[i] < self.heap[switch]:\n",
    "            \n",
    "            self.heap[i], self.heap[switch] = self.heap[switch], self.heap[i]\n",
    "            self.siftDown(switch, end)"
   ]
  },
  {
   "cell_type": "code",
   "execution_count": 256,
   "metadata": {},
   "outputs": [
    {
     "data": {
      "text/plain": [
       "[3, 7, 8, 10, 11, 12, 22, 25, 26, 37]"
      ]
     },
     "execution_count": 256,
     "metadata": {},
     "output_type": "execute_result"
    }
   ],
   "source": [
    "arr = [11, 25, 7, 37, 22, 3, 8, 26, 12, 10]\n",
    "HS = heapSort()\n",
    "sorted_arr = HS.Sort(arr)\n",
    "sorted_arr"
   ]
  },
  {
   "attachments": {},
   "cell_type": "markdown",
   "metadata": {},
   "source": [
    "#### 1.4.3 Complexity Analysis"
   ]
  },
  {
   "attachments": {},
   "cell_type": "markdown",
   "metadata": {},
   "source": [
    "## 2. Applications of Heap Sort"
   ]
  },
  {
   "attachments": {},
   "cell_type": "markdown",
   "metadata": {},
   "source": [
    "[Applications of Heap Sort](https://leetcode.cn/circle/article/JyofwU/)"
   ]
  }
 ],
 "metadata": {
  "kernelspec": {
   "display_name": "base",
   "language": "python",
   "name": "python3"
  },
  "language_info": {
   "codemirror_mode": {
    "name": "ipython",
    "version": 3
   },
   "file_extension": ".py",
   "mimetype": "text/x-python",
   "name": "python",
   "nbconvert_exporter": "python",
   "pygments_lexer": "ipython3",
   "version": "3.9.13"
  },
  "orig_nbformat": 4,
  "vscode": {
   "interpreter": {
    "hash": "7a6421eabbced0eef48736441bf7ab46ed0c805d83230024a0e157c6d233d8b9"
   }
  }
 },
 "nbformat": 4,
 "nbformat_minor": 2
}
