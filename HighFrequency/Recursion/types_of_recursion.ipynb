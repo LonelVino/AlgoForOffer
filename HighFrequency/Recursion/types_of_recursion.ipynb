{
 "cells": [
  {
   "attachments": {},
   "cell_type": "markdown",
   "metadata": {},
   "source": [
    "## Types of Recursion"
   ]
  },
  {
   "attachments": {},
   "cell_type": "markdown",
   "metadata": {},
   "source": [
    "### Direct Recursion"
   ]
  },
  {
   "attachments": {},
   "cell_type": "markdown",
   "metadata": {},
   "source": [
    "\n",
    "Direct recursion can be categorized into single recursion and multiple recursion, which contain only one and multiple recursion respectively. Single recursion includes <u>list traversal</u>, such as *linear search*, *computing factorial number*, etc, while multiple recursion includes <u>tree traversal</u>, such as *DFS (depth-first search)*.\n",
    "\n",
    "Single recursion is often much more efficient than multiple recursion, and can generally be replaced by an iterative computation, running in linear time and requiring constant space. Multiple recursion, by contrast, may require exponential time and space, and is more fundamentally recursive, not being able to be replaced by iteration without an explicit stack. \n",
    "\n",
    "Direct recursion can also be categorized into:\n",
    "1. **tail recursion**: recursive call is the last statement; <br/>\n",
    "   the function has to process or perform any operation at the time of **calling** and it does nothing at **returning** time.<br/>\n",
    "   ```python\n",
    "   def fun(n):\n",
    "    if (n > 0): \n",
    "        print(n, end=\" \")\n",
    "        fun(n - 1)\n",
    "   ```\n",
    "2. **head recursion**: recursive call is the first statement; <br/>\n",
    "   The function doesn’t have to process or perform any operation at the time of **calling** and all operations are done at **returning** time.\n",
    "   ```python\n",
    "   def fun(n):\n",
    "    if (n > 0): \n",
    "        fun(n - 1)\n",
    "        print(n, end=\" \")\n",
    "   ```\n",
    "3. **tree recursion**: \n",
    "   ```python\n",
    "   def fun(n):\n",
    "    if (n > 0): \n",
    "        print(n, end=\" \")\n",
    "        fun(n - 1)\n",
    "        fun(n - 1)\n",
    "   ```\n",
    "4. **nested recursion**:\n",
    "   ```python\n",
    "   def fun(n):\n",
    "    if (n > 100):\n",
    "        return n - 10\n",
    "    return fun(fun(n + 11))\n",
    "   ``` \n",
    "\n",
    "> Tree recursion and nested recursion are both multiple recursion.\n",
    "\n",
    "<img width=40% height=40% src=\"https://media.geeksforgeeks.org/wp-content/uploads/20190621015455/tail1.jpg\">\n",
    "<img width=40% height=40% src=\"https://media.geeksforgeeks.org/wp-content/uploads/20190621015721/head3.jpg\">\n",
    "<img width=80% height=80% src=\"https://media.geeksforgeeks.org/wp-content/uploads/20190621015814/tree4.jpg\">\n",
    "<img width=40% height=40% src=\"https://media.geeksforgeeks.org/wp-content/uploads/20190621015942/nested2.jpg\">\n"
   ]
  },
  {
   "attachments": {},
   "cell_type": "markdown",
   "metadata": {},
   "source": [
    "### Indirect Recursion"
   ]
  },
  {
   "attachments": {},
   "cell_type": "markdown",
   "metadata": {},
   "source": [
    "![](https://media.geeksforgeeks.org/wp-content/uploads/20190608232223/Capture34.jpg)"
   ]
  },
  {
   "cell_type": "code",
   "execution_count": 2,
   "metadata": {},
   "outputs": [
    {
     "name": "stdout",
     "output_type": "stream",
     "text": [
      " 20 19 9 8 4 3 1"
     ]
    }
   ],
   "source": [
    "def funA(n):\n",
    "    if (n > 0):\n",
    "        print(\"\", n, end='')\n",
    "        funB(n - 1)\n",
    "      \n",
    "def funB( n):\n",
    "    if (n > 1):\n",
    "        print(\"\", n, end='')\n",
    "        funA(n // 2)\n",
    "          \n",
    "funA(20)"
   ]
  }
 ],
 "metadata": {
  "kernelspec": {
   "display_name": "Python 3",
   "language": "python",
   "name": "python3"
  },
  "language_info": {
   "codemirror_mode": {
    "name": "ipython",
    "version": 3
   },
   "file_extension": ".py",
   "mimetype": "text/x-python",
   "name": "python",
   "nbconvert_exporter": "python",
   "pygments_lexer": "ipython3",
   "version": "3.8.10"
  },
  "orig_nbformat": 4,
  "vscode": {
   "interpreter": {
    "hash": "5b3ded1ccb95c1d9bd405e7b823d9e85424cde40fbb5985eb47e999ef50e15b4"
   }
  }
 },
 "nbformat": 4,
 "nbformat_minor": 2
}
