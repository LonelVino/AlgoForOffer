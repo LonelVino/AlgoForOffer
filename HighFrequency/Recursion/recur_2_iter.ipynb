{
 "cells": [
  {
   "attachments": {},
   "cell_type": "markdown",
   "metadata": {},
   "source": [
    "## Case Study"
   ]
  },
  {
   "attachments": {},
   "cell_type": "markdown",
   "metadata": {},
   "source": [
    "### [226. Flipping a binary tree](https://leetcode.cn/problems/invert-binary-tree/)"
   ]
  },
  {
   "attachments": {},
   "cell_type": "markdown",
   "metadata": {},
   "source": [
    "**Description**:\n",
    "Given you the root node of a binary tree root, flip the binary tree and return its root node. \n",
    "\n",
    "**Example**:\n",
    "\n",
    "![](https://assets.leetcode.com/uploads/2021/03/14/invert1-tree.jpg)\n",
    "\n",
    "```\n",
    "Input:  root = [4,2,7,1,3,6,9] \n",
    "  Output:  [4,7,2,9,6,3,1] \n",
    " \n",
    " Input: []\n",
    " Output: []\n",
    " ```"
   ]
  },
  {
   "cell_type": "code",
   "execution_count": 23,
   "metadata": {},
   "outputs": [],
   "source": [
    "from binarytree import build\n",
    "\n",
    "arr = [4, 2, 7, 1, 3, 6, 9]\n",
    "root = build(arr)"
   ]
  },
  {
   "attachments": {},
   "cell_type": "markdown",
   "metadata": {},
   "source": [
    "#### Recursive Solution"
   ]
  },
  {
   "cell_type": "code",
   "execution_count": 26,
   "metadata": {},
   "outputs": [
    {
     "name": "stdout",
     "output_type": "stream",
     "text": [
      "\n",
      "    __4__\n",
      "   /     \\\n",
      "  7       2\n",
      " / \\     / \\\n",
      "9   6   3   1\n",
      "\n"
     ]
    }
   ],
   "source": [
    "def invertTree(root):\n",
    "    if not root: return []\n",
    "    if not root.left and not root.right: return root\n",
    "    root.left, root.right = root.right, root.left\n",
    "    root.left = invertTree(root.left)\n",
    "    root.right = invertTree(root.right)\n",
    "    return root\n",
    "\n",
    "root1 = root.clone()\n",
    "inverted_root = invertTree(root1)\n",
    "print(inverted_root)"
   ]
  },
  {
   "attachments": {},
   "cell_type": "markdown",
   "metadata": {},
   "source": [
    "#### Iterative Solution"
   ]
  },
  {
   "cell_type": "code",
   "execution_count": 31,
   "metadata": {},
   "outputs": [
    {
     "name": "stdout",
     "output_type": "stream",
     "text": [
      "\n",
      "1\n",
      " \\\n",
      "  2\n",
      "\n"
     ]
    }
   ],
   "source": [
    "def invertTree(root):\n",
    "    if not root: return None\n",
    "    queue = [root]\n",
    "    while queue:\n",
    "        node = queue.pop(0)\n",
    "        node.left, node.right = node.right, node.left\n",
    "        if node.left:\n",
    "            queue.append(node.left)\n",
    "        if node.right:\n",
    "            queue.append(node.right)\n",
    "    return root\n",
    "\n",
    "arr2 = [1, 2]\n",
    "root2 = build(arr2)\n",
    "root3 = root.clone()\n",
    "inverted_root = invertTree(root2)\n",
    "print(inverted_root)"
   ]
  },
  {
   "attachments": {},
   "cell_type": "markdown",
   "metadata": {},
   "source": [
    "### [98. Validating a Binary Search Tree](https://leetcode.cn/problems/validate-binary-search-tree/)"
   ]
  },
  {
   "attachments": {},
   "cell_type": "markdown",
   "metadata": {},
   "source": [
    "**Description**:\n",
    "\n",
    "Given a root node of a binary tree root, to determine whether it is a valid binary search tree.\n",
    "\n",
    "A valid binary search tree is defined as follows:\n",
    "\n",
    "- The left subtree contains only numbers less than the current node.\n",
    "- The right subtree contains only numbers greater than the current node.\n",
    "- All left and right subtrees must themselves be binary search trees.\n",
    "\n",
    "\n",
    "**Examples**:\n",
    "\n",
    "```\n",
    "Input:  root = [2,1,3] \n",
    "  output:  true \n",
    "```\n",
    "```\n",
    "Input:  root = [5,1,4,null,null,3,6] \n",
    "  output:  false \n",
    "  Explanation:  The value of the root node is 5, but the value of the right child node is 4. \n",
    "  ```\n",
    "\n",
    "\n",
    "> **NB**: in-order traversal is the correct order instead of pre-order."
   ]
  },
  {
   "attachments": {},
   "cell_type": "markdown",
   "metadata": {},
   "source": [
    "#### Recursive Solution"
   ]
  },
  {
   "cell_type": "code",
   "execution_count": 70,
   "metadata": {},
   "outputs": [],
   "source": [
    "class Solution:\n",
    "    def __init__(self):\n",
    "        self.pre = -10e9\n",
    "    def isValidBST(self, root):\n",
    "        if not root: return True\n",
    "        if not self.isValidBST(root.left): return False\n",
    "        print(root.val)\n",
    "        if root.val <= self.pre: return False\n",
    "        self.pre = root.val\n",
    "        return self.isValidBST(root.right)"
   ]
  },
  {
   "cell_type": "code",
   "execution_count": 76,
   "metadata": {},
   "outputs": [
    {
     "name": "stdout",
     "output_type": "stream",
     "text": [
      "True\n",
      "False\n",
      "True\n"
     ]
    }
   ],
   "source": [
    "arr1 = [2,1,3]\n",
    "arr2 = [5,4,6,None,None,3,7]\n",
    "arr3 = [0]\n",
    "root1, root2, root3 = build(arr1), build(arr2), build(arr3)\n",
    "\n",
    "ss = Solution()\n",
    "print(ss.isValidBST(root1))\n",
    "ss = Solution()\n",
    "print(ss.isValidBST(root2))\n",
    "ss = Solution()\n",
    "print(ss.isValidBST(root3))"
   ]
  },
  {
   "attachments": {},
   "cell_type": "markdown",
   "metadata": {},
   "source": [
    "#### Iterative Solution"
   ]
  },
  {
   "cell_type": "code",
   "execution_count": 81,
   "metadata": {},
   "outputs": [],
   "source": [
    "def isValidBST(root):\n",
    "    if not root: return True\n",
    "    stack = []\n",
    "    cur = root\n",
    "    pre = None\n",
    "    while stack or cur:\n",
    "        while cur:\n",
    "            stack.append(cur)\n",
    "            cur = cur.left\n",
    "        if stack:\n",
    "            node = stack.pop()\n",
    "            if pre and pre.val >= node.val: return False\n",
    "            pre = node\n",
    "            cur = node.right\n",
    "    return True"
   ]
  },
  {
   "cell_type": "code",
   "execution_count": 82,
   "metadata": {},
   "outputs": [
    {
     "data": {
      "text/plain": [
       "(True, False, True)"
      ]
     },
     "execution_count": 82,
     "metadata": {},
     "output_type": "execute_result"
    }
   ],
   "source": [
    "arr1 = [2,1,3]\n",
    "arr2 = [5,4,6,None,None,3,7]\n",
    "arr3 = [0]\n",
    "root1, root2, root3 = build(arr1), build(arr2), build(arr3)\n",
    "\n",
    "isValidBST(root1), isValidBST(root2), isValidBST(root3)"
   ]
  }
 ],
 "metadata": {
  "kernelspec": {
   "display_name": "base",
   "language": "python",
   "name": "python3"
  },
  "language_info": {
   "codemirror_mode": {
    "name": "ipython",
    "version": 3
   },
   "file_extension": ".py",
   "mimetype": "text/x-python",
   "name": "python",
   "nbconvert_exporter": "python",
   "pygments_lexer": "ipython3",
   "version": "3.9.13"
  },
  "orig_nbformat": 4,
  "vscode": {
   "interpreter": {
    "hash": "7a6421eabbced0eef48736441bf7ab46ed0c805d83230024a0e157c6d233d8b9"
   }
  }
 },
 "nbformat": 4,
 "nbformat_minor": 2
}
