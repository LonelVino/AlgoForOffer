{
 "cells": [
  {
   "attachments": {},
   "cell_type": "markdown",
   "metadata": {},
   "source": [
    "## Design a recursion function "
   ]
  },
  {
   "attachments": {},
   "cell_type": "markdown",
   "metadata": {},
   "source": [
    "### Interpret Recursion"
   ]
  },
  {
   "attachments": {},
   "cell_type": "markdown",
   "metadata": {},
   "source": [
    "Consider we want to solve a problem $F(X)$, we can decompose it into several small problems: $x_0 \\in X, x_1 \\in X, ....$\n",
    "\n",
    "Base case: **The solution of the minimum scale problem is the base case of the recursive function, through which the <u>pop operation</u> of the stack is realized until the stack is empty, and the problem is solved.**\n",
    "\n",
    "Recursion relationship: **Writing out the recursive relationship is equivalent to implementing the push operation of the stack. For languages ​​that support recursion, the underlying data structure is a stack, so the implicit stack is used to solve the final result.**\n",
    "\n",
    "**Recursion is a programming technique, not an algorithm**. *Divide and conquer, dynamic programming, and backtracking* are algorithms. The relationship between the two is that the most commonly used implementation of these three algorithms is recursion.<br/>\n",
    "In both the divide and conquer algorithm and the dynamic programming algorithm, it is necessary to disassemble the large problem into sub-problems."
   ]
  },
  {
   "cell_type": "markdown",
   "metadata": {},
   "source": [
    "### **wrapper funtion**"
   ]
  },
  {
   "attachments": {},
   "cell_type": "markdown",
   "metadata": {},
   "source": [
    "\n",
    "A wrapper function is a function that is directly called but does not recurse itself, instead calling a separate *auxiliary function* which actually does the recursion.\n",
    "\n",
    "Wrapper functions can be used to <u>validate parameters (so the recursive function can skip these)</u>, perform initialization (allocate memory, initialize variables), particularly for auxiliary variables such as \"level of recursion\" or <u>partial computations for memoization</u>, and handle exceptions and errors.\n",
    "\n",
    "> Wrapper functions can reduce the number of parameters in the recursive call, which reduces the stack usage, as all parameters are pushed on the stack for each call, and if there are many parameters and many layers of recursion, there could be a stack overflow. Any parameters that do no change for the recursive call can be left in an enclosing lexical scope or passed altogether as a reference to a structure.\n",
    "\n",
    "```c\n",
    "\\\\ Ordinary\n",
    "int fac1(int n) {\n",
    "   if (n <= 0)\n",
    "      return 1;\n",
    "   else\n",
    "      return fac1(n-1)*n;\n",
    "}\n",
    "```\n",
    "\n",
    "```c\n",
    "\\\\ Short-circuit recursion \n",
    "static int fac2(int n) {\n",
    "   // assert(n >= 2);\n",
    "   if (n == 2)\n",
    "      return 2;\n",
    "   else\n",
    "      return fac2(n-1)*n;\n",
    "}\n",
    "int fac2wrapper(int n) {\n",
    "   if (n <= 1)\n",
    "      return 1;\n",
    "   else\n",
    "      return fac2(n);\n",
    "}\n",
    "```\n",
    "\n",
    "**Short-circuiting the base case**:\n",
    "Short-circuiting the base case, also known as **arm's-length recursion**, consists of checking the base case before making a recursive call – *i.e.*, checking if the next call will be the base case, instead of calling and then checking for the base case.\n",
    "\n",
    "For example, in the factorial function, <u>properly the base case is 0! = 1, while immediately returning 1 for 1! is a short circuit</u>, and may miss 0; this can be mitigated by a wrapper function. \n",
    "\n",
    "- Short-circuiting is particularly done for efficiency reasons, to avoid the overhead of a function call that immediately returns.\n",
    "- Short-circuiting is primarily a concern when many base cases are encountered, such as `Null` pointers in a tree, which can be linear in the number of function calls, hence significant savings for $O(n)$ algorithms; this is illustrated below for a depth-first search. \n",
    "- Short-circuiting on a tree corresponds to considering <u>a leaf (non-empty node with no children) as the base case</u>, rather than considering an empty node as the base case. If there is only a single base case, such as in computing the factorial, short-circuiting provides only O(1) savings. \n"
   ]
  },
  {
   "cell_type": "markdown",
   "metadata": {},
   "source": [
    "### DFS"
   ]
  },
  {
   "attachments": {},
   "cell_type": "markdown",
   "metadata": {},
   "source": [
    "The standard recursive algorithm for a DFS is:\n",
    "\n",
    "- base case: If current node is Null, return false\n",
    "- recursive step: otherwise, check value of current node, return true if match, otherwise recurse on children\n",
    "\n",
    "In short-circuiting, this is instead:\n",
    "\n",
    "- check value of current node, return true if match,\n",
    "- otherwise, on children, if not Null, then recurse.\n",
    "\n",
    "\n",
    "In the case of a perfect binary tree of height $h$, there are $2^{h+1}−1$ nodes and $2^{h+1}$ `Null` pointers as children ($2$ for each of the $2^h$ leaves), so short-circuiting cuts the number of function calls in half in the worst case. "
   ]
  },
  {
   "attachments": {},
   "cell_type": "markdown",
   "metadata": {},
   "source": [
    "```c\n",
    "bool tree_contains(struct node *tree_node, int i) {\n",
    "    if (tree_node == NULL)\n",
    "        return false;  // base case\n",
    "    else if (tree_node->data == i)\n",
    "        return true;\n",
    "    else\n",
    "        return tree_contains(tree_node->left, i) ||\n",
    "               tree_contains(tree_node->right, i);\n",
    "}\n",
    "\n",
    "```"
   ]
  },
  {
   "attachments": {},
   "cell_type": "markdown",
   "metadata": {},
   "source": [
    "```c\n",
    "// Wrapper function to handle empty tree\n",
    "bool tree_contains(struct node *tree_node, int i) {\n",
    "    if (tree_node == NULL)\n",
    "        return false;  // empty tree\n",
    "    else\n",
    "        return tree_contains_do(tree_node, i);  // call auxiliary function\n",
    "}\n",
    "\n",
    "// Assumes tree_node != NULL\n",
    "bool tree_contains_do(struct node *tree_node, int i) {\n",
    "    if (tree_node->data == i)\n",
    "        return true;  // found\n",
    "    else  // recurse\n",
    "        return (tree_node->left  && tree_contains_do(tree_node->left,  i)) ||\n",
    "               (tree_node->right && tree_contains_do(tree_node->right, i));\n",
    "}\n",
    "```"
   ]
  },
  {
   "attachments": {},
   "cell_type": "markdown",
   "metadata": {},
   "source": [
    "## Learn with Practice"
   ]
  },
  {
   "attachments": {},
   "cell_type": "markdown",
   "metadata": {},
   "source": [
    "---\n",
    "### Minimum depth of tree"
   ]
  },
  {
   "attachments": {},
   "cell_type": "markdown",
   "metadata": {},
   "source": [
    "Example:\n",
    "1. - Input:  root = `[3,9,20,null,null,15,7]` \n",
    "   - output:  `2`\n",
    "2. - Input: root = `[2,null,3,null,4,null,5,null,6]`\n",
    "   - output: `5`\n",
    "\n",
    "- Base case: if `null`, return `0`; if leaf nodes, return `1`;\n",
    "- Recursion Relationship: \n",
    "  1. if both left child and right child, depth = smaller depth + 1;\n",
    "  2. if only left/right child, depth = depth of left/right child + 1;\n",
    "  3. if neither left child nor right child, depth = 1;"
   ]
  },
  {
   "cell_type": "code",
   "execution_count": 10,
   "metadata": {},
   "outputs": [],
   "source": [
    "from binarytree import build, build2"
   ]
  },
  {
   "cell_type": "code",
   "execution_count": 83,
   "metadata": {},
   "outputs": [],
   "source": [
    "arr =  [3, 9, 20, None, None, 15, 7]\n",
    "arr2 = [2, None, 3, None, 4, None, 5, None, 6]\n",
    "root = build(arr)\n",
    "root2 = build2(arr2)"
   ]
  },
  {
   "attachments": {},
   "cell_type": "markdown",
   "metadata": {},
   "source": [
    "#### DFS Solution"
   ]
  },
  {
   "cell_type": "code",
   "execution_count": 84,
   "metadata": {},
   "outputs": [
    {
     "name": "stdout",
     "output_type": "stream",
     "text": [
      "2\n",
      "5\n"
     ]
    }
   ],
   "source": [
    "def min_depth(root):\n",
    "    # empty tree/subtree\n",
    "    if root is None: return 0  \n",
    "    ld = min_depth(root.left)\n",
    "    rd = min_depth(root.right)\n",
    "    # has only left/right child, or probably is a leaf node\n",
    "    if root.left is None or root.right is None:\n",
    "        return ld + rd + 1  # ld or rd must be 0 (both 0 if a leaf node)\n",
    "    # both left and right child\n",
    "    return min(ld, rd) + 1 \n",
    "\n",
    "print(min_depth(root))\n",
    "print(min_depth(root2))"
   ]
  },
  {
   "cell_type": "code",
   "execution_count": 93,
   "metadata": {},
   "outputs": [
    {
     "name": "stdout",
     "output_type": "stream",
     "text": [
      "2\n",
      "5\n"
     ]
    }
   ],
   "source": [
    "def minDepth(root) -> int:\n",
    "    if not root: return 0\n",
    "    elif not root.left: return minDepth(root.right) + 1\n",
    "    elif not root.right: return minDepth(root.left) + 1\n",
    "    else: return min(minDepth(root.left), minDepth(root.right)) + 1\n",
    "\n",
    "print(minDepth(root))\n",
    "print(minDepth(root2))"
   ]
  },
  {
   "attachments": {},
   "cell_type": "markdown",
   "metadata": {},
   "source": [
    "- **Time complexity**: $O(N)$\n",
    "- **Space complexity**: $O(H)$, where $H$ is the height of the tree.\n",
    "  - Worst case: the tree is chain-like, $H = N$, *i.e.*, $O(N)$;\n",
    "  - Average case: $H = \\log N$, *i.e.*, $O(\\log N)$."
   ]
  },
  {
   "attachments": {},
   "cell_type": "markdown",
   "metadata": {},
   "source": [
    "#### BFS Solution"
   ]
  },
  {
   "cell_type": "code",
   "execution_count": 89,
   "metadata": {},
   "outputs": [
    {
     "data": {
      "text/plain": [
       "(2, 5)"
      ]
     },
     "execution_count": 89,
     "metadata": {},
     "output_type": "execute_result"
    }
   ],
   "source": [
    "def min_depth_bfs(root):\n",
    "    if root is None: return 0\n",
    "    queue = [(root, 1)]\n",
    "    while queue:\n",
    "        node, depth = queue.pop(0)\n",
    "        if not node.left and not node.right:\n",
    "            return depth\n",
    "        if node.left:\n",
    "            queue.append((node.left, depth + 1))\n",
    "        if node.right:\n",
    "            queue.append((node.right, depth + 1))\n",
    "            \n",
    "min_depth_bfs(root), min_depth_bfs(root2)"
   ]
  },
  {
   "cell_type": "code",
   "execution_count": 92,
   "metadata": {},
   "outputs": [
    {
     "data": {
      "text/plain": [
       "(2, 5)"
      ]
     },
     "execution_count": 92,
     "metadata": {},
     "output_type": "execute_result"
    }
   ],
   "source": [
    "def min_depth_bfs(root):\n",
    "    if not root: return 0\n",
    "    queue = [root]for _ in range(num):\n",
    "            node = queue.pop(0)\n",
    "    depth = 1\n",
    "    while queue:\n",
    "        num = len(queue)\n",
    "        for _ in range(num):\n",
    "            node = queue.pop(0)\n",
    "            if not node.left and not node.right:\n",
    "                return depth\n",
    "            if node.left:\n",
    "                queue.append(node.left)\n",
    "            if node.right:\n",
    "                queue.append(node.right) \n",
    "        depth += 1\n",
    "        \n",
    "min_depth_bfs(root), min_depth_bfs(root2)"
   ]
  },
  {
   "attachments": {},
   "cell_type": "markdown",
   "metadata": {},
   "source": [
    "- **Time complexity**: $O(N)$\n",
    "- **Space complexity**: $O(N)$, the space complexity depends on the size of the queue."
   ]
  },
  {
   "attachments": {},
   "cell_type": "markdown",
   "metadata": {},
   "source": [
    "---\n",
    "### Path Sum"
   ]
  },
  {
   "attachments": {},
   "cell_type": "markdown",
   "metadata": {},
   "source": [
    "**Requirements**:\n",
    "\n",
    "gives you the root node of the binary tree root and an integer representing the target sum `targetSum`. Determine whether there is a path from the root node to the leaf node in the tree , and the sum of all node values ​​on this path is equal to the target sum `targetSum`. If exists, return true; otherwise, return `false`.\n",
    "\n",
    "![](https://assets.leetcode.com/uploads/2021/01/18/pathsum1.jpg)\n",
    "```\n",
    "  input:  root = [5,4,8,11,null,13,4,7,2,null,null,null,1], targetSum = 22\n",
    "  output:  true \n",
    "  Explanation:  The root node to leaf node path equal to the target sum is shown in the figure above. \n",
    " \n",
    "```\n",
    "\n",
    "\n",
    "**Analysis**:\n",
    "- Basic case:\n",
    "- Recursion relationship:"
   ]
  },
  {
   "cell_type": "code",
   "execution_count": 103,
   "metadata": {},
   "outputs": [
    {
     "name": "stdout",
     "output_type": "stream",
     "text": [
      "\n",
      "         5_____\n",
      "        /      \\\n",
      "    ___4     ___8\n",
      "   /        /    \\\n",
      "  11       13     4\n",
      " /  \\        \\\n",
      "7    2        1\n",
      "\n"
     ]
    }
   ],
   "source": [
    "arr = [5,4,8,11,None,13,4,7,2,None,None,None,1]\n",
    "root = build(arr)\n",
    "targetSum = 22 \n",
    "print(root)"
   ]
  },
  {
   "cell_type": "markdown",
   "metadata": {},
   "source": [
    "#### DFS Solution"
   ]
  },
  {
   "cell_type": "code",
   "execution_count": 98,
   "metadata": {},
   "outputs": [
    {
     "data": {
      "text/plain": [
       "True"
      ]
     },
     "execution_count": 98,
     "metadata": {},
     "output_type": "execute_result"
    }
   ],
   "source": [
    "def pathSum(root, targetSum):\n",
    "    if not root: return False\n",
    "    if not root.left and not root.right: \n",
    "        return (root.value == targetSum)\n",
    "    return pathSum(root.left, targetSum-root.value) \\\n",
    "        or pathSum(root.right, targetSum-root.value) \n",
    "        \n",
    "pathSum(root, targetSum)"
   ]
  },
  {
   "attachments": {},
   "cell_type": "markdown",
   "metadata": {},
   "source": [
    "#### BFS Solution"
   ]
  },
  {
   "cell_type": "code",
   "execution_count": 109,
   "metadata": {},
   "outputs": [
    {
     "data": {
      "text/plain": [
       "True"
      ]
     },
     "execution_count": 109,
     "metadata": {},
     "output_type": "execute_result"
    }
   ],
   "source": [
    "def pathSum(root, targetSum):\n",
    "    if not root: return False\n",
    "    queue = [(root, root.value)]\n",
    "    while queue:\n",
    "        node, value = queue.pop(0)\n",
    "        if not node.left and not node.right:\n",
    "            if targetSum == value:\n",
    "                return True\n",
    "            continue\n",
    "        if node.left:\n",
    "            queue.append((node.left, value + node.left.value))\n",
    "        if node.right:\n",
    "            queue.append((node.right, value + node.right.value))\n",
    "\n",
    "pathSum(root, targetSum)"
   ]
  },
  {
   "attachments": {},
   "cell_type": "markdown",
   "metadata": {},
   "source": [
    "---\n",
    "### Symmetric binary tree"
   ]
  },
  {
   "attachments": {},
   "cell_type": "markdown",
   "metadata": {},
   "source": [
    "**Requirements**:\n",
    "\n",
    "```\n",
    "Input:  root = [1,2,2,3,4,4,3] \n",
    "  output:  true \n",
    " ```\n",
    "\n",
    "```\n",
    "Input:  root = [1,2,2,null,3,null,3] \n",
    "  output:  false \n",
    " ```\n",
    "\n",
    "**Analysis**:\n",
    "- Basic case:\n",
    "- Recursion relationship:"
   ]
  },
  {
   "cell_type": "code",
   "execution_count": 113,
   "metadata": {},
   "outputs": [],
   "source": [
    "arr1 = [1,2,2,3,4,4,3]\n",
    "root1 = build(arr1)\n",
    "arr2 = [1,2,2,None,3,None,3]\n",
    "root2 = build(arr2)"
   ]
  },
  {
   "attachments": {},
   "cell_type": "markdown",
   "metadata": {},
   "source": [
    "#### Recursion / DFS"
   ]
  },
  {
   "cell_type": "code",
   "execution_count": 115,
   "metadata": {},
   "outputs": [
    {
     "data": {
      "text/plain": [
       "(True, False)"
      ]
     },
     "execution_count": 115,
     "metadata": {},
     "output_type": "execute_result"
    }
   ],
   "source": [
    "def is_symmetric(root):\n",
    "    if root is None: return False\n",
    "    def symmetric_helper(left, right):\n",
    "        if left is None and right is None:\n",
    "            return True\n",
    "        elif left is None or right is None:\n",
    "            return False\n",
    "        return left.value == right.value and \\\n",
    "            symmetric_helper(left.right, right.left) and \\\n",
    "            symmetric_helper(left.left, right.right)\n",
    "    return symmetric_helper(root.left, root.right)\n",
    "\n",
    "is_symmetric(root1), is_symmetric(root2)"
   ]
  },
  {
   "attachments": {},
   "cell_type": "markdown",
   "metadata": {},
   "source": [
    "#### Iterative / Queue"
   ]
  },
  {
   "cell_type": "code",
   "execution_count": null,
   "metadata": {},
   "outputs": [],
   "source": [
    "def is_symmetric(root):\n",
    "    queue = [root]\n",
    "    while queue:\n",
    "        size = len(queue)\n",
    "        tmp_queue = [0] * size**2\n",
    "        for i in range(size // 2):\n",
    "            node_left = queue.pop(0)\n",
    "            node_right = queue.pop()\n",
    "            if node_left is None and node_right is None:\n",
    "                tmp_queue[i*2:i*2+1] = None\n",
    "                tmp_queue[-(i*2+2):-(i*2+1)] = None\n",
    "                continue\n",
    "            elif not node_left or not node_right:\n",
    "                return False\n",
    "            elif node_left.value != node_right.value:\n",
    "                return False\n",
    "            else:\n",
    "                tmp_queue[i*2], tmp_queue[i*2+1] = node_left.left, node_left.right\n",
    "                tmp_queue[-(i*2+2)], tmp_queue[-(i*2+1)] = node_right.left, node_right.left \n",
    "                \n",
    "        queue = tmp_queue\n",
    "    return False\n"
   ]
  },
  {
   "attachments": {},
   "cell_type": "markdown",
   "metadata": {},
   "source": [
    "---\n",
    "### Full permutation"
   ]
  },
  {
   "attachments": {},
   "cell_type": "markdown",
   "metadata": {},
   "source": [
    "**Requirements**:\n",
    "\n",
    "\n",
    "**Analysis**:\n",
    "- Basic case:\n",
    "- Recursion relationship:"
   ]
  },
  {
   "cell_type": "code",
   "execution_count": null,
   "metadata": {},
   "outputs": [],
   "source": []
  }
 ],
 "metadata": {
  "kernelspec": {
   "display_name": "base",
   "language": "python",
   "name": "python3"
  },
  "language_info": {
   "codemirror_mode": {
    "name": "ipython",
    "version": 3
   },
   "file_extension": ".py",
   "mimetype": "text/x-python",
   "name": "python",
   "nbconvert_exporter": "python",
   "pygments_lexer": "ipython3",
   "version": "3.9.13"
  },
  "orig_nbformat": 4,
  "vscode": {
   "interpreter": {
    "hash": "7a6421eabbced0eef48736441bf7ab46ed0c805d83230024a0e157c6d233d8b9"
   }
  }
 },
 "nbformat": 4,
 "nbformat_minor": 2
}
