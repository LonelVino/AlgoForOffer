{
 "cells": [
  {
   "attachments": {},
   "cell_type": "markdown",
   "metadata": {},
   "source": [
    "## Design a recursion function "
   ]
  },
  {
   "attachments": {},
   "cell_type": "markdown",
   "metadata": {},
   "source": [
    "### Interpret Recursion"
   ]
  },
  {
   "attachments": {},
   "cell_type": "markdown",
   "metadata": {},
   "source": [
    "Consider we want to solve a problem $F(X)$, we can decompose it into several small problems: $x_0 \\in X, x_1 \\in X, ....$\n",
    "\n",
    "Base case: \n",
    "- **The solution of the minimum scale problem is the base case** of the recursive function, \n",
    "- through which the <u>pop operation</u> of the stack is realized until the stack is empty, and the problem is solved.\n",
    "- In base case, the problem can be solved directly, and base case is usually taken as the jump out condition of recursion.\n",
    "\n",
    "Recursion relationship: \n",
    "- **The relationship between the result of the problem and results of its sub-problems**\n",
    "- Writing out the recursive relationship is equivalent to implementing the <u>push operation</u> of the stack. \n",
    "\n",
    "> **Recursion is a programming technique, not an algorithm**. *Divide and conquer, dynamic programming, and backtracking* are algorithms. The relationship between the two is that the most commonly used implementation of these three algorithms is recursion.<br/>\n",
    "In both the divide and conquer algorithm and the dynamic programming algorithm, it is necessary to disassemble the large problem into sub-problems."
   ]
  },
  {
   "cell_type": "markdown",
   "metadata": {},
   "source": [
    "### **wrapper funtion**"
   ]
  },
  {
   "attachments": {},
   "cell_type": "markdown",
   "metadata": {},
   "source": [
    "\n",
    "A wrapper function is a function that is directly called but does not recurse itself, instead calling a separate *auxiliary function* which actually does the recursion.\n",
    "\n",
    "Wrapper functions can be used to <u>validate parameters (so the recursive function can skip these)</u>, perform initialization (allocate memory, initialize variables), particularly for auxiliary variables such as \"level of recursion\" or <u>partial computations for memoization</u>, and handle exceptions and errors.\n",
    "\n",
    "> Wrapper functions can reduce the number of parameters in the recursive call, which reduces the stack usage, as all parameters are pushed on the stack for each call, and if there are many parameters and many layers of recursion, there could be a stack overflow. Any parameters that do no change for the recursive call can be left in an enclosing lexical scope or passed altogether as a reference to a structure.\n",
    "\n",
    "```c\n",
    "\\\\ Ordinary\n",
    "int fac1(int n) {\n",
    "   if (n <= 0)\n",
    "      return 1;\n",
    "   else\n",
    "      return fac1(n-1)*n;\n",
    "}\n",
    "```\n",
    "\n",
    "```c\n",
    "\\\\ Short-circuit recursion \n",
    "static int fac2(int n) {\n",
    "   // assert(n >= 2);\n",
    "   if (n == 2)\n",
    "      return 2;\n",
    "   else\n",
    "      return fac2(n-1)*n;\n",
    "}\n",
    "int fac2wrapper(int n) {\n",
    "   if (n <= 1)\n",
    "      return 1;\n",
    "   else\n",
    "      return fac2(n);\n",
    "}\n",
    "```\n",
    "\n",
    "**Short-circuiting the base case**:\n",
    "Short-circuiting the base case, also known as **arm's-length recursion**, consists of checking the base case before making a recursive call – *i.e.*, checking if the next call will be the base case, instead of calling and then checking for the base case.\n",
    "\n",
    "For example, in the factorial function, <u>properly the base case is 0! = 1, while immediately returning 1 for 1! is a short circuit</u>, and may miss 0; this can be mitigated by a wrapper function. \n",
    "\n",
    "- Short-circuiting is particularly done for efficiency reasons, to avoid the overhead of a function call that immediately returns.\n",
    "- Short-circuiting is primarily a concern when many base cases are encountered, such as `Null` pointers in a tree, which can be linear in the number of function calls, hence significant savings for $O(n)$ algorithms; this is illustrated below for a depth-first search. \n",
    "- Short-circuiting on a tree corresponds to considering <u>a leaf (non-empty node with no children) as the base case</u>, rather than considering an empty node as the base case. If there is only a single base case, such as in computing the factorial, short-circuiting provides only O(1) savings. \n"
   ]
  },
  {
   "attachments": {},
   "cell_type": "markdown",
   "metadata": {},
   "source": [
    "#### DFS"
   ]
  },
  {
   "attachments": {},
   "cell_type": "markdown",
   "metadata": {},
   "source": [
    "The standard recursive algorithm for a DFS is:\n",
    "\n",
    "- base case: If current node is Null, return false\n",
    "- recursive step: otherwise, check value of current node, return true if match, otherwise recurse on children\n",
    "\n",
    "In short-circuiting, this is instead:\n",
    "\n",
    "- check value of current node, return true if match,\n",
    "- otherwise, on children, if not Null, then recurse.\n",
    "\n",
    "\n",
    "In the case of a perfect binary tree of height $h$, there are $2^{h+1}−1$ nodes and $2^{h+1}$ `Null` pointers as children ($2$ for each of the $2^h$ leaves), so short-circuiting cuts the number of function calls in half in the worst case. "
   ]
  },
  {
   "attachments": {},
   "cell_type": "markdown",
   "metadata": {},
   "source": [
    "```c\n",
    "bool tree_contains(struct node *tree_node, int i) {\n",
    "    if (tree_node == NULL)\n",
    "        return false;  // base case\n",
    "    else if (tree_node->data == i)\n",
    "        return true;\n",
    "    else\n",
    "        return tree_contains(tree_node->left, i) ||\n",
    "               tree_contains(tree_node->right, i);\n",
    "}\n",
    "\n",
    "```"
   ]
  },
  {
   "attachments": {},
   "cell_type": "markdown",
   "metadata": {},
   "source": [
    "```c\n",
    "// Wrapper function to handle empty tree\n",
    "bool tree_contains(struct node *tree_node, int i) {\n",
    "    if (tree_node == NULL)\n",
    "        return false;  // empty tree\n",
    "    else\n",
    "        return tree_contains_do(tree_node, i);  // call auxiliary function\n",
    "}\n",
    "\n",
    "// Assumes tree_node != NULL\n",
    "bool tree_contains_do(struct node *tree_node, int i) {\n",
    "    if (tree_node->data == i)\n",
    "        return true;  // found\n",
    "    else  // recurse\n",
    "        return (tree_node->left  && tree_contains_do(tree_node->left,  i)) ||\n",
    "               (tree_node->right && tree_contains_do(tree_node->right, i));\n",
    "}\n",
    "```"
   ]
  },
  {
   "attachments": {},
   "cell_type": "markdown",
   "metadata": {},
   "source": [
    "### **How to write a recursive function**"
   ]
  },
  {
   "attachments": {},
   "cell_type": "markdown",
   "metadata": {},
   "source": [
    "1. Find the basic case;\n",
    "2. Find the recurrence relationship.\n",
    "\n",
    "There are 2 paradigms we can follow: **from bottom to up, from up to bottom**."
   ]
  },
  {
   "attachments": {},
   "cell_type": "markdown",
   "metadata": {},
   "source": [
    "#### From bottom to up"
   ]
  },
  {
   "attachments": {},
   "cell_type": "markdown",
   "metadata": {},
   "source": [
    "**Main idea**: first, call the recursive function itself; then, perform calculations based on the return value.\n",
    "\n",
    "**Example**:\n",
    "```java\n",
    "/** \n",
    " * Simulation process：\n",
    " * 5 + sum(4)\n",
    " * 5 + (4 + sum(3)\n",
    " * 5 + 4 + (3 + sum(2))\n",
    " * 5 + 4 + 3 + (2 + sum(1))\n",
    " * ------------------> jump out until sum(1) = 1\n",
    " * 5 + 4 + 3 + (2 + 1)\n",
    " * 5 + 4 + (3 + 3)\n",
    " * 5 + (4 + 6)\n",
    " * (5 + 10)\n",
    " * 15\n",
    " * from up to bottom: calculated as 1 + 2 + 3 + 4 + 5 \n",
    " */\n",
    "public int sum(int n) {\n",
    "    if (n < 2) return n;       // ① base case\n",
    "    int childSum = sum(n - 1); // ② find recursive relationship\n",
    "    return n + childSum;       // ③ calculate based on the return result\n",
    "}\n",
    "```"
   ]
  },
  {
   "attachments": {},
   "cell_type": "markdown",
   "metadata": {},
   "source": [
    "**Bottom-up paradigm**:\n",
    "1. Find the base case and return the result of the base case when jumping out;\n",
    "2. **Modify the parameters** of the recursive function;\n",
    "3. Call the recursive function and get **intermediate variables**;\n",
    "4. Use the result of the recursive function to calculate the final result with the current parameters;\n",
    "5. Return the final result.\n",
    "\n",
    "```python\n",
    "def func(params):\n",
    "    if (base case): return res of base case\n",
    "    current params = modify(params)\n",
    "    inter var = func(current params)\n",
    "    final res = calculate(inter var, current params)\n",
    "    return final res\n",
    "```"
   ]
  },
  {
   "attachments": {},
   "cell_type": "markdown",
   "metadata": {},
   "source": [
    "#### From up to bottom"
   ]
  },
  {
   "attachments": {},
   "cell_type": "markdown",
   "metadata": {},
   "source": [
    "**Main idea**: calculate the intermediate variables based on current parameters, and then modify parameters, **pass these intermediate variables to the recursive function with modified parameters**, at last, **return the recursive function itself**.  \n",
    "\n",
    "**Example**:\n",
    "```java\n",
    "\n",
    "/**\n",
    " * 模拟程序执行过程：\n",
    " * sum(5, 0)\n",
    " * sum(4, 5)\n",
    " * sum(3, 9)\n",
    " * sum(2, 12)\n",
    " * sum(1, 14)\n",
    " * 15\n",
    " * from up to bottom: calculated as  5 + 4 + 3 + 2 + 1 \n",
    " */\n",
    "public int sum2(int n, int sum) {\n",
    "    if (n < 2) return 1 + sum;\n",
    "    sum += n;\n",
    "    return sum2(n - 1, sum);\n",
    "}\n",
    "```"
   ]
  },
  {
   "attachments": {},
   "cell_type": "markdown",
   "metadata": {},
   "source": [
    "**Up-bottom paradigm**:\n",
    "1. find the base case, and return the result of the base case (`1`) and calculation results of the intermediate variables (`sum`)\n",
    "2. recalculate new intermediate variables based on current parameters.\n",
    "3. Modify the parameters of the recursive function;\n",
    "4. **Return the recursive function, with new intermediate variables and modified parameters as arguments.**\n",
    "\n",
    "```python\n",
    "def func(inter var, params):\n",
    "    if (base case): return res of base case + inter var\n",
    "    new inter var = calculate(inter var, params)\n",
    "    new params = modify(params)\n",
    "    return func(new inter var, new params)\n",
    "```\n"
   ]
  },
  {
   "attachments": {},
   "cell_type": "markdown",
   "metadata": {},
   "source": [
    "#### Difference between Botton-up and Up-bottom"
   ]
  },
  {
   "attachments": {},
   "cell_type": "markdown",
   "metadata": {},
   "source": [
    "![](https://pic.leetcode-cn.com/367f77a847ab554d6c00a396b91d79a0c1effcbbc89d17d773e91a34345304e5-digui.jpg)"
   ]
  },
  {
   "attachments": {},
   "cell_type": "markdown",
   "metadata": {},
   "source": [
    "## Case Study"
   ]
  },
  {
   "attachments": {},
   "cell_type": "markdown",
   "metadata": {},
   "source": [
    "---\n",
    "###  [Interview 08.05 Recursive multiplication](https://leetcode.cn/problems/recursive-mulitply-lcci/description/)"
   ]
  },
  {
   "attachments": {},
   "cell_type": "markdown",
   "metadata": {},
   "source": [
    "**Description**: Write a recursive function to multiply two positive integers without using the * operator. Plus, minus, shifts are fine, but be stingy. \n",
    "\n",
    "**Example**:\n",
    "```\n",
    "Input  : A = 1, B = 10 \n",
    "  Output  : 10 \n",
    "```\n"
   ]
  },
  {
   "attachments": {},
   "cell_type": "markdown",
   "metadata": {},
   "source": [
    "#### Plus"
   ]
  },
  {
   "attachments": {},
   "cell_type": "markdown",
   "metadata": {},
   "source": [
    "\n",
    "**Analysis**:\n",
    "- Base case:\n",
    "   when `A = 0` (or `B = 0`), return `B + sum` (or `A + sum`);\n",
    "- Recursive relationship:\n",
    "   `sum += B`, if `A` is taken as the counter; otherwise, `sum += A`\n",
    "\n",
    "> **NB**: solve this problem by adding one by on, which may exceed the limit of the maximum recursion number, such as `A = 343525325` and `B = 1`."
   ]
  },
  {
   "attachments": {},
   "cell_type": "markdown",
   "metadata": {},
   "source": [
    "**Bottom-up Paradigm**"
   ]
  },
  {
   "cell_type": "code",
   "execution_count": 1,
   "metadata": {},
   "outputs": [
    {
     "data": {
      "text/plain": [
       "12"
      ]
     },
     "execution_count": 1,
     "metadata": {},
     "output_type": "execute_result"
    }
   ],
   "source": [
    "def multiply(A: int, B: int) -> int:\n",
    "    \n",
    "    def multi_helper(A: int, B: int) -> int:\n",
    "        if A == 1: return B\n",
    "        childSum = B + multi_helper(A - 1, B)\n",
    "        return childSum\n",
    "    \n",
    "    if A == 0 or B == 0: return 0\n",
    "    if A > B: A, B = B, A\n",
    "    return multi_helper(A, B)\n",
    "\n",
    "A, B = 3, 4\n",
    "multiply(A, B)"
   ]
  },
  {
   "cell_type": "markdown",
   "metadata": {},
   "source": [
    "**Up-bottom Paradigm**"
   ]
  },
  {
   "cell_type": "code",
   "execution_count": 2,
   "metadata": {},
   "outputs": [
    {
     "data": {
      "text/plain": [
       "12"
      ]
     },
     "execution_count": 2,
     "metadata": {},
     "output_type": "execute_result"
    }
   ],
   "source": [
    "def multiply(A: int, B: int) -> int:\n",
    "    \n",
    "    def multi_helper(A: int, B: int, sum: int) -> int:\n",
    "        if A == 1: return B + sum\n",
    "        sum += B\n",
    "        return multi_helper(A - 1, B, sum)\n",
    "\n",
    "    if A == 0 or B == 0: return 0    \n",
    "    if A > B: A, B = B, A\n",
    "    return multi_helper(A, B, 0)\n",
    "\n",
    "A, B = 3, 4\n",
    "multiply(A, B)"
   ]
  },
  {
   "attachments": {},
   "cell_type": "markdown",
   "metadata": {},
   "source": [
    "#### Bitwise shift"
   ]
  },
  {
   "attachments": {},
   "cell_type": "markdown",
   "metadata": {},
   "source": [
    "**Analysis**:\n",
    "- Base case: if `A = 1`, return `B`\n",
    "- Recursive relationship: consider `A >> 1` when `A > 1`, there are 2 possible situation:\n",
    "  - if `A` is an odd, , `A * B` = `(A >> 1) * (B << 1) + B`\n",
    "  - if `A` is an even, `A * B` = `(A >> 1) * (B << 1)`"
   ]
  },
  {
   "cell_type": "code",
   "execution_count": 3,
   "metadata": {},
   "outputs": [
    {
     "data": {
      "text/plain": [
       "1033305238"
      ]
     },
     "execution_count": 3,
     "metadata": {},
     "output_type": "execute_result"
    }
   ],
   "source": [
    "def multiply(A: int, B: int) -> int:\n",
    "    if A == 0 or B == 0: return 0\n",
    "    def multi_helper(A: int, B: int, sum: int) -> int:\n",
    "        if A == 1: return sum + B\n",
    "        if A % 2: sum += B\n",
    "        A >>= 1\n",
    "        B <<= 1\n",
    "        return multi_helper(A, B, sum)\n",
    "    if A > B: A, B = B, A\n",
    "    return multi_helper(A, B, 0)\n",
    "\n",
    "A, B = 14, 73807517\n",
    "multiply(A, B)"
   ]
  },
  {
   "cell_type": "markdown",
   "metadata": {},
   "source": [
    "---\n",
    "### [Offer-II 10. Frog Jumping](https://leetcode.cn/problems/qing-wa-tiao-tai-jie-wen-ti-lcof/)"
   ]
  },
  {
   "attachments": {},
   "cell_type": "markdown",
   "metadata": {},
   "source": [
    "**Description**: A frog can jump up 1 step or 2 steps at a time. Ask the frog to jump on a `n`-levels stair, then, how many combinations of jumping are there in total? (\n",
    "`0 <= n <= 100`)\n",
    "\n",
    "> The answer needs to be modulo with `1e9+7` (1000000007), *e.g.*, if the initial calculation result is: 1000000008, please return 1.\n",
    "\n",
    "**Example**:\n",
    "```\n",
    "Input:  n = 7 \n",
    "  Output:  21 \n",
    "```\n",
    "\n",
    "```\n",
    "Input:  n = 2 \n",
    "  Output:  2\n",
    "```\n",
    "\n",
    "```\n",
    "Input:  n = 0 \n",
    "  Output:  1\n",
    "```\n",
    "\n",
    "**Analysis**:\n",
    "- Base case:\n",
    "  if there's only 1 step left or no step, then the frog has only one choice.\n",
    "- Recursive relationship:\n",
    "  - Strategies counts 1: after jumping 2 steps, `nums = func(n - 2)`;\n",
    "  - Strategies counts 2: after jumping 1 step, `nums = func(n - 1)`;\n",
    "  - Total counts: counts 1 + counts 2.\n",
    "\n",
    "> **NB**: in order to avoid calculate the counts of the same status, it is necessary to store the calculated status into a set / a dictionary. <br/>\n",
    "> For example, Strategy 1: `{step1 = 1, step2 = 1, step3 = 1}` and Strategy 2: `{step1 = 2, step2 = 1}`, have the same status, which is the remaining steps being `n - 3`."
   ]
  },
  {
   "attachments": {},
   "cell_type": "markdown",
   "metadata": {},
   "source": [
    "**Bottom-up Paradigm**:"
   ]
  },
  {
   "cell_type": "code",
   "execution_count": 4,
   "metadata": {},
   "outputs": [
    {
     "data": {
      "text/plain": [
       "134903163"
      ]
     },
     "execution_count": 4,
     "metadata": {},
     "output_type": "execute_result"
    }
   ],
   "source": [
    "def numWays(n: int) -> int:\n",
    "    \n",
    "    def nums_helper(n: int) -> int:\n",
    "        if n == 0 or n == 1: return 1\n",
    "        count = status_dict.get(n)\n",
    "        if count is not None: return count \n",
    "        nums1 = nums_helper(n - 1)\n",
    "        nums2 = nums_helper(n - 2)\n",
    "        count = nums2 + nums1\n",
    "        status_dict[n] = count\n",
    "        return count\n",
    "    \n",
    "    status_dict = {}\n",
    "    return nums_helper(n) % int(1e9+7)\n",
    "    \n",
    "n = 44\n",
    "numWays(n)"
   ]
  },
  {
   "attachments": {},
   "cell_type": "markdown",
   "metadata": {},
   "source": [
    "**Up-bottom Paradigm**:\n",
    "\n",
    "In bottom-up paradigm (from $n \\rightarrow 1$), the relation can be expressed as $f(n) = f(n-1) + f(n-2)$; On the contrary, in up-bottom paradigm (from $1 \\rightarrow n$), the relation can be expressed as $f(i + 1) = f(i) + f(i-1)$.\n",
    "\n",
    "Assume $f(i-1) = a, f(i-2) = b$, we can have:\n",
    "$$\n",
    "f(i) = f(i -1) + f(i - 2) = a + b \\\\\n",
    "f(i + 1) = f(i) + f(i - 1) = (a + b) + a\n",
    "$$"
   ]
  },
  {
   "cell_type": "code",
   "execution_count": 5,
   "metadata": {},
   "outputs": [
    {
     "data": {
      "text/plain": [
       "134903163"
      ]
     },
     "execution_count": 5,
     "metadata": {},
     "output_type": "execute_result"
    }
   ],
   "source": [
    "def numWays(n: int) -> int:\n",
    "    \n",
    "    def nums_helper(n: int, i: int, a: int, b: int) -> int:\n",
    "        if i >= n: return a + b\n",
    "        return nums_helper(n, i + 1, a + b, a)\n",
    "    \n",
    "    if n <= 1: return 1\n",
    "    return nums_helper(n, 2, 1, 1) % int(1e9 + 7)\n",
    "\n",
    "n = 44\n",
    "numWays(n)"
   ]
  },
  {
   "attachments": {},
   "cell_type": "markdown",
   "metadata": {},
   "source": [
    "---\n",
    "### [Offer 25. Merge 2 sorted linked lists](https://leetcode.cn/problems/he-bing-liang-ge-pai-xu-de-lian-biao-lcof/)"
   ]
  },
  {
   "attachments": {},
   "cell_type": "markdown",
   "metadata": {},
   "source": [
    "**Description**: Enter two ascending linked lists, merge the two linked lists and keep the nodes in the new linked list still in ascending order. \n",
    "\n",
    "**Examples**: \n",
    "```\n",
    "Input:  1->2->4, 1->3->4 \n",
    "  Output:  1->1->2->3->4->4 \n",
    "```"
   ]
  },
  {
   "attachments": {},
   "cell_type": "markdown",
   "metadata": {},
   "source": [
    "**Linked list initialization**:"
   ]
  },
  {
   "cell_type": "code",
   "execution_count": 45,
   "metadata": {},
   "outputs": [],
   "source": [
    "class ListNode:\n",
    "    def __init__(self, val: int):\n",
    "        self.val = val\n",
    "        self.next = None\n",
    "\n",
    "    def __repr__(self):\n",
    "        current_node = self\n",
    "        string = ''\n",
    "        while current_node is not None:\n",
    "            if current_node.next is not None:\n",
    "                string += f\"{current_node.val} -> \"\n",
    "                current_node = current_node.next\n",
    "            else:\n",
    "                string += f\"{current_node.val}\"\n",
    "                return string\n",
    "            \n",
    "    def clone(self):\n",
    "        other = ListNode(self.val) \n",
    "        stack = [self]\n",
    "        stack2 = [other]\n",
    "        while stack or stack2:\n",
    "            node = stack.pop()\n",
    "            node2 = stack2.pop()\n",
    "            if node.next is not None:\n",
    "                node2.next = ListNode(node.next.val)\n",
    "                stack.append(node.next)\n",
    "                stack2.append(node2.next)\n",
    "        return other\n"
   ]
  },
  {
   "attachments": {},
   "cell_type": "markdown",
   "metadata": {},
   "source": [
    "**Analysis**:\n",
    "- Base case:\n",
    "  - `l1` or `l2` is empty, return another linked list.\n",
    "  - `l1` has only one element, traverse `l2` to find the proper position.\n",
    "- Recursive relationship:\n",
    "  - assume `l1.headNode < l2.headNode`, `res[-1].next = l2.headNode`\n",
    "  - `l1.headNode = l1.headNode.next`\n",
    "  - otherwise, put `l2.headNode` to the merged linked list."
   ]
  },
  {
   "attachments": {},
   "cell_type": "markdown",
   "metadata": {},
   "source": [
    "**Bottom-up Paradigm**:"
   ]
  },
  {
   "cell_type": "code",
   "execution_count": 44,
   "metadata": {},
   "outputs": [],
   "source": [
    "def mergeTwoLists(l1: ListNode, l2: ListNode) -> ListNode:\n",
    "    # base case\n",
    "    if not l1 and not l2: return None\n",
    "    if not l1: return l2 \n",
    "    if not l2: return l1\n",
    "    # obtain the intermediate variable by calling function recursively  \n",
    "    if l1.val < l2.val:\n",
    "        res = mergeTwoLists(l1.next, l2)\n",
    "        l1.next = res\n",
    "        return l1\n",
    "    else:\n",
    "        res = mergeTwoLists(l1, l2.next)\n",
    "        l2.next = res\n",
    "        return l2"
   ]
  },
  {
   "cell_type": "code",
   "execution_count": 42,
   "metadata": {},
   "outputs": [
    {
     "name": "stdout",
     "output_type": "stream",
     "text": [
      "1 -> 2 -> 6\n",
      "1 -> 3 -> 5\n"
     ]
    },
    {
     "data": {
      "text/plain": [
       "(None, None)"
      ]
     },
     "execution_count": 42,
     "metadata": {},
     "output_type": "execute_result"
    }
   ],
   "source": [
    "node11, node12, node13 = ListNode(1), ListNode(2), ListNode(6)\n",
    "node11.next = node12\n",
    "node12.next = node13\n",
    "\n",
    "node21, node22, node23 = ListNode(1), ListNode(3), ListNode(5)\n",
    "node21.next = node22\n",
    "node22.next = node23\n",
    "\n",
    "print(node11), print(node21)"
   ]
  },
  {
   "cell_type": "code",
   "execution_count": 51,
   "metadata": {},
   "outputs": [
    {
     "name": "stdout",
     "output_type": "stream",
     "text": [
      "1 -> 1 -> 2 -> 3 -> 5 -> 6\n"
     ]
    }
   ],
   "source": [
    "l1, l2 = node11.clone(), node21.clone()\n",
    "res = mergeTwoLists(l1, l2)\n",
    "print(res)"
   ]
  }
 ],
 "metadata": {
  "kernelspec": {
   "display_name": "base",
   "language": "python",
   "name": "python3"
  },
  "language_info": {
   "codemirror_mode": {
    "name": "ipython",
    "version": 3
   },
   "file_extension": ".py",
   "mimetype": "text/x-python",
   "name": "python",
   "nbconvert_exporter": "python",
   "pygments_lexer": "ipython3",
   "version": "3.9.13"
  },
  "orig_nbformat": 4,
  "vscode": {
   "interpreter": {
    "hash": "7a6421eabbced0eef48736441bf7ab46ed0c805d83230024a0e157c6d233d8b9"
   }
  }
 },
 "nbformat": 4,
 "nbformat_minor": 2
}
