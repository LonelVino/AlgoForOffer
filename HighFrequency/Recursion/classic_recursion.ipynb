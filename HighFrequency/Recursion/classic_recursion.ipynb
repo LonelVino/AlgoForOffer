{
 "cells": [
  {
   "attachments": {},
   "cell_type": "markdown",
   "metadata": {},
   "source": [
    "## BFS and DFS"
   ]
  },
  {
   "attachments": {},
   "cell_type": "markdown",
   "metadata": {},
   "source": [
    "![](https://miro.medium.com/v2/resize:fit:720/format:webp/0*qolQB1qaSK8m1gnV.png)\n",
    "\n",
    "- BFS: level-order\n",
    "- DFS: in-order, pre-order, post-order"
   ]
  },
  {
   "cell_type": "code",
   "execution_count": 10,
   "metadata": {},
   "outputs": [],
   "source": [
    "from binarytree import build"
   ]
  },
  {
   "attachments": {},
   "cell_type": "markdown",
   "metadata": {},
   "source": [
    "### BFS with Recursion\n",
    "\n",
    "```python\n",
    "def BFS(arr, target, idx):\n",
    "    if idx == len(arr): return False\n",
    "    elif arr[idx] == target: return idx\n",
    "    else: return BFS(arr, target, idx + 1)\n",
    "```"
   ]
  },
  {
   "cell_type": "code",
   "execution_count": 11,
   "metadata": {},
   "outputs": [],
   "source": [
    "def BFS_tree(queue):\n",
    "    while queue:\n",
    "        node = queue.pop(0)\n",
    "        print(node.value, end=\" \")\n",
    "        for child in node.left, node.right:\n",
    "            if child is not None:\n",
    "                queue.append(child)\n",
    "        BFS_tree(queue)"
   ]
  },
  {
   "cell_type": "code",
   "execution_count": 12,
   "metadata": {},
   "outputs": [
    {
     "name": "stdout",
     "output_type": "stream",
     "text": [
      "3 10 5 5 7 9 "
     ]
    }
   ],
   "source": [
    "arr = [3, 10, 5, None, 5, 7, 9]\n",
    "root = build(arr)\n",
    "BFS_tree([root])"
   ]
  },
  {
   "attachments": {},
   "cell_type": "markdown",
   "metadata": {},
   "source": [
    "### DFS with Recursion"
   ]
  },
  {
   "cell_type": "code",
   "execution_count": 13,
   "metadata": {},
   "outputs": [
    {
     "name": "stdout",
     "output_type": "stream",
     "text": [
      "\n",
      "        _______0________\n",
      "       /                \\\n",
      "    __1__             ___2___\n",
      "   /     \\           /       \\\n",
      "  3       4        _5        _6\n",
      " / \\     / \\      /  \\      /  \\\n",
      "7   8   9   10   11   12   13   14\n",
      "\n"
     ]
    }
   ],
   "source": [
    "arr = list(range(15))\n",
    "root = build(arr)\n",
    "print(root)"
   ]
  },
  {
   "cell_type": "code",
   "execution_count": 14,
   "metadata": {},
   "outputs": [
    {
     "name": "stdout",
     "output_type": "stream",
     "text": [
      "7 3 8 1 9 4 10 0 11 5 12 2 13 6 14 "
     ]
    }
   ],
   "source": [
    "def DFS_inorder(root):\n",
    "    if root is None: return\n",
    "    DFS_inorder(root.left)\n",
    "    print(root.value, end=\" \")\n",
    "    DFS_inorder(root.right)\n",
    "\n",
    "DFS_inorder(root)"
   ]
  },
  {
   "cell_type": "code",
   "execution_count": 16,
   "metadata": {},
   "outputs": [
    {
     "name": "stdout",
     "output_type": "stream",
     "text": [
      "0 1 3 7 8 4 9 10 2 5 11 12 6 13 14 "
     ]
    }
   ],
   "source": [
    "def DFS_preorder(root):\n",
    "    if root is None: return\n",
    "    print(root.value, end=\" \")\n",
    "    DFS_preorder(root.left)\n",
    "    DFS_preorder(root.right)\n",
    "    \n",
    "DFS_preorder(root)"
   ]
  },
  {
   "cell_type": "code",
   "execution_count": 18,
   "metadata": {},
   "outputs": [
    {
     "name": "stdout",
     "output_type": "stream",
     "text": [
      "7 8 3 9 10 4 1 11 12 5 13 14 6 2 0 "
     ]
    }
   ],
   "source": [
    "def DFS_postorder(root):\n",
    "    if root is None: return\n",
    "    DFS_postorder(root.left)\n",
    "    DFS_postorder(root.right)\n",
    "    print(root.value, end=\" \")\n",
    "    \n",
    "DFS_postorder(root)"
   ]
  },
  {
   "attachments": {},
   "cell_type": "markdown",
   "metadata": {},
   "source": [
    "## Case Study"
   ]
  },
  {
   "attachments": {},
   "cell_type": "markdown",
   "metadata": {},
   "source": [
    "### Frog Jumping"
   ]
  },
  {
   "cell_type": "markdown",
   "metadata": {},
   "source": [
    "A frog can jump up 1 step or 2 steps at a time. Ask the frog to jump on a nHow many jumps are there in total on the first step.\n",
    "\n",
    "The answer needs to be modulo 1e9+7 (1000000007). If the initial calculation result is: 1000000008, please return 1. "
   ]
  }
 ],
 "metadata": {
  "kernelspec": {
   "display_name": "base",
   "language": "python",
   "name": "python3"
  },
  "language_info": {
   "codemirror_mode": {
    "name": "ipython",
    "version": 3
   },
   "file_extension": ".py",
   "mimetype": "text/x-python",
   "name": "python",
   "nbconvert_exporter": "python",
   "pygments_lexer": "ipython3",
   "version": "3.9.13"
  },
  "orig_nbformat": 4,
  "vscode": {
   "interpreter": {
    "hash": "7a6421eabbced0eef48736441bf7ab46ed0c805d83230024a0e157c6d233d8b9"
   }
  }
 },
 "nbformat": 4,
 "nbformat_minor": 2
}
