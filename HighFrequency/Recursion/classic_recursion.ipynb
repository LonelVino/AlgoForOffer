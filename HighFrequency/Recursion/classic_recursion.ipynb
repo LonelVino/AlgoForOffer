{
 "cells": [
  {
   "attachments": {},
   "cell_type": "markdown",
   "metadata": {},
   "source": [
    "## BFS and DFS"
   ]
  },
  {
   "attachments": {},
   "cell_type": "markdown",
   "metadata": {},
   "source": [
    "![](https://miro.medium.com/v2/resize:fit:720/format:webp/0*qolQB1qaSK8m1gnV.png)\n",
    "\n",
    "- BFS: level-order\n",
    "- DFS: in-order, pre-order, post-order"
   ]
  },
  {
   "cell_type": "code",
   "execution_count": 10,
   "metadata": {},
   "outputs": [],
   "source": [
    "from binarytree import build"
   ]
  },
  {
   "attachments": {},
   "cell_type": "markdown",
   "metadata": {},
   "source": [
    "### BFS with Recursion\n",
    "\n",
    "```python\n",
    "def BFS(arr, target, idx):\n",
    "    if idx == len(arr): return False\n",
    "    elif arr[idx] == target: return idx\n",
    "    else: return BFS(arr, target, idx + 1)\n",
    "```"
   ]
  },
  {
   "cell_type": "code",
   "execution_count": 11,
   "metadata": {},
   "outputs": [],
   "source": [
    "def BFS_tree(queue):\n",
    "    while queue:\n",
    "        node = queue.pop(0)\n",
    "        print(node.value, end=\" \")\n",
    "        for child in node.left, node.right:\n",
    "            if child is not None:\n",
    "                queue.append(child)\n",
    "        BFS_tree(queue)"
   ]
  },
  {
   "cell_type": "code",
   "execution_count": 12,
   "metadata": {},
   "outputs": [
    {
     "name": "stdout",
     "output_type": "stream",
     "text": [
      "3 10 5 5 7 9 "
     ]
    }
   ],
   "source": [
    "arr = [3, 10, 5, None, 5, 7, 9]\n",
    "root = build(arr)\n",
    "BFS_tree([root])"
   ]
  },
  {
   "attachments": {},
   "cell_type": "markdown",
   "metadata": {},
   "source": [
    "### DFS with Recursion"
   ]
  },
  {
   "cell_type": "code",
   "execution_count": 13,
   "metadata": {},
   "outputs": [
    {
     "name": "stdout",
     "output_type": "stream",
     "text": [
      "\n",
      "        _______0________\n",
      "       /                \\\n",
      "    __1__             ___2___\n",
      "   /     \\           /       \\\n",
      "  3       4        _5        _6\n",
      " / \\     / \\      /  \\      /  \\\n",
      "7   8   9   10   11   12   13   14\n",
      "\n"
     ]
    }
   ],
   "source": [
    "arr = list(range(15))\n",
    "root = build(arr)\n",
    "print(root)"
   ]
  },
  {
   "cell_type": "code",
   "execution_count": 14,
   "metadata": {},
   "outputs": [
    {
     "name": "stdout",
     "output_type": "stream",
     "text": [
      "7 3 8 1 9 4 10 0 11 5 12 2 13 6 14 "
     ]
    }
   ],
   "source": [
    "def DFS_inorder(root):\n",
    "    if root is None: return\n",
    "    DFS_inorder(root.left)\n",
    "    print(root.value, end=\" \")\n",
    "    DFS_inorder(root.right)\n",
    "\n",
    "DFS_inorder(root)"
   ]
  },
  {
   "cell_type": "code",
   "execution_count": 16,
   "metadata": {},
   "outputs": [
    {
     "name": "stdout",
     "output_type": "stream",
     "text": [
      "0 1 3 7 8 4 9 10 2 5 11 12 6 13 14 "
     ]
    }
   ],
   "source": [
    "def DFS_preorder(root):\n",
    "    if root is None: return\n",
    "    print(root.value, end=\" \")\n",
    "    DFS_preorder(root.left)\n",
    "    DFS_preorder(root.right)\n",
    "    \n",
    "DFS_preorder(root)"
   ]
  },
  {
   "cell_type": "code",
   "execution_count": 18,
   "metadata": {},
   "outputs": [
    {
     "name": "stdout",
     "output_type": "stream",
     "text": [
      "7 8 3 9 10 4 1 11 12 5 13 14 6 2 0 "
     ]
    }
   ],
   "source": [
    "def DFS_postorder(root):\n",
    "    if root is None: return\n",
    "    DFS_postorder(root.left)\n",
    "    DFS_postorder(root.right)\n",
    "    print(root.value, end=\" \")\n",
    "    \n",
    "DFS_postorder(root)"
   ]
  },
  {
   "attachments": {},
   "cell_type": "markdown",
   "metadata": {},
   "source": [
    "## Case Study"
   ]
  },
  {
   "attachments": {},
   "cell_type": "markdown",
   "metadata": {},
   "source": [
    "---\n",
    "### [111. Minimum depth of tree](https://leetcode.cn/problems/minimum-depth-of-binary-tree/)"
   ]
  },
  {
   "cell_type": "markdown",
   "metadata": {},
   "source": [
    "Example:\n",
    "1. - Input:  root = `[3,9,20,null,null,15,7]` \n",
    "   - output:  `2`\n",
    "2. - Input: root = `[2,null,3,null,4,null,5,null,6]`\n",
    "   - output: `5`\n",
    "\n",
    "- Base case: if `null`, return `0`; if leaf nodes, return `1`;\n",
    "- Recursion Relationship: \n",
    "  1. if both left child and right child, depth = smaller depth + 1;\n",
    "  2. if only left/right child, depth = depth of left/right child + 1;\n",
    "  3. if neither left child nor right child, depth = 1;"
   ]
  },
  {
   "cell_type": "code",
   "execution_count": null,
   "metadata": {},
   "outputs": [],
   "source": [
    "from binarytree import build, build2\n",
    "\n",
    "arr =  [3, 9, 20, None, None, 15, 7]\n",
    "arr2 = [2, None, 3, None, 4, None, 5, None, 6]\n",
    "root = build(arr)\n",
    "root2 = build2(arr2)"
   ]
  },
  {
   "cell_type": "markdown",
   "metadata": {},
   "source": [
    "#### DFS Solution"
   ]
  },
  {
   "cell_type": "code",
   "execution_count": null,
   "metadata": {},
   "outputs": [
    {
     "name": "stdout",
     "output_type": "stream",
     "text": [
      "2\n",
      "5\n"
     ]
    }
   ],
   "source": [
    "def min_depth(root):\n",
    "    # empty tree/subtree\n",
    "    if root is None: return 0  \n",
    "    ld = min_depth(root.left)\n",
    "    rd = min_depth(root.right)\n",
    "    # has only left/right child, or probably is a leaf node\n",
    "    if root.left is None or root.right is None:\n",
    "        return ld + rd + 1  # ld or rd must be 0 (both 0 if a leaf node)\n",
    "    # both left and right child\n",
    "    return min(ld, rd) + 1 \n",
    "\n",
    "print(min_depth(root))\n",
    "print(min_depth(root2))"
   ]
  },
  {
   "cell_type": "code",
   "execution_count": null,
   "metadata": {},
   "outputs": [
    {
     "name": "stdout",
     "output_type": "stream",
     "text": [
      "2\n",
      "5\n"
     ]
    }
   ],
   "source": [
    "def minDepth(root) -> int:\n",
    "    if not root: return 0\n",
    "    elif not root.left: return minDepth(root.right) + 1\n",
    "    elif not root.right: return minDepth(root.left) + 1\n",
    "    else: return min(minDepth(root.left), minDepth(root.right)) + 1\n",
    "\n",
    "print(minDepth(root))\n",
    "print(minDepth(root2))"
   ]
  },
  {
   "cell_type": "markdown",
   "metadata": {},
   "source": [
    "- **Time complexity**: $O(N)$\n",
    "- **Space complexity**: $O(H)$, where $H$ is the height of the tree.\n",
    "  - Worst case: the tree is chain-like, $H = N$, *i.e.*, $O(N)$;\n",
    "  - Average case: $H = \\log N$, *i.e.*, $O(\\log N)$."
   ]
  },
  {
   "cell_type": "markdown",
   "metadata": {},
   "source": [
    "#### BFS Solution"
   ]
  },
  {
   "cell_type": "code",
   "execution_count": null,
   "metadata": {},
   "outputs": [
    {
     "data": {
      "text/plain": [
       "(2, 5)"
      ]
     },
     "metadata": {},
     "output_type": "display_data"
    }
   ],
   "source": [
    "def min_depth_bfs(root):\n",
    "    if root is None: return 0\n",
    "    queue = [(root, 1)]\n",
    "    while queue:\n",
    "        node, depth = queue.pop(0)\n",
    "        if not node.left and not node.right:\n",
    "            return depth\n",
    "        if node.left:\n",
    "            queue.append((node.left, depth + 1))\n",
    "        if node.right:\n",
    "            queue.append((node.right, depth + 1))\n",
    "            \n",
    "min_depth_bfs(root), min_depth_bfs(root2)"
   ]
  },
  {
   "cell_type": "code",
   "execution_count": null,
   "metadata": {},
   "outputs": [
    {
     "data": {
      "text/plain": [
       "(2, 5)"
      ]
     },
     "metadata": {},
     "output_type": "display_data"
    }
   ],
   "source": [
    "def min_depth_bfs(root):\n",
    "    if not root: return 0\n",
    "    queue = [root]\n",
    "    depth = 1\n",
    "    while queue:\n",
    "        num = len(queue)\n",
    "        for _ in range(num):\n",
    "            node = queue.pop(0)\n",
    "            if not node.left and not node.right:\n",
    "                return depth\n",
    "            if node.left:\n",
    "                queue.append(node.left)\n",
    "            if node.right:\n",
    "                queue.append(node.right) \n",
    "        depth += 1\n",
    "        \n",
    "min_depth_bfs(root), min_depth_bfs(root2)"
   ]
  },
  {
   "cell_type": "markdown",
   "metadata": {},
   "source": [
    "- **Time complexity**: $O(N)$\n",
    "- **Space complexity**: $O(N)$, the space complexity depends on the size of the queue."
   ]
  },
  {
   "attachments": {},
   "cell_type": "markdown",
   "metadata": {},
   "source": [
    "---\n",
    "### [112. Path Sum](https://leetcode.cn/problems/path-sum/)"
   ]
  },
  {
   "cell_type": "markdown",
   "metadata": {},
   "source": [
    "**Requirements**:\n",
    "\n",
    "gives you the root node of the binary tree root and an integer representing the target sum `targetSum`. Determine whether there is a path from the root node to the leaf node in the tree , and the sum of all node values ​​on this path is equal to the target sum `targetSum`. If exists, return true; otherwise, return `false`.\n",
    "\n",
    "![](https://assets.leetcode.com/uploads/2021/01/18/pathsum1.jpg)\n",
    "```\n",
    "  input:  root = [5,4,8,11,null,13,4,7,2,null,null,null,1], targetSum = 22\n",
    "  output:  true \n",
    "  Explanation:  The root node to leaf node path equal to the target sum is shown in the figure above. \n",
    " \n",
    "```\n",
    "\n",
    "\n",
    "**Analysis**:\n",
    "- Basic case: if the node is `None`, return `False`; if the node is a leaf node, judge whether the node value equals to the expected value. \n",
    "- Recursion relationship: \n",
    "  1. the path sum of the **left** subtree == `sum - root.val`\n",
    "  2. the path sum of the **right** subtree == `sum - root.val`"
   ]
  },
  {
   "cell_type": "code",
   "execution_count": null,
   "metadata": {},
   "outputs": [
    {
     "name": "stdout",
     "output_type": "stream",
     "text": [
      "\n",
      "         5_____\n",
      "        /      \\\n",
      "    ___4     ___8\n",
      "   /        /    \\\n",
      "  11       13     4\n",
      " /  \\        \\\n",
      "7    2        1\n",
      "\n"
     ]
    }
   ],
   "source": [
    "arr = [5,4,8,11,None,13,4,7,2,None,None,None,1]\n",
    "root = build(arr)\n",
    "targetSum = 22 \n",
    "print(root)"
   ]
  },
  {
   "cell_type": "markdown",
   "metadata": {},
   "source": [
    "#### DFS Solution"
   ]
  },
  {
   "cell_type": "code",
   "execution_count": null,
   "metadata": {},
   "outputs": [
    {
     "data": {
      "text/plain": [
       "True"
      ]
     },
     "metadata": {},
     "output_type": "display_data"
    }
   ],
   "source": [
    "def pathSum(root, targetSum):\n",
    "    if not root: return False\n",
    "    if not root.left and not root.right: \n",
    "        return (root.value == targetSum)\n",
    "    return pathSum(root.left, targetSum-root.value) \\\n",
    "        or pathSum(root.right, targetSum-root.value) \n",
    "        \n",
    "pathSum(root, targetSum)"
   ]
  },
  {
   "cell_type": "markdown",
   "metadata": {},
   "source": [
    "#### BFS Solution"
   ]
  },
  {
   "cell_type": "code",
   "execution_count": null,
   "metadata": {},
   "outputs": [
    {
     "data": {
      "text/plain": [
       "True"
      ]
     },
     "metadata": {},
     "output_type": "display_data"
    }
   ],
   "source": [
    "def pathSum(root, targetSum):\n",
    "    if not root: return False\n",
    "    queue = [(root, root.value)]\n",
    "    while queue:\n",
    "        node, value = queue.pop(0)\n",
    "        if not node.left and not node.right:\n",
    "            if targetSum == value:\n",
    "                return True\n",
    "            continue\n",
    "        if node.left:\n",
    "            queue.append((node.left, value + node.left.value))\n",
    "        if node.right:\n",
    "            queue.append((node.right, value + node.right.value))\n",
    "\n",
    "pathSum(root, targetSum)"
   ]
  },
  {
   "attachments": {},
   "cell_type": "markdown",
   "metadata": {},
   "source": [
    "---\n",
    "### [101. Symmetric binary tree](https://leetcode.cn/problems/symmetric-tree/)"
   ]
  },
  {
   "cell_type": "markdown",
   "metadata": {},
   "source": [
    "**Requirements**:\n",
    "\n",
    "```\n",
    "Input:  root = [1,2,2,3,4,4,3] \n",
    "  output:  true \n",
    " ```\n",
    "\n",
    "```\n",
    "Input:  root = [1,2,2,null,3,null,3] \n",
    "  output:  false \n",
    " ```\n",
    "\n",
    "**Analysis**:\n",
    "- Basic case:\n",
    "- Recursion relationship:"
   ]
  },
  {
   "cell_type": "code",
   "execution_count": null,
   "metadata": {},
   "outputs": [],
   "source": [
    "arr1 = [1,2,2,3,4,4,3]\n",
    "root1 = build(arr1)\n",
    "arr2 = [1,2,2,None,3,None,3]\n",
    "root2 = build(arr2)"
   ]
  },
  {
   "cell_type": "markdown",
   "metadata": {},
   "source": [
    "#### Recursion / DFS"
   ]
  },
  {
   "cell_type": "code",
   "execution_count": null,
   "metadata": {},
   "outputs": [
    {
     "data": {
      "text/plain": [
       "(True, False)"
      ]
     },
     "metadata": {},
     "output_type": "display_data"
    }
   ],
   "source": [
    "def is_symmetric(root):\n",
    "    if root is None: return True\n",
    "    def symmetric_helper(left, right):\n",
    "        if left is None and right is None:\n",
    "            return True\n",
    "        elif left is None or right is None:\n",
    "            return False\n",
    "        return left.value == right.value and \\\n",
    "            symmetric_helper(left.right, right.left) and \\\n",
    "            symmetric_helper(left.left, right.right)\n",
    "    return symmetric_helper(root.left, root.right)\n",
    "\n",
    "is_symmetric(root1), is_symmetric(root2)"
   ]
  },
  {
   "cell_type": "markdown",
   "metadata": {},
   "source": [
    "- **Time complexity**: $O(N)$\n",
    "- **Space complexity**: $O(H)$, where $H$ is the height of the tree.\n",
    "  - Worst case: the tree is chain-like, $H = N$, *i.e.*, $O(N)$;\n",
    "  - Average case: $H = \\log N$, *i.e.*, $O(\\log N)$."
   ]
  },
  {
   "cell_type": "markdown",
   "metadata": {},
   "source": [
    "#### Iterative / Queue"
   ]
  },
  {
   "cell_type": "code",
   "execution_count": null,
   "metadata": {},
   "outputs": [
    {
     "data": {
      "text/plain": [
       "(True, False)"
      ]
     },
     "metadata": {},
     "output_type": "display_data"
    }
   ],
   "source": [
    "def is_symmetric_queue(root):\n",
    "    if not root or not (root.left or root.right): return True\n",
    "    queue = [root.left, root.right]\n",
    "    while queue:\n",
    "        left = queue.pop(0)\n",
    "        right = queue.pop(0)\n",
    "        if not (left or right):\n",
    "            continue\n",
    "        if not (left and right):\n",
    "            return False\n",
    "        if left.value != right.value:\n",
    "            return False\n",
    "        queue.append(left.left)\n",
    "        queue.append(right.right)\n",
    "        queue.append(left.right)\n",
    "        queue.append(right.left)\n",
    "    return True\n",
    "\n",
    "is_symmetric_queue(root1), is_symmetric_queue(root2)"
   ]
  },
  {
   "cell_type": "markdown",
   "metadata": {},
   "source": [
    "- **Time complexity**: $O(N)$\n",
    "- **Space complexity**: $O(N)$, the space complexity depends on the size of the queue."
   ]
  },
  {
   "attachments": {},
   "cell_type": "markdown",
   "metadata": {},
   "source": [
    "---\n",
    "### [46. Full permutation](https://leetcode.cn/problems/permutations/)"
   ]
  },
  {
   "cell_type": "markdown",
   "metadata": {},
   "source": [
    "**Requirements**: Given an array with no duplicate numbers `nums`, return all possible full permutations of it. You can return answers in any order. \n",
    "\n",
    "**Examples**:\n",
    "```\n",
    "Input:  nums = [1,2,3] \n",
    "  Output:  [[1,2,3],[1,3,2],[2,1,3],[2,3,1],[3,1,2],[3,2,1] ] \n",
    " ```\n",
    "\n",
    " ```\n",
    " Input:  nums = [0,1] \n",
    "  Output:  [[0,1],[1,0]] \n",
    "  ```\n",
    "\n",
    "**Analysis**:\n",
    "- Basic case:\n",
    "- Recursion relationship:"
   ]
  },
  {
   "cell_type": "markdown",
   "metadata": {},
   "source": [
    "#### Recursion"
   ]
  },
  {
   "cell_type": "code",
   "execution_count": null,
   "metadata": {},
   "outputs": [],
   "source": [
    "arr = [1, 2, 3]"
   ]
  },
  {
   "cell_type": "code",
   "execution_count": null,
   "metadata": {},
   "outputs": [],
   "source": [
    "def permute(nums):\n",
    "    if len(nums) == 1: return [nums]\n",
    "    pointer = nums[0]\n",
    "    combs = permute(nums[1:])\n",
    "    combs_tmp = []\n",
    "    for comb in combs:\n",
    "        for i in range(len(comb) + 1):\n",
    "            tmp = comb.copy()\n",
    "            tmp.insert(i, pointer)\n",
    "            combs_tmp.append(tmp) \n",
    "    return combs_tmp"
   ]
  }
 ],
 "metadata": {
  "kernelspec": {
   "display_name": "base",
   "language": "python",
   "name": "python3"
  },
  "language_info": {
   "codemirror_mode": {
    "name": "ipython",
    "version": 3
   },
   "file_extension": ".py",
   "mimetype": "text/x-python",
   "name": "python",
   "nbconvert_exporter": "python",
   "pygments_lexer": "ipython3",
   "version": "3.9.13"
  },
  "orig_nbformat": 4,
  "vscode": {
   "interpreter": {
    "hash": "7a6421eabbced0eef48736441bf7ab46ed0c805d83230024a0e157c6d233d8b9"
   }
  }
 },
 "nbformat": 4,
 "nbformat_minor": 2
}
