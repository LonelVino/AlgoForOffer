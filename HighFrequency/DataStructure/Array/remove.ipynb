{
 "cells": [
  {
   "cell_type": "markdown",
   "metadata": {},
   "source": [
    "## 27. 移除元素\n",
    "- 给你一个数组 nums 和一个值 val，你需要 原地 移除所有数值等于 val 的元素，并返回移除后数组的新长度。\n",
    "- 不要使用额外的数组空间，你必须仅使用 $O(1)$ 额外空间并 原地 修改输入数组。\n",
    "- 元素的顺序可以改变。你不需要考虑数组中超出新长度后面的元素。\n",
    "\n",
    " \n",
    "\n",
    "说明:\n",
    "- 为什么返回数值是整数，但输出的答案是数组呢?\n",
    "- 请注意，输入数组是以「引用」方式传递的，这意味着在函数里修改输入数组对于调用者是可见的。\n",
    "\n",
    "你可以想象内部操作如下:\n",
    "```\n",
    "// nums 是以“引用”方式传递的。也就是说，不对实参作任何拷贝\n",
    "int len = removeElement(nums, val);\n",
    "\n",
    "// 在函数里修改输入数组对于调用者是可见的。\n",
    "// 根据你的函数返回的长度, 它会打印出数组中 该长度范围内 的所有元素。\n",
    "for (int i = 0; i < len; i++) {\n",
    "    print(nums[i]);\n",
    "}\n",
    "``` \n",
    "\n",
    "示例 1：\n",
    "```\n",
    "输入：nums = [3,2,2,3], val = 3\n",
    "输出：2, nums = [2,2]\n",
    "解释：函数应该返回新的长度 2, 并且 nums 中的前两个元素均为 2。你不需要考虑数组中超出新长度后面的元素。例如，函数返回的新长度为 2 ，而 nums = [2,2,3,3] 或 nums = [2,2,0,0]，也会被视作正确答案。\n",
    "```\n",
    "示例 2：\n",
    "```\n",
    "输入：nums = [0,1,2,2,3,0,4,2], val = 2\n",
    "输出：5, nums = [0,1,4,0,3]\n",
    "解释：函数应该返回新的长度 5, 并且 nums 中的前五个元素为 0, 1, 3, 0, 4。注意这五个元素可为任意顺序。你不需要考虑数组中超出新长度后面的元素。\n",
    " ```\n",
    "\n",
    "提示：\n",
    "```\n",
    "0 <= nums.length <= 100\n",
    "0 <= nums[i] <= 50\n",
    "0 <= val <= 100\n",
    "```"
   ]
  },
  {
   "cell_type": "markdown",
   "metadata": {},
   "source": [
    "### 1.标签：拷贝覆盖 \n",
    "\n",
    "这种思路在移除元素较多时更适合使用，最极端的情况是全部元素都需要移除，遍历一遍结束即可\n",
    "\n",
    "时间复杂度：$O(n)$，空间复杂度：$O(1)$"
   ]
  },
  {
   "cell_type": "code",
   "execution_count": null,
   "metadata": {},
   "outputs": [],
   "source": [
    "from typing import List\n",
    "\n",
    "class Solution:\n",
    "    def removeElement(self, nums: List[int], val: int) -> int:\n",
    "        u = 0\n",
    "        for x in nums:\n",
    "            if x != val:\n",
    "                nums[u] = x\n",
    "                u += 1\n",
    "        return u\n",
    "            "
   ]
  },
  {
   "cell_type": "markdown",
   "metadata": {},
   "source": [
    "### 2.标签：交换移除\n",
    "这种思路在移除元素较少时更适合使用，最极端的情况是没有元素需要移除，遍历一遍结束即可\n",
    "\n",
    "时间复杂度：$O(n)$，空间复杂度：$O(1)$\n"
   ]
  },
  {
   "cell_type": "code",
   "execution_count": null,
   "metadata": {},
   "outputs": [],
   "source": [
    "from typing import List\n",
    "\n",
    "class Solution:\n",
    "    def removeElement(self, nums: List[int], val: int) -> int:\n",
    "        res = len(nums)\n",
    "        u = 0\n",
    "        for i in range(len(nums)):\n",
    "            if nums[u] == val:\n",
    "                nums[u] = nums[res - 1]\n",
    "                res -= 1\n",
    "            else:\n",
    "                u += 1\n",
    "        return res"
   ]
  },
  {
   "cell_type": "markdown",
   "metadata": {},
   "source": [
    "### Double pointers\n",
    "将数组分成「前后」两段：\n",
    "- 前半段是有效部分，存储的是不等于 val 的元素。\n",
    "- 后半段是无效部分，存储的是等于 val 的元素。"
   ]
  },
  {
   "cell_type": "code",
   "execution_count": null,
   "metadata": {},
   "outputs": [
    {
     "name": "stdout",
     "output_type": "stream",
     "text": [
      "2\n"
     ]
    }
   ],
   "source": [
    "ss = Solution()\n",
    "res = ss.removeElement(nums = [3,2,2,3], val = 3)\n",
    "print(res)"
   ]
  }
 ],
 "metadata": {
  "kernelspec": {
   "display_name": "Python 3",
   "language": "python",
   "name": "python3"
  },
  "language_info": {
   "name": "python",
   "version": "3.8.10"
  },
  "orig_nbformat": 4,
  "vscode": {
   "interpreter": {
    "hash": "5b3ded1ccb95c1d9bd405e7b823d9e85424cde40fbb5985eb47e999ef50e15b4"
   }
  }
 },
 "nbformat": 4,
 "nbformat_minor": 2
}
