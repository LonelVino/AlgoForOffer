{
 "cells": [
  {
   "attachments": {},
   "cell_type": "markdown",
   "id": "ca279077",
   "metadata": {},
   "source": [
    "## Linked List\n"
   ]
  },
  {
   "attachments": {},
   "cell_type": "markdown",
   "id": "0b71faa7",
   "metadata": {},
   "source": [
    "### Introduction\n"
   ]
  },
  {
   "attachments": {},
   "cell_type": "markdown",
   "id": "0f1a4e8f",
   "metadata": {},
   "source": [
    "#### Types of Linked List\n"
   ]
  },
  {
   "attachments": {},
   "cell_type": "markdown",
   "id": "be5f9173",
   "metadata": {},
   "source": [
    "\n",
    "Following are the various types of linked list.\n",
    "\n",
    "- *Simple Linked List* − Item navigation is forward only.\n",
    "- *Doubly Linked List* − Items can be navigated forward and backward.\n",
    "- *Circular Linked List* − Last item contains link of the first element as next and the first element has a link to the last element as previous.\n"
   ]
  },
  {
   "cell_type": "markdown",
   "id": "9978d35d",
   "metadata": {},
   "source": [
    "#### Basic Operation"
   ]
  },
  {
   "attachments": {},
   "cell_type": "markdown",
   "id": "21e6f28c",
   "metadata": {},
   "source": [
    "Following are the basic operations supported by a list.\n",
    "\n",
    "- Insertion − Adds an element at the beginning of the list.\n",
    "- Display − Displays the complete list.\n",
    "- Search − Searches an element using the given key.\n",
    "- Delete − Deletes an element using the given key.\n"
   ]
  },
  {
   "attachments": {},
   "cell_type": "markdown",
   "id": "76dfd275",
   "metadata": {},
   "source": [
    "---\n",
    "\n",
    "### Basic Linked List "
   ]
  },
  {
   "attachments": {},
   "cell_type": "markdown",
   "id": "2491e45a",
   "metadata": {},
   "source": [
    "#### Initialization"
   ]
  },
  {
   "cell_type": "code",
   "execution_count": 3,
   "id": "30ad0430",
   "metadata": {},
   "outputs": [],
   "source": [
    "from typing import List, Optional, Union, Any\n",
    "\n",
    "_NODE_VAL_TYPES = (float, int, str)\n",
    "NodeValue = Any\n",
    "NodeValueList = Union[\n",
    "    List[Optional[int]],\n",
    "    List[Optional[float]],\n",
    "    List[Optional[str]],\n",
    "    List[int],\n",
    "    List[float],\n",
    "    List[str] \n",
    "]\n",
    "\n",
    "class ListNode:\n",
    "    def __init__(self, val):\n",
    "        self.val = val\n",
    "        self.next = None\n",
    "        \n",
    "    def __str__(self):\n",
    "        return f\"Node ({self.val})\"\n",
    "            \n",
    "    def clone(self):\n",
    "        other = ListNode(self.val)\n",
    "        queue1, queue2 = [self], [other]\n",
    "        while queue1 or queue2:\n",
    "            node1, node2 = queue1.pop(0), queue2.pop(0)\n",
    "            if node1.next is not None:\n",
    "                node2.next = ListNode(node1.next.val)\n",
    "                queue1.append(node1.next)\n",
    "                queue2.append(node2.next)\n",
    "        return other\n",
    "    \n",
    "class LinkedList:\n",
    "    def __init__(self, node):\n",
    "        self.head = node\n",
    "        \n",
    "    def __str__(self):\n",
    "        queue = [self.head]\n",
    "        string = \"\"\n",
    "        while queue:\n",
    "            node = queue.pop(0)\n",
    "            if node.next is not None:\n",
    "                string += f\"{node.val} -> \"\n",
    "                queue.append(node.next)\n",
    "            else:\n",
    "                string += f\"{node.val}\"\n",
    "                break\n",
    "        return string\n",
    "    \n",
    "    def __len__(self):\n",
    "        length = 0\n",
    "        current_node = self.head\n",
    "        while current_node is not None:\n",
    "            current_node = current_node.next\n",
    "            length += 1\n",
    "        return length\n",
    "    \n",
    "    def clone(self):\n",
    "        head2 = self.head.clone()\n",
    "        return LinkedList(head2)\n",
    "    \n",
    "    def search(self, idx):\n",
    "        if idx < 0 or idx > len(self):\n",
    "            raise Exception(\"insertion index exceeds the limit of the LinkedList\")\n",
    "        \n",
    "        target_node = self.head\n",
    "        while idx > 1:\n",
    "            target_node = target_node.next\n",
    "            idx -= 1\n",
    "        return target_node\n",
    "    \n",
    "    def insert(self, node, idx):\n",
    "        target_node = self.search(idx)\n",
    "        node.next = target_node.next\n",
    "        target_node.next = node\n",
    "        \n",
    "    def delete(self, idx):\n",
    "        target_node = self.search(idx)\n",
    "        if idx == 0:\n",
    "           self.head = target_node.next \n",
    "        else:\n",
    "            prev = self.search(idx - 1)\n",
    "            prev.next = target_node.next\n",
    "        target_node.next = None\n",
    "        \n",
    "        \n",
    "def build(arr):\n",
    "    if len(arr) == 0: return None\n",
    "    head = ListNode(arr.pop(0))\n",
    "    queue = [head]\n",
    "    while arr:\n",
    "        current_node = queue.pop(0)\n",
    "        current_node.next = ListNode(arr.pop(0))\n",
    "        queue.append(current_node.next)\n",
    "    return head"
   ]
  },
  {
   "cell_type": "code",
   "execution_count": 4,
   "id": "f12c6197",
   "metadata": {},
   "outputs": [
    {
     "name": "stdout",
     "output_type": "stream",
     "text": [
      "0 -> 1 -> 2 -> 3 -> 4\n",
      "5\n"
     ]
    }
   ],
   "source": [
    "arr = list(range(5))\n",
    "head = build(arr)\n",
    "llst = LinkedList(head)\n",
    "print(llst)\n",
    "print(len(llst))"
   ]
  },
  {
   "attachments": {},
   "cell_type": "markdown",
   "id": "e3052bef",
   "metadata": {},
   "source": [
    "#### Case Study"
   ]
  },
  {
   "attachments": {},
   "cell_type": "markdown",
   "id": "60f0d61d",
   "metadata": {},
   "source": [
    "---\n",
    "[**Offer 25. Merge 2 sorted linked lists**](https://leetcode.cn/problems/he-bing-liang-ge-pai-xu-de-lian-biao-lcof/)"
   ]
  },
  {
   "cell_type": "markdown",
   "id": "fa18434d",
   "metadata": {},
   "source": [
    "**Description**: Enter two ascending linked lists, merge the two linked lists and keep the nodes in the new linked list still in ascending order. \n",
    "\n",
    "**Examples**: \n",
    "```\n",
    "Input:  1->2->4, 1->3->4 \n",
    "  Output:  1->1->2->3->4->4 \n",
    "```"
   ]
  },
  {
   "cell_type": "markdown",
   "id": "17e4d78f",
   "metadata": {},
   "source": [
    "**Analysis**:\n",
    "- Base case:\n",
    "  - `l1` or `l2` is empty, return another linked list.\n",
    "  - `l1` has only one element, traverse `l2` to find the proper position.\n",
    "- Recursive relationship:\n",
    "  - assume `l1.headNode < l2.headNode`, `res[-1].next = l2.headNode`\n",
    "  - `l1.headNode = l1.headNode.next`\n",
    "  - otherwise, put `l2.headNode` to the merged linked list."
   ]
  },
  {
   "cell_type": "code",
   "execution_count": 16,
   "id": "db89f202",
   "metadata": {},
   "outputs": [],
   "source": [
    "def mergeTwoLists(l1: ListNode, l2: ListNode) -> ListNode:\n",
    "    if l1 is None and l2 is None: return None\n",
    "    if l1 is None: return l2\n",
    "    if l2 is None: return l1\n",
    "    if l1.val < l2.val:\n",
    "        res = mergeTwoLists(l1.next, l2)\n",
    "        l1.next = res\n",
    "        return l1\n",
    "    else:\n",
    "        res = mergeTwoLists(l1, l2.next) \n",
    "        l2.next = res\n",
    "        return l2\n",
    "        "
   ]
  },
  {
   "cell_type": "code",
   "execution_count": 17,
   "id": "67962fc5",
   "metadata": {},
   "outputs": [],
   "source": [
    "arr1 = list(range(0, 5, 2))\n",
    "arr2 = list(range(1, 6, 2))\n",
    "head1, head2 = build(arr1), build(arr2)\n",
    "merged_head = mergeTwoLists(head1, head2)"
   ]
  },
  {
   "cell_type": "code",
   "execution_count": 18,
   "id": "bcd451e7",
   "metadata": {},
   "outputs": [
    {
     "name": "stdout",
     "output_type": "stream",
     "text": [
      "0 -> 1 -> 2 -> 3 -> 4 -> 5\n"
     ]
    }
   ],
   "source": [
    "merged_llst = LinkedList(merged_head)\n",
    "print(merged_llst)"
   ]
  },
  {
   "attachments": {},
   "cell_type": "markdown",
   "id": "5ed671c2",
   "metadata": {},
   "source": [
    "---\n",
    "[**1669. Merge two linked lists**](https://leetcode.cn/problems/merge-in-between-linked-lists/)"
   ]
  },
  {
   "attachments": {},
   "cell_type": "markdown",
   "id": "8ff78986",
   "metadata": {},
   "source": [
    "**Description**: Given you two linked lists `list1` and `list2`, which contain `n` and `m` elements respectively.\n",
    "\n",
    "Please delete all nodes in `list1` with subscript from `a` to `b`, and connect  `list2` to the position of the deleted nodes. \n",
    "\n",
    "![](https://assets.leetcode-cn.com/aliyun-lc-upload/uploads/2020/11/28/fig1.png)\n",
    "\n",
    "**Examples 1**: \n",
    "![](https://assets.leetcode-cn.com/aliyun-lc-upload/uploads/2020/11/28/merge_linked_list_ex1.png)\n",
    "```\n",
    "- Input:  list1 = [0,1,2,3,4,5], a = 3, b = 4\n",
    "          list2 = [1000000,1000001,1000002] \n",
    "- Output:  [0,1,2,1000000,1000001,1000002,5] \n",
    "  Explanation:  We delete the two nodes with subscripts 3 and 4 in list1, and connect list2 at that position.  The blue edges and nodes in the above figure are the answer list. \n",
    "```"
   ]
  },
  {
   "cell_type": "code",
   "execution_count": 36,
   "id": "41472fe6",
   "metadata": {},
   "outputs": [],
   "source": [
    "def mergeInBetween(list1: ListNode, a: int, b: int, list2: ListNode) -> ListNode:\n",
    "    preA = list1\n",
    "    for _ in range(a - 1):\n",
    "        preA = preA.next\n",
    "    preB = preA\n",
    "    for _ in range(b - a + 2):\n",
    "        preB = preB.next\n",
    "    preA.next = list2\n",
    "    while list2.next:\n",
    "        list2 = list2.next\n",
    "    list2.next = preB\n",
    "    return list1\n",
    "\n",
    "list1 = build(list(range(6)))\n",
    "list2 = build([int(10e4), int(10e4+1), int(10e4+2)])\n",
    "a, b = 3, 4\n",
    "merged = mergeInBetween(list1, a, b, list2)\n",
    "    \n",
    "merged_llst = LinkedList(merged)\n",
    "print(merged_llst)"
   ]
  },
  {
   "attachments": {},
   "cell_type": "markdown",
   "id": "d5f0e12a",
   "metadata": {},
   "source": [
    "- **Time complexity**: $O(m + n)$, $m$ and $n$ are the length of `list1` and `list2` respectively.\n",
    "- **Space complexity**: $O(1)$"
   ]
  },
  {
   "attachments": {},
   "cell_type": "markdown",
   "id": "6a2107cd",
   "metadata": {},
   "source": [
    "---\n",
    "### Doubly Linked List"
   ]
  },
  {
   "attachments": {},
   "cell_type": "markdown",
   "id": "d235c60c",
   "metadata": {},
   "source": [
    "Different from basic linked list, nodes in doubly linked list have a new attribute -- **previous link** (`prev`)."
   ]
  },
  {
   "attachments": {},
   "cell_type": "markdown",
   "id": "ff1f86ce",
   "metadata": {},
   "source": [
    "![](https://www.tutorialspoint.com/data_structures_algorithms/images/doubly_linked_list.jpg)"
   ]
  },
  {
   "cell_type": "markdown",
   "id": "650e4231",
   "metadata": {},
   "source": [
    "\n",
    "![](https://www.tutorialspoint.com/data_structures_algorithms/images/doubly_linked_list.jpg)"
   ]
  }
 ],
 "metadata": {
  "kernelspec": {
   "display_name": "Python 3",
   "language": "python",
   "name": "python3"
  },
  "language_info": {
   "codemirror_mode": {
    "name": "ipython",
    "version": 3
   },
   "file_extension": ".py",
   "mimetype": "text/x-python",
   "name": "python",
   "nbconvert_exporter": "python",
   "pygments_lexer": "ipython3",
   "version": "3.8.10"
  },
  "vscode": {
   "interpreter": {
    "hash": "5b3ded1ccb95c1d9bd405e7b823d9e85424cde40fbb5985eb47e999ef50e15b4"
   }
  }
 },
 "nbformat": 4,
 "nbformat_minor": 5
}
