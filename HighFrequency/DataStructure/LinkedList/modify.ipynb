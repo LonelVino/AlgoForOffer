{
 "cells": [
  {
   "attachments": {},
   "cell_type": "markdown",
   "id": "f1a7cb19",
   "metadata": {},
   "source": [
    "## Case Study"
   ]
  },
  {
   "attachments": {},
   "cell_type": "markdown",
   "id": "appointed-ribbon",
   "metadata": {},
   "source": [
    "### [Offer 24. Inverted Linked List](https://leetcode.cn/problems/UHnkqh/description/)\n"
   ]
  },
  {
   "attachments": {},
   "cell_type": "markdown",
   "id": "d2498005",
   "metadata": {},
   "source": [
    "**Description**: Given a linked list, return the head of the inverted linked list.\n",
    "\n",
    "**Example**:\n",
    "```\n",
    "Input: {1,2,3}\n",
    "Return: {3,2,1}\n",
    "```"
   ]
  },
  {
   "cell_type": "code",
   "execution_count": 1,
   "id": "e1d60b69",
   "metadata": {},
   "outputs": [],
   "source": [
    "from linkedlist import ListNode, build, LinkedList"
   ]
  },
  {
   "attachments": {},
   "cell_type": "markdown",
   "id": "97910fa4",
   "metadata": {},
   "source": [
    "#### Recursive Solution"
   ]
  },
  {
   "cell_type": "code",
   "execution_count": 2,
   "id": "dea9a92b",
   "metadata": {},
   "outputs": [],
   "source": [
    "def invertLinkedList(head):\n",
    "    \n",
    "    def invert_helper(prev, cur) -> ListNode:\n",
    "        if cur is None: return prev\n",
    "        res = invert_helper(cur, cur.next)\n",
    "        cur.next = prev\n",
    "        return res\n",
    "     \n",
    "    return invert_helper(None, head)\n"
   ]
  },
  {
   "cell_type": "code",
   "execution_count": 3,
   "id": "8c58bbc3",
   "metadata": {},
   "outputs": [
    {
     "name": "stdout",
     "output_type": "stream",
     "text": [
      "0 -> 1 -> 2 -> 3 -> 4\n",
      "4 -> 3 -> 2 -> 1 -> 0\n"
     ]
    }
   ],
   "source": [
    "arr = list(range(5))\n",
    "head = build(arr)\n",
    "llst = LinkedList(head)\n",
    "\n",
    "new_head = head.clone()\n",
    "inverted_head = invertLinkedList(new_head)\n",
    "inverted_llst = LinkedList(inverted_head)\n",
    "\n",
    "print(llst)\n",
    "print(inverted_llst)"
   ]
  },
  {
   "attachments": {},
   "cell_type": "markdown",
   "id": "e9fada31",
   "metadata": {},
   "source": [
    "**Analysis**:\n",
    "- Time complexity: $O(N)$, linear time;\n",
    "- Space complexity: $O(N)$, $N$ extra memory will be taken once the recursive depth reaches $N$."
   ]
  },
  {
   "attachments": {},
   "cell_type": "markdown",
   "id": "f49f81d6",
   "metadata": {},
   "source": [
    "#### Iterative Solution"
   ]
  },
  {
   "cell_type": "code",
   "execution_count": 4,
   "id": "3cd5e3fb",
   "metadata": {},
   "outputs": [],
   "source": [
    "def invertLinkedList(head):\n",
    "    cur = head\n",
    "    prev = None\n",
    "    while cur:\n",
    "        tmp = cur.next\n",
    "        cur.next = prev\n",
    "        prev, cur = cur, tmp\n",
    "        \n",
    "    return prev"
   ]
  },
  {
   "cell_type": "code",
   "execution_count": 5,
   "id": "eaf57607",
   "metadata": {},
   "outputs": [
    {
     "name": "stdout",
     "output_type": "stream",
     "text": [
      "0 -> 1 -> 2 -> 3 -> 4\n",
      "4 -> 3 -> 2 -> 1 -> 0\n"
     ]
    }
   ],
   "source": [
    "arr = list(range(5))\n",
    "head = build(arr)\n",
    "llst = LinkedList(head)\n",
    "\n",
    "new_head = head.clone()\n",
    "inverted_head = invertLinkedList(new_head)\n",
    "inverted_llst = LinkedList(inverted_head)\n",
    "\n",
    "print(llst)\n",
    "print(inverted_llst)"
   ]
  },
  {
   "attachments": {},
   "cell_type": "markdown",
   "id": "34bcdf99",
   "metadata": {},
   "source": [
    "**Analysis**:\n",
    "- Time complexity: $O(N)$. linear time;\n",
    "- Space complexity: $O(1)$, only two pointers."
   ]
  },
  {
   "attachments": {},
   "cell_type": "markdown",
   "id": "0e8345f7",
   "metadata": {},
   "source": [
    "---\n",
    "### [Offer 078. Merge and sort linked lists](https://leetcode.cn/problems/vvXgSW/)"
   ]
  },
  {
   "attachments": {},
   "cell_type": "markdown",
   "id": "6c646958",
   "metadata": {},
   "source": [
    "**Description**:\n",
    "\n",
    "\n",
    "**Examples**:\n",
    "```\n",
    "Input:  lists = [[1,4,5],[1,3,4],[2,6]] \n",
    "  Output:  [1,1,2,3,4,4,5,6] \n",
    "  Explanation:  The linked list array is as follows: \n",
    "  [ \n",
    "    1->4->5, \n",
    "    1->3->4, \n",
    "    2->6 \n",
    "  ] \n",
    "  Merge them into an ordered linked list to get. \n",
    "  1->1->2->3->4->4->5->6 \n",
    "```\n",
    "\n",
    "```\n",
    "Input: lists = [] (or [[]])\n",
    "Output: []\n",
    "```"
   ]
  },
  {
   "attachments": {},
   "cell_type": "markdown",
   "id": "aec5625d",
   "metadata": {},
   "source": [
    "#### Recursive Solution -- Recurse one by one"
   ]
  },
  {
   "cell_type": "code",
   "execution_count": 6,
   "id": "c0e055fe",
   "metadata": {},
   "outputs": [],
   "source": [
    "from typing import List\n",
    "\n",
    "def mergeKLists(lists: List[ListNode]):\n",
    "    \n",
    "    def merge_helper(l1, l2):\n",
    "        if l1 is None: return l2\n",
    "        if l2 is None: return l1\n",
    "        if l1.val < l2.val:\n",
    "            res = merge_helper(l1.next, l2)\n",
    "            l1.next = res\n",
    "            return l1\n",
    "        else:\n",
    "            res = merge_helper(l1, l2.next)\n",
    "            l2.next = res\n",
    "            return l2\n",
    "        \n",
    "    head = None\n",
    "    for l in lists:\n",
    "        head = merge_helper(head, l)\n",
    "        \n",
    "    return head"
   ]
  },
  {
   "cell_type": "code",
   "execution_count": 7,
   "id": "45b27667",
   "metadata": {},
   "outputs": [
    {
     "name": "stdout",
     "output_type": "stream",
     "text": [
      "1 -> 1 -> 2 -> 3 -> 4 -> 4 -> 5 -> 6\n"
     ]
    }
   ],
   "source": [
    "lists = [[1,4,5],[1,3,4],[2,6]] \n",
    "node_lists = [build(arr) for arr in lists]\n",
    "merged_head = mergeKLists(node_lists)\n",
    "merged_list = LinkedList(merged_head)\n",
    "print(merged_list)"
   ]
  },
  {
   "attachments": {},
   "cell_type": "markdown",
   "id": "d64f69bb",
   "metadata": {},
   "source": [
    "**Performance**:\n",
    "- Time complexity: Assume the length of each linked list is $n$, the length of $i$-th ($i \\le k$) merge is $i * n$; Thus, the total time complexity should be $\\sum_{i=1}^{k} i*n = \\frac{(k - 1)k \\times n}{2} = O(k^2 \\times n)$\n",
    "- Space complexity: the wrapper function will be called for $k$ times, *i.e*, recursion will use $O(n)$ stack space.  "
   ]
  },
  {
   "attachments": {},
   "cell_type": "markdown",
   "id": "622c3761",
   "metadata": {},
   "source": [
    "#### Recursive Solution -- Divide and Conquer"
   ]
  },
  {
   "attachments": {},
   "cell_type": "markdown",
   "id": "0c23e83b",
   "metadata": {},
   "source": [
    "![](https://pic.leetcode-cn.com/6f70a6649d2192cf32af68500915d84b476aa34ec899f98766c038fc9cc54662-image.png)"
   ]
  },
  {
   "cell_type": "code",
   "execution_count": 8,
   "id": "5d74eae5",
   "metadata": {},
   "outputs": [],
   "source": [
    "def mergeKLists(lists: List[ListNode]) -> ListNode:\n",
    "    \n",
    "    def mergeTwoLists(l1, l2):\n",
    "        if l1 is None: return l2\n",
    "        if l2 is None: return l1\n",
    "        head = ListNode(0)\n",
    "        tail = head\n",
    "        while l1 and l2:\n",
    "            if l1.val < l2.val:\n",
    "                tail.next = l1\n",
    "                l1 = l1.next\n",
    "            else:\n",
    "                tail.next = l2\n",
    "                l2 = l2.next\n",
    "            tail = tail.next\n",
    "        tail.next = l1 if l1 else l2\n",
    "        return head.next\n",
    "    \n",
    "    def recur(lists, l, r):\n",
    "        if l == r: return lists[l]\n",
    "        if l > r: return None\n",
    "        mid = (l + r) >> 1\n",
    "        return mergeTwoLists(recur(lists, l, mid), recur(lists, mid + 1, r))\n",
    "    \n",
    "    return recur(lists, 0, len(lists) - 1)"
   ]
  },
  {
   "cell_type": "code",
   "execution_count": 9,
   "id": "ef7d399e",
   "metadata": {},
   "outputs": [
    {
     "name": "stdout",
     "output_type": "stream",
     "text": [
      "1 -> 1 -> 2 -> 3 -> 4 -> 4 -> 5 -> 6\n"
     ]
    }
   ],
   "source": [
    "lists = [[1,4,5],[1,3,4],[2,6]] \n",
    "node_lists = [build(arr) for arr in lists]\n",
    "merged_head = mergeKLists(node_lists)\n",
    "merged_list = LinkedList(merged_head)\n",
    "print(merged_list)"
   ]
  },
  {
   "attachments": {},
   "cell_type": "markdown",
   "id": "70ccc169",
   "metadata": {},
   "source": [
    "**Performance**:\n",
    "- Time complexity: the first round: merge $\\frac{k}{2}$ groups of linked lists, the second round: merge $\\frac{k}{4}$ groups of linked lists, the third round: ....; The total time complexity is: $\\sum_{i=1}^{\\infin} \\frac{k}{ 2^i} 2^i * n = O(kn \\times \\log n)$ \n",
    "- Space complexity: $O(\\log n)$, due to divide and conquer. "
   ]
  },
  {
   "attachments": {},
   "cell_type": "markdown",
   "id": "44861cde",
   "metadata": {},
   "source": [
    "#### Sequential Merge"
   ]
  },
  {
   "cell_type": "code",
   "execution_count": 10,
   "id": "42bf325f",
   "metadata": {},
   "outputs": [],
   "source": [
    "def mergeKLists(lists: List[ListNode]) -> ListNode:\n",
    "    \n",
    "    def mergeTwoLists(l1, l2):\n",
    "        if l1 is None: return l2\n",
    "        if l2 is None: return l1\n",
    "        head = ListNode(0)\n",
    "        tail = head\n",
    "        while l1 and l2:\n",
    "            if l1.val < l2.val:\n",
    "                tail.next = l1\n",
    "                l1 = l1.next\n",
    "            else:\n",
    "                tail.next = l2\n",
    "                l2 = l2.next\n",
    "            tail = tail.next\n",
    "        tail.next = l1 if l1 else l2\n",
    "        \n",
    "        return head.next\n",
    "    \n",
    "    head = None\n",
    "    for l in lists:\n",
    "        head = mergeTwoLists(head, l)\n",
    "    \n",
    "    return head"
   ]
  },
  {
   "cell_type": "code",
   "execution_count": 11,
   "id": "ed45c042",
   "metadata": {},
   "outputs": [
    {
     "name": "stdout",
     "output_type": "stream",
     "text": [
      "1 -> 1 -> 2 -> 3 -> 4 -> 4 -> 5 -> 6\n"
     ]
    }
   ],
   "source": [
    "lists = [[1,4,5],[1,3,4],[2,6]] \n",
    "node_lists = [build(arr) for arr in lists]\n",
    "merged_head = mergeKLists(node_lists)\n",
    "merged_list = LinkedList(merged_head)\n",
    "print(merged_list)"
   ]
  },
  {
   "attachments": {},
   "cell_type": "markdown",
   "id": "2e4f3135",
   "metadata": {},
   "source": [
    "**Performance**:\n",
    "- Time complexity: Assume the length of each linked list is $n$, the length of $i$-th ($i \\le k$) merge is $i * n$; Thus, the total time complexity should be $\\sum_{i=1}^{k} i*n = \\frac{(k - 1)k \\times n}{2} = O(k^2 \\times n)$\n",
    "- Space complexity: $O(1)$, due to two pointers."
   ]
  },
  {
   "attachments": {},
   "cell_type": "markdown",
   "id": "374b3969",
   "metadata": {},
   "source": [
    "#### Priority Queue"
   ]
  },
  {
   "cell_type": "code",
   "execution_count": null,
   "id": "45d9130c",
   "metadata": {},
   "outputs": [],
   "source": []
  },
  {
   "attachments": {},
   "cell_type": "markdown",
   "id": "e70d4b59",
   "metadata": {},
   "source": [
    "### [1721. Swap 2 elements in the Linked List](https://leetcode.cn/problems/swapping-nodes-in-a-linked-list/description/)"
   ]
  },
  {
   "attachments": {},
   "cell_type": "markdown",
   "id": "6ca0977b",
   "metadata": {},
   "source": [
    "**Description**: Given the head node of the linked list and an integer `k`.<br/>\n",
    "Swap the first $k$-th node of the linked list and penultimate $k$-th node. After swapping, return the head node of the linked list (the linked list starts indexing from `1`). \n",
    "\n",
    "**Examples**:\n",
    "```\n",
    "Input:  head = [1,2,3,4,5], k = 2 \n",
    "  Output:  [1,4,3,2,5] \n",
    "```"
   ]
  },
  {
   "attachments": {},
   "cell_type": "markdown",
   "id": "ff561790",
   "metadata": {},
   "source": [
    "#### Value Swap"
   ]
  },
  {
   "cell_type": "code",
   "execution_count": 12,
   "id": "85b46d4d",
   "metadata": {},
   "outputs": [],
   "source": [
    "from typing import Optional\n",
    "\n",
    "def swapNodes(head: Optional[ListNode], k: int) -> Optional[ListNode]:\n",
    "    left, right = head, head\n",
    "    for _ in range(1, k):\n",
    "        left = left.next\n",
    "    cur = left\n",
    "    while cur.next:\n",
    "        right = right.next\n",
    "        cur = cur.next\n",
    "    print(right.val)\n",
    "    m = right.val\n",
    "    right.val = left.val\n",
    "    left.val = m\n",
    "    return head"
   ]
  },
  {
   "cell_type": "code",
   "execution_count": 13,
   "id": "c40561e2",
   "metadata": {},
   "outputs": [
    {
     "name": "stdout",
     "output_type": "stream",
     "text": [
      "35\n",
      "80 -> 35 -> 66 -> 46 -> 64\n"
     ]
    }
   ],
   "source": [
    "# arr = list(range(1, 6))\n",
    "arr = [80,46,66,35,64]\n",
    "head = build(arr)\n",
    "k = 2\n",
    "swapped_head = swapNodes(head, k)\n",
    "swapped_llst = LinkedList(swapped_head)\n",
    "print(swapped_llst)"
   ]
  },
  {
   "attachments": {},
   "cell_type": "markdown",
   "id": "30c1a1e3",
   "metadata": {},
   "source": [
    "#### Node Swap"
   ]
  },
  {
   "cell_type": "code",
   "execution_count": 14,
   "id": "0f2e1d31",
   "metadata": {},
   "outputs": [],
   "source": [
    "def swapNodes(head: Optional[ListNode], k: int) -> Optional[ListNode]:\n",
    "    dummy = ListNode(0)\n",
    "    dummy.next = head\n",
    "    left: Optional[ListNode] = dummy.next\n",
    "    right: Optional[ListNode] = dummy.next\n",
    "    preA, preB = dummy, dummy\n",
    "    for _ in range(1, k):\n",
    "        preA = preA.next\n",
    "        left = left.next\n",
    "    cur = left\n",
    "    tmp = left.next\n",
    "    while cur.next:\n",
    "        cur = cur.next\n",
    "        preB = preB.next\n",
    "        right = right.next\n",
    "    if preA == right: # if right node is the previous node of left node\n",
    "        right.next = tmp\n",
    "        left.next = right\n",
    "        preB.next = left\n",
    "    else:\n",
    "        left.next = right.next\n",
    "        if left == preB: # if left node is the previous node of right node\n",
    "            right.next = left\n",
    "        else:\n",
    "            right.next = tmp\n",
    "            preB.next = left\n",
    "        preA.next = right\n",
    "    return dummy.next"
   ]
  },
  {
   "cell_type": "code",
   "execution_count": 15,
   "id": "3f99fab2",
   "metadata": {},
   "outputs": [
    {
     "name": "stdout",
     "output_type": "stream",
     "text": [
      "64 -> 46 -> 66 -> 35 -> 80\n"
     ]
    }
   ],
   "source": [
    "# arr = list(range(1, 6))\n",
    "arr = [80,46,66,35,64]\n",
    "head = build(arr)\n",
    "k = 1\n",
    "swapped_head = swapNodes(head, k)\n",
    "swapped_llst = LinkedList(swapped_head)\n",
    "print(swapped_llst)"
   ]
  },
  {
   "attachments": {},
   "cell_type": "markdown",
   "id": "d682f429",
   "metadata": {},
   "source": [
    "### [Delete the last nth node of the linked list](https://leetcode.cn/problems/SLwz0R/description/)"
   ]
  },
  {
   "attachments": {},
   "cell_type": "markdown",
   "id": "a852b2a3",
   "metadata": {},
   "source": [
    "**Description**: Given a linked list, delete the penultimate of the linked list `n` nodes, and returns the head node of the linked list. \n",
    "\n",
    "**Examples**:\n",
    "```\n",
    "Input:  head = [1,2,3,4,5], n = 2 \n",
    "  Output:  [1,2,3,5] \n",
    "```\n",
    "\n",
    "```\n",
    "Input:  head = [1], n = 1 \n",
    "  output:  [] \n",
    "```"
   ]
  },
  {
   "cell_type": "code",
   "execution_count": 16,
   "id": "40e7cca0",
   "metadata": {},
   "outputs": [],
   "source": [
    "def removeNthFromEnd(head: ListNode, n: int) -> ListNode:\n",
    "    prev = ListNode(0)\n",
    "    prev.next = head\n",
    "    left, right = head, head\n",
    "    for _ in range(1, n):\n",
    "        right = right.next\n",
    "    while right.next:\n",
    "        left = left.next\n",
    "        right = right.next\n",
    "        prev = prev.next\n",
    "    print(prev.val, left.val)\n",
    "    if left == head:\n",
    "        head = left.next\n",
    "    else:\n",
    "        prev.next = left.next\n",
    "        left.next = None\n",
    "    return head\n",
    "    "
   ]
  },
  {
   "cell_type": "code",
   "execution_count": 17,
   "id": "3587e19c",
   "metadata": {},
   "outputs": [
    {
     "name": "stdout",
     "output_type": "stream",
     "text": [
      "0 1\n",
      "\n"
     ]
    }
   ],
   "source": [
    "# arr = list(range(6))\n",
    "arr = [1]\n",
    "n = 1\n",
    "head = build(arr)\n",
    "new_head = removeNthFromEnd(head, n)\n",
    "new_llst = LinkedList(new_head) \n",
    "print(new_llst)"
   ]
  }
 ],
 "metadata": {
  "kernelspec": {
   "display_name": "Python 3",
   "language": "python",
   "name": "python3"
  },
  "language_info": {
   "codemirror_mode": {
    "name": "ipython",
    "version": 3
   },
   "file_extension": ".py",
   "mimetype": "text/x-python",
   "name": "python",
   "nbconvert_exporter": "python",
   "pygments_lexer": "ipython3",
   "version": "3.8.10"
  },
  "vscode": {
   "interpreter": {
    "hash": "5b3ded1ccb95c1d9bd405e7b823d9e85424cde40fbb5985eb47e999ef50e15b4"
   }
  }
 },
 "nbformat": 4,
 "nbformat_minor": 5
}
