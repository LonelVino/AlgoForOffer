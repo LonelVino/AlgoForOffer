{
 "cells": [
  {
   "cell_type": "code",
   "execution_count": 1,
   "id": "afec6f93",
   "metadata": {},
   "outputs": [],
   "source": [
    "from linkedlist import LinkedList, ListNode, build\n",
    "from typing import List, Optional"
   ]
  },
  {
   "attachments": {},
   "cell_type": "markdown",
   "id": "alone-slide",
   "metadata": {},
   "source": [
    "### 2. Cyclic Linked List"
   ]
  },
  {
   "attachments": {},
   "cell_type": "markdown",
   "id": "92067143",
   "metadata": {},
   "source": [
    "**Description**: Given a linked list, verify if it is a cyclic linked list. If it is, return `true`, otherwise, return `false`.\n",
    "> Can you come up with solution of $O(1)$?\n",
    ">\n"
   ]
  },
  {
   "cell_type": "code",
   "execution_count": 5,
   "id": "hourly-retrieval",
   "metadata": {},
   "outputs": [],
   "source": [
    "# class ListNode:\n",
    "#     def __init__(self, x):\n",
    "#         self.val = x\n",
    "#         self.next = None\n",
    "\n",
    "#\n",
    "# \n",
    "# @param head ListNode类 \n",
    "# @return bool布尔型\n",
    "#\n",
    "class Solution:\n",
    "    def hasCycle(self , head ):\n",
    "        p1, p2 = head, head\n",
    "        if p1 == None:\n",
    "            return False\n",
    "        while p1 != None and p1.next != None:\n",
    "            p1 = p1.next.next\n",
    "            p2 = p2.next\n",
    "            if p1 == p2:\n",
    "                return True\n",
    "        return False"
   ]
  },
  {
   "attachments": {},
   "cell_type": "markdown",
   "id": "2206b4bc",
   "metadata": {},
   "source": [
    "### [Offer 27. Palindrome Linked List](https://leetcode.cn/problems/aMhZSa/)"
   ]
  },
  {
   "attachments": {},
   "cell_type": "markdown",
   "id": "d77266e1",
   "metadata": {},
   "source": [
    "**Description**: Given the head node of a linked list `head`, please judge whether it is a palindrome linked list.\n",
    "\n",
    "> If a linked list is a palindrome, then the sequence of linked list nodes is the same when viewed from front to back as from back to front. \n",
    "\n",
    "**Examples**:\n",
    "```\n",
    "Input:  head = [1,2,3,3,2,1] \n",
    "  output:  true \n",
    "\n",
    "Input:  head = [1,2] \n",
    "  output:  false \n",
    "```"
   ]
  },
  {
   "attachments": {},
   "cell_type": "markdown",
   "id": "df1f7868",
   "metadata": {},
   "source": [
    "#### Duplicating LinkedList into an array"
   ]
  },
  {
   "cell_type": "code",
   "execution_count": 58,
   "id": "5ef66f8f",
   "metadata": {},
   "outputs": [],
   "source": [
    "def isPalindrome(head: ListNode) -> bool:\n",
    "    vals = []\n",
    "    while head:\n",
    "        vals.append(head.val)\n",
    "        head = head.next\n",
    "    return vals == vals[::-1]"
   ]
  },
  {
   "cell_type": "code",
   "execution_count": 59,
   "id": "92f37c49",
   "metadata": {},
   "outputs": [
    {
     "data": {
      "text/plain": [
       "True"
      ]
     },
     "execution_count": 59,
     "metadata": {},
     "output_type": "execute_result"
    }
   ],
   "source": [
    "arr = [1, 2, 3, 3, 2, 1]\n",
    "head = build(arr)\n",
    "res = isPalindrome(head)\n",
    "res"
   ]
  },
  {
   "attachments": {},
   "cell_type": "markdown",
   "id": "6df5b4bf",
   "metadata": {},
   "source": [
    "**Performance**:\n",
    "- Time complexity: $O(n)$, duplication takes $O(n)$, and verifying the list takes $O(\\frac{n}{2})$; \n",
    "- Space complexity: $O(n)$."
   ]
  },
  {
   "attachments": {},
   "cell_type": "markdown",
   "id": "b5e6beee",
   "metadata": {},
   "source": [
    "#### Recursion"
   ]
  },
  {
   "attachments": {},
   "cell_type": "markdown",
   "id": "ec095c73",
   "metadata": {},
   "source": [
    "Explanation: refer to https://leetcode.cn/problems/aMhZSa/solutions/1036736/hui-wen-lian-biao-by-leetcode-solution-3q3r/."
   ]
  },
  {
   "cell_type": "code",
   "execution_count": 84,
   "id": "39b0e695",
   "metadata": {},
   "outputs": [],
   "source": [
    "class Solution:\n",
    "    def isPalindrome(self, head: ListNode) -> bool:\n",
    "        self.front_node: ListNode = head \n",
    "           \n",
    "        def recur_check(cur: ListNode = head) -> bool:\n",
    "            if cur is not None:\n",
    "                if not recur_check(cur.next):\n",
    "                    return False\n",
    "                if self.front_node.val == cur.val:\n",
    "                    return False\n",
    "                self.front_node = self.front_node.next\n",
    "            return True\n",
    "        \n",
    "        return recur_check()"
   ]
  },
  {
   "cell_type": "code",
   "execution_count": 83,
   "id": "070b7fe8",
   "metadata": {},
   "outputs": [
    {
     "data": {
      "text/plain": [
       "True"
      ]
     },
     "execution_count": 83,
     "metadata": {},
     "output_type": "execute_result"
    }
   ],
   "source": [
    "arr = [1, 2, 3, 3, 2, 1]\n",
    "head = build(arr)\n",
    "ss = Solution()\n",
    "ss.isPalindrome(head)"
   ]
  },
  {
   "attachments": {},
   "cell_type": "markdown",
   "id": "3efe3815",
   "metadata": {},
   "source": [
    "**Performance**:\n",
    "- Time complexity: $O(n)$\n",
    "- Space complexity: $O(n)$"
   ]
  },
  {
   "attachments": {},
   "cell_type": "markdown",
   "id": "9f8181cd",
   "metadata": {},
   "source": [
    "#### Fast and slow pointers"
   ]
  },
  {
   "attachments": {},
   "cell_type": "markdown",
   "id": "fe26093a",
   "metadata": {},
   "source": [
    "**Main idea**: We can reverse the second half of the linked list, and then compare the first half with the second half. \n",
    "> After the comparison is complete we should restore the linked list to its original state. While the test case can pass without recovery, people using this function generally don't want the linked list structure to be changed. \n",
    "\n",
    "The whole process can be divided into the following five steps:\n",
    "\n",
    "    1. Find the tail node of the first half of the linked list.\n",
    "    2. Reverse the second half of the linked list.\n",
    "    3. Determine whether it is a palindrome.\n",
    "    4. Restore the linked list.\n",
    "    5. Return the result. \n",
    "\n",
    "How to find the tail node of the first half of the linked list?\n",
    "1. Count the number of nodes in the linked list, and then traverse the linked list to find the tail node. \n",
    "2. Use **fast and slow pointers** to find in one traversal: the slow pointer takes one step at a time, the fast pointer takes two steps at a time, and the fast and slow pointers start at the same time. When the fast pointer moves to the end of the linked list, the slow pointer is exactly in the middle of the linked list. The linked list is divided into two parts by the slow pointer. \n"
   ]
  },
  {
   "cell_type": "code",
   "execution_count": 101,
   "id": "eae47eac",
   "metadata": {},
   "outputs": [],
   "source": [
    "def isPalindrome(head: ListNode) -> ListNode:\n",
    "        \n",
    "    def findTail(head: ListNode) -> ListNode:\n",
    "        slow, fast = head, head\n",
    "        while fast.next and fast.next.next:\n",
    "            slow = slow.next\n",
    "            fast = fast.next.next\n",
    "        return slow\n",
    "    \n",
    "    def reverseLinkedList(head: ListNode) -> ListNode:\n",
    "        prev, cur = None, head\n",
    "        while cur:\n",
    "            tmp = cur.next\n",
    "            cur.next = prev\n",
    "            prev, cur = cur, tmp\n",
    "        return prev\n",
    "    \n",
    "    res = True\n",
    "    firstEnd = findTail(head)\n",
    "    secondStart = reverseLinkedList(firstEnd.next)\n",
    "\n",
    "    tmpFirst, tmpSecond = head, secondStart\n",
    "    while res and tmpSecond:\n",
    "        if tmpFirst.val != tmpSecond.val:\n",
    "            res = False\n",
    "        tmpFirst = tmpFirst.next\n",
    "        tmpSecond = tmpSecond.next\n",
    "            \n",
    "    firstEnd.next = reverseLinkedList(secondStart)\n",
    "    return res"
   ]
  },
  {
   "cell_type": "code",
   "execution_count": 105,
   "id": "7c987466",
   "metadata": {},
   "outputs": [
    {
     "data": {
      "text/plain": [
       "True"
      ]
     },
     "execution_count": 105,
     "metadata": {},
     "output_type": "execute_result"
    }
   ],
   "source": [
    "arr = [1, 2, 3, 3, 2, 1]\n",
    "head = build(arr)\n",
    "isPalindrome(head)"
   ]
  },
  {
   "attachments": {},
   "cell_type": "markdown",
   "id": "13a4899d",
   "metadata": {},
   "source": [
    "**Performance**:\n",
    "- Time complexity: $O(n)$;\n",
    "- Space complexity: $O(1)$"
   ]
  },
  {
   "attachments": {},
   "cell_type": "markdown",
   "id": "45b2fb41",
   "metadata": {},
   "source": [
    "### [817. Linked list component](https://leetcode.cn/problems/linked-list-components/)"
   ]
  },
  {
   "attachments": {},
   "cell_type": "markdown",
   "id": "6b1bd436",
   "metadata": {},
   "source": [
    "**Description**: given linked list head node `head`, each node on the linked list has a unique integer value, while given list `nums`, the list is a subset of the integer values ​​in the linked list above.\n",
    "\n",
    "Return the number of components in the list `nums`, the definition of components here is: the value of the longest continuous node in the linked list.\n",
    "\n",
    "**Exmaples**:\n",
    "```\n",
    "Input:  head = [0,1,2,3], nums = [0,1,3] \n",
    "  output:  2 \n",
    "  Explanation:  In the linked list, 0 and 1 are connected, and nums does not contain 2, so [0, 1] is a component of nums, and [3] is also a component, so 2 is returned. \n",
    "\n",
    "\n",
    "Input:  head = [0,1,2,3,4], nums = [0,3,1,4] \n",
    "  output:  2 \n",
    "  Explanation:  In the linked list, 0 and 1 are connected, and 3 and 4 are connected, so [0, 1] and [3, 4] are two components, so return 2. \n",
    "```"
   ]
  },
  {
   "cell_type": "code",
   "execution_count": null,
   "id": "7a3b3e94",
   "metadata": {},
   "outputs": [],
   "source": [
    "def numComponents(self, head: Optional[ListNode], nums: List[int]) -> int:\n",
    "    pass"
   ]
  }
 ],
 "metadata": {
  "kernelspec": {
   "display_name": "Python 3",
   "language": "python",
   "name": "python3"
  },
  "language_info": {
   "codemirror_mode": {
    "name": "ipython",
    "version": 3
   },
   "file_extension": ".py",
   "mimetype": "text/x-python",
   "name": "python",
   "nbconvert_exporter": "python",
   "pygments_lexer": "ipython3",
   "version": "3.8.10"
  },
  "vscode": {
   "interpreter": {
    "hash": "5b3ded1ccb95c1d9bd405e7b823d9e85424cde40fbb5985eb47e999ef50e15b4"
   }
  }
 },
 "nbformat": 4,
 "nbformat_minor": 5
}
