{
 "cells": [
  {
   "cell_type": "markdown",
   "id": "alone-slide",
   "metadata": {},
   "source": [
    "## 2.判断链表中是否有环\n",
    "判断给定的链表中是否有环。如果有环则返回true，否则返回false。\n",
    "你能给出空间复杂度$O(1)$的解法么？"
   ]
  },
  {
   "cell_type": "code",
   "execution_count": 5,
   "id": "hourly-retrieval",
   "metadata": {},
   "outputs": [],
   "source": [
    "# class ListNode:\n",
    "#     def __init__(self, x):\n",
    "#         self.val = x\n",
    "#         self.next = None\n",
    "\n",
    "#\n",
    "# \n",
    "# @param head ListNode类 \n",
    "# @return bool布尔型\n",
    "#\n",
    "class Solution:\n",
    "    def hasCycle(self , head ):\n",
    "        p1, p2 = head, head\n",
    "        if p1 == None:\n",
    "            return False\n",
    "        while p1 != None and p1.next != None:\n",
    "            p1 = p1.next.next\n",
    "            p2 = p2.next\n",
    "            if p1 == p2:\n",
    "                return True\n",
    "        return False"
   ]
  }
 ],
 "metadata": {
  "kernelspec": {
   "display_name": "Python 3",
   "language": "python",
   "name": "python3"
  },
  "language_info": {
   "codemirror_mode": {
    "name": "ipython",
    "version": 3
   },
   "file_extension": ".py",
   "mimetype": "text/x-python",
   "name": "python",
   "nbconvert_exporter": "python",
   "pygments_lexer": "ipython3",
   "version": "3.8.10"
  },
  "vscode": {
   "interpreter": {
    "hash": "5b3ded1ccb95c1d9bd405e7b823d9e85424cde40fbb5985eb47e999ef50e15b4"
   }
  }
 },
 "nbformat": 4,
 "nbformat_minor": 5
}
