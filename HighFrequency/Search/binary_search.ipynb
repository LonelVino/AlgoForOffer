{
 "cells": [
  {
   "attachments": {},
   "cell_type": "markdown",
   "metadata": {},
   "source": [
    "## Binary Search"
   ]
  },
  {
   "attachments": {},
   "cell_type": "markdown",
   "metadata": {},
   "source": [
    "> Although binary search has a unified framework template and operation steps, **binary search is not a framework template, but an idea. a paradigm.**"
   ]
  },
  {
   "attachments": {},
   "cell_type": "markdown",
   "metadata": {},
   "source": [
    "### Basic process"
   ]
  },
  {
   "attachments": {},
   "cell_type": "markdown",
   "metadata": {},
   "source": [
    "![](https://media.geeksforgeeks.org/wp-content/uploads/20220309171621/BinarySearch.png)\\\n",
    "\n",
    "<img width=40% height=40% src=\"https://www.researchgate.net/publication/352805723/figure/fig1/AS:1137917024055298@1648311968840/Flowchart-of-Binary-Search-Algorithm.ppm\">"
   ]
  },
  {
   "attachments": {},
   "cell_type": "markdown",
   "metadata": {},
   "source": [
    "### Details of binary search"
   ]
  },
  {
   "attachments": {},
   "cell_type": "markdown",
   "metadata": {},
   "source": [
    "**The details** of binary search are as follow:\n",
    "1. <font color=red size=4>**Loop exiting condition: Considering condition the of `while` loop, should we use `while(left < right)` or `while(left <= right)`?**</font>\n",
    "   - `left <= right`: when exiting search, `left != right`, *i.e.*, `mid = left = right` will be taken into consideration during searching.<br/>\n",
    "     In this condition, **the search interval should be closed interval**, *i.e.*, $(left, right)$.<br/> \n",
    "     For example, the binary search for closed interval should be written as:\n",
    "     ```python\n",
    "     # initialize the right pointer\n",
    "     right = len(arr) - 1\n",
    "     ...\n",
    "     # update the right boundary\n",
    "     if arr[mid] > target:\n",
    "        right = mid - 1 \n",
    "     ```\n",
    "   - `left < right`: when exiting search, `left == right`, *i.e.*, certain `mid = left = right` might be ignored during searching.<br/>\n",
    "     In this condition, **the search interval should be half-open interval**, *i.e.*, $[left, right)$ (left-closed and right-open interval), or $(left, right]$ (left-open and right-closed interval).<br/> \n",
    "     For example, the binary search for left-closed and right-open interval should be written as:\n",
    "     ```python\n",
    "     # initialize the right pointer\n",
    "     right = len(arr) # instead of len(arr) - 1, because right is out of interval\n",
    "     ...\n",
    "     # update the right boundary\n",
    "     if arr[mid] > target:\n",
    "        right = mid # instead of mid - 1, because right is out of interval\n",
    "     ```\n",
    "2. <font color=red size=4>**Mid point selection: should the mid point be rounded down or rounded up with a half-open interval?**</font>\n",
    "   - `mid = floor(left + (right - left) / 2)`: rounding down, right-open.\n",
    "   - `mid = ceil(left + (right - left) / 2)`: rounding up, left-open."
   ]
  },
  {
   "cell_type": "markdown",
   "metadata": {},
   "source": [
    "## Implementation"
   ]
  },
  {
   "attachments": {},
   "cell_type": "markdown",
   "metadata": {},
   "source": [
    "### Basic Binary Search"
   ]
  },
  {
   "cell_type": "code",
   "execution_count": 2,
   "metadata": {},
   "outputs": [],
   "source": [
    "from typing import List\n",
    "\n",
    "def bi_search_v1(arr: List[int], target: int) -> int:\n",
    "    left = 0\n",
    "    right = len(arr) - 1\n",
    "    while (left <= right):\n",
    "        mid = int(left + (right - left) / 2)\n",
    "        if arr[mid] == target:\n",
    "            return mid\n",
    "        elif arr[mid] < target:\n",
    "            left = mid + 1\n",
    "        else: \n",
    "            right = mid - 1\n",
    "    return -1\n",
    "\n",
    "\n",
    "def bi_search_v2(arr: List[int], target: int) -> int:\n",
    "    left = 0\n",
    "    right = len(arr)  # !important, make the right open, the same below (`right = mid`)\n",
    "    while (left< right):\n",
    "        mid = int(left + (right - left) / 2)\n",
    "        if arr[mid] == target:\n",
    "            return mid\n",
    "        elif arr[mid] < target:\n",
    "            left = mid + 1\n",
    "        else: \n",
    "            right = mid  # !important\n",
    "    return -1"
   ]
  },
  {
   "cell_type": "code",
   "execution_count": 6,
   "metadata": {},
   "outputs": [
    {
     "data": {
      "text/plain": [
       "(1, 1)"
      ]
     },
     "execution_count": 6,
     "metadata": {},
     "output_type": "execute_result"
    }
   ],
   "source": [
    "arr = [1, 3, 4, 7, 9, 15, 16, 27]\n",
    "target = 16\n",
    "bi_search_v1(arr, target), bi_search_v2(arr, target)"
   ]
  },
  {
   "attachments": {},
   "cell_type": "markdown",
   "metadata": {},
   "source": [
    "### Search the boundary"
   ]
  },
  {
   "attachments": {},
   "cell_type": "markdown",
   "metadata": {},
   "source": [
    "When the array contains multiple target numbers\n",
    "\n",
    "- Find the index of the leftmost target number\n",
    "- Find the index of the rightmost target number "
   ]
  },
  {
   "attachments": {},
   "cell_type": "markdown",
   "metadata": {},
   "source": [
    "#### Left closed, right closed (version 1)"
   ]
  },
  {
   "cell_type": "code",
   "execution_count": 19,
   "metadata": {},
   "outputs": [],
   "source": [
    "def left_boundary_v1(arr: List[int], target: int) -> int:\n",
    "    left = 0\n",
    "    right = len(arr) - 1\n",
    "    while (left <= right):\n",
    "        mid = int(left + (right - left) / 2)\n",
    "        if arr[mid] == target:\n",
    "            right = mid - 1\n",
    "        elif arr[mid] < target:\n",
    "            left = mid + 1\n",
    "        else:\n",
    "            right = mid - 1\n",
    "    return left\n",
    "\n",
    "\n",
    "def right_boundary_v1(arr: List[int], target: int) -> int:\n",
    "    left = 0\n",
    "    right = len(arr) - 1\n",
    "    while (left <= right):\n",
    "        mid = int(left + (right - left) / 2)\n",
    "        if arr[mid] == target:\n",
    "            left = mid + 1\n",
    "        elif arr[mid] < target:\n",
    "            left = mid + 1\n",
    "        else:\n",
    "            right = mid - 1\n",
    "    return right"
   ]
  },
  {
   "cell_type": "code",
   "execution_count": 27,
   "metadata": {},
   "outputs": [
    {
     "data": {
      "text/plain": [
       "(2, 2)"
      ]
     },
     "execution_count": 27,
     "metadata": {},
     "output_type": "execute_result"
    }
   ],
   "source": [
    "arr = [1, 3, 3, 3, 3, 15, 16, 16, 16, 16, 16]\n",
    "arr = [1,3,5,6]\n",
    "target = 5\n",
    "left_boundary_v1(arr, target), right_boundary_v1(arr, target)"
   ]
  },
  {
   "attachments": {},
   "cell_type": "markdown",
   "metadata": {},
   "source": [
    "#### Left closed, right closed (Version 2)"
   ]
  },
  {
   "cell_type": "code",
   "execution_count": 11,
   "metadata": {},
   "outputs": [],
   "source": [
    "def left_boundary_v2(arr: List[int], target: int) -> int:\n",
    "    left = 0\n",
    "    right = len(arr)\n",
    "    while (left < right):\n",
    "        mid = int(left + (right - left) / 2)\n",
    "        if arr[mid] == target: \n",
    "            right = mid\n",
    "        elif arr[mid] < target:\n",
    "            left = mid + 1\n",
    "        else:\n",
    "            right = mid\n",
    "    return left\n",
    "\n",
    "def right_boundary_v2(arr: List[int], target: int) -> int:\n",
    "    left = 0\n",
    "    right = len(arr)\n",
    "    while (left < right):\n",
    "        mid = int(left + (right - left) / 2)\n",
    "        if arr[mid] == target: \n",
    "            left = mid + 1\n",
    "        elif arr[mid] < target:\n",
    "            left = mid + 1\n",
    "        else:\n",
    "            right = mid\n",
    "    return right - 1"
   ]
  },
  {
   "cell_type": "code",
   "execution_count": 13,
   "metadata": {},
   "outputs": [
    {
     "data": {
      "text/plain": [
       "(0, 4)"
      ]
     },
     "execution_count": 13,
     "metadata": {},
     "output_type": "execute_result"
    }
   ],
   "source": [
    "arr = [3, 3, 3, 3, 3, 15, 16, 16, 16]\n",
    "target = 3\n",
    "left_boundary_v2(arr, target), right_boundary_v2(arr, target)"
   ]
  },
  {
   "attachments": {},
   "cell_type": "markdown",
   "metadata": {},
   "source": [
    "#### Left open, right closed (Version 3)"
   ]
  },
  {
   "cell_type": "code",
   "execution_count": 8,
   "metadata": {},
   "outputs": [],
   "source": [
    "from math import ceil\n",
    "\n",
    "def left_boundary_v3(arr: List[int], target: int) -> int:\n",
    "    left = -1\n",
    "    right = len(arr) - 1\n",
    "    while (left < right):\n",
    "        mid = ceil(left + (right - left) / 2)  # !important, because left open, mid cannot rounding down, otherwise mid may become left, which is out of bound and can cause infinite loop  \n",
    "        if arr[mid] == target:\n",
    "            right = mid - 1\n",
    "        elif arr[mid] > target:\n",
    "            right = mid - 1\n",
    "        else:\n",
    "            left = mid\n",
    "    return left + 1\n",
    "\n",
    "\n",
    "def right_boundary_v3(arr: List[int], target: int) -> int:\n",
    "    left = -1\n",
    "    right = len(arr) - 1\n",
    "    while (left < right):\n",
    "        mid = ceil(left + (right - left) / 2)\n",
    "        if arr[mid] == target:\n",
    "            left = mid\n",
    "        elif arr[mid] > target:\n",
    "            right = mid - 1\n",
    "        else:\n",
    "            left = mid\n",
    "    return right"
   ]
  },
  {
   "cell_type": "code",
   "execution_count": 10,
   "metadata": {},
   "outputs": [
    {
     "data": {
      "text/plain": [
       "(1, 4)"
      ]
     },
     "execution_count": 10,
     "metadata": {},
     "output_type": "execute_result"
    }
   ],
   "source": [
    "arr = [1, 3, 3, 3, 3, 15, 16, 16, 16, 16, 27]\n",
    "target = 3\n",
    "left_boundary_v3(arr, target), right_boundary_v3(arr, target)"
   ]
  },
  {
   "attachments": {},
   "cell_type": "markdown",
   "metadata": {},
   "source": [
    "### Find the insertion position"
   ]
  },
  {
   "attachments": {},
   "cell_type": "markdown",
   "metadata": {},
   "source": [
    "Find the insertion position of the target number: **we can apply the `left_boundary` function to find the left boundary of the target value, which is also the insertion position of the target number**. "
   ]
  },
  {
   "cell_type": "code",
   "execution_count": 14,
   "metadata": {},
   "outputs": [],
   "source": [
    "def insertion_pos(arr: List[int], target: int) -> int:\n",
    "    left = -1\n",
    "    right = len(arr) - 1\n",
    "    while (left < right):\n",
    "        mid = ceil(left + (right - left) / 2)  # !important, because left open, mid cannot rounding down, otherwise mid may become left, which is out of bound and can cause infinite loop  \n",
    "        if arr[mid] == target:\n",
    "            right = mid - 1\n",
    "        elif arr[mid] > target:\n",
    "            right = mid - 1\n",
    "        else:\n",
    "            left = mid\n",
    "    return left + 1"
   ]
  },
  {
   "cell_type": "code",
   "execution_count": 17,
   "metadata": {},
   "outputs": [
    {
     "data": {
      "text/plain": [
       "5"
      ]
     },
     "execution_count": 17,
     "metadata": {},
     "output_type": "execute_result"
    }
   ],
   "source": [
    "arr = [1, 3, 3, 3, 3, 15, 16, 16, 16, 16, 27]\n",
    "target = 6\n",
    "insertion_pos(arr, target)"
   ]
  },
  {
   "attachments": {},
   "cell_type": "markdown",
   "metadata": {},
   "source": [
    "## Applications of Binary Search"
   ]
  },
  {
   "attachments": {},
   "cell_type": "markdown",
   "metadata": {},
   "source": [
    "### Search in two-dimensional array"
   ]
  },
  {
   "attachments": {},
   "cell_type": "markdown",
   "metadata": {},
   "source": [
    "In an `n * m` two-dimensional array, each row is sorted in non-decreasing order from left to right, and each column is sorted in non-decreasing order from top to bottom. \n",
    "\n",
    "Please complete an efficient function, input such a two-dimensional array and an integer, and **judge whether the array contains the integer**.\n",
    "\n",
    "Example:\n",
    "\n",
    "The existing matrix matrix is ​​as follows:\n",
    "```\n",
    "[\n",
    "  [1,   4,  7, 11, 15],\n",
    "  [2,   5,  8, 12, 19],\n",
    "  [3,   6,  9, 16, 22],\n",
    "  [10, 13, 14, 17, 24],\n",
    "  [18, 21, 23, 26, 30]\n",
    "]\n",
    "```\n",
    "\n",
    "Given `target = 5`, return `true`\n",
    "\n",
    "Given `target = 20`, return `false`\n",
    " "
   ]
  },
  {
   "attachments": {},
   "cell_type": "markdown",
   "metadata": {},
   "source": [
    "#### Binary Search"
   ]
  },
  {
   "cell_type": "code",
   "execution_count": 114,
   "metadata": {},
   "outputs": [],
   "source": [
    "def BS2D(matrix: List[List[int]], target: int) -> bool:\n",
    "    for i in range(len(matrix)):\n",
    "        if BS1D(matrix[i], target):\n",
    "            return True\n",
    "    return False\n",
    "\n",
    "def BS1D(arr: List[int], target: int) -> bool:\n",
    "    left, right = 0, len(arr) - 1\n",
    "    while left <= right:\n",
    "        mid = int(left + (right - left) / 2)\n",
    "        if arr[mid] == target: return True\n",
    "        elif arr[mid] < target: left = mid + 1\n",
    "        else: right = mid - 1\n",
    "    return False"
   ]
  },
  {
   "attachments": {},
   "cell_type": "markdown",
   "metadata": {},
   "source": [
    "**Complexity Analysis**:\n",
    "- **Time complexity**: $O(n \\log m)$ or $O(m \\log n)$\n",
    "- **Space complexity**: $O(1)$"
   ]
  },
  {
   "attachments": {},
   "cell_type": "markdown",
   "metadata": {},
   "source": [
    "#### Zigzag search"
   ]
  },
  {
   "cell_type": "code",
   "execution_count": 123,
   "metadata": {},
   "outputs": [],
   "source": [
    "def ZigzagSearch2D(matrix: List[List[int]], target: int) -> bool:\n",
    "    if len(matrix) == 0: return False\n",
    "    n = len(matrix) - 1\n",
    "    m = len(matrix[0]) - 1\n",
    "    i = n\n",
    "    j = 0\n",
    "    while i >= 0 and j <= m:\n",
    "        print(i, j)\n",
    "        if matrix[i][j] > target: i -= 1\n",
    "        elif matrix[i][j] < target: j += 1\n",
    "        else: return True\n",
    "    return False "
   ]
  },
  {
   "attachments": {},
   "cell_type": "markdown",
   "metadata": {},
   "source": [
    "**Complexity Analysis**:\n",
    "- **Time complexity**: $O(n + m)$\n",
    "- **Space complexity**: $O(1)$"
   ]
  },
  {
   "cell_type": "code",
   "execution_count": 125,
   "metadata": {},
   "outputs": [
    {
     "data": {
      "text/plain": [
       "(False, False)"
      ]
     },
     "execution_count": 125,
     "metadata": {},
     "output_type": "execute_result"
    }
   ],
   "source": [
    "arr_2d = [[]]\n",
    "target = 30\n",
    "ZigzagSearch2D(arr_2d, target), BS2D(arr_2d, target)"
   ]
  }
 ],
 "metadata": {
  "kernelspec": {
   "display_name": "Python 3",
   "language": "python",
   "name": "python3"
  },
  "language_info": {
   "codemirror_mode": {
    "name": "ipython",
    "version": 3
   },
   "file_extension": ".py",
   "mimetype": "text/x-python",
   "name": "python",
   "nbconvert_exporter": "python",
   "pygments_lexer": "ipython3",
   "version": "3.8.10"
  },
  "orig_nbformat": 4,
  "vscode": {
   "interpreter": {
    "hash": "5b3ded1ccb95c1d9bd405e7b823d9e85424cde40fbb5985eb47e999ef50e15b4"
   }
  }
 },
 "nbformat": 4,
 "nbformat_minor": 2
}
