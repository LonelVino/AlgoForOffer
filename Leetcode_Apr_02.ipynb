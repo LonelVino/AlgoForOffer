{
 "cells": [
  {
   "cell_type": "markdown",
   "id": "parliamentary-sauce",
   "metadata": {},
   "source": [
    "## 33. 搜索旋转排序数组\n",
    "\n",
    "整数数组 `nums` 按升序排列，数组中的值 互不相同 。\n",
    "\n",
    "在传递给函数之前，`nums` 在预先未知的某个下标 `k`$（0 <= k < nums.length）$上进行了 旋转，使数组变为 `[nums[k], nums[k+1], ..., nums[n-1], nums[0], nums[1], ..., nums[k-1]]`（下标 从 0 开始 计数）。例如， `[0,1,2,4,5,6,7]` 在下标 3 处经旋转后可能变为 `[4,5,6,7,0,1,2]` 。\n",
    "\n",
    "给你 旋转后 的数组 nums 和一个整数 target ，如果 nums 中存在这个目标值 target ，则返回它的下标，否则返回 -1 。\n",
    "\n",
    "示例 1：\n",
    "```\n",
    "输入：nums = [4,5,6,7,0,1,2], target = 0\n",
    "输出：4\n",
    "```\n",
    "示例 2：\n",
    "```\n",
    "输入：nums = [4,5,6,7,0,1,2], target = 3\n",
    "输出：-1\n",
    "```\n",
    "示例 3：\n",
    "```\n",
    "输入：nums = [1], target = 0\n",
    "输出：-1\n",
    "```"
   ]
  },
  {
   "cell_type": "markdown",
   "id": "abandoned-pharmacy",
   "metadata": {},
   "source": [
    "提示：\n",
    "```\n",
    "1 <= nums.length <= 5000\n",
    "-10^4 <= nums[i] <= 10^4\n",
    "nums 中的每个值都 独一无二\n",
    "题目数据保证 nums 在预先未知的某个下标上进行了旋转\n",
    "-10^4 <= target <= 10^4\n",
    "```"
   ]
  },
  {
   "cell_type": "code",
   "execution_count": null,
   "id": "sitting-workshop",
   "metadata": {},
   "outputs": [],
   "source": [
    "class Solution:\n",
    "    def search(self, nums: List[int], target: int) -> int:\n",
    "        "
   ]
  },
  {
   "cell_type": "markdown",
   "id": "present-haven",
   "metadata": {},
   "source": [
    "## 81. 搜索旋转排序数组 II\n",
    "\n",
    "已知存在一个按非降序排列的整数数组 nums ，数组中的值不必互不相同。\n",
    "\n",
    "在传递给函数之前，nums 在预先未知的某个下标 k（0 <= k < nums.length）上进行了 旋转 ，使数组变为 `[nums[k], nums[k+1], ..., nums[n-1], nums[0], nums[1], ..., nums[k-1]]`（下标 从 0 开始 计数）。例如， `[0,1,2,4,4,4,5,6,6,7]` 在下标 5 处经旋转后可能变为 `[4,5,6,6,7,0,1,2,4,4]` 。\n",
    "\n",
    "给你 旋转后 的数组 `nums` 和一个整数 `target` ，请你编写一个函数来判断给定的目标值是否存在于数组中。如果 `nums` 中存在这个目标值 ` target` ，则返回 `true` ，否则返回 `false` 。"
   ]
  },
  {
   "cell_type": "markdown",
   "id": "serious-practitioner",
   "metadata": {},
   "source": [
    "示例 1：\n",
    "```\n",
    "输入：nums = [2,5,6,0,0,1,2], target = 0\n",
    "输出：true\n",
    "```\n",
    "\n",
    "示例 2：\n",
    "```\n",
    "输入：nums = [2,5,6,0,0,1,2], target = 3\n",
    "输出：false\n",
    "```\n",
    "\n",
    "提示：\n",
    "```\n",
    "1 <= nums.length <= 5000\n",
    "-104 <= nums[i] <= 104\n",
    "题目数据保证 nums 在预先未知的某个下标上进行了旋转\n",
    "-104 <= target <= 104\n",
    "```\n"
   ]
  },
  {
   "cell_type": "code",
   "execution_count": 6,
   "id": "fiscal-repository",
   "metadata": {},
   "outputs": [],
   "source": [
    "from typing import List\n",
    "\n",
    "class Solution:\n",
    "    def search(self, nums: List[int], target: int) -> bool:\n",
    "        try: \n",
    "            res = nums.index(target)\n",
    "            return True\n",
    "        except:\n",
    "            return False"
   ]
  },
  {
   "cell_type": "code",
   "execution_count": 7,
   "id": "charged-collins",
   "metadata": {},
   "outputs": [
    {
     "name": "stdout",
     "output_type": "stream",
     "text": [
      "False\n"
     ]
    }
   ],
   "source": [
    "ss = Solution()\n",
    "nums = [2,5,6,0,0,1,2]\n",
    "target = 7\n",
    "res = ss.search(nums, target)\n",
    "print(res)"
   ]
  },
  {
   "cell_type": "markdown",
   "id": "primary-chinese",
   "metadata": {},
   "source": [
    "### 方法一：二分查找\n"
   ]
  }
 ],
 "metadata": {
  "kernelspec": {
   "display_name": "Python 3.8.5 64-bit",
   "language": "python",
   "name": "python38564bit21010f3a0af3487da006a510d8fc9309"
  },
  "language_info": {
   "codemirror_mode": {
    "name": "ipython",
    "version": 3
   },
   "file_extension": ".py",
   "mimetype": "text/x-python",
   "name": "python",
   "nbconvert_exporter": "python",
   "pygments_lexer": "ipython3",
   "version": "3.8.5"
  }
 },
 "nbformat": 4,
 "nbformat_minor": 5
}
