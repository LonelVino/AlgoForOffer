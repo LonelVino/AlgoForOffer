{
 "cells": [
  {
   "cell_type": "markdown",
   "id": "parliamentary-sauce",
   "metadata": {},
   "source": [
    "## 33. 搜索旋转排序数组\n",
    "\n",
    "整数数组 `nums` 按升序排列，数组中的值 互不相同 。\n",
    "\n",
    "在传递给函数之前，`nums` 在预先未知的某个下标 `k`$（0 <= k < nums.length）$上进行了 旋转，使数组变为 `[nums[k], nums[k+1], ..., nums[n-1], nums[0], nums[1], ..., nums[k-1]]`（下标 从 0 开始 计数）。例如， `[0,1,2,4,5,6,7]` 在下标 3 处经旋转后可能变为 `[4,5,6,7,0,1,2]` 。\n",
    "\n",
    "给你 旋转后 的数组 nums 和一个整数 target ，如果 nums 中存在这个目标值 target ，则返回它的下标，否则返回 -1 。\n",
    "\n",
    "示例 1：\n",
    "```\n",
    "输入：nums = [4,5,6,7,0,1,2], target = 0\n",
    "输出：4\n",
    "```\n",
    "示例 2：\n",
    "```\n",
    "输入：nums = [4,5,6,7,0,1,2], target = 3\n",
    "输出：-1\n",
    "```\n",
    "示例 3：\n",
    "```\n",
    "输入：nums = [1], target = 0\n",
    "输出：-1\n",
    "```"
   ]
  },
  {
   "cell_type": "markdown",
   "id": "abandoned-pharmacy",
   "metadata": {},
   "source": [
    "提示：\n",
    "```\n",
    "1 <= nums.length <= 5000\n",
    "-10^4 <= nums[i] <= 10^4\n",
    "nums 中的每个值都 独一无二\n",
    "题目数据保证 nums 在预先未知的某个下标上进行了旋转\n",
    "-10^4 <= target <= 10^4\n",
    "```"
   ]
  },
  {
   "cell_type": "markdown",
   "id": "ceramic-frontier",
   "metadata": {},
   "source": [
    "将数组从中间分开成左右两部分的时候，一定有一部分的数组是有序的\n",
    "\n",
    "从 6 这个位置分开以后数组变成了 `[4, 5, 6]` 和 `[7, 0, 1, 2]` 两个部分 (前者有序)\n",
    "\n",
    "根据有序的那部分判断出 `target` 在不在这个部分：\n",
    "\n",
    "如果 `[l, mid - 1]` 是有序数组，且 target 的大小满足 $[\\textit{nums}[l],\\textit{nums}[mid])$，则我们应该将搜索范围缩小至 `[l, mid - 1]`，否则在 `[mid + 1, r]` 中寻找。\n",
    "\n",
    "如果 `[mid, r]` 是有序数组，且 `target ` 的大小满足 $(\\textit{nums}[mid+1],\\textit{nums}[r]]$，则我们应该将搜索范围缩小至 `[mid + 1, r]`，否则在 `[l, mid - 1]` 中寻找。\n"
   ]
  },
  {
   "cell_type": "code",
   "execution_count": 16,
   "id": "suburban-spring",
   "metadata": {},
   "outputs": [],
   "source": [
    "from typing import List\n",
    "class Solution:\n",
    "    def search(self, nums: List[int], target: int) -> int:\n",
    "        l, r = 0, len(nums) - 1\n",
    "        while l < r:\n",
    "            mid = (r + l) // 2\n",
    "            # 有序，且目标在该区间内\n",
    "            if nums[mid] == target:\n",
    "                return mid\n",
    "            if nums[l] <= nums[mid] and (target >= nums[l] and target <= nums[mid]):\n",
    "                r = mid\n",
    "            else:\n",
    "                l = mid + 1\n",
    "        if nums[l] == target:\n",
    "            return l\n",
    "        else:\n",
    "            return -1"
   ]
  },
  {
   "cell_type": "code",
   "execution_count": 19,
   "id": "identified-accountability",
   "metadata": {},
   "outputs": [],
   "source": [
    "from typing import List\n",
    "class Solution:\n",
    "    def search(self, nums: List[int], target: int) -> int:\n",
    "        if not nums:\n",
    "            return -1\n",
    "        l, r = 0, len(nums) - 1\n",
    "        while l <= r:\n",
    "            mid = (r + l) // 2\n",
    "            # if the divided number is just the target\n",
    "            if nums[mid] == target:\n",
    "                return mid\n",
    "            \n",
    "            if nums[l] <= nums[mid]:   # left list ordered\n",
    "                if nums[l]<=target and nums[mid]>target:\n",
    "                    r = mid - 1\n",
    "                else:\n",
    "                    l = mid + 1\n",
    "            elif nums[mid] <= nums[r]:   # right list ordered\n",
    "                if nums[mid]<target and nums[r]>=target:\n",
    "                    l = mid + 1\n",
    "                else:\n",
    "                    r = mid - 1\n",
    "        return -1"
   ]
  },
  {
   "cell_type": "code",
   "execution_count": null,
   "id": "focused-soundtrack",
   "metadata": {},
   "outputs": [],
   "source": [
    "### ss = Solution()\n",
    "nums = [3,1]\n",
    "target = 1\n",
    "idx = ss.search(nums, target)\n",
    "print(idx)"
   ]
  },
  {
   "cell_type": "markdown",
   "id": "chemical-drive",
   "metadata": {},
   "source": [
    "复杂度分析\n",
    "\n",
    "时间复杂度： $O(\\log n)$，其中 $n$ 为 $\\textit{nums}$ 数组的大小。整个算法时间复杂度即为二分查找的时间复杂度 $O(\\log n)$。\n",
    "\n",
    "空间复杂度： $O(1)$ 。我们只需要常数级别的空间存放变量\n"
   ]
  },
  {
   "cell_type": "markdown",
   "id": "present-haven",
   "metadata": {},
   "source": [
    "## 81. 搜索旋转排序数组 II\n",
    "\n",
    "已知存在一个按非降序排列的整数数组 nums ，数组中的值不必互不相同。\n",
    "\n",
    "在传递给函数之前，nums 在预先未知的某个下标 k（0 <= k < nums.length）上进行了 旋转 ，使数组变为 `[nums[k], nums[k+1], ..., nums[n-1], nums[0], nums[1], ..., nums[k-1]]`（下标 从 0 开始 计数）。例如， `[0,1,2,4,4,4,5,6,6,7]` 在下标 5 处经旋转后可能变为 `[4,5,6,6,7,0,1,2,4,4]` 。\n",
    "\n",
    "给你 旋转后 的数组 `nums` 和一个整数 `target` ，请你编写一个函数来判断给定的目标值是否存在于数组中。如果 `nums` 中存在这个目标值 ` target` ，则返回 `true` ，否则返回 `false` 。"
   ]
  },
  {
   "cell_type": "markdown",
   "id": "serious-practitioner",
   "metadata": {},
   "source": [
    "示例 1：\n",
    "```\n",
    "输入：nums = [2,5,6,0,0,1,2], target = 0\n",
    "输出：true\n",
    "```\n",
    "\n",
    "示例 2：\n",
    "```\n",
    "输入：nums = [2,5,6,0,0,1,2], target = 3\n",
    "输出：false\n",
    "```\n",
    "\n",
    "提示：\n",
    "```\n",
    "1 <= nums.length <= 5000\n",
    "-104 <= nums[i] <= 104\n",
    "题目数据保证 nums 在预先未知的某个下标上进行了旋转\n",
    "-104 <= target <= 104\n",
    "```\n"
   ]
  },
  {
   "cell_type": "code",
   "execution_count": 6,
   "id": "fiscal-repository",
   "metadata": {},
   "outputs": [],
   "source": [
    "from typing import List\n",
    "\n",
    "class Solution:\n",
    "    def search(self, nums: List[int], target: int) -> bool:\n",
    "        try: \n",
    "            res = nums.index(target)\n",
    "            return True\n",
    "        except:\n",
    "            return False"
   ]
  },
  {
   "cell_type": "code",
   "execution_count": 7,
   "id": "charged-collins",
   "metadata": {},
   "outputs": [
    {
     "name": "stdout",
     "output_type": "stream",
     "text": [
      "False\n"
     ]
    }
   ],
   "source": [
    "ss = Solution()\n",
    "nums = [2,5,6,0,0,1,2]\n",
    "target = 7\n",
    "res = ss.search(nums, target)\n",
    "print(res)"
   ]
  },
  {
   "cell_type": "markdown",
   "id": "primary-chinese",
   "metadata": {},
   "source": [
    "### 方法一：二分查找\n"
   ]
  },
  {
   "cell_type": "markdown",
   "id": "sustainable-hampshire",
   "metadata": {},
   "source": [
    "## 153. 寻找旋转排序数组中的最小值\n",
    "已知一个长度为 `n` 的数组，预先按照升序排列，经由 `1` 到 `n` 次 旋转 后，得到输入数组。例如，原数组 `nums = [0,1,2,4,5,6,7]` 在变化后可能得到：\n",
    "\n",
    "若旋转 4 次，则可以得到 `[4,5,6,7,0,1,2]`\n",
    "\n",
    "若旋转 7 次，则可以得到 `[0,1,2,4,5,6,7]`\n",
    "\n",
    "注意，数组 `[a[0], a[1], a[2], ..., a[n-1]]` 旋转一次 的结果为数组 `[a[n-1], a[0], a[1], a[2], ..., a[n-2]]` 。\n",
    "\n",
    "给你一个元素值 互不相同 的数组 `nums` ，它原来是一个升序排列的数组，并按上述情形进行了多次旋转。请你找出并返回数组中的 最小元素 。\n"
   ]
  },
  {
   "cell_type": "markdown",
   "id": "promotional-constitution",
   "metadata": {},
   "source": [
    "示例 1：\n",
    "```\n",
    "输入：nums = [3,4,5,1,2]\n",
    "输出：1\n",
    "解释：原数组为 [1,2,3,4,5] ，旋转 3 次得到输入数组。\n",
    "```\n",
    "示例 2：\n",
    "```\n",
    "输入：nums = [4,5,6,7,0,1,2]\n",
    "输出：0\n",
    "解释：原数组为 [0,1,2,4,5,6,7] ，旋转 4 次得到输入数组。\n",
    "```\n",
    "示例 3：\n",
    "```\n",
    "输入：nums = [11,13,15,17]\n",
    "输出：11\n",
    "解释：原数组为 [11,13,15,17] ，旋转 4 次得到输入数组。\n",
    "```"
   ]
  },
  {
   "cell_type": "code",
   "execution_count": 38,
   "id": "defensive-french",
   "metadata": {},
   "outputs": [],
   "source": [
    "from typing import List\n",
    "class Solution:\n",
    "    def findMin(self, nums: List[int]) -> int:\n",
    "        if nums[0] <= nums[-1]:\n",
    "            return nums[0]\n",
    "        l, r = 0, len(nums) - 1\n",
    "        while l < r:    \n",
    "            if l == r - 1:\n",
    "                return min(nums[l], nums[r])\n",
    "            mid = (l + r) // 2\n",
    "            if nums[l] <= nums[mid] and nums[mid+1] < nums[r]:\n",
    "                return nums[mid+1]\n",
    "            if nums[l] <= nums[mid]:\n",
    "                l = mid\n",
    "            elif nums[mid] <= nums[r]:\n",
    "                r = mid\n",
    "        "
   ]
  },
  {
   "cell_type": "code",
   "execution_count": 43,
   "id": "collected-johnston",
   "metadata": {},
   "outputs": [
    {
     "ename": "SyntaxError",
     "evalue": "unexpected EOF while parsing (<ipython-input-43-13b934a35daf>, line 5)",
     "output_type": "error",
     "traceback": [
      "\u001b[0;36m  File \u001b[0;32m\"<ipython-input-43-13b934a35daf>\"\u001b[0;36m, line \u001b[0;32m5\u001b[0m\n\u001b[0;31m    while l < r:\u001b[0m\n\u001b[0m                ^\u001b[0m\n\u001b[0;31mSyntaxError\u001b[0m\u001b[0;31m:\u001b[0m unexpected EOF while parsing\n"
     ]
    }
   ],
   "source": [
    "from typing import List\n",
    "class Solution:\n",
    "    def findMin(self, nums: List[int]) -> int:\n",
    "        l, r = 0, len(nums) - 1\n",
    "        while l < r:\n",
    "            mid = (l+r) >> 1\n",
    "            if nums[mid] > nums[r]:\n",
    "                l = mid + 1\n",
    "            else:\n",
    "                r = mid\n",
    "        return nums[l]"
   ]
  },
  {
   "cell_type": "code",
   "execution_count": 42,
   "id": "regulation-nigeria",
   "metadata": {},
   "outputs": [
    {
     "name": "stdout",
     "output_type": "stream",
     "text": [
      "1\n"
     ]
    }
   ],
   "source": [
    "ss = Solution()\n",
    "nums = [3,4,5,1,2]\n",
    "res = ss.findMin(nums)\n",
    "print(res)"
   ]
  },
  {
   "cell_type": "markdown",
   "id": "registered-sullivan",
   "metadata": {},
   "source": [
    "## 154. 寻找旋转排序数组中的最小值 II\n",
    "已知一个长度为 n 的数组，预先按照升序排列，经由 1 到 n 次 旋转 后，得到输入数组。例如，原数组 nums = `[0,1,4,4,5,6,7]` 在变化后可能得到：\n",
    "若旋转 4 次，则可以得到 `[4,5,6,7,0,1,4]`\n",
    "若旋转 7 次，则可以得到 `[0,1,4,4,5,6,7]`\n",
    "注意，数组 `[a[0], a[1], a[2], ..., a[n-1]]` 旋转一次 的结果为数组 `[a[n-1], a[0], a[1], a[2], ..., a[n-2]]` 。\n",
    "\n",
    "给你一个可能存在 重复 元素值的数组 nums ，它原来是一个升序排列的数组，并按上述情形进行了多次旋转。请你找出并返回数组中的 最小元素 。\n",
    "\n",
    " \n",
    "\n",
    "示例 1：\n",
    "```\n",
    "输入：nums = [1,3,5]\n",
    "输出：1\n",
    "```\n",
    "示例 2：\n",
    "```\n",
    "输入：nums = [2,2,2,0,1]\n",
    "输出：0\n",
    "``` \n",
    "\n",
    "**提示：**\n",
    "```\n",
    "n == nums.length\n",
    "1 <= n <= 5000\n",
    "-5000 <= nums[i] <= 5000\n",
    "nums 原来是一个升序排序的数组，并进行了 1 至 n 次旋转\n",
    "```\n",
    "\n",
    "**进阶：**\n",
    "\n",
    "这道题是 寻找旋转排序数组中的最小值 的延伸题目。\n",
    "\n",
    "允许重复会影响算法的时间复杂度吗？会如何影响，为什么？\n"
   ]
  }
 ],
 "metadata": {
  "kernelspec": {
   "display_name": "Python 3.8.5 64-bit",
   "language": "python",
   "name": "python38564bit21010f3a0af3487da006a510d8fc9309"
  },
  "language_info": {
   "codemirror_mode": {
    "name": "ipython",
    "version": 3
   },
   "file_extension": ".py",
   "mimetype": "text/x-python",
   "name": "python",
   "nbconvert_exporter": "python",
   "pygments_lexer": "ipython3",
   "version": "3.8.5"
  }
 },
 "nbformat": 4,
 "nbformat_minor": 5
}
