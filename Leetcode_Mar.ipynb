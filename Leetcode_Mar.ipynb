{
 "cells": [
  {
   "cell_type": "markdown",
   "id": "material-economics",
   "metadata": {},
   "source": [
    "## 303. 区域和检索 - 数组不可变\n",
    "\n",
    "给定一个整数数组  `nums`，求出数组从索引 `i` 到 `j`（`i ≤ j`）范围内元素的总和，包含 `i、j` 两点。\n",
    "\n",
    "实现 `NumArray` 类：\n",
    "\n",
    "`NumArray(int[] nums)` 使用数组 `nums` 初始化对象\n",
    "`int sumRange(int i, int j)` 返回数组 `nums` 从索引 `i` 到 `j`（i ≤ j）范围内元素的总和，包含 `i、j` 两点（也就是 `sum(nums[i], nums[i + 1], ... , nums[j])）`\n",
    "\n",
    "示例：\n",
    "```\n",
    "输入：\n",
    "[\"NumArray\", \"sumRange\", \"sumRange\", \"sumRange\"]\n",
    "[[[-2, 0, 3, -5, 2, -1]], [0, 2], [2, 5], [0, 5]]\n",
    "输出：\n",
    "[null, 1, -1, -3]\n",
    "\n",
    "\n",
    "解释：\n",
    "NumArray numArray = new NumArray([-2, 0, 3, -5, 2, -1]);\n",
    "numArray.sumRange(0, 2); // return 1 ((-2) + 0 + 3)\n",
    "numArray.sumRange(2, 5); // return -1 (3 + (-5) + 2 + (-1)) \n",
    "numArray.sumRange(0, 5); // return -3 ((-2) + 0 + 3 + (-5) + 2 + (-1))\n",
    " ```\n",
    "\n",
    "提示：\n",
    "\n",
    "- 0 <= nums.length <= 104\n",
    "- -105 <= nums[i] <= 105\n",
    "- 0 <= i <= j < nums.length\n",
    "- 最多调用 104 次 sumRange 方法\n"
   ]
  },
  {
   "cell_type": "markdown",
   "id": "raised-commission",
   "metadata": {},
   "source": [
    "由于会进行多次检索，即多次调用 $\\text{sumRange}$，因此为了降低检索的总时间，应该降低 $\\text{sumRange}$ 的时间复杂度，最理想的情况是时间复杂度 $O(1)$。为了将检索的时间复杂度降到 $O(1)$，需要在初始化的时候进行预处理。\n",
    "\n",
    "注意到当 $i \\le j$ 时，$\\text{sumRange}(i,j)$ 可以写成如下形式：\n",
    "$$\n",
    "\\text{sumRange(i, j)}\\\\\n",
    "= \\sum_{k=i}^j nums[k] \\\\\n",
    "= \\sum_{k=0}^j nums[k] - \\sum_{k=0}^{i-1} nums[k] \n",
    "$$"
   ]
  },
  {
   "cell_type": "markdown",
   "id": "israeli-wilson",
   "metadata": {},
   "source": [
    "由此可知，要计算 $\\text{sumRange}(i,j)$，则需要计算数组 $\\textit{nums}$在下标 $j$ 和下标 $i-1$ 的前缀和，然后计算两个前缀和的差。\n",
    "\n",
    "如果可以在初始化的时候计算出数组 $\\textit{nums}$ 在每个下标处的前缀和，即可满足每次调用 $\\text{sumRange}$ 的时间复杂度都是 $O(1)$。\n"
   ]
  },
  {
   "cell_type": "markdown",
   "id": "modified-breeding",
   "metadata": {},
   "source": [
    "具体实现方面，假设数组 $\\textit{nums}$ 的长度为 $n$，创建长度为 $n+1$ 的前缀和数组 $\\textit{sums}$，对于 $0 \\le i<n$ 都有 $\\textit{sums}[i+1]=\\textit{sums}[i]+\\textit{nums}[i]$，则当 $0<i \\le n$时，$\\textit{sums}[i]$ 表示数组 $\\textit{nums}$ 从下标 $0$ 到下标 $i-1$ 的前缀和。\n",
    "\n",
    "将前缀和数组 $\\textit{sums}$ 的长度设为 $n+1$ 的目的是为了方便计算 $\\text{sumRange}(i,j)$)，不需要对 $i=0$ 的情况特殊处理。此时有\n",
    "$$\n",
    "\\text{sumRange}(i,j) = sums[j+1] - sums[i]\n",
    "$$"
   ]
  },
  {
   "cell_type": "code",
   "execution_count": null,
   "id": "electrical-internet",
   "metadata": {},
   "outputs": [],
   "source": [
    "class NumArray:\n",
    "\n",
    "    def __init__(self, nums: List[int]):\n",
    "        self.sums = [0]\n",
    "        _sums = self.sums\n",
    "\n",
    "        for num in nums:\n",
    "            _sums.append(_sums[-1] + num)\n",
    "\n",
    "    def sumRange(self, i: int, j: int) -> int:\n",
    "        _sums = self.sums\n",
    "        return _sums[j + 1] - _sums[i]\n",
    "\n",
    "\n",
    "# Your NumArray object will be instantiated and called as such:\n",
    "# obj = NumArray(nums)\n",
    "# param_1 = obj.sumRange(i,j)"
   ]
  }
 ],
 "metadata": {
  "kernelspec": {
   "display_name": "Python 3",
   "language": "python",
   "name": "python3"
  },
  "language_info": {
   "codemirror_mode": {
    "name": "ipython",
    "version": 3
   },
   "file_extension": ".py",
   "mimetype": "text/x-python",
   "name": "python",
   "nbconvert_exporter": "python",
   "pygments_lexer": "ipython3",
   "version": "3.8.5"
  }
 },
 "nbformat": 4,
 "nbformat_minor": 5
}
