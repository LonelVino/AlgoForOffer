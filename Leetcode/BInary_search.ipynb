{
 "cells": [
  {
   "cell_type": "markdown",
   "id": "absent-preservation",
   "metadata": {},
   "source": [
    "## 二分模板 29. 两数相除 : 二分 + 倍增乘法解法"
   ]
  },
  {
   "cell_type": "markdown",
   "id": "consistent-finnish",
   "metadata": {},
   "source": [
    "# 二分本质 & 恢复二段性处理"
   ]
  },
  {
   "cell_type": "markdown",
   "id": "classified-accreditation",
   "metadata": {},
   "source": [
    "## 33. 搜索旋转排序数组（找目标值） : 严格 O(logN)，一起看清二分的本质"
   ]
  },
  {
   "cell_type": "markdown",
   "id": "plain-gentleman",
   "metadata": {},
   "source": [
    "## 81. 搜索旋转排序数组 II（找目标值） : 详解为何元素相同会导致 O(n)，一起看清二分的本质"
   ]
  },
  {
   "cell_type": "markdown",
   "id": "designing-ballot",
   "metadata": {},
   "source": [
    "## 153. 寻找旋转排序数组中的最小值（找最小值） : 严格 O(logN)，一起看清二分的本质"
   ]
  },
  {
   "cell_type": "markdown",
   "id": "phantom-sheet",
   "metadata": {},
   "source": [
    "## 154. 寻找旋转排序数组中的最小值 II（找最小值） : 详解为何元素相同会导致 O(n)，一起看清二分的本质"
   ]
  },
  {
   "cell_type": "markdown",
   "id": "based-diesel",
   "metadata": {},
   "source": [
    "# 二分 check 函数如何确定"
   ]
  },
  {
   "cell_type": "markdown",
   "id": "discrete-namibia",
   "metadata": {},
   "source": [
    "## 34. 在排序数组中查找元素的第一个和最后一个位置 : 考察对「二分」的理解，以及 check 函数的「大于 小于」怎么写"
   ]
  },
  {
   "cell_type": "markdown",
   "id": "systematic-circus",
   "metadata": {},
   "source": [
    "## 1011. 在 D 天内送达包裹的能力\n",
    "传送带上的包裹必须在 D 天内从一个港口运送到另一个港口。\n",
    "\n",
    "传送带上的第 i 个包裹的重量为 weights[i]。每一天，我们都会按给出重量的顺序往传送带上装载包裹。我们装载的重量不会超过船的最大运载重量。\n",
    "\n",
    "返回能在 D 天内将传送带上的所有包裹送达的船的最低运载能力。\n",
    "\n",
    " \n",
    "\n",
    "示例 1：\n",
    "```\n",
    "输入：weights = [1,2,3,4,5,6,7,8,9,10], D = 5\n",
    "输出：15\n",
    "解释：\n",
    "船舶最低载重 15 就能够在 5 天内送达所有包裹，如下所示：\n",
    "第 1 天：1, 2, 3, 4, 5\n",
    "第 2 天：6, 7\n",
    "第 3 天：8\n",
    "第 4 天：9\n",
    "第 5 天：10\n",
    "\n",
    "请注意，货物必须按照给定的顺序装运，因此使用载重能力为 14 的船舶并将包装分成 (2, 3, 4, 5), (1, 6, 7), (8), (9), (10) 是不允许的。 \n",
    "```\n",
    "示例 2：\n",
    "```\n",
    "输入：weights = [3,2,2,4,1,4], D = 3\n",
    "输出：6\n",
    "解释：\n",
    "船舶最低载重 6 就能够在 3 天内送达所有包裹，如下所示：\n",
    "第 1 天：3, 2\n",
    "第 2 天：2, 4\n",
    "第 3 天：1, 4\n",
    "```\n",
    "示例 3：\n",
    "```\n",
    "输入：weights = [1,2,3,1,1], D = 4\n",
    "输出：3\n",
    "解释：\n",
    "第 1 天：1\n",
    "第 2 天：2\n",
    "第 3 天：3\n",
    "第 4 天：1, 1\n",
    "``` \n",
    "\n",
    "提示：\n",
    "```\n",
    "1 <= D <= weights.length <= 50000\n",
    "1 <= weights[i] <= 500\n",
    "````"
   ]
  },
  {
   "cell_type": "markdown",
   "id": "conscious-guyana",
   "metadata": {},
   "source": [
    "### 二分解法（精确边界）\n",
    "\n",
    "假定「D 天内运送完所有包裹的最低运力」为 ans，那么在以 ans 为分割点的数轴上具有「二段性」：\n",
    "\n",
    "- 数值范围在 $(-\\infty, ans)$ 的运力必然「不满足」 D 天内运送完所有包裹的要求\n",
    "- 数值范围在 $[ans, +\\infty)$ 的运力必然「满足」 D天内运送完所有包裹的要求\n",
    "\n",
    "<b>即我们可以通过「二分」来找到恰好满足 D天内运送完所有包裹的分割点 ans。</b>\n",
    "\n",
    "接下来我们要确定二分的范围，由于不存在包裹拆分的情况，考虑如下两种边界情况：\n",
    "\n",
    "- 理论最低运力：只确保所有包裹能够被运送，自然也包括重量最大的包裹，此时理论最低运力为 max，max 为数组 weights 中的最大值\n",
    "- 理论最高运力：使得所有包裹在最短时间（一天）内运算完成，此时理论最低运力为 sum，sum 为数组 weights 的总和\n"
   ]
  },
  {
   "cell_type": "code",
   "execution_count": 1,
   "id": "hungry-remainder",
   "metadata": {},
   "outputs": [],
   "source": [
    "from typing import List\n",
    "class Solution:\n",
    "    def shipWithinDays(self, weights: List[int], D: int) -> int:\n",
    "        l, r = max(max(weights), sum(weights)//D), sum(weights)\n",
    "        while l < r:\n",
    "            mid = (l + r) >> 1\n",
    "            if self.check(weights, mid, D):\n",
    "                r = mid\n",
    "            else:\n",
    "                l = mid + 1\n",
    "        return r\n",
    "    \n",
    "    def check(self, W, cap, d):\n",
    "        n = len(W)\n",
    "        i = cnt = 1\n",
    "        total = W[0]\n",
    "        while i < n:\n",
    "            while i < n and total + W[i] <= cap:\n",
    "                total += W[i]\n",
    "                i += 1\n",
    "            cnt += 1\n",
    "            total = 0\n",
    "        return cnt - 1 <= d"
   ]
  },
  {
   "cell_type": "code",
   "execution_count": 2,
   "id": "hearing-belief",
   "metadata": {},
   "outputs": [
    {
     "name": "stdout",
     "output_type": "stream",
     "text": [
      "15\n",
      "9\n",
      "55\n"
     ]
    }
   ],
   "source": [
    "ss = Solution()\n",
    "res1 = ss.shipWithinDays(weights = [1,2,3,4,5,6,7,8,9,10], D = 5)\n",
    "res2 = ss.shipWithinDays(weights = [3,3,3,3,3,3], D = 2)\n",
    "res3 =  ss.shipWithinDays(weights = [1,2,3,4,5,6,7,8,9,10] , D = 1)    # 55\n",
    "print(res1)\n",
    "print(res2)\n",
    "print(res3)"
   ]
  }
 ],
 "metadata": {
  "kernelspec": {
   "display_name": "Python 3",
   "language": "python",
   "name": "python3"
  },
  "language_info": {
   "codemirror_mode": {
    "name": "ipython",
    "version": 3
   },
   "file_extension": ".py",
   "mimetype": "text/x-python",
   "name": "python",
   "nbconvert_exporter": "python",
   "pygments_lexer": "ipython3",
   "version": "3.8.5"
  }
 },
 "nbformat": 4,
 "nbformat_minor": 5
}
