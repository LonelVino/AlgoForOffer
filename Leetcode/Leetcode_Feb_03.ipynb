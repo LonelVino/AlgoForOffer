{
 "cells": [
  {
   "cell_type": "markdown",
   "id": "healthy-surprise",
   "metadata": {},
   "source": [
    "## 1052. 爱生气的书店老板 - 滑动窗口\n",
    "今天，书店老板有一家店打算试营业 `customers.length` 分钟。每分钟都有一些顾客（`customers[i]`）会进入书店，所有这些顾客都会在那**一分钟结束**后离开。\n",
    "\n",
    "在某些时候，书店老板会生气。 如果书店老板在第 `i` 分钟生气，那么 `grumpy[i] = 1`，否则 `grumpy[i] = 0`。 当书店老板生气时，那**一分钟的顾客就会不满意，不生气则他们是满意的**。\n",
    "\n",
    "书店老板知道一个秘密技巧，能抑制自己的情绪，可以让自己连续 `X ` 分钟不生气，但却只能使用一次。\n",
    "\n",
    "请你返回这一天营业下来，**最多**有多少客户能够感到满意的数量。\n",
    " \n",
    " **示例：**\n",
    " ```\n",
    " 输入：customers = [1,0,1,2,1,1,7,5], grumpy = [0,1,0,1,0,1,0,1], X = 3\n",
    "输出：16\n",
    "解释：\n",
    "书店老板在最后 3 分钟保持冷静。\n",
    "感到满意的最大客户数量 = 1 + 1 + 1 + 1 + 7 + 5 = 16.\n",
    "```\n",
    "\n",
    "提示：\n",
    "\n",
    "- `1 <= X <= customers.length == grumpy.length <= 20000`\n",
    "- `0 <= customers[i] <= 1000`\n",
    "- `0 <= grumpy[i] <= 1`\n"
   ]
  },
  {
   "cell_type": "markdown",
   "id": "postal-operator",
   "metadata": {},
   "source": [
    "增加的满意顾客的数量是 $increase_i$ , 有：\n",
    "\n",
    "$$\n",
    " increase_i = \\sum_{j=i-X+1}^i customers[j]\\times grumpy[j]\n",
    "$$\n",
    "\n",
    "为了让满意的顾客数量最大化，应该找到满足 $X-1 \\le i<n$ 的下标 $i$，使得 $increase_i$ 最大\n",
    "\n",
    "注意到当 $i>X-1$ 时，将 $i$ 替换成 $i-1$，可以得到 ${increase}_{i-1}$:\n",
    "$$\n",
    " increase_{i-1} = \\sum_{j=i-X}^{i-1} customers[j]\\times grumpy[j]\n",
    "$$\n",
    "\n",
    "将 $increase_i$ 和 ${increase}_{i-1}$ 相减：\n",
    "$$\n",
    "incearse_i - increase_{i-1} = customers[i]\\times grumpy[i] - customers[i-X]\\times grumpy[i-X]\n",
    "$$\n",
    "\n",
    "上述过程可以看成维护一个长度为 $X$ 的滑动窗口。当滑动窗口从下标范围 $[i-X,i-1]$ 移动到下标范围 $[i-X+1,i]$ 时，下标 $i-X$ 从窗口中移出，下标 $i$ 进入到窗口内。\n",
    "\n",
    "利用这种关系，可以在 $O(1)$ 的时间内通过 ${increase}_{i-1}$得到$increase_i$， 对整个过程，只需要遍历数组 $\\textit{customers}$ 和 $grumpy$ 各一次即可得到 $X≤i<n$ 的每个 ${increase}_i$的值，时间复杂度是 $O(n)$。"
   ]
  },
  {
   "cell_type": "markdown",
   "id": "liquid-arbitration",
   "metadata": {},
   "source": [
    "以上是计算Max Increase, 在一开始的是时候我门还需要先计算出原始的总和 total.\n",
    "\n",
    "$\\textit{total}$的值需要遍历数组 $\\textit{customers}$ 和 $\\textit{grumpy}$ 各一次，因此整个过程只需要遍历数组 $\\textit{customers}$ 和 $\\textit{grumpy}$各两次，时间复杂度是 $O(n)$。\n",
    "\n",
    "$$\n",
    "total = s\\sum_{i=0}^{n-1}customers[i]\\times I(grumpy[i]=0)\n",
    "$$\n",
    "\n",
    "在上述过程中维护增加的满意顾客的最大数量，记为 $\\textit{maxIncrease}$，则满意顾客的最大总数是 $\\textit{total}+\\textit{maxIncrease}$。\n"
   ]
  },
  {
   "cell_type": "code",
   "execution_count": 11,
   "id": "sophisticated-burns",
   "metadata": {},
   "outputs": [],
   "source": [
    "from typing import List\n",
    "class Solution:\n",
    "    def maxSatisfied(self, customers: List[int], grumpy: List[int], X: int) -> int:\n",
    "        total = sum(c * abs(g-1) for c, g in zip(customers, grumpy))\n",
    "        maxIncrease = increase = sum(c*g for c, g in zip(customers[:X], grumpy[:X]))\n",
    "        for i in range(X, len(customers)):\n",
    "            increase += customers[i] * grumpy[i] - customers[i-X] * grumpy[i-X]\n",
    "            maxIncrease = max(maxIncrease, increase)\n",
    "        return total + maxIncrease"
   ]
  },
  {
   "cell_type": "code",
   "execution_count": 12,
   "id": "classical-usage",
   "metadata": {},
   "outputs": [
    {
     "name": "stdout",
     "output_type": "stream",
     "text": [
      "18\n"
     ]
    }
   ],
   "source": [
    "ss = Solution()\n",
    "customers = [10,1,7]\n",
    "grumpy = [0,0,0]\n",
    "X = 2\n",
    "max_num = ss.maxSatisfied(customers, grumpy, X)\n",
    "print(max_num)"
   ]
  }
 ],
 "metadata": {
  "kernelspec": {
   "display_name": "Python 3",
   "language": "python",
   "name": "python3"
  },
  "language_info": {
   "codemirror_mode": {
    "name": "ipython",
    "version": 3
   },
   "file_extension": ".py",
   "mimetype": "text/x-python",
   "name": "python",
   "nbconvert_exporter": "python",
   "pygments_lexer": "ipython3",
   "version": "3.8.5"
  }
 },
 "nbformat": 4,
 "nbformat_minor": 5
}
