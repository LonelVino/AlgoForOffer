{
 "cells": [
  {
   "cell_type": "markdown",
   "id": "solid-effect",
   "metadata": {},
   "source": [
    "## 179. Maximum Number\n",
    "\n",
    "给定一组非负整数 nums，重新排列每个数的顺序（每个数不可拆分）使之组成一个最大的整数。\n",
    "\n",
    "注意：输出结果可能非常大，所以你需要返回一个字符串而不是整数。\n",
    "\n",
    "示例 1：\n",
    "```\n",
    "输入：nums = [10,2]\n",
    "输出：\"210\"\n",
    "```\n",
    "示例 2：\n",
    "```\n",
    "输入：nums = [3,30,34,5,9]\n",
    "输出：\"9534330\"\n",
    "```\n",
    "示例 3：\n",
    "```\n",
    "输入：nums = [1]\n",
    "输出：\"1\"\n",
    "```\n",
    "示例 4：\n",
    "```\n",
    "输入：nums = [10]\n",
    "输出：\"10\"\n",
    "```\n",
    "\n",
    "提示：\n",
    "```\n",
    "1 <= nums.length <= 100\n",
    "0 <= nums[i] <= 109\n",
    "```"
   ]
  },
  {
   "cell_type": "code",
   "execution_count": 33,
   "id": "flexible-drawing",
   "metadata": {},
   "outputs": [],
   "source": [
    "from typing import List\n",
    "import functools\n",
    "\n",
    "class Solution:\n",
    "     #先把nums中的所有数字转化为字符串，形成字符串数组 nums_str\n",
    "    #比较两个字符串x,y的拼接结果x+y和y+x哪个更大，从而确定x和y谁排在前面；将nums_str降序排序\n",
    "    #把整个数组排序的结果拼接成一个字符串，并且返回\n",
    "    def largestNumber(self, nums: List[int]) -> str:\n",
    "        nums_str=list(map(str,nums))\n",
    "        compare=lambda x,y: 1 if x+y<y+x else -1\n",
    "        nums_str.sort(key=functools.cmp_to_key(compare))\n",
    "        res=''.join(nums_str)\n",
    "        if res[0]=='0':\n",
    "            res='0'\n",
    "        return res"
   ]
  },
  {
   "cell_type": "code",
   "execution_count": 34,
   "id": "stuck-laser",
   "metadata": {},
   "outputs": [
    {
     "name": "stdout",
     "output_type": "stream",
     "text": [
      "1113111311\n"
     ]
    }
   ],
   "source": [
    "ss = Solution()\n",
    "nums = [111311, 1113]\n",
    "res = ss.largestNumber(nums)\n",
    "print(res)"
   ]
  }
 ],
 "metadata": {
  "kernelspec": {
   "display_name": "Python 3",
   "language": "python",
   "name": "python3"
  },
  "language_info": {
   "codemirror_mode": {
    "name": "ipython",
    "version": 3
   },
   "file_extension": ".py",
   "mimetype": "text/x-python",
   "name": "python",
   "nbconvert_exporter": "python",
   "pygments_lexer": "ipython3",
   "version": "3.8.5"
  }
 },
 "nbformat": 4,
 "nbformat_minor": 5
}
