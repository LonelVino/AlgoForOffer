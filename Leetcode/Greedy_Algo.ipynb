{
 "cells": [
  {
   "cell_type": "markdown",
   "id": "loaded-thomas",
   "metadata": {},
   "source": [
    "## 17.23完成所有工作的最短时间\n",
    "\n",
    "给你一个整数数组 jobs ，其中 jobs[i] 是完成第 i 项工作要花费的时间。\n",
    "\n",
    "请你将这些工作分配给 k 位工人。所有工作都应该分配给工人，且每项工作只能分配给一位工人。工人的 工作时间 是完成分配给他们的所有工作花费时间的总和。请你设计一套最佳的工作分配方案，使工人的 最大工作时间 得以 最小化 。\n",
    "\n",
    "返回分配方案中尽可能 最小 的 最大工作时间 。\n",
    "\n",
    " \n",
    "\n",
    "示例 1：\n",
    "```\n",
    "输入：jobs = [3,2,3], k = 3\n",
    "输出：3\n",
    "解释：给每位工人分配一项工作，最大工作时间是 3 。\n",
    "```\n",
    "示例 2：\n",
    "```\n",
    "输入：jobs = [1,2,4,7,8], k = 2\n",
    "输出：11\n",
    "解释：按下述方式分配工作：\n",
    "1 号工人：1、2、8（工作时间 = 1 + 2 + 8 = 11）\n",
    "2 号工人：4、7（工作时间 = 4 + 7 = 11）\n",
    "最大工作时间是 11 。\n",
    "```\n",
    "\n",
    "提示：\n",
    "```\n",
    "1 <= k <= jobs.length <= 12\n",
    "1 <= jobs[i] <= 107\n",
    "```"
   ]
  }
 ],
 "metadata": {
  "kernelspec": {
   "display_name": "Python 3",
   "language": "python",
   "name": "python3"
  },
  "language_info": {
   "codemirror_mode": {
    "name": "ipython",
    "version": 3
   },
   "file_extension": ".py",
   "mimetype": "text/x-python",
   "name": "python",
   "nbconvert_exporter": "python",
   "pygments_lexer": "ipython3",
   "version": "3.8.5"
  }
 },
 "nbformat": 4,
 "nbformat_minor": 5
}
