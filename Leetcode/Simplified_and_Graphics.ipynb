{
 "cells": [
  {
   "attachments": {
    "image.png": {
     "image/png": "[encoded data removed]"
    }
   },
   "cell_type": "markdown",
   "id": "right-assessment",
   "metadata": {},
   "source": [
    "## 766. 托普利茨矩阵 - Graphics / 2D Arrays / Code simplify\n",
    "给你一个 m x n 的矩阵 matrix 。如果这个矩阵是托普利茨矩阵，返回 true ；否则，返回 false 。\n",
    "\n",
    "如果矩阵上**每一条**由左上到右下的对角线上的元素都相同 （注意是每一条，而不仅仅是主对角线），那么这个矩阵是 托普利茨矩阵 。\n",
    "\n",
    "![image.png](attachment:image.png)\n",
    "示例 1：\n",
    "\n",
    "```\n",
    "输入：matrix = [[1,2,3,4],[5,1,2,3],[9,5,1,2]]\n",
    "输出：true\n",
    "解释：\n",
    "在上述矩阵中, 其对角线为: \n",
    "\"[9]\", \"[5, 5]\", \"[1, 1, 1]\", \"[2, 2, 2]\", \"[3, 3]\", \"[4]\"。 \n",
    "各条对角线上的所有元素均相同, 因此答案是 True 。\n",
    "```\n",
    "\n",
    "提示：\n",
    "```\n",
    "m == matrix.length\n",
    "n == matrix[i].length\n",
    "1 <= m, n <= 20\n",
    "0 <= matrix[i][j] <= 99\n",
    " ```\n",
    "\n",
    "进阶：\n",
    "\n",
    "如果矩阵存储在磁盘上，并且内存有限，以至于一次最多只能将矩阵的一行加载到内存中，该怎么办？\n",
    "如果矩阵太大，以至于一次只能将不完整的一行加载到内存中，该怎么办？\n"
   ]
  },
  {
   "cell_type": "code",
   "execution_count": 1,
   "id": "purple-manual",
   "metadata": {},
   "outputs": [],
   "source": [
    "from typing import List\n",
    "\n",
    "class Solution:\n",
    "    def isToeplitzMatrix(self, m: List[List[int]]) -> bool:\n",
    "        '''\n",
    "        zip(m[:-1], m[1:]): 生成一系列的tuple，every tuple is composed as\n",
    "        (i-th row in matrix, (i+1)-th row in matrix)  \n",
    "        '''\n",
    "        for r1, r2 in zip(m[:-1], m[1:]):\n",
    "            if r1[:-1] != r2[1:]:\n",
    "                return False\n",
    "        return True"
   ]
  },
  {
   "cell_type": "code",
   "execution_count": 2,
   "id": "invalid-suggestion",
   "metadata": {},
   "outputs": [
    {
     "name": "stdout",
     "output_type": "stream",
     "text": [
      "[[11, 74, 0, 93], [40, 11, 74, 7]] False\n",
      "[[11, 74, 7, 93], [40, 11, 74, 7]] True\n",
      "[[36, 59, 71, 15, 26, 82, 87], [56, 36, 59, 71, 15, 26, 82], [15, 0, 36, 59, 71, 15, 26]] False\n"
     ]
    }
   ],
   "source": [
    "ss = Solution()\n",
    "matrix1 = [[1,2,3,4],[5,1,2,3],[9,5,1,2]]\n",
    "matrix2 = [[1,2],[2,2]]\n",
    "matrix3 = [[11,74,0,93],[40,11,74,7]]\n",
    "matrix4 = [[65,98,57]]\n",
    "matrix5 = [[11,74,7,93],[40,11,74,7]]\n",
    "matrix6 = [[36,59,71,15,26,82,87],[56,36,59,71,15,26,82],[15,0,36,59,71,15,26]]\n",
    "\n",
    "def test(matrix):\n",
    "    print(matrix, ss.isToeplitzMatrix(matrix))\n",
    "\"\"\"\n",
    "test(matrix1)\n",
    "test(matrix2)\n",
    "test(matrix4)\n",
    "\"\"\"\n",
    "test(matrix3)\n",
    "test(matrix5)\n",
    "test(matrix6)"
   ]
  },
  {
   "cell_type": "markdown",
   "id": "false-garlic",
   "metadata": {},
   "source": [
    "## 832. 翻转图像 - Graphics / 2D Arrays \n",
    "\n",
    "给定一个二进制矩阵 A，我们想先水平翻转图像，然后反转图像并返回结果。\n",
    "\n",
    "水平翻转图片就是将图片的每一行都进行翻转，即逆序。例如，水平翻转 [1, 1, 0] 的结果是 [0, 1, 1]。\n",
    "\n",
    "反转图片的意思是图片中的 0 全部被 1 替换， 1 全部被 0 替换。例如，反转 [0, 1, 1] 的结果是 [1, 0, 0]。\n",
    "\n",
    "示例 1：\n",
    "\n",
    "```\n",
    "输入：[[1,1,0],[1,0,1],[0,0,0]]\n",
    "输出：[[1,0,0],[0,1,0],[1,1,1]]\n",
    "解释：首先翻转每一行: [[0,1,1],[1,0,1],[0,0,0]]；\n",
    "     然后反转图片: [[1,0,0],[0,1,0],[1,1,1]]\n",
    "```\n",
    "\n",
    "示例 2：\n",
    "\n",
    "```\n",
    "输入：[[1,1,0,0],[1,0,0,1],[0,1,1,1],[1,0,1,0]]\n",
    "输出：[[1,1,0,0],[0,1,1,0],[0,0,0,1],[1,0,1,0]]\n",
    "解释：首先翻转每一行: [[0,0,1,1],[1,0,0,1],[1,1,1,0],[0,1,0,1]]；\n",
    "```\n",
    "\n",
    "提示：\n",
    "```\n",
    "1 <= A.length = A[0].length <= 20\n",
    "0 <= A[i][j] <= 1\n",
    "```"
   ]
  },
  {
   "cell_type": "code",
   "execution_count": 23,
   "id": "cultural-fleece",
   "metadata": {},
   "outputs": [],
   "source": [
    "from typing import List\n",
    "\n",
    "class Solution:\n",
    "    def flipAndInvertImage(self, A: List[List[int]]) -> List[List[int]]:\n",
    "        row_num, col_num = len(A), len(A[0])\n",
    "        for i in range(row_num):\n",
    "            for j in range(col_num//2):\n",
    "                A[i][j], A[i][col_num-j-1] = A[i][col_num-j-1], A[i][j]\n",
    "                A[i][j], A[i][col_num-j-1] = abs(A[i][j]-1), abs(A[i][col_num-j-1]-1)\n",
    "                if (col_num//2) % 2 != 0:\n",
    "                    A[i][col_num//2]  = abs(A[i][col_num//2] - 1)\n",
    "        return A\n",
    "                \n",
    "                    "
   ]
  },
  {
   "cell_type": "code",
   "execution_count": 24,
   "id": "essential-dividend",
   "metadata": {},
   "outputs": [],
   "source": [
    "from typing import List\n",
    "\n",
    "class Solution:\n",
    "    def flipAndInvertImage(self, A: List[List[int]]) -> List[List[int]]:\n",
    "        for row in A:\n",
    "            for k, _ in enumerate(row): row[k] = 1 - row[k]\n",
    "            i, j =0, len(row) - 1\n",
    "            while i < j:\n",
    "                row[i], row[j] = row[j], row[i]\n",
    "                i += 1\n",
    "                j -= 1\n",
    "        return A"
   ]
  },
  {
   "cell_type": "markdown",
   "id": "fifty-renaissance",
   "metadata": {},
   "source": [
    "复杂度:\n",
    "\n",
    "时间复杂度 $O(N)$，做了两次遍历，而 $O(2N) = O(N)$\n",
    "\n",
    "空间复杂度 $O(1)$，只用了常量空间，没有用额外的空间"
   ]
  },
  {
   "cell_type": "markdown",
   "id": "swedish-grass",
   "metadata": {},
   "source": [
    "### 方法二：见缝插针法\n",
    "\n",
    "首先我们一行的第一个数，找到它对应的数，也就是这一行最后一个\n",
    "\n",
    "如果这两个数是不同的，比如说一个是 1，一个是 0，那么先 10 反转，则一个是 0，一个是 1，再左右翻转，又变回一个是 1，一个是 0\n",
    "\n",
    "这说明当两个数是不同的时候，不用做任何事情\n",
    "\n",
    "当两个数相同的时候，要同时异或或被 1 减，即 10 反转\n",
    "\n",
    "注意，循环的范围应该是 range(len(row) + 1) // 2)，不能忘了加一。因为，如果列数为奇数，那么中间的数虽然不要左右交换，但是10还是要反转的，因此要多一次循环，相同于中间的数与自己是相同的，要反转。"
   ]
  },
  {
   "cell_type": "code",
   "execution_count": 30,
   "id": "prime-lesson",
   "metadata": {},
   "outputs": [],
   "source": [
    "from typing import List\n",
    "\n",
    "class Solution:\n",
    "    def flipAndInvertImage(self, A: List[List[int]]) -> List[List[int]]:\n",
    "        for row in A:\n",
    "            for i in range((len(row)+1)//2):\n",
    "                if row[i] == row[len(row) - i - 1]:\n",
    "                    row[i] = row[len(row) - i - 1] = 1 - row[i]\n",
    "        return A"
   ]
  },
  {
   "cell_type": "code",
   "execution_count": 31,
   "id": "planned-individual",
   "metadata": {},
   "outputs": [],
   "source": [
    "ss = Solution()\n",
    "A1 = [[1,1,0],[1,0,1],[0,0,0]]  \n",
    "A2 = [[1,1,0,0],[1,0,0,1],[0,1,1,1],[1,0,1,0]]\n",
    "O1 = ss.flipAndInvertImage(A1)   #[[1,0,0],[0,1,0],[1,1,1]]\n",
    "O2 = ss.flipAndInvertImage(A2)   # [[1,1,0,0],[0,1,1,0],[0,0,0,1],[1,0,1,0]]\n",
    "assert O1 == [[1, 0, 0], [0, 1, 0], [1, 1, 1]]\n",
    "assert O2 == [[1, 1, 0, 0], [0, 1, 1, 0], [0, 0, 0, 1], [1, 0, 1, 0]]"
   ]
  },
  {
   "cell_type": "markdown",
   "id": "brief-performance",
   "metadata": {},
   "source": [
    "## 896. 单调数列 - Code Simplified / Trick\n",
    "如果数组是单调递增或单调递减的，那么它是单调的。\n",
    "\n",
    "如果对于所有 i <= j，A[i] <= A[j]，那么数组 A 是单调递增的。 如果对于所有 i <= j，A[i]> = A[j]，那么数组 A 是单调递减的。\n",
    "\n",
    "当给定的数组 A 是单调数组时返回 true，否则返回 false。\n",
    "\n",
    "\n",
    "示例 1：\n",
    "```\n",
    "输入：[1,2,2,3]\n",
    "输出：true\n",
    "```\n",
    "示例 2：\n",
    "```\n",
    "输入：[6,5,4,4]\n",
    "输出：true\n",
    "```\n",
    "示例 3：\n",
    "```\n",
    "输入：[1,3,2]\n",
    "输出：false\n",
    "```\n",
    "示例 4：\n",
    "```\n",
    "输入：[1,2,4,5]\n",
    "输出：true\n",
    "```"
   ]
  },
  {
   "cell_type": "markdown",
   "id": "incorporated-contribution",
   "metadata": {},
   "source": [
    "\n",
    "示例 5：\n",
    "```\n",
    "输入：[1,1,1]\n",
    "输出：true\n",
    "```\n",
    "\n",
    "提示：\n",
    "\n",
    "- 1 <= A.length <= 50000\n",
    "- -100000 <= A[i] <= 100000\n"
   ]
  },
  {
   "cell_type": "code",
   "execution_count": 34,
   "id": "unique-tension",
   "metadata": {},
   "outputs": [],
   "source": [
    "from typing import List\n",
    "\n",
    "class Solution:\n",
    "    def isMonotonic(self, A: List[int]) -> bool:\n",
    "        # Trick: use dictionary, uni_value; For example:\n",
    "        # an ascending array: -> {True} (if list: [True True True True])\n",
    "        # a descending array -> {False} (if list [False False False False])\n",
    "        # a non-montonic array -> {True, False}  (len({True, False}) = 2 > 1)\n",
    "        return len({x<y for x,y in zip(A, A[1:]) if x!=y}) <= 1"
   ]
  },
  {
   "cell_type": "code",
   "execution_count": 35,
   "id": "latest-anniversary",
   "metadata": {},
   "outputs": [
    {
     "name": "stdout",
     "output_type": "stream",
     "text": [
      "True\n"
     ]
    }
   ],
   "source": [
    "ss = Solution()\n",
    "A = [1,3,5,7,8,9]\n",
    "o = ss.isMonotonic(A)\n",
    "print(o)\n"
   ]
  }
 ],
 "metadata": {
  "kernelspec": {
   "display_name": "Python 3",
   "language": "python",
   "name": "python3"
  },
  "language_info": {
   "codemirror_mode": {
    "name": "ipython",
    "version": 3
   },
   "file_extension": ".py",
   "mimetype": "text/x-python",
   "name": "python",
   "nbconvert_exporter": "python",
   "pygments_lexer": "ipython3",
   "version": "3.8.5"
  }
 },
 "nbformat": 4,
 "nbformat_minor": 5
}
