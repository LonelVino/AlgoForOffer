{
 "cells": [
  {
   "cell_type": "markdown",
   "id": "cheap-building",
   "metadata": {},
   "source": [
    "## 28.实现 strStr() 函数。\n",
    "\n",
    "实现 strStr() 函数。\n",
    "\n",
    "给你两个字符串 haystack 和 needle ，请你在 haystack 字符串中找出 needle 字符串出现的第一个位置（下标从 0 开始）。如果不存在，则返回  -1 。\n",
    "\n",
    "说明：\n",
    "\n",
    "- 当 needle 是空字符串时，我们应当返回什么值呢？这是一个在面试中很好的问题。\n",
    "- 对于本题而言，当 needle 是空字符串时我们应当返回 0 。这与 C 语言的 strstr() 以及 Java 的 indexOf() 定义相符。\n",
    "\n",
    "\n",
    "示例 1：\n",
    "```\n",
    "输入：haystack = \"hello\", needle = \"ll\"\n",
    "输出：2\n",
    "```\n",
    "示例 2：\n",
    "```\n",
    "输入：haystack = \"aaaaa\", needle = \"bba\"\n",
    "输出：-1\n",
    "```\n",
    "示例 3：\n",
    "```\n",
    "输入：haystack = \"\", needle = \"\"\n",
    "输出：0\n",
    "```\n",
    "\n",
    "提示：\n",
    "```\n",
    "0 <= haystack.length, needle.length <= 5 * 104\n",
    "haystack 和 needle 仅由小写英文字符组成\n",
    "```"
   ]
  },
  {
   "cell_type": "code",
   "execution_count": 17,
   "id": "absent-leone",
   "metadata": {},
   "outputs": [],
   "source": [
    "class Solution:\n",
    "    def strStr(self, haystack: str, needle: str) -> int:\n",
    "        if needle == \"\":\n",
    "            return 0\n",
    "        i = 0\n",
    "        for idx in range(len(haystack)):\n",
    "            if haystack[idx:idx+len(needle)] == needle:\n",
    "                return idx\n",
    "        return -1"
   ]
  },
  {
   "cell_type": "markdown",
   "id": "republican-integer",
   "metadata": {},
   "source": [
    "### Sunday 解法\n",
    "相似的查找算法有 KMP，BM，Horspool，挑了一个在实际情况中效果较好且理解简单的算法，即 Sunday 算法。\n",
    "\n",
    "#### 一、Sunday 匹配机制\n",
    "匹配机制非常容易理解：\n",
    "\n",
    "- 目标字符串String\n",
    "- 模式串 Pattern\n",
    "- 当前查询索引 idx （初始为 00）\n",
    "- 待匹配字符串 str_cut : String [ idx : idx + len(Pattern) ]\n",
    "\n",
    "每次匹配都会从 **目标字符串中** 提取 待匹配字符串与 **模式串** 进行匹配：\n",
    "\n",
    "- 若匹配，则返回当前 `idx`\n",
    "- 不匹配，则查看 待匹配字符串 的后一位字符 `c`：\n",
    "   1. 若c存在于Pattern中，则 idx = idx + 偏移表[c]\n",
    "   2. 否则，idx = idx + len(pattern)\n",
    "\n",
    "Repeat Loop 直到 `idx + len(pattern) > len(String)`"
   ]
  },
  {
   "attachments": {
    "image.png": {
     "image/png": "[encoded data removed]"
    }
   },
   "cell_type": "markdown",
   "id": "heavy-local",
   "metadata": {},
   "source": [
    "#### 二、偏移表\n",
    "偏移表的作用是存储每一个在 **模式串** 中出现的字符，在 **模式串** 中出现的最右位置到尾部的距离 $+1$，例如 `aab`：\n",
    "\n",
    "- a 的偏移位就是 len(pattern)-1 = 2\n",
    "- b 的偏移位就是 len(pattern)-2 = 1\n",
    "- 其他的均为 len(pattern)+1 = 4\n",
    "\n",
    "综合一下：\n",
    "![image.png](attachment:image.png)"
   ]
  },
  {
   "cell_type": "markdown",
   "id": "representative-briefs",
   "metadata": {},
   "source": [
    "#### 三、举例\n",
    "1. String: `checkthisout`\n",
    "2. Pattern: `this`\n",
    "\n",
    "**Step 1:**\n",
    "\n",
    "- `idx = 0`\n",
    "- 待匹配字符串为：chec\n",
    "- 因为 chec != this\n",
    "- 所以查看 chec 的下一个字符 k\n",
    "- k 不在 Pattern 里\n",
    "- 所以查看 偏移表，idx = idx + 5\n",
    "\n",
    "**Step 2:**\n",
    "\n",
    "- `idx = 5`\n",
    "- 待匹配字符串为：`this`\n",
    "- 因为 `this == this`\n",
    "- 匹配，所以返回 $5$\n",
    "\n",
    "1. String: `mississippit`\n",
    "2. Pattern: `issip`\n",
    "\n",
    "**Step 1:**\n",
    "\n",
    "- `idx = 0`\n",
    "- 待匹配字符串为：missi\n",
    "- 因为 `missi != issip`\n",
    "- 所以查看 `missi` 的下一个字符 `s`\n",
    "- `s` 在 Pattern 里\n",
    "- 所以查看 偏移表，idx = idx + (len(Pattern) - 2) = 3\n",
    "\n",
    "**Step 2:**\n",
    "\n",
    "- `idx = 3`\n",
    "- 待匹配字符串为：`sissi`\n",
    "- 因为 `sissi != issip`\n",
    "- 所以查看 `sissi` 的下一个字符 `p`\n",
    "- `p` 在 Pattern 里\n",
    "- 所以查看 偏移表，idx = idx + (len(Pattern) - 4) = 4\n",
    "\n",
    "**Step 3:**\n",
    "\n",
    "- `idx = 4`\n",
    "- 待匹配字符串为：`issip`\n",
    "- 因为 `issip == issip`\n",
    "- 匹配，所以返回 $4$\n",
    "\n",
    "#### 四、算法分析\n",
    "- 最坏情况：$O(nm)$\n",
    "- 平均情况：$O(n)$"
   ]
  },
  {
   "cell_type": "code",
   "execution_count": 26,
   "id": "burning-quantum",
   "metadata": {},
   "outputs": [],
   "source": [
    "class Solution:\n",
    "    def strStr(self, haystack: str, needle: str) -> int:\n",
    "        def calShiftMat(st):\n",
    "            dic = {}\n",
    "            for i in range(len(st)-1, -1, -1):\n",
    "                if not dic.get(st[i]):\n",
    "                    dic[st[i]] = len(st) - i\n",
    "            dic[\"oc\"] = len(st) + 1\n",
    "            return dic\n",
    "        \n",
    "        if len(needle) > len(haystack): return -1\n",
    "        if needle == \"\": return 0\n",
    "        \n",
    "        # Shift Matrix pre-generate\n",
    "        dic = calShiftMat(needle)\n",
    "        idx = 0\n",
    "        \n",
    "        while idx+len(needle) <= len(haystack):\n",
    "            # string to match\n",
    "            str_cut = haystack[idx:idx+len(needle)]\n",
    "            if str_cut == needle:\n",
    "                return idx\n",
    "            else:\n",
    "                # 边界处理\n",
    "                if idx+len(needle) >= len(haystack):\n",
    "                    return -1\n",
    "                cur_c = haystack[idx+len(needle)]\n",
    "                if dic.get(cur_c):\n",
    "                    idx += dic[cur_c]\n",
    "                else:\n",
    "                    idx += dic[\"ot\"]\n",
    "                    \n",
    "        return -1 if idx+len(needle)>= len(haystack) else idx"
   ]
  },
  {
   "cell_type": "code",
   "execution_count": 27,
   "id": "accredited-uncle",
   "metadata": {},
   "outputs": [
    {
     "name": "stdout",
     "output_type": "stream",
     "text": [
      "-1\n",
      "2\n",
      "0\n",
      "4\n"
     ]
    }
   ],
   "source": [
    "ss = Solution()\n",
    "res_1 = ss.strStr(haystack = \"aaaaa\", needle = \"bba\")\n",
    "res_2 = ss.strStr(haystack = \"hello\", needle = \"ll\")\n",
    "res_3 = ss.strStr(haystack = \"a\", needle = \"a\")\n",
    "res_4 = ss.strStr(haystack = \"mississippi\", needle = \"issip\")\n",
    "print(res_1)\n",
    "print(res_2)\n",
    "print(res_3)\n",
    "print(res_4)"
   ]
  }
 ],
 "metadata": {
  "kernelspec": {
   "display_name": "Python 3",
   "language": "python",
   "name": "python3"
  },
  "language_info": {
   "codemirror_mode": {
    "name": "ipython",
    "version": 3
   },
   "file_extension": ".py",
   "mimetype": "text/x-python",
   "name": "python",
   "nbconvert_exporter": "python",
   "pygments_lexer": "ipython3",
   "version": "3.8.5"
  }
 },
 "nbformat": 4,
 "nbformat_minor": 5
}
