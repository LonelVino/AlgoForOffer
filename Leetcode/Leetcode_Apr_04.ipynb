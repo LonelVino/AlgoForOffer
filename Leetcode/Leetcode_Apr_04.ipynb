{
 "cells": [
  {
   "cell_type": "markdown",
   "id": "medium-texas",
   "metadata": {},
   "source": [
    "\n",
    "## 213. 打家劫舍 II\n",
    "\n",
    "你是一个专业的小偷，计划偷窃沿街的房屋，每间房内都藏有一定的现金。这个地方所有的房屋都 围成一圈 ，这意味着第一个房屋和最后一个房屋是紧挨着的。同时，相邻的房屋装有相互连通的防盗系统，如果两间相邻的房屋在同一晚上被小偷闯入，系统会自动报警 。\n",
    "\n",
    "给定一个代表每个房屋存放金额的非负整数数组，计算你 在不触动警报装置的情况下 ，能够偷窃到的最高金额。\n",
    "\n",
    "\n",
    "示例 1：\n",
    "```\n",
    "输入：nums = [2,3,2]\n",
    "输出：3\n",
    "解释：你不能先偷窃 1 号房屋（金额 = 2），然后偷窃 3 号房屋（金额 = 2）, 因为他们是相邻的。\n",
    "```\n",
    "示例 2：\n",
    "```\n",
    "输入：nums = [1,2,3,1]\n",
    "输出：4\n",
    "解释：你可以先偷窃 1 号房屋（金额 = 1），然后偷窃 3 号房屋（金额 = 3）。\n",
    "     偷窃到的最高金额 = 1 + 3 = 4 。\n",
    "```\n",
    "示例 3：\n",
    "```\n",
    "输入：nums = [0]\n",
    "输出：0\n",
    "```"
   ]
  },
  {
   "cell_type": "code",
   "execution_count": null,
   "id": "convenient-section",
   "metadata": {},
   "outputs": [],
   "source": [
    "class Solution:\n",
    "    def rob(self, nums: List[int]) -> int:\n",
    "        "
   ]
  }
 ],
 "metadata": {
  "kernelspec": {
   "display_name": "Python 3.8.5 64-bit",
   "language": "python",
   "name": "python38564bit21010f3a0af3487da006a510d8fc9309"
  },
  "language_info": {
   "codemirror_mode": {
    "name": "ipython",
    "version": 3
   },
   "file_extension": ".py",
   "mimetype": "text/x-python",
   "name": "python",
   "nbconvert_exporter": "python",
   "pygments_lexer": "ipython3",
   "version": "3.8.5"
  }
 },
 "nbformat": 4,
 "nbformat_minor": 5
}
