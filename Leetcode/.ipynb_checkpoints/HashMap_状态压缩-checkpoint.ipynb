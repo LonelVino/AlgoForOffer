{
 "cells": [
  {
   "cell_type": "markdown",
   "id": "ideal-craft",
   "metadata": {},
   "source": [
    "## 697. 数组的度 - Hash table 储存索引\n",
    "\n",
    "给定一个非空且只包含非负数的整数数组 nums，数组的度的定义是指数组里任一元素出现频数的最大值。\n",
    "\n",
    "你的任务是在 nums 中找到与 nums 拥有相同大小的度的最短连续子数组，返回其长度。\n",
    "\n",
    "示例 1：\n",
    "```\n",
    "输入：[1, 2, 2, 3, 1]\n",
    "输出：2\n",
    "解释：\n",
    "输入数组的度是2，因为元素1和2的出现频数最大，均为2.\n",
    "连续子数组里面拥有相同度的有如下所示:\n",
    "[1, 2, 2, 3, 1], [1, 2, 2, 3], [2, 2, 3, 1], [1, 2, 2], [2, 2, 3], [2, 2]\n",
    "最短连续子数组[2, 2]的长度为2，所以返回2.\n",
    "```\n",
    "\n",
    "示例 2：\n",
    "```\n",
    "输入：[1,2,2,3,1,4,2]\n",
    "输出：6\n",
    "```\n",
    "\n",
    "\n",
    "提示：\n",
    "\n",
    "- nums.length 在1到 50,000 区间范围内。\n",
    "- nums[i] 是一个在 0 到 49,999 范围内的整数。"
   ]
  },
  {
   "cell_type": "markdown",
   "id": "macro-worcester",
   "metadata": {},
   "source": [
    "### Best Solution\n",
    "\n",
    "<b>解题思路</b>\n",
    "\n",
    "本题可以按照两部分求解：\n",
    "\n",
    "- 先求原数组的度；\n",
    "- 再求与原数组相同度的最短子数组。\n",
    "\n",
    "<b>求原数组的度</b>\n",
    "\n",
    "求数组的度--各个元素的出现次数，用 <b>字典（哈希表）计数, key 是元素，value 是次数。 value 的最大值就是数组的度</b> $degree$。\n",
    "\n",
    "<b>求与原数组相同度的最短子数组</b>\n",
    "\n",
    "长度 = 出现次数最多的元素 第一次和最后一次出现的位置（最短，因为可能不止一个）\n",
    "\n",
    "- 使用 `left` 和 `right` 分别保存了每个元素在数组中第一次出现的位置和最后一次出现的位置；使用 `counter` 保存每个元素出现的次数\n",
    "- 数组的度 $degree$ 等于 `counter.values()` 的最大值\n",
    "- 对counter再次遍历：\n",
    "  - 如果元素 k 出现的次数等于 degree，则找出元素 k 最后一次出现的位置 和 第一次出现的位置，计算两者之差+1，即为子数组长度。\n",
    "  - 对所有出现次数等于 degree 的子数组的最短长度，取 min\n",
    " \n"
   ]
  },
  {
   "cell_type": "code",
   "execution_count": 3,
   "id": "apart-treasurer",
   "metadata": {},
   "outputs": [],
   "source": [
    "from typing import List\n",
    "import collections\n",
    "\n",
    "class Solution:\n",
    "    def findShortestSubArray(self, nums: List[int]) -> int:\n",
    "        left, right = dict(), dict()\n",
    "        counter = collections.Counter()\n",
    "        for i, num in enumerate(nums):\n",
    "            if num not in left:\n",
    "                left[num] = i\n",
    "            right[num] = i\n",
    "            counter[num] += 1\n",
    "        degree = max(counter.values())\n",
    "        res = len(nums)\n",
    "        for num, v in counter.items():\n",
    "            if v == degree:\n",
    "                res = min(res, right[num] - left[num] + 1)\n",
    "                \n",
    "        return res"
   ]
  },
  {
   "cell_type": "code",
   "execution_count": 4,
   "id": "written-michigan",
   "metadata": {},
   "outputs": [
    {
     "name": "stdout",
     "output_type": "stream",
     "text": [
      "2\n"
     ]
    }
   ],
   "source": [
    "if __name__ == \"__main__\":\n",
    "    ss = Solution()\n",
    "    nums1 = [1,2,2,3,1]\n",
    "    nums2 = [1,2,2,3,1,4,2]\n",
    "    nums3 = [1,3,2,2,3,1]\n",
    "    # length1 = ss.findShortestSubArray(nums1)\n",
    "    # length2 = ss.findShortestSubArray(nums2)\n",
    "    length = ss.findShortestSubArray(nums3)\n",
    "    print(length) "
   ]
  },
  {
   "cell_type": "markdown",
   "id": "strange-personal",
   "metadata": {},
   "source": [
    "## 1178. 猜字谜 -  hashmap 状态压缩\n",
    "字谜的迷面 puzzle 按字符串形式给出，如果一个单词 word 符合下面两个条件，那么它就可以算作谜底：\n",
    "\n",
    "单词 word 中包含谜面 puzzle 的第一个字母。\n",
    "单词 word 中的每一个字母都可以在谜面 puzzle 中找到。\n",
    "例如，如果字谜的谜面是 \"abcdefg\"，那么可以作为谜底的单词有 \"faced\", \"cabbage\", 和 \"baggage\"；而 \"beefed\"（不含字母 \"a\"）以及 \"based\"（其中的 \"s\" 没有出现在谜面中）都不能作为谜底。\n",
    "返回一个答案数组 answer，数组中的每个元素 answer[i] 是在给出的单词列表 words 中可以作为字谜迷面 puzzles[i] 所对应的谜底的单词数目。\n",
    "\n",
    "示例：\n",
    "```\n",
    "输入：\n",
    "words = [\"aaaa\",\"asas\",\"able\",\"ability\",\"actt\",\"actor\",\"access\"], \n",
    "puzzles = [\"aboveyz\",\"abrodyz\",\"abslute\",\"absoryz\",\"actresz\",\"gaswxyz\"]\n",
    "输出：[1,1,3,2,4,0]\n",
    "解释：\n",
    "1 个单词可以作为 \"aboveyz\" 的谜底 : \"aaaa\" \n",
    "1 个单词可以作为 \"abrodyz\" 的谜底 : \"aaaa\"\n",
    "3 个单词可以作为 \"abslute\" 的谜底 : \"aaaa\", \"asas\", \"able\"\n",
    "2 个单词可以作为 \"absoryz\" 的谜底 : \"aaaa\", \"asas\"\n",
    "4 个单词可以作为 \"actresz\" 的谜底 : \"aaaa\", \"asas\", \"actt\", \"access\"\n",
    "没有单词可以作为 \"gaswxyz\" 的谜底，因为列表中的单词都不含字母 'g'。\n",
    " ```\n",
    "\n",
    "提示：\n",
    "\n",
    "- 1 <= `words.length` <= 10^5\n",
    "- 4 <= `words[i].length` <= 50\n",
    "- 1 <= `puzzles.length` <= 10^4\n",
    "- `puzzles[i].length` == 7\n",
    "- `words[i][j], puzzles[i][j]` 都是小写英文字母。\n",
    "- 每个 puzzles[i] 所包含的字符都不重复。\n",
    "\n"
   ]
  },
  {
   "attachments": {
    "image.png": {
     "image/png": "[encoded data removed]"
    }
   },
   "cell_type": "markdown",
   "id": "still-bikini",
   "metadata": {},
   "source": [
    "My way in this question will exceed the limited time.\n",
    "### 解题思路\n",
    "两个条件：\n",
    "\n",
    " - 单词 word 中包含谜面 puzzle 的第一个字母。\n",
    " - 单词 word 中的每一个字母都可以在谜面 puzzle 中找到。\n",
    "\n",
    "- 把每个字符串用二进制数字表示（状态压缩）\n",
    "- 寻找所有子集（subset）\n",
    "\n",
    "首先让所有 words 和 puzzle 两两匹配肯定是不行的，时间复杂度到了 $O(M * N) = 10 ^ 9$，会超时。\n",
    "\n",
    "一个简单的思路是，对于每个 `puzzle` 没有必要遍历所有 `words`，只用找符合条件的 `words` 出现了多少次就行了 ---- 状态压缩。\n",
    "\n",
    "#### 第一步：状态压缩\n",
    "第二个条件只要求能找到（出现一次即可），对出现次数没要求。\n",
    "\n",
    "为了解决这个问题，我们可以使用二进制数字来表每个 `word` 和 `puzzle`\n",
    "\n",
    "这道题只包含 26 个小写字母，可以压缩到一个 `int` 中, `int` 中的每一位取0和1表示字符是否出现过\n",
    "\n",
    "比如 \"aabb\" 可以用 11 表示，\"accc\" 可以用 101 表示。\n",
    "\n",
    "这样一来，不同的单词可能映射成同一个数字，比如 \"aabbb\" 和 \"ab\" 都映射成了 11。这就是状态压缩。\n",
    "\n",
    "![image.png](attachment:image.png)\n",
    "\n",
    "把每个 word 都做状态压缩，并用 hashmap 保存每个二进制数字出现的次数。\n",
    "\n",
    "#### 第二步：匹配\n",
    "简化之后，问题变成了： \n",
    "\n",
    "**word 状态压缩后的数字 和 puzzle[0] + subset(puzzle[1:N - 1]) 状态压缩后的数字相等。**\n",
    "\n",
    "难点：二进制下如何求 subset 可以参照「78. 子集」\n",
    "\n",
    "暴力求出puzzle[1:N - 1]的所有子集，然后计算 puzzle[0] + subset(puzzle[1:N - 1]) 对应的状态\n",
    "\n",
    "题目说了 puzzle 的长度为 7 位，subset(puzzle[1:N - 1]) 的是时间复杂度为 $O(2 ^ N) = 2 ^ 6 = 64$次计算, 相对较快。\n",
    "\n",
    "求出puzzle[0] + subset(puzzle[1:N - 1]) 对应的二进制数字之后，累加 hashmap 中该二进制数字出现的次数，就是该 puzzle 对应的 word 有多少\n"
   ]
  },
  {
   "cell_type": "code",
   "execution_count": null,
   "id": "fifty-company",
   "metadata": {},
   "outputs": [],
   "source": [
    "class Solution:\n",
    "    def findNumOfValidWords(self, words: List[str], puzzles: List[str]) -> List[int]:\n",
    "        ### 创建words哈希表\n",
    "        freq = collections.Counter()\n",
    "        for word in words:\n",
    "            mask = 0\n",
    "            for c in word:\n",
    "                mask |= 1 << (ord(c) - ord('a'))\n",
    "            freq[mask] += 1\n",
    "        res = []\n",
    "        ### 每个puzzle的子集进行匹配\n",
    "        for puzzle in puzzles:\n",
    "            total = 0\n",
    "            for perm in self.subsets(puzzle[1:]):\n",
    "                mask = 1 << (ord(puzzle[0]) - ord('a'))\n",
    "                for c in perm:\n",
    "                    mask |= 1 << (ord(c) - ord('a'))\n",
    "                total += freq[mask]\n",
    "            res.append(total)\n",
    "        return res\n",
    "\n",
    "    \n",
    "    def subsets(self, nums):\n",
    "        subset = []\n",
    "        n  = len(nums)\n",
    "        \n",
    "        def helper(i, tmp):\n",
    "            subset.append(tmp)\n",
    "            for j in range(i, n):\n",
    "                helper(j+1, tmp + [nums[j]])\n",
    "        helper(0, [])\n",
    "        return subset"
   ]
  },
  {
   "cell_type": "code",
   "execution_count": null,
   "id": "demographic-marina",
   "metadata": {},
   "outputs": [],
   "source": [
    "ss = Solution()\n",
    "words = [\"aaaa\",\"asas\",\"able\",\"ability\",\"actt\",\"actor\",\"access\"]\n",
    "puzzles = [\"aboveyz\",\"abrodyz\",\"abslute\",\"absoryz\",\"actresz\",\"gaswxyz\"]\n",
    "res = ss.findNumOfValidWords(words, puzzles)\n",
    "print(res)"
   ]
  },
  {
   "cell_type": "markdown",
   "id": "significant-citizen",
   "metadata": {},
   "source": [
    "## 78. 子集\n",
    "给你一个整数数组 nums ，数组中的元素 互不相同 。返回该数组所有可能的子集（幂集）。\n",
    "\n",
    "解集 不能 包含重复的子集。你可以按 任意顺序 返回解集。\n",
    "\n",
    "\n",
    "示例 1：\n",
    "```\n",
    "输入：nums = [1,2,3]\n",
    "输出：[[],[1],[2],[1,2],[3],[1,3],[2,3],[1,2,3]]\n",
    "```\n",
    "\n",
    "示例 2：\n",
    "```\n",
    "输入：nums = [0]\n",
    "输出：[[],[0]]\n",
    "```\n",
    "\n",
    "提示：\n",
    "\n",
    "- 1 <= nums.length <= 10\n",
    "- -10 <= nums[i] <= 10\n",
    "- nums 中的所有元素 互不相同\n"
   ]
  },
  {
   "attachments": {
    "image.png": {
     "image/png": "[encoded data removed]"
    }
   },
   "cell_type": "markdown",
   "id": "necessary-audit",
   "metadata": {},
   "source": [
    "### 回溯算法\n",
    "\n",
    "#### 思路一:库函数\n",
    "![image.png](attachment:image.png)"
   ]
  },
  {
   "cell_type": "code",
   "execution_count": null,
   "id": "cooked-defensive",
   "metadata": {},
   "outputs": [],
   "source": [
    "from typing import List\n",
    "class Solution:\n",
    "    def subsets(self, nums: List[int]) -> List[List[int]]:\n",
    "        subsets = []\n",
    "        import itertools\n",
    "        for i in range(len(nums)+1):\n",
    "            for tmp in itertools.combinations(nums, i):\n",
    "                subsets.append(tmp)\n",
    "        return subsets"
   ]
  },
  {
   "attachments": {
    "image.png": {
     "image/png": "[encoded data removed]"
    }
   },
   "cell_type": "markdown",
   "id": "linear-uganda",
   "metadata": {},
   "source": [
    "#### 思路二:迭代\n",
    "![image.png](attachment:image.png)"
   ]
  },
  {
   "cell_type": "code",
   "execution_count": 6,
   "id": "absolute-device",
   "metadata": {},
   "outputs": [],
   "source": [
    "from typing import List\n",
    "class Solution:\n",
    "    def subsets(self, nums: List[int]) -> List[List[int]]:\n",
    "        res = [[]]\n",
    "        for i in nums:\n",
    "            res = res + [[i] + num for num in res]\n",
    "        return res"
   ]
  },
  {
   "attachments": {
    "image.png": {
     "image/png": "[encoded data removed]"
    }
   },
   "cell_type": "markdown",
   "id": "hourly-stevens",
   "metadata": {},
   "source": [
    "#### 思路三：回溯(递归)\n",
    "![image.png](attachment:image.png)"
   ]
  },
  {
   "cell_type": "code",
   "execution_count": 8,
   "id": "optional-customer",
   "metadata": {},
   "outputs": [],
   "source": [
    "from typing import List\n",
    "class Solution:\n",
    "    def subsets(self, nums: List[int]) -> List[List[int]]:\n",
    "        res = []\n",
    "        n = len(nums)\n",
    "        def helper(i, tmp):\n",
    "            res.append(tmp)\n",
    "            for j in range(i, n):\n",
    "                helper(j+1, tmp+[nums[j]])\n",
    "        helper(0, [])\n",
    "        return res"
   ]
  }
 ],
 "metadata": {
  "kernelspec": {
   "display_name": "Python 3",
   "language": "python",
   "name": "python3"
  },
  "language_info": {
   "codemirror_mode": {
    "name": "ipython",
    "version": 3
   },
   "file_extension": ".py",
   "mimetype": "text/x-python",
   "name": "python",
   "nbconvert_exporter": "python",
   "pygments_lexer": "ipython3",
   "version": "3.8.5"
  }
 },
 "nbformat": 4,
 "nbformat_minor": 5
}
