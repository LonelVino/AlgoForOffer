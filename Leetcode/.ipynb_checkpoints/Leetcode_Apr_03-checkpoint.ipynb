{
 "cells": [
  {
   "cell_type": "markdown",
   "id": "russian-leather",
   "metadata": {},
   "source": [
    "## 179. Maximum Number\n",
    "\n",
    "给定一组非负整数 nums，重新排列每个数的顺序（每个数不可拆分）使之组成一个最大的整数。\n",
    "\n",
    "注意：输出结果可能非常大，所以你需要返回一个字符串而不是整数。\n",
    "\n",
    "示例 1：\n",
    "```\n",
    "输入：nums = [10,2]\n",
    "输出：\"210\"\n",
    "```\n",
    "示例 2：\n",
    "```\n",
    "输入：nums = [3,30,34,5,9]\n",
    "输出：\"9534330\"\n",
    "```\n",
    "示例 3：\n",
    "```\n",
    "输入：nums = [1]\n",
    "输出：\"1\"\n",
    "```\n",
    "示例 4：\n",
    "```\n",
    "输入：nums = [10]\n",
    "输出：\"10\"\n",
    "```\n",
    "\n",
    "提示：\n",
    "```\n",
    "1 <= nums.length <= 100\n",
    "0 <= nums[i] <= 109\n",
    "```"
   ]
  },
  {
   "cell_type": "code",
   "execution_count": null,
   "id": "limited-router",
   "metadata": {},
   "outputs": [],
   "source": [
    "''"
   ]
  }
 ],
 "metadata": {
  "kernelspec": {
   "display_name": "Python 3",
   "language": "python",
   "name": "python3"
  },
  "language_info": {
   "codemirror_mode": {
    "name": "ipython",
    "version": 3
   },
   "file_extension": ".py",
   "mimetype": "text/x-python",
   "name": "python",
   "nbconvert_exporter": "python",
   "pygments_lexer": "ipython3",
   "version": "3.8.5"
  }
 },
 "nbformat": 4,
 "nbformat_minor": 5
}
