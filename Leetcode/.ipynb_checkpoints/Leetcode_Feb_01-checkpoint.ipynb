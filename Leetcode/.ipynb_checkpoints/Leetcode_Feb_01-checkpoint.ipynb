{
 "cells": [
  {
   "cell_type": "markdown",
   "id": "negative-insert",
   "metadata": {},
   "source": [
    "## 697. 数组的度 - Hash table && 双指针\n",
    "\n",
    "给定一个非空且只包含非负数的整数数组 nums，数组的度的定义是指数组里任一元素出现频数的最大值。\n",
    "\n",
    "你的任务是在 nums 中找到与 nums 拥有相同大小的度的最短连续子数组，返回其长度。\n",
    "\n",
    "示例 1：\n",
    "```\n",
    "输入：[1, 2, 2, 3, 1]\n",
    "输出：2\n",
    "解释：\n",
    "输入数组的度是2，因为元素1和2的出现频数最大，均为2.\n",
    "连续子数组里面拥有相同度的有如下所示:\n",
    "[1, 2, 2, 3, 1], [1, 2, 2, 3], [2, 2, 3, 1], [1, 2, 2], [2, 2, 3], [2, 2]\n",
    "最短连续子数组[2, 2]的长度为2，所以返回2.\n",
    "```\n",
    "\n",
    "示例 2：\n",
    "```\n",
    "输入：[1,2,2,3,1,4,2]\n",
    "输出：6\n",
    "```\n",
    "\n",
    "\n",
    "提示：\n",
    "\n",
    "- nums.length 在1到 50,000 区间范围内。\n",
    "- nums[i] 是一个在 0 到 49,999 范围内的整数。"
   ]
  },
  {
   "cell_type": "markdown",
   "id": "alpine-sentence",
   "metadata": {},
   "source": [
    "### Best Solution\n",
    "\n",
    "<b>解题思路</b>\n",
    "\n",
    "本题可以按照两部分求解：\n",
    "\n",
    "- 先求原数组的度；\n",
    "- 再求与原数组相同度的最短子数组。\n",
    "\n",
    "<b>求原数组的度</b>\n",
    "\n",
    "求数组的度--各个元素的出现次数，用 <b>字典（哈希表）计数, key 是元素，value 是次数。 value 的最大值就是数组的度</b> $degree$。\n",
    "\n",
    "<b>求与原数组相同度的最短子数组</b>\n",
    "\n",
    "长度 = 出现次数最多的元素 第一次和最后一次出现的位置（最短，因为可能不止一个）\n",
    "\n",
    "- 使用 `left` 和 `right` 分别保存了每个元素在数组中第一次出现的位置和最后一次出现的位置；使用 `counter` 保存每个元素出现的次数\n",
    "- 数组的度 $degree$ 等于 `counter.values()` 的最大值\n",
    "- 对counter再次遍历：\n",
    "  - 如果元素 k 出现的次数等于 degree，则找出元素 k 最后一次出现的位置 和 第一次出现的位置，计算两者之差+1，即为子数组长度。\n",
    "  - 对所有出现次数等于 degree 的子数组的最短长度，取 min\n",
    " \n"
   ]
  },
  {
   "cell_type": "code",
   "execution_count": 1,
   "id": "continued-setting",
   "metadata": {},
   "outputs": [],
   "source": [
    "from typing import List\n",
    "import collections\n",
    "\n",
    "class Solution:\n",
    "    def findShortestSubArray(self, nums: List[int]) -> int:\n",
    "        left, right = dict(), dict()\n",
    "        counter = collections.Counter()\n",
    "        for i, num in enumerate(nums):\n",
    "            if num not in left:\n",
    "                left[num] = i\n",
    "            right[num] = i\n",
    "            counter[num] += 1\n",
    "        degree = max(counter.values())\n",
    "        res = len(nums)\n",
    "        for num, v in counter.items():\n",
    "            if v == degree:\n",
    "                res = min(res, right[num] - left[num] + 1)\n",
    "                \n",
    "        return res"
   ]
  },
  {
   "cell_type": "code",
   "execution_count": 2,
   "id": "removable-tension",
   "metadata": {},
   "outputs": [
    {
     "ename": "AttributeError",
     "evalue": "'Solution' object has no attribute 'findShortestSubArray'",
     "output_type": "error",
     "traceback": [
      "\u001b[0;31m---------------------------------------------------------------------------\u001b[0m",
      "\u001b[0;31mAttributeError\u001b[0m                            Traceback (most recent call last)",
      "\u001b[0;32m<ipython-input-2-2899c4ca7e2b>\u001b[0m in \u001b[0;36m<module>\u001b[0;34m\u001b[0m\n\u001b[1;32m      6\u001b[0m     \u001b[0;31m# length1 = ss.findShortestSubArray(nums1)\u001b[0m\u001b[0;34m\u001b[0m\u001b[0;34m\u001b[0m\u001b[0;34m\u001b[0m\u001b[0m\n\u001b[1;32m      7\u001b[0m     \u001b[0;31m# length2 = ss.findShortestSubArray(nums2)\u001b[0m\u001b[0;34m\u001b[0m\u001b[0;34m\u001b[0m\u001b[0;34m\u001b[0m\u001b[0m\n\u001b[0;32m----> 8\u001b[0;31m     \u001b[0mlength\u001b[0m \u001b[0;34m=\u001b[0m \u001b[0mss\u001b[0m\u001b[0;34m.\u001b[0m\u001b[0mfindShortestSubArray\u001b[0m\u001b[0;34m(\u001b[0m\u001b[0mnums3\u001b[0m\u001b[0;34m)\u001b[0m\u001b[0;34m\u001b[0m\u001b[0;34m\u001b[0m\u001b[0m\n\u001b[0m\u001b[1;32m      9\u001b[0m     \u001b[0mprint\u001b[0m\u001b[0;34m(\u001b[0m\u001b[0mlength\u001b[0m\u001b[0;34m)\u001b[0m\u001b[0;34m\u001b[0m\u001b[0;34m\u001b[0m\u001b[0m\n",
      "\u001b[0;31mAttributeError\u001b[0m: 'Solution' object has no attribute 'findShortestSubArray'"
     ]
    }
   ],
   "source": [
    "if __name__ == \"__main__\":\n",
    "    ss = Solution()\n",
    "    nums1 = [1,2,2,3,1]\n",
    "    nums2 = [1,2,2,3,1,4,2]\n",
    "    nums3 = [1,3,2,2,3,1]\n",
    "    # length1 = ss.findShortestSubArray(nums1)\n",
    "    # length2 = ss.findShortestSubArray(nums2)\n",
    "    length = ss.findShortestSubArray(nums3)\n",
    "    print(length) "
   ]
  }
 ],
 "metadata": {
  "kernelspec": {
   "display_name": "Python 3",
   "language": "python",
   "name": "python3"
  },
  "language_info": {
   "codemirror_mode": {
    "name": "ipython",
    "version": 3
   },
   "file_extension": ".py",
   "mimetype": "text/x-python",
   "name": "python",
   "nbconvert_exporter": "python",
   "pygments_lexer": "ipython3",
   "version": "3.8.5"
  }
 },
 "nbformat": 4,
 "nbformat_minor": 5
}
