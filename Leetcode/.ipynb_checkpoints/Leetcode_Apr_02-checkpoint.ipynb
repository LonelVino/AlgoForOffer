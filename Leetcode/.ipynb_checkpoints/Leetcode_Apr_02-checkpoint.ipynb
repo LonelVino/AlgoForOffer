{
 "cells": [
  {
   "cell_type": "markdown",
   "id": "parliamentary-sauce",
   "metadata": {},
   "source": [
    "## 33. 搜索旋转排序数组\n",
    "\n",
    "整数数组 `nums` 按升序排列，数组中的值 互不相同 。\n",
    "\n",
    "在传递给函数之前，`nums` 在预先未知的某个下标 `k`$（0 <= k < nums.length）$上进行了 旋转，使数组变为 `[nums[k], nums[k+1], ..., nums[n-1], nums[0], nums[1], ..., nums[k-1]]`（下标 从 0 开始 计数）。例如， `[0,1,2,4,5,6,7]` 在下标 3 处经旋转后可能变为 `[4,5,6,7,0,1,2]` 。\n",
    "\n",
    "给你 旋转后 的数组 nums 和一个整数 target ，如果 nums 中存在这个目标值 target ，则返回它的下标，否则返回 -1 。\n",
    "\n",
    "示例 1：\n",
    "```\n",
    "输入：nums = [4,5,6,7,0,1,2], target = 0\n",
    "输出：4\n",
    "```\n",
    "示例 2：\n",
    "```\n",
    "输入：nums = [4,5,6,7,0,1,2], target = 3\n",
    "输出：-1\n",
    "```\n",
    "示例 3：\n",
    "```\n",
    "输入：nums = [1], target = 0\n",
    "输出：-1\n",
    "```"
   ]
  },
  {
   "cell_type": "markdown",
   "id": "abandoned-pharmacy",
   "metadata": {},
   "source": [
    "提示：\n",
    "```\n",
    "1 <= nums.length <= 5000\n",
    "-10^4 <= nums[i] <= 10^4\n",
    "nums 中的每个值都 独一无二\n",
    "题目数据保证 nums 在预先未知的某个下标上进行了旋转\n",
    "-10^4 <= target <= 10^4\n",
    "```"
   ]
  },
  {
   "cell_type": "markdown",
   "id": "ceramic-frontier",
   "metadata": {},
   "source": [
    "将数组从中间分开成左右两部分的时候，一定有一部分的数组是有序的\n",
    "\n",
    "从 6 这个位置分开以后数组变成了 `[4, 5, 6]` 和 `[7, 0, 1, 2]` 两个部分 (前者有序)\n",
    "\n",
    "根据有序的那部分判断出 `target` 在不在这个部分：\n",
    "\n",
    "如果 `[l, mid - 1]` 是有序数组，且 target 的大小满足 $[\\textit{nums}[l],\\textit{nums}[mid])$，则我们应该将搜索范围缩小至 `[l, mid - 1]`，否则在 `[mid + 1, r]` 中寻找。\n",
    "\n",
    "如果 `[mid, r]` 是有序数组，且 `target ` 的大小满足 $(\\textit{nums}[mid+1],\\textit{nums}[r]]$，则我们应该将搜索范围缩小至 `[mid + 1, r]`，否则在 `[l, mid - 1]` 中寻找。\n"
   ]
  },
  {
   "cell_type": "code",
   "execution_count": 19,
   "id": "identified-accountability",
   "metadata": {},
   "outputs": [],
   "source": [
    "from typing import List\n",
    "class Solution:\n",
    "    def search(self, nums: List[int], target: int) -> int:\n",
    "        if not nums:\n",
    "            return -1\n",
    "        l, r = 0, len(nums) - 1\n",
    "        while l <= r:\n",
    "            mid = (r + l) // 2\n",
    "            # if the divided number is just the target\n",
    "            if nums[mid] == target:\n",
    "                return mid\n",
    "            \n",
    "            if nums[l] <= nums[mid]:   # left list ordered\n",
    "                if nums[l]<=target and nums[mid]>target:\n",
    "                    r = mid - 1\n",
    "                else:\n",
    "                    l = mid + 1\n",
    "            elif nums[mid] <= nums[r]:   # right list ordered\n",
    "                if nums[mid]<target and nums[r]>=target:\n",
    "                    l = mid + 1\n",
    "                else:\n",
    "                    r = mid - 1\n",
    "        return -1"
   ]
  },
  {
   "cell_type": "code",
   "execution_count": null,
   "id": "focused-soundtrack",
   "metadata": {},
   "outputs": [],
   "source": [
    "### ss = Solution()\n",
    "nums = [3,1]\n",
    "target = 1\n",
    "idx = ss.search(nums, target)\n",
    "print(idx)"
   ]
  },
  {
   "cell_type": "markdown",
   "id": "chemical-drive",
   "metadata": {},
   "source": [
    "复杂度分析\n",
    "\n",
    "时间复杂度： $O(\\log n)$，其中 $n$ 为 $\\textit{nums}$ 数组的大小。整个算法时间复杂度即为二分查找的时间复杂度 $O(\\log n)$。\n",
    "\n",
    "空间复杂度： $O(1)$ 。我们只需要常数级别的空间存放变量\n"
   ]
  },
  {
   "cell_type": "markdown",
   "id": "present-haven",
   "metadata": {},
   "source": [
    "## 81. 搜索旋转排序数组 II\n",
    "\n",
    "已知存在一个按非降序排列的整数数组 nums ，数组中的值不必互不相同。\n",
    "\n",
    "在传递给函数之前，nums 在预先未知的某个下标 k（0 <= k < nums.length）上进行了 旋转 ，使数组变为 `[nums[k], nums[k+1], ..., nums[n-1], nums[0], nums[1], ..., nums[k-1]]`（下标 从 0 开始 计数）。例如， `[0,1,2,4,4,4,5,6,6,7]` 在下标 5 处经旋转后可能变为 `[4,5,6,6,7,0,1,2,4,4]` 。\n",
    "\n",
    "给你 旋转后 的数组 `nums` 和一个整数 `target` ，请你编写一个函数来判断给定的目标值是否存在于数组中。如果 `nums` 中存在这个目标值 ` target` ，则返回 `true` ，否则返回 `false` 。"
   ]
  },
  {
   "cell_type": "markdown",
   "id": "serious-practitioner",
   "metadata": {},
   "source": [
    "示例 1：\n",
    "```\n",
    "输入：nums = [2,5,6,0,0,1,2], target = 0\n",
    "输出：true\n",
    "```\n",
    "\n",
    "示例 2：\n",
    "```\n",
    "输入：nums = [2,5,6,0,0,1,2], target = 3\n",
    "输出：false\n",
    "```\n",
    "\n",
    "提示：\n",
    "```\n",
    "1 <= nums.length <= 5000\n",
    "-104 <= nums[i] <= 104\n",
    "题目数据保证 nums 在预先未知的某个下标上进行了旋转\n",
    "-104 <= target <= 104\n",
    "```\n"
   ]
  },
  {
   "cell_type": "code",
   "execution_count": 6,
   "id": "fiscal-repository",
   "metadata": {},
   "outputs": [],
   "source": [
    "from typing import List\n",
    "\n",
    "class Solution:\n",
    "    def search(self, nums: List[int], target: int) -> bool:\n",
    "        try: \n",
    "            res = nums.index(target)\n",
    "            return True\n",
    "        except:\n",
    "            return False"
   ]
  },
  {
   "cell_type": "code",
   "execution_count": 7,
   "id": "charged-collins",
   "metadata": {},
   "outputs": [
    {
     "name": "stdout",
     "output_type": "stream",
     "text": [
      "False\n"
     ]
    }
   ],
   "source": [
    "ss = Solution()\n",
    "nums = [2,5,6,0,0,1,2]\n",
    "target = 7\n",
    "res = ss.search(nums, target)\n",
    "print(res)"
   ]
  },
  {
   "cell_type": "markdown",
   "id": "primary-chinese",
   "metadata": {},
   "source": [
    "### 方法一：二分查找\n"
   ]
  },
  {
   "cell_type": "markdown",
   "id": "sustainable-hampshire",
   "metadata": {},
   "source": [
    "## 153. 寻找旋转排序数组中的最小值\n",
    "已知一个长度为 `n` 的数组，预先按照升序排列，经由 `1` 到 `n` 次 旋转 后，得到输入数组。例如，原数组 `nums = [0,1,2,4,5,6,7]` 在变化后可能得到：\n",
    "\n",
    "若旋转 4 次，则可以得到 `[4,5,6,7,0,1,2]`\n",
    "\n",
    "若旋转 7 次，则可以得到 `[0,1,2,4,5,6,7]`\n",
    "\n",
    "注意，数组 `[a[0], a[1], a[2], ..., a[n-1]]` 旋转一次 的结果为数组 `[a[n-1], a[0], a[1], a[2], ..., a[n-2]]` 。\n",
    "\n",
    "给你一个元素值 互不相同 的数组 `nums` ，它原来是一个升序排列的数组，并按上述情形进行了多次旋转。请你找出并返回数组中的 最小元素 。\n"
   ]
  },
  {
   "cell_type": "markdown",
   "id": "promotional-constitution",
   "metadata": {},
   "source": [
    "示例 1：\n",
    "```\n",
    "输入：nums = [3,4,5,1,2]\n",
    "输出：1\n",
    "解释：原数组为 [1,2,3,4,5] ，旋转 3 次得到输入数组。\n",
    "```\n",
    "示例 2：\n",
    "```\n",
    "输入：nums = [4,5,6,7,0,1,2]\n",
    "输出：0\n",
    "解释：原数组为 [0,1,2,4,5,6,7] ，旋转 4 次得到输入数组。\n",
    "```\n",
    "示例 3：\n",
    "```\n",
    "输入：nums = [11,13,15,17]\n",
    "输出：11\n",
    "解释：原数组为 [11,13,15,17] ，旋转 4 次得到输入数组。\n",
    "```"
   ]
  },
  {
   "cell_type": "code",
   "execution_count": 38,
   "id": "defensive-french",
   "metadata": {},
   "outputs": [],
   "source": [
    "from typing import List\n",
    "class Solution:\n",
    "    def findMin(self, nums: List[int]) -> int:\n",
    "        if nums[0] <= nums[-1]:\n",
    "            return nums[0]\n",
    "        l, r = 0, len(nums) - 1\n",
    "        while l < r:    \n",
    "            if l == r - 1:\n",
    "                return min(nums[l], nums[r])\n",
    "            mid = (l + r) // 2\n",
    "            if nums[l] <= nums[mid] and nums[mid+1] < nums[r]:\n",
    "                return nums[mid+1]\n",
    "            if nums[l] <= nums[mid]:\n",
    "                l = mid\n",
    "            elif nums[mid] <= nums[r]:\n",
    "                r = mid\n",
    "        "
   ]
  },
  {
   "cell_type": "code",
   "execution_count": 1,
   "id": "collected-johnston",
   "metadata": {},
   "outputs": [],
   "source": [
    "from typing import List\n",
    "class Solution:\n",
    "    def findMin(self, nums: List[int]) -> int:\n",
    "        l, r = 0, len(nums) - 1\n",
    "        while l < r:\n",
    "            mid = (l+r) >> 1\n",
    "            if nums[mid] > nums[r]:\n",
    "                l = mid + 1\n",
    "            else:\n",
    "                r = mid\n",
    "        return nums[l]"
   ]
  },
  {
   "cell_type": "code",
   "execution_count": 42,
   "id": "regulation-nigeria",
   "metadata": {},
   "outputs": [
    {
     "name": "stdout",
     "output_type": "stream",
     "text": [
      "1\n"
     ]
    }
   ],
   "source": [
    "ss = Solution()\n",
    "nums = [3,4,5,1,2]\n",
    "res = ss.findMin(nums)\n",
    "print(res)"
   ]
  },
  {
   "cell_type": "markdown",
   "id": "registered-sullivan",
   "metadata": {},
   "source": [
    "## 154. 寻找旋转排序数组中的最小值 II\n",
    "已知一个长度为 n 的数组，预先按照升序排列，经由 1 到 n 次 旋转 后，得到输入数组。例如，原数组 nums = `[0,1,4,4,5,6,7]` 在变化后可能得到：\n",
    "若旋转 4 次，则可以得到 `[4,5,6,7,0,1,4]`\n",
    "若旋转 7 次，则可以得到 `[0,1,4,4,5,6,7]`\n",
    "注意，数组 `[a[0], a[1], a[2], ..., a[n-1]]` 旋转一次 的结果为数组 `[a[n-1], a[0], a[1], a[2], ..., a[n-2]]` 。\n",
    "\n",
    "给你一个可能存在 重复 元素值的数组 nums ，它原来是一个升序排列的数组，并按上述情形进行了多次旋转。请你找出并返回数组中的 最小元素 。\n",
    "\n",
    " \n",
    "\n",
    "示例 1：\n",
    "```\n",
    "输入：nums = [1,3,5]\n",
    "输出：1\n",
    "```\n",
    "示例 2：\n",
    "```\n",
    "输入：nums = [2,2,2,0,1]\n",
    "输出：0\n",
    "``` \n",
    "\n",
    "**提示：**\n",
    "```\n",
    "n == nums.length\n",
    "1 <= n <= 5000\n",
    "-5000 <= nums[i] <= 5000\n",
    "nums 原来是一个升序排序的数组，并进行了 1 至 n 次旋转\n",
    "```\n",
    "\n",
    "**进阶：**\n",
    "\n",
    "这道题是 寻找旋转排序数组中的最小值 的延伸题目。\n",
    "\n",
    "允许重复会影响算法的时间复杂度吗？会如何影响，为什么？\n"
   ]
  },
  {
   "cell_type": "markdown",
   "id": "driving-pursuit",
   "metadata": {},
   "source": [
    "旋转排序数组 `nums` 可以被拆分为 2 个排序数组 `nums1` , `nums2` ，并且 `nums1`任一元素 >= `nums2`任一元素；\n",
    "\n",
    "因此，考虑二分法寻找此两数组的分界点 `nums[i]` (即第 2 个数组的首个元素)。\n",
    "\n",
    "设置 `left`, `right` 指针在 `nums` 数组两端，`mid` 为每次二分的中点：\n",
    "\n",
    "- 当 `nums[mid] > nums[right]`时，`mid` 一定在第 1 个排序数组中，`i` 一定满足 `mid < i <= right`，因此执行 `left = mid + 1`；\n",
    "- 当 `nums[mid] < nums[right]` 时，`mid` 一定在第 2 个排序数组中，`i` 一定满足 `left < i <= mid`，因此执行 `right = mid`；\n",
    "- 当 `nums[mid] == nums[right]` 时，是此题的难点（原因是此题中数组的元素可重复，难以判断分界点 `i` 指针区间）；\n",
    "\n",
    "例如 [1, 0, 1, 1, 1][1,0,1,1,1] 和 [1, 1, 1, 0, 1][1,1,1,0,1] ，在 left = 0, right = 4, mid = 2 时，无法判断 midmid 在哪个排序数组中。\n",
    "\n",
    "我们采用 right = right - 1 解决此问题，证明：\n",
    "\n",
    "- 此操作不会使数组越界：因为迭代条件保证了 right > left >= 0；\n",
    "- 此操作不会使最小值丢失：假设 `nums[right]` 是最小值，有两种情况：\n",
    "  - 若 `nums[right]` 是唯一最小值：那就不可能满足判断条件 `nums[mid] == nums[right]`，因为 `mid < right`（left != right 且 mid = (left + right) // 2 向下取整）；\n",
    "  - 若 `nums[right]` 不是唯一最小值，由于 `mid < right` 而 `nums[mid] == nums[right]`，即还有最小值存在于 `[left, right - 1]` 区间，因此不会丢失最小值。\n"
   ]
  },
  {
   "cell_type": "code",
   "execution_count": null,
   "id": "sharp-float",
   "metadata": {},
   "outputs": [],
   "source": [
    "class Solution:\n",
    "    def findMin(self, nums: List[int]) -> int:\n",
    "        left, right = 0, len(nums) - 1\n",
    "        while left < right:\n",
    "            mid = (left + right) // 2\n",
    "            if nums[mid] < nums[right]:\n",
    "                right = mid\n",
    "            elif nums[mid] > nums[right]:\n",
    "                left = mid + 1\n",
    "            else:\n",
    "                right -= 1\n",
    "        return nums[left]"
   ]
  },
  {
   "cell_type": "markdown",
   "id": "american-mountain",
   "metadata": {},
   "source": [
    "## 263. 丑数\n",
    "给你一个整数 n ，请你判断 n 是否为 丑数 。如果是，返回 true ；否则，返回 false 。\n",
    "\n",
    "丑数 就是只包含质因数 2、3 和/或 5 的正整数。\n",
    "\n",
    "\n",
    "示例 1：\n",
    "```\n",
    "输入：n = 6\n",
    "输出：true\n",
    "解释：6 = 2 × 3\n",
    "```\n",
    "示例 2：\n",
    "```\n",
    "输入：n = 8\n",
    "输出：true\n",
    "解释：8 = 2 × 2 × 2\n",
    "```\n",
    "示例 3：\n",
    "```\n",
    "输入：n = 14\n",
    "输出：false\n",
    "解释：14 不是丑数，因为它包含了另外一个质因数 7 。\n",
    "```\n",
    "示例 4：\n",
    "```\n",
    "输入：n = 1\n",
    "输出：true\n",
    "解释：1 通常被视为丑数。\n",
    "```"
   ]
  },
  {
   "cell_type": "code",
   "execution_count": 5,
   "id": "incoming-grass",
   "metadata": {},
   "outputs": [],
   "source": [
    "class Solution:\n",
    "    def isUgly(self, n: int) -> bool:\n",
    "        if n == 0:\n",
    "            return False\n",
    "        if n == 1:\n",
    "            return True\n",
    "        if n % 2 == 0:\n",
    "            return self.isUgly(n/2)\n",
    "        if n % 3 == 0:\n",
    "            return self.isUgly(n/3)\n",
    "        if n % 5 == 0:\n",
    "            return self.isUgly(n/5)\n",
    "        return False"
   ]
  },
  {
   "cell_type": "code",
   "execution_count": 8,
   "id": "instant-manual",
   "metadata": {},
   "outputs": [
    {
     "name": "stdout",
     "output_type": "stream",
     "text": [
      "False\n"
     ]
    }
   ],
   "source": [
    "ss = Solution()\n",
    "n =14\n",
    "res = ss.isUgly(n)\n",
    "print(res)"
   ]
  },
  {
   "cell_type": "markdown",
   "id": "backed-bishop",
   "metadata": {},
   "source": [
    "## 264. 丑数 II\n",
    "给你一个整数 n ，请你找出并返回第 n 个 丑数 。\n",
    "\n",
    "丑数 就是只包含质因数 2、3 和/或 5 的正整数。\n",
    "\n",
    "示例 1：\n",
    "```\n",
    "输入：n = 10\n",
    "输出：12\n",
    "解释：[1, 2, 3, 4, 5, 6, 8, 9, 10, 12] 是由前 10 个丑数组成的序列。\n",
    "```\n",
    "示例 2：\n",
    "```\n",
    "输入：n = 1\n",
    "输出：1\n",
    "解释：1 通常被视为丑数。\n",
    " ```\n",
    "\n",
    "提示：\n",
    "```\n",
    "1 <= n <= 1690\n",
    "```"
   ]
  },
  {
   "cell_type": "markdown",
   "id": "coordinate-merit",
   "metadata": {},
   "source": [
    "### 方法一：最小堆\n",
    "要得到从小到大的第 nn 个丑数，可以使用最小堆实现。\n",
    "\n",
    "初始时堆为空。首先将最小的丑数 11 加入堆。\n",
    "\n",
    "每次取出堆顶元素 x，则 x 是堆中最小的丑数，由于 $2x, 3x, 5x$ 也是丑数，因此将 $2x, 3x, 5x$ 加入堆。\n",
    "\n",
    "上述做法会导致堆中出现重复元素的情况。为了避免重复元素，可以使用哈希集合去重，避免相同元素多次加入堆。\n",
    "\n",
    "在排除重复元素的情况下，第 $n$ 次从最小堆中取出的元素即为第 $n$ 个丑数。\n"
   ]
  },
  {
   "cell_type": "markdown",
   "id": "steady-chaos",
   "metadata": {},
   "source": [
    "**复杂度分析**\n",
    "\n",
    "时间复杂度：$O(n \\log n)$. 得到第 $n$ 个丑数需要进行 $n$ 次循环，每次循环都要从最小堆中取出 $1$ 个元素以及向最小堆中加入最多 $3$ 个元素，因此每次循环的时间复杂度是 $O(\\log n+\\log 3n)=O(\\log n)$, 总时间复杂度是 $O(n \\log n)$.\n",
    "\n",
    "空间复杂度：$O(n)$。空间复杂度主要取决于最小堆和哈希集合的大小，最小堆和哈希集合的大小都不会超过 $3n$。\n"
   ]
  },
  {
   "cell_type": "code",
   "execution_count": 25,
   "id": "pleased-klein",
   "metadata": {},
   "outputs": [],
   "source": [
    "import heapq\n",
    "class Solution:\n",
    "    def nthUglyNumber(self, n: int) -> int:\n",
    "        factors = [2,3,5]\n",
    "        seen = {1}\n",
    "        heap = [1]\n",
    "        \n",
    "        for i in range(n-1):\n",
    "            n = heapq.heappop(heap)\n",
    "            for j in factors:\n",
    "                if (num := j*n) not in seen:\n",
    "                    seen.add(num)\n",
    "                    heapq.heappush(heap,num)\n",
    "        return heapq.heappop(heap)"
   ]
  },
  {
   "attachments": {
    "image.png": {
     "image/png": "[encoded data removed]"
    }
   },
   "cell_type": "markdown",
   "id": "natural-helena",
   "metadata": {},
   "source": [
    "![image.png](attachment:image.png)"
   ]
  },
  {
   "cell_type": "code",
   "execution_count": 27,
   "id": "empirical-companion",
   "metadata": {},
   "outputs": [],
   "source": [
    "class Solution:\n",
    "    def nthUglyNumber(self, n: int) -> int:\n",
    "        dp = [0] * (n+1)\n",
    "        p2, p3, p5 = 1,1,1\n",
    "        dp[1] = 1\n",
    "        for i in range(2,n+1):\n",
    "            num2, num3, num5 = dp[p2]*2, dp[p3]*3, dp[p5]*5\n",
    "            nxt = min(num2, num3, num5)\n",
    "            if nxt == num2:\n",
    "                p2 += 1\n",
    "            if nxt == num3:\n",
    "                p3 += 1\n",
    "            if nxt == num5:\n",
    "                p5 += 1\n",
    "            dp[i] = nxt\n",
    "        return dp[n]"
   ]
  },
  {
   "cell_type": "code",
   "execution_count": 28,
   "id": "thorough-alberta",
   "metadata": {},
   "outputs": [
    {
     "name": "stdout",
     "output_type": "stream",
     "text": [
      "186624\n"
     ]
    }
   ],
   "source": [
    "ss = Solution()\n",
    "nums = 359\n",
    "res = ss.nthUglyNumber(nums)\n",
    "print(res)"
   ]
  },
  {
   "cell_type": "markdown",
   "id": "continued-memphis",
   "metadata": {},
   "source": [
    "## 179. Maximum Number\n",
    "\n",
    "给定一组非负整数 nums，重新排列每个数的顺序（每个数不可拆分）使之组成一个最大的整数。\n",
    "\n",
    "注意：输出结果可能非常大，所以你需要返回一个字符串而不是整数。\n",
    "\n",
    "示例 1：\n",
    "```\n",
    "输入：nums = [10,2]\n",
    "输出：\"210\"\n",
    "```\n",
    "示例 2：\n",
    "```\n",
    "输入：nums = [3,30,34,5,9]\n",
    "输出：\"9534330\"\n",
    "```\n",
    "示例 3：\n",
    "```\n",
    "输入：nums = [1]\n",
    "输出：\"1\"\n",
    "```\n",
    "示例 4：\n",
    "```\n",
    "输入：nums = [10]\n",
    "输出：\"10\"\n",
    "```\n",
    "\n",
    "提示：\n",
    "```\n",
    "1 <= nums.length <= 100\n",
    "0 <= nums[i] <= 109\n",
    "```"
   ]
  },
  {
   "cell_type": "code",
   "execution_count": 1,
   "id": "deadly-sewing",
   "metadata": {},
   "outputs": [],
   "source": [
    "from typing import List\n",
    "import functools\n",
    "\n",
    "class Solution:\n",
    "     #先把nums中的所有数字转化为字符串，形成字符串数组 nums_str\n",
    "    #比较两个字符串x,y的拼接结果x+y和y+x哪个更大，从而确定x和y谁排在前面；将nums_str降序排序\n",
    "    #把整个数组排序的结果拼接成一个字符串，并且返回\n",
    "    def largestNumber(self, nums: List[int]) -> str:\n",
    "        nums_str=list(map(str,nums))\n",
    "        compare=lambda x,y: 1 if x+y<y+x else -1\n",
    "        nums_str.sort(key=functools.cmp_to_key(compare))\n",
    "        res=''.join(nums_str)\n",
    "        if res[0]=='0':\n",
    "            res='0'\n",
    "        return res"
   ]
  },
  {
   "cell_type": "code",
   "execution_count": null,
   "id": "dental-judge",
   "metadata": {},
   "outputs": [],
   "source": [
    "ss = Solution()\n",
    "nums = [111311, 1113]\n",
    "res = ss.largestNumber(nums)\n",
    "print(res)"
   ]
  }
 ],
 "metadata": {
  "kernelspec": {
   "display_name": "Python 3.8.5 64-bit",
   "language": "python",
   "name": "python38564bit21010f3a0af3487da006a510d8fc9309"
  },
  "language_info": {
   "codemirror_mode": {
    "name": "ipython",
    "version": 3
   },
   "file_extension": ".py",
   "mimetype": "text/x-python",
   "name": "python",
   "nbconvert_exporter": "python",
   "pygments_lexer": "ipython3",
   "version": "3.8.5"
  }
 },
 "nbformat": 4,
 "nbformat_minor": 5
}
