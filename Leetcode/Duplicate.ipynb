{
 "cells": [
  {
   "cell_type": "markdown",
   "id": "naughty-example",
   "metadata": {},
   "source": [
    "## 219. 存在重复元素 II\n",
    "给定一个整数数组和一个整数 k，判断数组中是否存在两个不同的索引 i 和 j，使得 nums [i] = nums [j]，并且 i 和 j 的差的 绝对值 至多为 k。\n",
    "\n",
    "示例 1:\n",
    "```\n",
    "输入: nums = [1,2,3,1], k = 3\n",
    "输出: true\n",
    "```\n",
    "示例 2:\n",
    "```\n",
    "输入: nums = [1,0,1,1], k = 1\n",
    "输出: true\n",
    "```\n",
    "示例 3:\n",
    "```\n",
    "输入: nums = [1,2,3,1,2,3], k = 2\n",
    "输出: false\n",
    "````"
   ]
  },
  {
   "cell_type": "markdown",
   "id": "intelligent-columbia",
   "metadata": {},
   "source": [
    "### 标签：哈希\n",
    "维护一个哈希表，里面始终最多包含 k 个元素，当出现重复值时则说明在 k 距离内存在重复元素\n",
    "\n",
    "每次遍历一个元素则将其加入哈希表中，如果哈希表的大小大于 k，则移除最前面的数字\n",
    "\n",
    "时间复杂度：$O(n)$，$n$ 为数组长度\n",
    "\n",
    "空间复杂度：$O(\\min(n, k))$\n",
    "\n",
    "开辟的额外空间取决于散列表中存储的元素的个数，也就是滑动窗口的大小 $O(\\min(n,k))$。\n",
    "\n"
   ]
  },
  {
   "cell_type": "code",
   "execution_count": 36,
   "id": "standing-johnson",
   "metadata": {},
   "outputs": [],
   "source": [
    "from typing import List\n",
    "\n",
    "class Solution:\n",
    "    def containsNearbyDuplicate(self, nums: List[int], k: int) -> bool:\n",
    "        hash_num = {}\n",
    "        for i in range(len(nums)):\n",
    "            if len(list(hash_num.keys())) > k:\n",
    "                hash_num.pop(list(hash_num.keys())[0])\n",
    "            if nums[i] in list(hash_num.values()):\n",
    "                return True\n",
    "            hash_num[i] = nums[i]\n",
    "        return False\n",
    "                    "
   ]
  },
  {
   "cell_type": "code",
   "execution_count": 38,
   "id": "suspended-chassis",
   "metadata": {},
   "outputs": [],
   "source": [
    "from typing import List\n",
    "\n",
    "class Solution:\n",
    "    def containsNearbyDuplicate(self, nums: List[int], k: int) -> bool:\n",
    "        arr = {}\n",
    "        for i in range(len(nums)):\n",
    "            if nums[i] in arr and i - arr[nums[i]] <= k: return True\n",
    "            arr[nums[i]] = i\n",
    "        return False"
   ]
  },
  {
   "cell_type": "code",
   "execution_count": 39,
   "id": "innovative-guess",
   "metadata": {},
   "outputs": [
    {
     "name": "stdout",
     "output_type": "stream",
     "text": [
      "True\n"
     ]
    }
   ],
   "source": [
    "ss = Solution()\n",
    "res = ss.containsNearbyDuplicate(nums=[1,0,1,1], k=1)\n",
    "print(res)"
   ]
  },
  {
   "cell_type": "markdown",
   "id": "dedicated-munich",
   "metadata": {},
   "source": [
    "## 220. 存在重复元素 III\n",
    "\n",
    "给你一个整数数组 `nums` 和两个整数 `k` 和 `t` 。请你判断是否存在 两个不同下标 `i` 和 `j`，使得 `abs(nums[i] - nums[j]) <= t` ，同时又满足 `abs(i - j) <= k` \n",
    "\n",
    "如果存在则返回 true，不存在返回 false。\n",
    "\n",
    " \n",
    "\n",
    "示例 1：\n",
    "```\n",
    "输入：nums = [1,2,3,1], k = 3, t = 0\n",
    "输出：true\n",
    "```\n",
    "示例 2：\n",
    "```\n",
    "输入：nums = [1,0,1,1], k = 1, t = 2\n",
    "输出：true\n",
    "```\n",
    "示例 3：\n",
    "```\n",
    "输入：nums = [1,5,9,1,5,9], k = 2, t = 3\n",
    "输出：false\n",
    "``` \n",
    "\n",
    "提示：\n",
    "```\n",
    "0 <= nums.length <= 2 * 104\n",
    "-231 <= nums[i] <= 231 - 1\n",
    "0 <= k <= 104\n",
    "0 <= t <= 231 - 1\n",
    "```"
   ]
  },
  {
   "cell_type": "markdown",
   "id": "russian-wilson",
   "metadata": {},
   "source": [
    "### 滑动窗口 & 二分\n",
    "根据题意，对于任意一个位置 i（假设其值为 u），我们其实是希望在下标范围为 `[max(0, i - k)` 内找到值范围在 `[u - t, u + t]` 的数。\n",
    "\n",
    "朴素的想法: 每次遍历到任意位置 i 的时候，往后检查 k 个元素，但复杂度是 $O(nk)$ 的，会超时。\n",
    "\n",
    "显然我们需要优化「检查后面 k 个元素」这一过程。\n",
    "\n",
    "我们希望使用一个「有序集合」去维护长度为 k 的滑动窗口内的数，该数据结构最好支持高效「查询」与「插入/删除」操作：\n",
    "\n",
    "- 查询：能够在「有序集合」中应用「二分查找」，快速找到「小于等于 uu 的最大值」和「大于等于 u 的最小值」（即「有序集合」中的最接近 u 的数）。\n",
    "- 插入/删除：在往「有序集合」添加或删除元素时，能够在低于线性的复杂度内完成（维持有序特性）。\n",
    "\n",
    "HashMap 无法很好的支持「范围查询」操作:我们需要找的是符合 $abs(nums[i], nums[j]) \\leqslant tabs(nums[i],nums[j])⩽t$ 的两个值，`nums[i]` 与 `nums[j]` 并不一定相等，而 \n",
    "\n",
    "#### 『树』结构。\n",
    "\n",
    "例如 AVL，能够让我们在最坏为 $O(\\log{k})$ 的复杂度内取得到最接近 u 的值是多少，但本题除了「查询」以外，还涉及频繁的「插入/删除」操作（**随着我们遍历 nums 的元素，滑动窗口不断右移，我们需要不断的往「有序集合」中删除和添加元素**）。\n",
    "\n",
    "简单采用 AVL 树，会导致每次的插入删除操作都触发 AVL 的平衡调整，一次平衡调整会伴随着若干次的旋转。\n",
    "\n",
    "而红黑树则很好解决了上述问题：将平衡调整引发的旋转的次数从「若干次」限制到「最多三次」。\n",
    "\n",
    "因此，当「查询」动作和「插入/删除」动作频率相当时，更好的选择是使用「红黑树」。\n"
   ]
  },
  {
   "cell_type": "code",
   "execution_count": 43,
   "id": "demonstrated-recording",
   "metadata": {},
   "outputs": [],
   "source": [
    "from sortedcontainers import SortedList\n",
    "from typing import List\n",
    "import bisect\n",
    "\n",
    "class Solution:\n",
    "    def containsNearbyAlmostDuplicate(self, nums: List[int], k: int, t: int) -> bool:\n",
    "        window = SortedList()\n",
    "        for i in range(len(nums)):\n",
    "            # len(window) == k\n",
    "            if i > k:\n",
    "                window.remove[i - k - 1]\n",
    "            window.add(nums[i])\n",
    "            idx = bisect.bisect_left(window, nums[i])\n",
    "            if idx > 0 and abs(window[idx] - window[idx-1]) <= t:\n",
    "                return True\n",
    "            if idx < len(window) - 1 and abs(window[idx+1] - window[i]) <= t:\n",
    "                return True\n",
    "        return False"
   ]
  },
  {
   "cell_type": "code",
   "execution_count": 44,
   "id": "greatest-delaware",
   "metadata": {},
   "outputs": [
    {
     "name": "stdout",
     "output_type": "stream",
     "text": [
      "False\n"
     ]
    }
   ],
   "source": [
    "ss = Solution()\n",
    "res = ss.containsNearbyAlmostDuplicate(nums=[1,2,3,1], k = 3, t = 0)\n",
    "print(res)"
   ]
  },
  {
   "cell_type": "markdown",
   "id": "minus-bracket",
   "metadata": {},
   "source": [
    "- 时间复杂度：TreeSet 基于红黑树，查找和插入都是 $O(\\log{k})$ 复杂度。整体复杂度为 $O(n\\log{k})$\n",
    "- 空间复杂度：$O(k)$\n"
   ]
  },
  {
   "cell_type": "markdown",
   "id": "talented-saturn",
   "metadata": {},
   "source": [
    "## 80. 删除有序数组中的重复项 II\n",
    "给你一个有序数组 nums ，请你 原地 删除重复出现的元素，使每个元素 最多出现两次 ，返回删除后数组的新长度。\n",
    "\n",
    "不要使用额外的数组空间，你必须在 原地 修改输入数组 并在使用 O(1) 额外空间的条件下完成。\n",
    "\n",
    "\n",
    "说明：\n",
    "\n",
    "为什么返回数值是整数，但输出的答案是数组呢？\n",
    "\n",
    "请注意，输入数组是以「**引用**」方式传递的，这意味着在函数里修改输入数组对于调用者是可见的。\n",
    "\n",
    "你可以想象内部操作如下:\n",
    "```\n",
    "// nums 是以“引用”方式传递的。也就是说，不对实参做任何拷贝\n",
    "int len = removeDuplicates(nums);\n",
    "\n",
    "// 在函数里修改输入数组对于调用者是可见的。\n",
    "// 根据你的函数返回的长度, 它会打印出数组中 该长度范围内 的所有元素。\n",
    "for (int i = 0; i < len; i++) {\n",
    "    print(nums[i]);\n",
    "}\n",
    "```\n",
    "\n",
    "示例 1：\n",
    "```\n",
    "输入：nums = [1,1,1,2,2,3]\n",
    "输出：5, nums = [1,1,2,2,3]\n",
    "解释：函数应返回新长度 length = 5, 并且原数组的前五个元素被修改为 1, 1, 2, 2, 3 。 不需要考虑数组中超出新长度后面的元素。\n",
    "```\n",
    "示例 2：\n",
    "```\n",
    "输入：nums = [0,0,1,1,1,1,2,3,3]\n",
    "输出：7, nums = [0,0,1,1,2,3,3]\n",
    "解释：函数应返回新长度 length = 7, 并且原数组的前五个元素被修改为 0, 0, 1, 1, 2, 3, 3 。 不需要考虑数组中超出新长度后面的元素。\n",
    "```\n",
    "\n",
    "提示：\n",
    "```\n",
    "1 <= nums.length <= 3 * 104\n",
    "-104 <= nums[i] <= 104\n",
    "nums 已按升序排列\n",
    "```"
   ]
  },
  {
   "cell_type": "markdown",
   "id": "asian-dryer",
   "metadata": {},
   "source": [
    "### 通用解法\n",
    "将原问题的「保留 2 位」修改为「保留 k 位」\n",
    "\n",
    "- 由于是保留 k 个相同数字，对于前 k 个数字，我们可以直接保留\n",
    "- 对于后面的任意数字，能够保留的前提是：与当前写入的位置前面的第 k 个元素进行比较，不相同则保留\n",
    "\n",
    "我们令 k=2，假设有如下样例\n",
    "```\n",
    "[1,1,1,1,1,1,2,2,2,2,2,2,3]\n",
    "```\n",
    "- 首先我们先让前 2 位直接保留，得到 1,1\n",
    "- 对后面的每一位进行继续遍历，能够保留的前提是与当前位置的前面 k 个元素不同（答案中的第一个 1），因此我们会跳过剩余的 1，将第一个 2 追加，得到 1,1,2\n",
    "- 继续这个过程，这时候是和答案中的第 2 个 1 进行对比，因此可以得到 1,1,2,2\n",
    "- 这时候和答案中的第 1 个 2 比较，只有与其不同的元素能追加到答案，因此剩余的 2 被跳过，3 被追加到答案：1,1,2,2,3\n"
   ]
  },
  {
   "cell_type": "code",
   "execution_count": 7,
   "id": "quick-island",
   "metadata": {},
   "outputs": [],
   "source": [
    "from typing import List\n",
    "\n",
    "class Solution:\n",
    "    def removeDuplicates(self, nums: List[int]) -> int:\n",
    "        def solve(k):\n",
    "            u = 0\n",
    "            for x in nums:\n",
    "                if u < k or nums[u-k] != x:\n",
    "                    nums[u] = x\n",
    "                    u += 1\n",
    "            return u\n",
    "        return solve(2)"
   ]
  },
  {
   "cell_type": "code",
   "execution_count": 8,
   "id": "convinced-humidity",
   "metadata": {},
   "outputs": [
    {
     "name": "stdout",
     "output_type": "stream",
     "text": [
      "5\n",
      "7\n"
     ]
    }
   ],
   "source": [
    "ss = Solution()\n",
    "nums = [1,1,1,2,2,3]\n",
    "res = ss.removeDuplicates(nums)\n",
    "nums2 = [0,0,1,1,2,3,3]\n",
    "res2 = ss.removeDuplicates(nums2)\n",
    "print(res)\n",
    "print(res2)"
   ]
  },
  {
   "cell_type": "markdown",
   "id": "regulated-blast",
   "metadata": {},
   "source": [
    "## 27. 移除元素\n",
    "- 给你一个数组 nums 和一个值 val，你需要 原地 移除所有数值等于 val 的元素，并返回移除后数组的新长度。\n",
    "- 不要使用额外的数组空间，你必须仅使用 $O(1)$ 额外空间并 原地 修改输入数组。\n",
    "- 元素的顺序可以改变。你不需要考虑数组中超出新长度后面的元素。\n",
    "\n",
    " \n",
    "\n",
    "说明:\n",
    "- 为什么返回数值是整数，但输出的答案是数组呢?\n",
    "- 请注意，输入数组是以「引用」方式传递的，这意味着在函数里修改输入数组对于调用者是可见的。\n",
    "\n",
    "你可以想象内部操作如下:\n",
    "```\n",
    "// nums 是以“引用”方式传递的。也就是说，不对实参作任何拷贝\n",
    "int len = removeElement(nums, val);\n",
    "\n",
    "// 在函数里修改输入数组对于调用者是可见的。\n",
    "// 根据你的函数返回的长度, 它会打印出数组中 该长度范围内 的所有元素。\n",
    "for (int i = 0; i < len; i++) {\n",
    "    print(nums[i]);\n",
    "}\n",
    "``` \n",
    "\n",
    "示例 1：\n",
    "```\n",
    "输入：nums = [3,2,2,3], val = 3\n",
    "输出：2, nums = [2,2]\n",
    "解释：函数应该返回新的长度 2, 并且 nums 中的前两个元素均为 2。你不需要考虑数组中超出新长度后面的元素。例如，函数返回的新长度为 2 ，而 nums = [2,2,3,3] 或 nums = [2,2,0,0]，也会被视作正确答案。\n",
    "```\n",
    "示例 2：\n",
    "```\n",
    "输入：nums = [0,1,2,2,3,0,4,2], val = 2\n",
    "输出：5, nums = [0,1,4,0,3]\n",
    "解释：函数应该返回新的长度 5, 并且 nums 中的前五个元素为 0, 1, 3, 0, 4。注意这五个元素可为任意顺序。你不需要考虑数组中超出新长度后面的元素。\n",
    " ```\n",
    "\n",
    "提示：\n",
    "```\n",
    "0 <= nums.length <= 100\n",
    "0 <= nums[i] <= 50\n",
    "0 <= val <= 100\n",
    "```"
   ]
  },
  {
   "cell_type": "code",
   "execution_count": 10,
   "id": "deluxe-theta",
   "metadata": {},
   "outputs": [],
   "source": [
    "from typing import List\n",
    "\n",
    "class Solution:\n",
    "    def removeElement(self, nums: List[int], val: int) -> int:\n",
    "        u = 0\n",
    "        for x in nums:\n",
    "            if x != val:\n",
    "                nums[u] = x\n",
    "                u += 1\n",
    "        return u\n",
    "            "
   ]
  },
  {
   "cell_type": "code",
   "execution_count": 12,
   "id": "falling-protocol",
   "metadata": {},
   "outputs": [
    {
     "name": "stdout",
     "output_type": "stream",
     "text": [
      "2\n"
     ]
    }
   ],
   "source": [
    "ss = Solution()\n",
    "res = ss.removeElement(nums = [3,2,2,3], val = 3)\n",
    "print(res)"
   ]
  },
  {
   "cell_type": "markdown",
   "id": "dutch-local",
   "metadata": {},
   "source": [
    "## 395. 至少有 K 个重复字符的最长子串\n",
    "\n",
    "给你一个字符串 s 和一个整数 k ，请你找出 s 中的最长子串， 要求该子串中的每一字符出现次数都不少于 k 。返回这一子串的长度。\n",
    "\n",
    " \n",
    "\n",
    "示例 1：\n",
    "```\n",
    "输入：s = \"aaabb\", k = 3\n",
    "输出：3\n",
    "解释：最长子串为 \"aaa\" ，其中 'a' 重复了 3 次。\n",
    "```\n",
    "\n",
    "示例 2：\n",
    "```\n",
    "输入：s = \"ababbc\", k = 2\n",
    "输出：5\n",
    "解释：最长子串为 \"ababb\" ，其中 'a' 重复了 2 次， 'b' 重复了 3 次。\n",
    " ```\n",
    "\n",
    "提示：\n",
    "\n",
    "- 1 <= s.length <= 104\n",
    "- s 仅由小写英文字母组成\n",
    "- 1 <= k <= 105"
   ]
  },
  {
   "cell_type": "markdown",
   "id": "median-mission",
   "metadata": {},
   "source": [
    "### 解题思路\n",
    "\n",
    "#### 递归\n",
    "**重点：我们在调用递归函数的时候，把递归函数当做普通函数（黑箱）来调用，即明白该函数的输入输出是什么，而不用管此函数内部在做什么。**\n",
    "\n",
    "1. 递归最基本的是**记住递归函数的含义**：本题的 `longestSubstring(s, k)` 函数表示的就是题意\n",
    "  - 函数入参 $s$ 是表示源字符串；$k$ 是子字符串中每个字符最少出现的次数；\n",
    "  - 函数返回结果是满足题意的最长子字符串长度。\n",
    "\n",
    "2. 递归的**终止条件**（能直接写出的最简单 case）：如果字符串 $s$ 的长度少于 $k$，那么一定不存在满足题意的子字符串，返回 0；\n",
    "\n",
    "3. **调用递归（重点）**：如果一个字符 $c$ 在 $s$ 中出现的次数少于 $k$ 次，那么 $s$ 中所有的包含 $c$ 的子字符串都不能满足题意。\n",
    "\n",
    " - 首先，应该在 $s$ 的所有不包含 $c$ 的子字符串中继续寻找结果：把 $s$ 按照 $c$ 分割（分割后每个子串都不包含 $c$），得到很多子字符串 $t$；\n",
    " - 下一步，$t$ 作为源字符串的时候，我们把大问题分割为了小问题($s$ → $t$)。此时我们发现，恰好已经定义了函数 `longestSubstring(s, k)` ; 所以直接调用 `longestSubstring(s, k)`，形成递归。\n",
    "\n",
    "4. 未进入递归时的返回结果：如果 $s$ 中的每个字符出现的次数都大于 $k$ 次，那么 $s$ 就是我们要求的字符串，直接返回该字符串的长度。\n"
   ]
  },
  {
   "cell_type": "code",
   "execution_count": 5,
   "id": "absent-vegetation",
   "metadata": {},
   "outputs": [],
   "source": [
    "from typing import List\n",
    "\n",
    "class Solution:\n",
    "    def longestSubstring(self, s: str, k: int) -> int:\n",
    "        if len(s) < k: return 0\n",
    "        for c in set(s):\n",
    "            if s.count(c) < k:\n",
    "                return max(self.longestSubstring(t, k) for t in s.split(c))\n",
    "        return len(s)"
   ]
  },
  {
   "cell_type": "code",
   "execution_count": 8,
   "id": "tamil-perspective",
   "metadata": {},
   "outputs": [
    {
     "name": "stdout",
     "output_type": "stream",
     "text": [
      "3\n",
      "5\n"
     ]
    }
   ],
   "source": [
    "s1, s2 = \"aaabb\", \"ababbc\"\n",
    "k1, k2 = 3, 2\n",
    "ss = Solution()\n",
    "o1 = ss.longestSubstring(s1, k1)\n",
    "o2 = ss.longestSubstring(s2, k2)\n",
    "print(o1)\n",
    "print(o2)"
   ]
  },
  {
   "cell_type": "code",
   "execution_count": null,
   "id": "editorial-commander",
   "metadata": {},
   "outputs": [],
   "source": []
  }
 ],
 "metadata": {
  "kernelspec": {
   "display_name": "Python 3",
   "language": "python",
   "name": "python3"
  },
  "language_info": {
   "codemirror_mode": {
    "name": "ipython",
    "version": 3
   },
   "file_extension": ".py",
   "mimetype": "text/x-python",
   "name": "python",
   "nbconvert_exporter": "python",
   "pygments_lexer": "ipython3",
   "version": "3.8.5"
  }
 },
 "nbformat": 4,
 "nbformat_minor": 5
}
