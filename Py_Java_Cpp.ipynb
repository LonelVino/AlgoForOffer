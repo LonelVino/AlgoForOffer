{
 "cells": [
  {
   "cell_type": "markdown",
   "id": "liberal-minimum",
   "metadata": {},
   "source": [
    "## 数字颠倒\n",
    "输入一个整数，将这个整数以字符串的形式逆序输出\n",
    "程序不考虑负数的情况，若数字含有0，则逆序形式也含有0，如输入为100，则输出为001\n",
    "\n",
    "\n",
    "输入描述:\n",
    "输入一个int整数\n",
    "\n",
    "输出描述:\n",
    "将这个整数以字符串的形式逆序输出\n",
    "\n",
    "示例1\n",
    "```\n",
    "输入\n",
    "1516000\n",
    "\n",
    "输出\n",
    "0006151\n",
    "```"
   ]
  },
  {
   "cell_type": "code",
   "execution_count": 1,
   "id": "presidential-merit",
   "metadata": {},
   "outputs": [
    {
     "name": "stdout",
     "output_type": "stream",
     "text": [
      "11000\n",
      "00011\n"
     ]
    }
   ],
   "source": [
    "num = input() \n",
    "num = [i for i in num] \n",
    "num.reverse() \n",
    "num = ''.join(num) \n",
    "print(num)"
   ]
  },
  {
   "cell_type": "markdown",
   "id": "opposed-battery",
   "metadata": {},
   "source": [
    "### Cpp Version\n",
    "\n",
    "```cpp\n",
    "#include <bits/stdc++.h>\n",
    "using namespace std;\n",
    "int main() {\n",
    "    int nums;\n",
    "    cin >> nums;\n",
    "    string str = to_string(nums);\n",
    "    reverse(str.begin(), str.end());\n",
    "    cout << nums;\n",
    "    return 0;\n",
    "}\n",
    "```\n",
    "```cpp\n",
    "#include <iostream>\n",
    "int main() {\n",
    "    int n;\n",
    "    cin >> n;\n",
    "    while (n > 0) {\n",
    "        cout << n%10;\n",
    "        n /= 10;\n",
    "    }\n",
    "    return 0;\n",
    "}\n",
    "```"
   ]
  },
  {
   "cell_type": "markdown",
   "id": "juvenile-protocol",
   "metadata": {},
   "source": [
    "### Java\n",
    "\n",
    "```java\n",
    "import java.util.*;\n",
    "public class Main {\n",
    "    public static void main(String[] args) {\n",
    "        Scanner in = new Scanner(System.in);\n",
    "        String str = in.nextLine();\n",
    "        StringBuffer rs = new StringBuffer(str);\n",
    "        rs.reverse();\n",
    "        System.out.printIn(rs);\n",
    "    }\n",
    "}\n",
    "```"
   ]
  },
  {
   "cell_type": "markdown",
   "id": "difficult-extreme",
   "metadata": {},
   "source": [
    "## 字符串反转\n",
    "\n",
    "题目描述\n",
    "接受一个只包含小写字母的字符串，然后输出该字符串反转后的字符串。（字符串长度不超过1000）\n",
    "\n",
    "输入描述:\n",
    "输入一行，为一个只包含小写字母的字符串。\n",
    "\n",
    "输出描述:\n",
    "输出该字符串反转后的字符串。\n",
    "\n",
    "示例1\n",
    "```\n",
    "输入\n",
    "abcd\n",
    "\n",
    "输出\n",
    "dcba\n",
    "```"
   ]
  },
  {
   "cell_type": "code",
   "execution_count": 5,
   "id": "tutorial-rwanda",
   "metadata": {},
   "outputs": [
    {
     "name": "stdout",
     "output_type": "stream",
     "text": [
      "123456\n",
      "654321\n"
     ]
    }
   ],
   "source": [
    "str1 = input()\n",
    "str1 = str1[::-1]\n",
    "print(str1)"
   ]
  },
  {
   "cell_type": "markdown",
   "id": "declared-platinum",
   "metadata": {},
   "source": [
    "### C++ Version\n",
    "\n",
    "```cpp\n",
    "#include <bits/stdc++.h>\n",
    "using namespace std;\n",
    "int main() {\n",
    "    string str;\n",
    "    cin >> str;\n",
    "    reverse(str.begin(), str.end());\n",
    "    cout << str;\n",
    "    return 0;\n",
    "}\n",
    "```\n",
    "\n",
    "### Java Version\n",
    "```java\n",
    "import java.util.*;\n",
    "public class Main {\n",
    "    public static void main(String[] args) {\n",
    "        Scanner in = new Scanner(System.in);\n",
    "        String str = in.nextLine();\n",
    "        StringBuffer rs = new StringBuffer(str);\n",
    "        rs.reverse();\n",
    "        System.out.println(rs);\n",
    "    }\n",
    "}\n",
    "```"
   ]
  },
  {
   "cell_type": "markdown",
   "id": "enormous-drawing",
   "metadata": {},
   "source": [
    "## 句子倒序\n",
    "将一个英文语句以单词为单位逆序排放。例如“I am a boy”，逆序排放后为“boy a am I”<br/>\n",
    "所有单词之间用一个空格隔开，语句中除了英文字母外，不再包含其他字符\n",
    "\n",
    "输入描述:\n",
    "输入一个英文语句，每个单词用空格隔开。保证输入只包含空格和字母。\n",
    "\n",
    "输出描述:\n",
    "得到逆序的句子\n",
    "\n",
    "示例1\n",
    "```\n",
    "输入\n",
    "I am a boy\n",
    "\n",
    "输出\n",
    "boy a am I\n",
    "```"
   ]
  },
  {
   "cell_type": "code",
   "execution_count": 6,
   "id": "outer-england",
   "metadata": {},
   "outputs": [
    {
     "name": "stdout",
     "output_type": "stream",
     "text": [
      " i am a boy\n",
      "yob a ma i \n"
     ]
    }
   ],
   "source": [
    "str1 = input()\n",
    "str1 = str1[::-1]\n",
    "print(str1)"
   ]
  },
  {
   "cell_type": "markdown",
   "id": "flexible-hobby",
   "metadata": {},
   "source": [
    "## 字符串的最后一个单词的长度\n",
    "\n",
    "计算字符串最后一个单词的长度，单词以空格隔开，字符串长度小于5000。\n",
    "\n",
    "输入描述:\n",
    "输入一行，代表要计算的字符串，非空，长度小于5000。\n",
    "\n",
    "输出描述:\n",
    "输出一个整数，表示输入字符串最后一个单词的长度。\n",
    "\n",
    "示例1\n",
    "```\n",
    "输入\n",
    "hello nowcoder\n",
    "\n",
    "输出\n",
    "8\n",
    "```\n",
    "说明\n",
    "```\n",
    "最后一个单词为nowcoder，长度为8\n",
    "```"
   ]
  },
  {
   "cell_type": "code",
   "execution_count": 3,
   "id": "english-promise",
   "metadata": {},
   "outputs": [
    {
     "name": "stdout",
     "output_type": "stream",
     "text": [
      "hello newcoder\n",
      "8\n"
     ]
    }
   ],
   "source": [
    "sentence = input()\n",
    "sen_list = sentence.split(' ')\n",
    "print(len(sen_list[-1]))"
   ]
  },
  {
   "cell_type": "markdown",
   "id": "narrative-surveillance",
   "metadata": {},
   "source": [
    "### Java_Version\n",
    "\n",
    "```java\n",
    "import java.util.*;\n",
    "public class Main {\n",
    "    public static int lengthOfLast(String str) {\n",
    "        String[] s = str.split(\" \");\n",
    "        return s[s.length-1].length();\n",
    "    }\n",
    "    public static void main(String[] args) {\n",
    "        Scanner scan = new Scanner(System.in);\n",
    "        while(scan.hasNext()) {\n",
    "            String str = scan.nextLine();\n",
    "            System.out.println(lengthOfLast(str));\n",
    "        }\n",
    "    }\n",
    "}\n",
    "```"
   ]
  },
  {
   "cell_type": "markdown",
   "id": "complicated-event",
   "metadata": {},
   "source": [
    "### C++ Version\n",
    "\n",
    "```cpp\n",
    "#include<iostream>\n",
    "#include<string>\n",
    "using namespace std;\n",
    "int main() {\n",
    "    string str;\n",
    "    while(cin>>str);\n",
    "    cout<<str.size()<<endl;\n",
    "    return 0;\n",
    "}\n",
    "```"
   ]
  },
  {
   "cell_type": "markdown",
   "id": "hundred-blame",
   "metadata": {},
   "source": [
    "##  计算某字母出现的次数\n",
    "\n",
    "写出一个程序，接受一个由字母、数字和空格组成的字符串，和一个字母，然后输出输入字符串中该字母的出现次数。不区分大小写，字符串长度小于500。\n",
    "\n",
    "输入描述:\n",
    "\n",
    "第一行输入一个由字母和数字以及空格组成的字符串，第二行输入一个字母。\n",
    "\n",
    "输出描述:\n",
    "\n",
    "输出输入字符串中含有该字符的个数。\n",
    "\n",
    "示例1\n",
    "```\n",
    "输入\n",
    "ABCabc\n",
    "A\n",
    "输出\n",
    "2\n",
    "```"
   ]
  },
  {
   "cell_type": "code",
   "execution_count": 69,
   "id": "beautiful-japan",
   "metadata": {},
   "outputs": [
    {
     "name": "stdout",
     "output_type": "stream",
     "text": [
      "ABCabc\n",
      "A\n",
      "65\n",
      "33 97 65\n",
      "34 98 66\n",
      "35 99 67\n",
      "65 129 97\n",
      "66 130 98\n",
      "67 131 99\n",
      "2\n"
     ]
    }
   ],
   "source": [
    "String = input()\n",
    "target = input()\n",
    "asc_tar = ord(target)\n",
    "res = 0\n",
    "for i in String:\n",
    "    if ord(i) == asc_tar or ord(i) - 32 == asc_tar or ord(i) + 32== asc_tar:\n",
    "       res += 1\n",
    "print(res)\n",
    "    "
   ]
  },
  {
   "cell_type": "markdown",
   "id": "protecting-russian",
   "metadata": {},
   "source": [
    "### Java Version\n",
    "\n",
    "```java\n",
    "import java.util.Scanner;\n",
    "public class Main{\n",
    "    public static void main(String[] args){\n",
    "        Scanner sc = new Scanner(System.in);\n",
    "        String str = sc.nextLine().toLowerCase();\n",
    "        char c = sc.nextLine().toLowerCase().charAt(0);\n",
    "        System.out.println(nums(str,c));\n",
    "    }\n",
    "\n",
    "    public static int nums(String str,char c){\n",
    "        int i = 0;\n",
    "        char[] chars = str.toCharArray();\n",
    "        for(char ch:chars){\n",
    "            if(c == ch ){\n",
    "                i++;\n",
    "            }\n",
    "        }\n",
    "        return i;\n",
    "    }\n",
    "}\n",
    "```"
   ]
  },
  {
   "cell_type": "markdown",
   "id": "directed-commercial",
   "metadata": {},
   "source": [
    "### C++ Version\n",
    "\n",
    "```cpp\n",
    "#include<iostream>\n",
    "#include<string>\n",
    "using namespace std;\n",
    "//!!!不区分大小写，所以进行ascll码+32一样也++\n",
    "int main()\n",
    "{\n",
    "    string str;\n",
    "    char s;\n",
    "    int count=0;\n",
    "    getline(cin, str);\n",
    "    cin>>s;\n",
    "    for(int i=0;i<str.size();i++)\n",
    "    {\n",
    "        if(str[i]==s) {\n",
    "            count++;\n",
    "        } \n",
    "        else if(str[i]+32==s) {\n",
    "            count++;\n",
    "        }\n",
    "        else if(str[i]-32==s) {\n",
    "            count++;\n",
    "        }\n",
    "    }\n",
    "    cout<<count<<endl;\n",
    "    return 0;  \n",
    "}\n",
    "```"
   ]
  }
 ],
 "metadata": {
  "kernelspec": {
   "display_name": "Python 3",
   "language": "python",
   "name": "python3"
  },
  "language_info": {
   "codemirror_mode": {
    "name": "ipython",
    "version": 3
   },
   "file_extension": ".py",
   "mimetype": "text/x-python",
   "name": "python",
   "nbconvert_exporter": "python",
   "pygments_lexer": "ipython3",
   "version": "3.8.5"
  }
 },
 "nbformat": 4,
 "nbformat_minor": 5
}
