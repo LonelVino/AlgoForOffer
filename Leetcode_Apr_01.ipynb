{
 "cells": [
  {
   "cell_type": "markdown",
   "id": "cardiac-binding",
   "metadata": {},
   "source": [
    "## 1143. 最长公共子序列\n",
    "给定两个字符串 text1 和 text2，返回这两个字符串的最长 公共子序列 的长度。如果不存在 公共子序列 ，返回 0 \n",
    "\n",
    "一个字符串的 子序列 是指这样一个新的字符串：它是由原字符串在不改变字符的相对顺序的情况下删除某些字符（也可以不删除任何字符）后组成的新字符串。\n",
    "\n",
    "例如，\"ace\" 是 \"abcde\" 的子序列，但 \"aec\" 不是 \"abcde\" 的子序列。\n",
    "两个字符串的 公共子序列 是这两个字符串所共同拥有的子序列。\n",
    "\n",
    "示例 1：\n",
    "```\n",
    "输入：text1 = \"abcde\", text2 = \"ace\" \n",
    "输出：3  \n",
    "解释：最长公共子序列是 \"ace\" ，它的长度为 3 。\n",
    "```\n",
    "示例 2：\n",
    "```\n",
    "输入：text1 = \"abc\", text2 = \"abc\"\n",
    "输出：3\n",
    "解释：最长公共子序列是 \"abc\" ，它的长度为 3 。\n",
    "```\n",
    "示例 3：\n",
    "```\n",
    "输入：text1 = \"abc\", text2 = \"def\"\n",
    "输出：0\n",
    "解释：两个字符串没有公共子序列，返回 0 。\n",
    "```"
   ]
  },
  {
   "cell_type": "markdown",
   "id": "forbidden-screw",
   "metadata": {},
   "source": [
    "动态规划套路：\n",
    "\n",
    "单个数组或者字符串要用动态规划时，可以把动态规划 dp[i] 定义为 nums[0:i] 中想要求的结果；\n",
    "\n",
    "当两个数组或者字符串要用动态规划时，可以把动态规划定义成两维的 dp[i][j] ，其含义是在 A[0:i] 与 B[0:j] 之间匹配得到的想要的结果。\n",
    "\n"
   ]
  },
  {
   "cell_type": "markdown",
   "id": "determined-standing",
   "metadata": {},
   "source": [
    "### 1. 状态定义\n",
    "比如对于本题而言，可以定义 dp[i][j] 表示 text1[0:i-1] 和 text2[0:j-1] 的最长公共子序列的长度。\n",
    "\n",
    "（注：text1[0:i-1] 表示的是 text1 的 第 0 个元素到第 i - 1 个元素，两端都包含）\n",
    "\n",
    "之所以 dp[i][j] 的定义不是 text1[0:i] 和 text2[0:j] ，是为了方便当 i = 0 或者 j = 0 的时候，dp[i][j]表示的为空字符串和另外一个字符串的匹配，这样 dp[i][j] 可以初始化为 0.\n",
    "\n",
    "### 2. 状态转移方程\n",
    "知道状态定义之后，我们开始写状态转移方程。\n",
    "\n",
    "当 $text1[i - 1] == text2[j - 1]$ 时，说明两个子字符串的最后一位相等，所以最长公共子序列又增加了 1\n",
    "\n",
    "所以 $dp[i][j] = dp[i - 1][j - 1] + 1$；\n",
    "\n",
    "举个例子，比如对于 ac 和 bc 而言，他们的最长公共子序列的长度等于 a 和 c 的最长公共子序列长度 0 + 1 = 1。\n",
    "\n",
    "\n",
    "当 $text1[i - 1] != text2[j - 1]$ 时，说明两个子字符串的最后一位不相等，那么此时的状态 $dp[i][j]$ 应该是 $dp[i - 1][j]$ 和 $dp[i][j - 1]$ 的最大值。\n",
    "\n",
    "举个例子，比如对于 ace 和 bc 而言，他们的最长公共子序列的长度等于 ① ace 和 b 的最长公共子序列长度0 与 ② ac 和 bc 的最长公共子序列长度1 的最大值，即 1。\n",
    "\n",
    "综上状态转移方程为：\n",
    "\n",
    "$dp[i][j] = dp[i - 1][j - 1] + 1$, 当 text1[i - 1] == text2[j - 1];\n",
    "\n",
    "$dp[i][j] = max(dp[i - 1][j], dp[i][j - 1])$, 当 text1[i - 1] != text2[j - 1]\n",
    "\n"
   ]
  },
  {
   "cell_type": "markdown",
   "id": "editorial-surprise",
   "metadata": {},
   "source": [
    "### 3. 状态的初始化\n",
    "初始化就是要看当 $i = 0$ 与 $j = 0$ 时， $dp[i][j]$ 应该取值为多少。\n",
    "\n",
    "当 $i = 0$ 时，$dp[0][j]$ 表示的是 $text1$ 中取空字符串 跟 $text2$ 的最长公共子序列，结果肯定为 0.\n",
    "\n",
    "当 $j = 0$ 时，$dp[i][0]$ 表示的是 $text2$ 中取空字符串 跟 $text1$ 的最长公共子序列，结果肯定为 0.\n",
    "\n",
    "综上，当 $i = 0$ 或者 $j = 0$ 时，$dp[i][j]$ 初始化为 0.\n",
    "\n"
   ]
  },
  {
   "cell_type": "markdown",
   "id": "scenic-tract",
   "metadata": {},
   "source": [
    "### 4. 遍历方向与范围\n",
    "由于 $dp[i][j]$ 依赖与 $dp[i - 1][j - 1]$ , $dp[i - 1][j]$, $dp[i][j - 1]$，所以 $i$ 和 $j$ 的遍历顺序肯定是从小到大的。\n",
    "\n",
    "另外，由于当 $i$ 和 $j$ 取值为 0 的时候，$dp[i][j] = 0$，而 `dp` 数组本身初始化就是为 0，所以，直接让 $i$ 和 $j$ 从 1 开始遍历。遍历的结束应该是字符串的长度为 `len(text1)` 和 `len(text2)`\n",
    "\n",
    "### 5. 最终返回结果\n",
    "由于 `dp[i][j]` 的含义是 `text1[0:i-1]` 和 `text2[0:j-1]` 的最长公共子序列。\n",
    "\n",
    "我们最终希望求的是 `text1` 和 `text2` 的最长公共子序列。所以需要返回的结果是 `i = len(text1)` 并且 `j = len(text2)` 时的 `dp[len(text1)][len(text2)`]。\n"
   ]
  },
  {
   "cell_type": "code",
   "execution_count": 6,
   "id": "static-object",
   "metadata": {},
   "outputs": [],
   "source": [
    "class Solution:\n",
    "    def longestCommonSubsequence(self, text1: str, text2: str) -> int:\n",
    "        M, N = len(text1), len(text2)\n",
    "        dp = [[0]*(N+1) for _ in range(M+1)]\n",
    "        for i in range(1, M+1):\n",
    "            for j in range(1, N+1):\n",
    "                if text1[i-1] == text2[j-1]:\n",
    "                    dp[i][j] =dp[i-1][j-1] + 1i\n",
    "                elif text1[i-1] != text2[j-1]:\n",
    "                    dp[i][j] = max(dp[i-1][j], dp[i][j-1])\n",
    "        return dp[M][N]\n",
    "                "
   ]
  },
  {
   "cell_type": "code",
   "execution_count": 7,
   "id": "cardiac-confidence",
   "metadata": {},
   "outputs": [
    {
     "name": "stdout",
     "output_type": "stream",
     "text": [
      "0\n"
     ]
    }
   ],
   "source": [
    "ss = Solution()\n",
    "text1 = \"abc\"\n",
    "text2 = \"def\"\n",
    "res = ss.longestCommonSubsequence(text1, text2)\n",
    "print(res)"
   ]
  },
  {
   "cell_type": "markdown",
   "id": "coated-senior",
   "metadata": {},
   "source": [
    "## 781. 森林中的兔子\n",
    "森林中，每个兔子都有颜色。其中一些兔子（可能是全部）告诉你还有多少其他的兔子和自己有相同的颜色。我们将这些回答放在 answers 数组里。\n",
    "\n",
    "返回森林中兔子的最少数量\n",
    "\n",
    "示例:\n",
    "```\n",
    "输入: answers = [1, 1, 2]\n",
    "输出: 5\n",
    "\n",
    "解释:\n",
    "两只回答了 \"1\" 的兔子可能有相同的颜色，设为红色。\n",
    "之后回答了 \"2\" 的兔子不会是红色，否则他们的回答会相互矛盾。\n",
    "设回答了 \"2\" 的兔子为蓝色。\n",
    "此外，森林中还应有另外 2 只蓝色兔子的回答没有包含在数组中。\n",
    "因此森林中兔子的最少数量是 5: 3 只回答的和 2 只没有回答的。\n",
    "```\n",
    "```\n",
    "输入: answers = [10, 10, 10]\n",
    "输出: 11\n",
    "```\n",
    "```\n",
    "输入: answers = []\n",
    "输出: 0\n",
    "```"
   ]
  },
  {
   "cell_type": "code",
   "execution_count": 17,
   "id": "organized-fleet",
   "metadata": {},
   "outputs": [],
   "source": [
    "from typing import List\n",
    "\n",
    "import math\n",
    "class Solution:\n",
    "    def numRabbits(self, answers: List[int]) -> int:\n",
    "        res = 0\n",
    "        from collections import Counter\n",
    "        rab_dict = Counter(answers)\n",
    "        for (key, value) in rab_dict.items():\n",
    "            if value <= key+1:\n",
    "                res += key + 1\n",
    "            elif value > key+1:\n",
    "                if key != 0:\n",
    "                    res += math.ceil(value/(key+1)) * (key+1)\n",
    "                else:\n",
    "                    res += value\n",
    "                \n",
    "        return res"
   ]
  },
  {
   "cell_type": "code",
   "execution_count": null,
   "id": "graduate-softball",
   "metadata": {},
   "outputs": [],
   "source": [
    "class Solution:\n",
    "    def numRabbits(self, answers: List[int]) -> int:\n",
    "        return sum([ceil(j/(i+1))*(i+1) for i, j in Counter(answers).items()])"
   ]
  },
  {
   "cell_type": "code",
   "execution_count": 20,
   "id": "vocational-still",
   "metadata": {},
   "outputs": [
    {
     "name": "stdout",
     "output_type": "stream",
     "text": [
      "5\n"
     ]
    }
   ],
   "source": [
    "ss = Solution()\n",
    "answers = [1, 1, 2]\n",
    "res = ss.numRabbits(answers)\n",
    "print(res)"
   ]
  },
  {
   "attachments": {
    "image.png": {
     "image/png": "[encoded data removed]"
    }
   },
   "cell_type": "markdown",
   "id": "electric-archives",
   "metadata": {},
   "source": [
    "## 面试题 17.21. 直方图的水量\n",
    "给定一个直方图(也称柱状图)，假设有人从上面源源不断地倒水，最后直方图能存多少水量?直方图的宽度为 1。\n",
    "![image.png](attachment:image.png)\n",
    "上面是由数组 [0,1,0,2,1,0,1,3,2,1,2,1] 表示的直方图，在这种情况下，可以接 6 个单位的水（蓝色部分表示水）\n",
    "\n",
    "示例:\n",
    "```\n",
    "输入: [0,1,0,2,1,0,1,3,2,1,2,1]\n",
    "输出: 6\n",
    "```\n"
   ]
  },
  {
   "cell_type": "markdown",
   "id": "incorporated-allen",
   "metadata": {},
   "source": [
    "#### 解法1：按列求\n",
    "\n",
    "每一列的水，只需要关注当前列，以及左边最高的墙，右边最高的墙就够了，然后再看那一边更矮。\n",
    "\n",
    "- 较矮的墙的高度大于当前列的墙的高度:\n",
    "  较矮的一边，也就是左边的墙的高度，减去当前列的高度就可以了。如`2-1=1`, 此单位可以存1单位的水\n",
    "\n",
    "- 矮的墙的高度小于当前列的墙的高度：正在求的列不会有水，因为它大于了两边较矮的墙。\n",
    "\n",
    "<img src=\"LeetCode -- Python 学习之旅.assets/image-20200404150049608.png\" alt=\"image-20200404150049608\" style=\"zoom:67%;\" />\n",
    "\n",
    "- 较矮的墙的高度等于当前列的墙的高度：和上一种情况是一样的，不会有水\n",
    "\n",
    "所以确定了最左、最右最高的墙，以及确定两边谁更高之后，只需要`当前列<更矮的一边`，就可以存水"
   ]
  },
  {
   "cell_type": "code",
   "execution_count": 52,
   "id": "native-caution",
   "metadata": {},
   "outputs": [],
   "source": [
    "class Solution:\n",
    "    def trap(self, height: List[int]) -> int:\n",
    "        ans = 0\n",
    "        for i in range(1, len(height)-1):\n",
    "            max_left, max_right = 0, 0\n",
    "            for j in range(i-1, -1, -1):\n",
    "                max_left = height[j] if max_left < height[j] else max_left\n",
    "            for j in range(i+1, len(height)):\n",
    "                max_right = height[j] if max_right < height[j] else max_right\n",
    "            less = min(max_left, max_right)\n",
    "            ans += less - height[i] if less > height[i] else 0\n",
    "        return ans"
   ]
  },
  {
   "cell_type": "code",
   "execution_count": 53,
   "id": "threatened-committee",
   "metadata": {},
   "outputs": [
    {
     "name": "stdout",
     "output_type": "stream",
     "text": [
      "6\n"
     ]
    }
   ],
   "source": [
    "ss = Solution()\n",
    "test = [0,1,0,2,1,0,1,3,2,1,2,1]\n",
    "res = ss.trap(test)\n",
    "print(res)"
   ]
  },
  {
   "cell_type": "markdown",
   "id": "democratic-cinema",
   "metadata": {},
   "source": [
    "#### 解法2: 动态规划\n",
    "此处改用list来储存左边最高墙和右边最高墙的高度(`max_left[i]`代表第`i`列左边的最高墙高度,`max_right[i[` is the same)。由上题，易得状态转移方程：\n",
    "\n",
    "`max_left[i] = max(max_left[i-1], height[i-1]`\n",
    "\n",
    "`max_right[i] = max(max_right[i+1], hieght[i+1])`\n"
   ]
  },
  {
   "cell_type": "code",
   "execution_count": 59,
   "id": "urban-cattle",
   "metadata": {},
   "outputs": [],
   "source": [
    "from typing import List\n",
    "class Solution2:\n",
    "    def trap(self, height: List[int]) -> int:\n",
    "        ans = 0\n",
    "        max_left, max_right = [0]*len(height), [0]*len(height)\n",
    "        for i in range(1, len(height)-1):\n",
    "            max_left[i] = max(max_left[i-1], height[i-1])\n",
    "        for i in range(len(height)-2, 0, -1):\n",
    "            max_right[i] = max(max_right[i+1], height[i+1])\n",
    "        for i in range(1, len(height)-1):\n",
    "            less = min(max_left[i], max_right[i])\n",
    "            ans += less - height[i] if less > height[i] else 0\n",
    "        print(max_left, max_right)\n",
    "        return ans"
   ]
  },
  {
   "cell_type": "code",
   "execution_count": 60,
   "id": "faced-wellington",
   "metadata": {},
   "outputs": [
    {
     "name": "stdout",
     "output_type": "stream",
     "text": [
      "[0, 0, 1, 1, 2, 2, 2, 2, 3, 3, 3, 0] [0, 3, 3, 3, 3, 3, 3, 2, 2, 2, 1, 0]\n",
      "6\n"
     ]
    }
   ],
   "source": [
    "ss = Solution2()\n",
    "test = [0,1,0,2,1,0,1,3,2,1,2,1]\n",
    "res = ss.trap(test)\n",
    "print(res)"
   ]
  },
  {
   "cell_type": "markdown",
   "id": "opposed-transformation",
   "metadata": {},
   "source": [
    "## 88. 合并两个有序数组\n",
    "给你两个有序整数数组 nums1 和 nums2，请你将 nums2 合并到 nums1 中，使 nums1 成为一个有序数组。\n",
    "\n",
    "初始化 nums1 和 nums2 的元素数量分别为 m 和 n 。你可以假设 nums1 的空间大小等于 m + n，这样它就有足够的空间保存来自 nums2 的元素。\n",
    "\n",
    "示例 1：\n",
    "```\n",
    "输入：nums1 = [1,2,3,0,0,0], m = 3, nums2 = [2,5,6], n = 3\n",
    "输出：[1,2,2,3,5,6]\n",
    "```\n",
    "示例 2：\n",
    "```\n",
    "输入：nums1 = [1], m = 1, nums2 = [], n = 0\n",
    "输出：[1]\n",
    " ```\n",
    "\n",
    "提示：\n",
    "```\n",
    "nums1.length == m + n\n",
    "nums2.length == n\n",
    "0 <= m, n <= 200\n",
    "1 <= m + n <= 200\n",
    "-109 <= nums1[i], nums2[i] <= 109\n",
    "```\n"
   ]
  },
  {
   "attachments": {
    "image.png": {
     "image/png": "[encoded data removed]"
    }
   },
   "cell_type": "markdown",
   "id": "adequate-novelty",
   "metadata": {},
   "source": [
    " ### 方法一：快速排序\n",
    "\n",
    "**主要思想**：\n",
    "\n",
    "通过划分将待排序的序列分成前后两部分，其中前一部分的数据都比后一部分的数据要小\n",
    "然后再递归调用函数对两部分的序列分别进行快速排序，以此使整个序列达到有序\n",
    "\n",
    "**基本思路：**\n",
    "\n",
    "我们定义函数` randomized_quicksort(nums, l, r)` 为对 `nums `数组里 `[l,r]` 的部分进行排序\n",
    "每次先调用 `randomized_partition` 划分函数对 `nums `数组里 `[l,r]` 的部分进行划分，并返回**分界值的下标** `pos`\n",
    "然后按上述将的递归调用`randomized_quicksort(nums, l, pos - 1) `和 `randomized_quicksort(nums, pos + 1, r)` 即可。\n",
    "\n",
    "**核心：划分函数的实现**\n",
    "\n",
    "划分函数一开始需要确定一个分界值（主元 `pivot)`，然后再进行划分。\n",
    "主元的选取有很多种方式，这里我们采用随机的方式，对当前划分区间 `[l,r]` 里的数**等概率随机**一个作为我们的主元，再将主元放到区间末尾，进行划分。\n",
    "\n",
    "整个划分函数 `partition `主要涉及两个指针 `i` 和 `j`，一开始` i = l - 1，j = l`。\n",
    "我们需要实时维护两个指针使得任意时候，对于任意数组下标 `k`，我们有如下条件成立：\n",
    "![image.png](attachment:image.png)\n",
    "我们每次移动指针 `j`，如果 ${nums}[j]> pivot$，我们只需要继续移动指针 `j` ，即能使上述三个条件成立\n",
    "否则我们需要将指针 `i` 加一，然后交换$ {nums}[i]$ 和 ${nums}[j]$，再移动指针 `j` 才能使得三个条件成立。\n",
    "\n",
    "当 `j` 移动到 `r-1` 时结束循环，此时我们可以由上述三个条件知道 `[l,i]` 的数都小于等于主元 `pivot`，``[i+1,r-1]` 的数都大于主元 `pivot`\n",
    "那么我们只要交换 ${nums}[i+1]$和  $ {nums}[r]$ ，即能使得 `[l,i+1]` 区间的数都小于 `[i+2,r]` 区间的数，完成一次划分，且分界值下标为` i+1`，返回即可。\n",
    "\n",
    "**复杂度分析**\n",
    "\n",
    "时间复杂度：基于随机选取主元的快速排序时间复杂度为期望$ O((m+n)\\log (m+n))$\n",
    "\n",
    "空间复杂度：$O(h)$,  其中 $h$  为快速排序递归调用的层数,  最坏情况下需 $O((m+n))$ 的空间,   最优情况下每次都平衡,  空间复杂度为 $O(\\log (m+n))$。"
   ]
  },
  {
   "cell_type": "code",
   "execution_count": 46,
   "id": "enclosed-minneapolis",
   "metadata": {},
   "outputs": [],
   "source": [
    "from typing import List\n",
    "\n",
    "class Solution:\n",
    "    def merge(self, nums1: List[int], m: int, nums2: List[int], n: int) -> None:\n",
    "        \"\"\"\n",
    "        Do not return anything, modify nums1 in-place instead.\n",
    "        \"\"\"\n",
    "        nums1 = nums1[:m] + nums2\n",
    "        self.randomized_quicksort(nums1, 0, len(nums1)-1)\n",
    "        return nums1\n",
    "    \n",
    "    def randomized_partition(self, nums: List[int], l:int, r:int):\n",
    "        import random as rd\n",
    "        pivot = rd.randint(l,r)\n",
    "        nums[pivot], nums[r] = nums[r], nums[pivot]\n",
    "        i = l - 1\n",
    "        for j in range(l, r):\n",
    "            if nums[j] < nums[r]:\n",
    "                i += 1\n",
    "                nums[j], nums[i] = nums[i], nums[j]\n",
    "        i += 1\n",
    "        nums[i], nums[r] = nums[r], nums[i]\n",
    "        return i\n",
    "    def randomized_quicksort(self, nums: List[int], l: int, r: int):\n",
    "        if l >= r:\n",
    "            return\n",
    "        mid = self.randomized_partition(nums, l, r)\n",
    "        self.randomized_quicksort(nums, l, mid-1)\n",
    "        self.randomized_quicksort(nums, mid+1, r)"
   ]
  },
  {
   "cell_type": "markdown",
   "id": "protective-arctic",
   "metadata": {},
   "source": [
    "#### 直接合并后排序\n",
    "复杂度同快速排序\n",
    "```python\n",
    "nums1[m:] = nums2\n",
    "nums1.sort()\n",
    "```"
   ]
  },
  {
   "attachments": {
    "image.png": {
     "image/png": "[encoded data removed]"
    }
   },
   "cell_type": "markdown",
   "id": "searching-findings",
   "metadata": {},
   "source": [
    "### 双指针\n",
    "![image.png](attachment:image.png)\n",
    "\n",
    "**复杂度分析**\n",
    "\n",
    "时间复杂度：$O(m+n)$\n",
    "指针移动单调递增，最多移动 $m+n$ 次，因此时间复杂度为 $O(m+n)$。\n",
    "\n",
    "空间复杂度：$O(m+n)$\n",
    "需要建立长度为 $m+n$ 的中间数组 $\\textit{sorted}$。\n"
   ]
  },
  {
   "cell_type": "code",
   "execution_count": 58,
   "id": "valuable-universal",
   "metadata": {},
   "outputs": [],
   "source": [
    "from typing import List\n",
    "\n",
    "class Solution:\n",
    "    def merge(self, nums1: List[int], m: int, nums2: List[int], n: int) -> None:\n",
    "        \"\"\"\n",
    "        Do not return anything, modify nums1 in-place instead.\n",
    "        \"\"\"\n",
    "        sorted = []\n",
    "        p1, p2 = 0, 0\n",
    "        while p1 < m or p2 < n:\n",
    "            if p1 == m:\n",
    "                sorted.append(nums2[p2])\n",
    "                p2 += 1\n",
    "            elif p2 == n:\n",
    "                sorted.append(nums1[p1])\n",
    "                p1 += 1\n",
    "            elif nums1[p1] < nums2[p2]:\n",
    "                sorted.append(nums1[p1])\n",
    "                p1 += 1\n",
    "            else:\n",
    "                sorted.append(nums2[p2])\n",
    "                p2 += 1\n",
    "        nums1[:] = sorted  "
   ]
  },
  {
   "cell_type": "markdown",
   "id": "choice-contribution",
   "metadata": {},
   "source": [
    "### 逆向双指针\n",
    "算法\n",
    "\n",
    "方法二中，之所以要使用临时变量，是因为如果直接合并到数组 $\\textit{nums}_1$中，$\\textit{nums}_1$中的元素可能会在取出之前被覆盖。那么如何直接避免覆盖 $\\textit{nums}_1$中的元素呢？观察可知，$\\textit{nums}_1$的后半部分是空的，可以直接覆盖而不会影响结果。因此可以指针设置为从后向前遍历，每次取两者之中的较大者放进 $\\textit{nums}_1$的最后面。\n",
    "\n",
    "**复杂度分析**\n",
    "\n",
    "时间复杂度：$O(m+n)$\n",
    "指针移动单调递增，最多移动 $m+n$ 次，因此时间复杂度为 $O(m+n)$。\n",
    "\n",
    "空间复杂度：$O(1)$"
   ]
  },
  {
   "cell_type": "code",
   "execution_count": 64,
   "id": "unique-setup",
   "metadata": {},
   "outputs": [],
   "source": [
    "from typing import List\n",
    "\n",
    "class Solution:\n",
    "    def merge(self, nums1: List[int], m: int, nums2: List[int], n: int) -> None:\n",
    "        \"\"\"\n",
    "        Do not return anything, modify nums1 in-place instead.\n",
    "        \"\"\"\n",
    "        p1, p2 = m-1, n-1\n",
    "        tail = m + n -1\n",
    "        while p1 > -1 or p2 > -1:\n",
    "            if p1 == -1:\n",
    "                nums1[tail] = nums2[p2]\n",
    "                p2 -= 1\n",
    "            elif p2 == -1:\n",
    "                nums1[tail] = nums1[p1]\n",
    "                p1 -= 1\n",
    "            elif nums1[p1] > nums2[p2]:\n",
    "                nums1[tail] = nums1[p1]\n",
    "                p1 -= 1\n",
    "            elif nums2[p2] >= nums1[p1]:\n",
    "                nums1[tail] = nums2[p2]\n",
    "                p2 -= 1\n",
    "            tail -= 1"
   ]
  },
  {
   "cell_type": "code",
   "execution_count": 65,
   "id": "completed-windows",
   "metadata": {},
   "outputs": [
    {
     "name": "stdout",
     "output_type": "stream",
     "text": [
      "[1, 2, 2, 3, 5, 6]\n"
     ]
    }
   ],
   "source": [
    "ss = Solution()\n",
    "nums1 = [1,2,3,0,0,0]\n",
    "m = 3\n",
    "nums2 = [2,5,6]\n",
    "n = 3\n",
    "ss.merge(nums1, m, nums2, n)\n",
    "print(nums1)"
   ]
  },
  {
   "cell_type": "markdown",
   "id": "lightweight-bryan",
   "metadata": {},
   "source": [
    "## 80. 删除有序数组中的重复项 II\n",
    "给你一个有序数组 nums ，请你 原地 删除重复出现的元素，使每个元素 最多出现两次 ，返回删除后数组的新长度。\n",
    "\n",
    "不要使用额外的数组空间，你必须在 原地 修改输入数组 并在使用 O(1) 额外空间的条件下完成。\n",
    "\n",
    "\n",
    "说明：\n",
    "\n",
    "为什么返回数值是整数，但输出的答案是数组呢？\n",
    "\n",
    "请注意，输入数组是以「**引用**」方式传递的，这意味着在函数里修改输入数组对于调用者是可见的。\n",
    "\n",
    "你可以想象内部操作如下:\n",
    "```\n",
    "// nums 是以“引用”方式传递的。也就是说，不对实参做任何拷贝\n",
    "int len = removeDuplicates(nums);\n",
    "\n",
    "// 在函数里修改输入数组对于调用者是可见的。\n",
    "// 根据你的函数返回的长度, 它会打印出数组中 该长度范围内 的所有元素。\n",
    "for (int i = 0; i < len; i++) {\n",
    "    print(nums[i]);\n",
    "}\n",
    "```\n",
    "\n",
    "示例 1：\n",
    "```\n",
    "输入：nums = [1,1,1,2,2,3]\n",
    "输出：5, nums = [1,1,2,2,3]\n",
    "解释：函数应返回新长度 length = 5, 并且原数组的前五个元素被修改为 1, 1, 2, 2, 3 。 不需要考虑数组中超出新长度后面的元素。\n",
    "```\n",
    "示例 2：\n",
    "```\n",
    "输入：nums = [0,0,1,1,1,1,2,3,3]\n",
    "输出：7, nums = [0,0,1,1,2,3,3]\n",
    "解释：函数应返回新长度 length = 7, 并且原数组的前五个元素被修改为 0, 0, 1, 1, 2, 3, 3 。 不需要考虑数组中超出新长度后面的元素。\n",
    "```\n",
    "\n",
    "提示：\n",
    "```\n",
    "1 <= nums.length <= 3 * 104\n",
    "-104 <= nums[i] <= 104\n",
    "nums 已按升序排列\n",
    "```"
   ]
  },
  {
   "cell_type": "code",
   "execution_count": 33,
   "id": "scheduled-psychology",
   "metadata": {},
   "outputs": [],
   "source": [
    "from typing import List\n",
    "\n",
    "class Solution:\n",
    "    def removeDuplicates(self, nums: List[int]) -> int:\n",
    "        p1,p2 = 0,0\n",
    "        length = len(nums)\n",
    "        while 1:\n",
    "            while nums[p2+1] == nums[p1] and p2+1 < length:\n",
    "                p2 += 1\n",
    "            if p2 - p1 > 1:\n",
    "                p1 += 1 # 移动p1指向第二个相同的数字\n",
    "                nums = nums[:p1+1] + nums[p2+1:] # delete the extra number\n",
    "                length -= (p2-p1)  # record the length of nums，length = len(nums) the same\n",
    "                if nums[p1] != nums[-1]: # if it's the last number, p1 don't need to move\n",
    "                    p1 += 1 # move the point p1 to the next type of number\n",
    "                p2 = p1 # move point p2 to point p1\n",
    "            elif p2 - p1 == 1 or p2 == p1: # if there're not more than 2 same numbers\n",
    "                if nums[p1] != nums[-1]: # if it's the last number, p1 don't need to move\n",
    "                    p2 += 1\n",
    "                p1 = p2\n",
    "            if nums[p1] == nums[-1]:\n",
    "                break\n",
    "                \n",
    "        return length, nums\n",
    "            "
   ]
  },
  {
   "cell_type": "code",
   "execution_count": 35,
   "id": "composite-volleyball",
   "metadata": {},
   "outputs": [
    {
     "name": "stdout",
     "output_type": "stream",
     "text": [
      "5 [1, 1, 2, 2, 3]\n",
      "7 [0, 0, 1, 1, 2, 3, 3]\n"
     ]
    }
   ],
   "source": [
    "ss = Solution()\n",
    "nums = [1,1,1,2,2,3]\n",
    "res, res_num = ss.removeDuplicates(nums)\n",
    "nums2 = [0,0,1,1,2,3,3]\n",
    "res2, res_num_2 = ss.removeDuplicates(nums2)\n",
    "print(res, res_num)\n",
    "print(res2, res_num_2)"
   ]
  },
  {
   "cell_type": "markdown",
   "id": "foreign-electron",
   "metadata": {},
   "source": [
    "### 通用解法\n",
    "将原问题的「保留 2 位」修改为「保留 k 位」\n",
    "\n",
    "- 由于是保留 k 个相同数字，对于前 k 个数字，我们可以直接保留\n",
    "- 对于后面的任意数字，能够保留的前提是：与当前写入的位置前面的第 k 个元素进行比较，不相同则保留\n",
    "\n",
    "我们令 k=2，假设有如下样例\n",
    "```\n",
    "[1,1,1,1,1,1,2,2,2,2,2,2,3]\n",
    "```\n",
    "- 首先我们先让前 2 位直接保留，得到 1,1\n",
    "- 对后面的每一位进行继续遍历，能够保留的前提是与当前位置的前面 k 个元素不同（答案中的第一个 1），因此我们会跳过剩余的 1，将第一个 2 追加，得到 1,1,2\n",
    "- 继续这个过程，这时候是和答案中的第 2 个 1 进行对比，因此可以得到 1,1,2,2\n",
    "- 这时候和答案中的第 1 个 2 比较，只有与其不同的元素能追加到答案，因此剩余的 2 被跳过，3 被追加到答案：1,1,2,2,3\n"
   ]
  },
  {
   "cell_type": "code",
   "execution_count": 37,
   "id": "regional-shelf",
   "metadata": {},
   "outputs": [],
   "source": [
    "from typing import List\n",
    "\n",
    "class Solution:\n",
    "    def removeDuplicates(self, nums: List[int]) -> int:\n",
    "        def solve(k):\n",
    "            u = 0\n",
    "            for x in nums:\n",
    "                if u < k or nums[u-k] != x:\n",
    "                    nums[u] = x\n",
    "                    u += 1\n",
    "            return u\n",
    "        return solve(2)\n",
    "                    "
   ]
  },
  {
   "cell_type": "code",
   "execution_count": 39,
   "id": "maritime-design",
   "metadata": {},
   "outputs": [
    {
     "name": "stdout",
     "output_type": "stream",
     "text": [
      "5\n",
      "7\n"
     ]
    }
   ],
   "source": [
    "ss = Solution()\n",
    "nums = [1,1,1,2,2,3]\n",
    "res = ss.removeDuplicates(nums)\n",
    "nums2 = [0,0,1,1,2,3,3]\n",
    "res2 = ss.removeDuplicates(nums2)\n",
    "print(res)\n",
    "print(res2)"
   ]
  }
 ],
 "metadata": {
  "kernelspec": {
   "display_name": "Python 3.8.5 64-bit",
   "language": "python",
   "name": "python38564bit21010f3a0af3487da006a510d8fc9309"
  },
  "language_info": {
   "codemirror_mode": {
    "name": "ipython",
    "version": 3
   },
   "file_extension": ".py",
   "mimetype": "text/x-python",
   "name": "python",
   "nbconvert_exporter": "python",
   "pygments_lexer": "ipython3",
   "version": "3.8.5"
  }
 },
 "nbformat": 4,
 "nbformat_minor": 5
}
