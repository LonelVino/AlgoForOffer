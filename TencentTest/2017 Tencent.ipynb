{
 "cells": [
  {
   "cell_type": "markdown",
   "id": "treated-museum",
   "metadata": {},
   "source": [
    "## 1.构造回文\n",
    "给定一个字符串s，你可以从中删除一些字符，使得剩下的串是一个回文串。如何删除才能使得回文串最长呢？\n",
    "输出需要删除的字符个数。\n",
    "\n",
    "输入描述:\n",
    "\n",
    "> 输入数据有多组，每组包含一个字符串s，且保证:1<=s.length<=1000.\n",
    "\n",
    "输出描述:\n",
    "> 对于每组数据，输出一个整数，代表最少需要删除的字符个数。\n",
    "\n",
    "输入例子1:\n",
    "```\n",
    "abcda\n",
    "google\n",
    "```\n",
    "输出例子1:\n",
    "```\n",
    "2\n",
    "2\n",
    "```\n"
   ]
  }
 ],
 "metadata": {
  "kernelspec": {
   "display_name": "Python 3",
   "language": "python",
   "name": "python3"
  },
  "language_info": {
   "codemirror_mode": {
    "name": "ipython",
    "version": 3
   },
   "file_extension": ".py",
   "mimetype": "text/x-python",
   "name": "python",
   "nbconvert_exporter": "python",
   "pygments_lexer": "ipython3",
   "version": "3.8.5"
  }
 },
 "nbformat": 4,
 "nbformat_minor": 5
}
